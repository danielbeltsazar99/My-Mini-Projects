{
 "cells": [
  {
   "cell_type": "code",
   "execution_count": 1,
   "id": "921c564a",
   "metadata": {},
   "outputs": [],
   "source": [
    "import geopandas as gpd\n",
    "import folium\n",
    "import matplotlib.pyplot as plt\n",
    "import pandas as pd\n",
    "from shapely.geometry import Point,Polygon,LineString\n",
    "from folium.plugins import FastMarkerCluster\n",
    "from folium.features import GeoJson, GeoJsonTooltip, GeoJsonPopup\n",
    "from keplergl import KeplerGl\n",
    "import branca\n",
    "import branca.colormap as cm"
   ]
  },
  {
   "cell_type": "code",
   "execution_count": 2,
   "id": "1f6e5da7",
   "metadata": {},
   "outputs": [
    {
     "data": {
      "text/html": [
       "<div>\n",
       "<style scoped>\n",
       "    .dataframe tbody tr th:only-of-type {\n",
       "        vertical-align: middle;\n",
       "    }\n",
       "\n",
       "    .dataframe tbody tr th {\n",
       "        vertical-align: top;\n",
       "    }\n",
       "\n",
       "    .dataframe thead th {\n",
       "        text-align: right;\n",
       "    }\n",
       "</style>\n",
       "<table border=\"1\" class=\"dataframe\">\n",
       "  <thead>\n",
       "    <tr style=\"text-align: right;\">\n",
       "      <th></th>\n",
       "      <th>datetime</th>\n",
       "      <th>txid</th>\n",
       "      <th>vessel_name</th>\n",
       "      <th>lat</th>\n",
       "      <th>lon</th>\n",
       "      <th>fleet_work_center</th>\n",
       "      <th>route_name</th>\n",
       "      <th>network_no</th>\n",
       "      <th>position</th>\n",
       "      <th>route_polygon</th>\n",
       "      <th>is_outside_route</th>\n",
       "      <th>deviation_in_meter</th>\n",
       "      <th>geometry</th>\n",
       "    </tr>\n",
       "  </thead>\n",
       "  <tbody>\n",
       "    <tr>\n",
       "      <th>0</th>\n",
       "      <td>2020-08-08 14:15:00.000</td>\n",
       "      <td>T818</td>\n",
       "      <td>TB ENTEBE MEGASTAR 79</td>\n",
       "      <td>-1.7195</td>\n",
       "      <td>116.6212</td>\n",
       "      <td>TBMS79</td>\n",
       "      <td>TMCT-ADANGBAY</td>\n",
       "      <td>174000021674</td>\n",
       "      <td>POINT (116.6212 -1.7195)</td>\n",
       "      <td>POLYGON ((116.16248591680016 -1.80794871782329...</td>\n",
       "      <td>1</td>\n",
       "      <td>76.17405892</td>\n",
       "      <td>None</td>\n",
       "    </tr>\n",
       "    <tr>\n",
       "      <th>1</th>\n",
       "      <td>2020-08-08 16:30:00.000</td>\n",
       "      <td>T818</td>\n",
       "      <td>TB ENTEBE MEGASTAR 79</td>\n",
       "      <td>-1.7194</td>\n",
       "      <td>116.6208</td>\n",
       "      <td>TBMS79</td>\n",
       "      <td>TMCT-ADANGBAY</td>\n",
       "      <td>174000021674</td>\n",
       "      <td>POINT (116.6208 -1.7194)</td>\n",
       "      <td>POLYGON ((116.16248591680016 -1.80794871782329...</td>\n",
       "      <td>1</td>\n",
       "      <td>62.87094379</td>\n",
       "      <td>None</td>\n",
       "    </tr>\n",
       "    <tr>\n",
       "      <th>2</th>\n",
       "      <td>2020-08-08 14:00:00.000</td>\n",
       "      <td>T818</td>\n",
       "      <td>TB ENTEBE MEGASTAR 79</td>\n",
       "      <td>-1.7195</td>\n",
       "      <td>116.6212</td>\n",
       "      <td>TBMS79</td>\n",
       "      <td>TMCT-ADANGBAY</td>\n",
       "      <td>174000021674</td>\n",
       "      <td>POINT (116.6212 -1.7195)</td>\n",
       "      <td>POLYGON ((116.16248591680016 -1.80794871782329...</td>\n",
       "      <td>1</td>\n",
       "      <td>76.17405892</td>\n",
       "      <td>None</td>\n",
       "    </tr>\n",
       "    <tr>\n",
       "      <th>3</th>\n",
       "      <td>2020-08-08 16:15:00.000</td>\n",
       "      <td>T818</td>\n",
       "      <td>TB ENTEBE MEGASTAR 79</td>\n",
       "      <td>-1.7195</td>\n",
       "      <td>116.6208</td>\n",
       "      <td>TBMS79</td>\n",
       "      <td>TMCT-ADANGBAY</td>\n",
       "      <td>174000021674</td>\n",
       "      <td>POINT (116.6208 -1.7195)</td>\n",
       "      <td>POLYGON ((116.16248591680016 -1.80794871782329...</td>\n",
       "      <td>1</td>\n",
       "      <td>73.91421159</td>\n",
       "      <td>None</td>\n",
       "    </tr>\n",
       "    <tr>\n",
       "      <th>4</th>\n",
       "      <td>2020-08-08 13:45:00.000</td>\n",
       "      <td>T818</td>\n",
       "      <td>TB ENTEBE MEGASTAR 79</td>\n",
       "      <td>-1.7208</td>\n",
       "      <td>116.6206</td>\n",
       "      <td>TBMS79</td>\n",
       "      <td>TMCT-ADANGBAY</td>\n",
       "      <td>174000021674</td>\n",
       "      <td>POINT (116.6206 -1.7208)</td>\n",
       "      <td>POLYGON ((116.16248591680016 -1.80794871782329...</td>\n",
       "      <td>1</td>\n",
       "      <td>216.34677472</td>\n",
       "      <td>None</td>\n",
       "    </tr>\n",
       "  </tbody>\n",
       "</table>\n",
       "</div>"
      ],
      "text/plain": [
       "                  datetime  txid            vessel_name      lat       lon  \\\n",
       "0  2020-08-08 14:15:00.000  T818  TB ENTEBE MEGASTAR 79  -1.7195  116.6212   \n",
       "1  2020-08-08 16:30:00.000  T818  TB ENTEBE MEGASTAR 79  -1.7194  116.6208   \n",
       "2  2020-08-08 14:00:00.000  T818  TB ENTEBE MEGASTAR 79  -1.7195  116.6212   \n",
       "3  2020-08-08 16:15:00.000  T818  TB ENTEBE MEGASTAR 79  -1.7195  116.6208   \n",
       "4  2020-08-08 13:45:00.000  T818  TB ENTEBE MEGASTAR 79  -1.7208  116.6206   \n",
       "\n",
       "  fleet_work_center     route_name    network_no                  position  \\\n",
       "0            TBMS79  TMCT-ADANGBAY  174000021674  POINT (116.6212 -1.7195)   \n",
       "1            TBMS79  TMCT-ADANGBAY  174000021674  POINT (116.6208 -1.7194)   \n",
       "2            TBMS79  TMCT-ADANGBAY  174000021674  POINT (116.6212 -1.7195)   \n",
       "3            TBMS79  TMCT-ADANGBAY  174000021674  POINT (116.6208 -1.7195)   \n",
       "4            TBMS79  TMCT-ADANGBAY  174000021674  POINT (116.6206 -1.7208)   \n",
       "\n",
       "                                       route_polygon is_outside_route  \\\n",
       "0  POLYGON ((116.16248591680016 -1.80794871782329...                1   \n",
       "1  POLYGON ((116.16248591680016 -1.80794871782329...                1   \n",
       "2  POLYGON ((116.16248591680016 -1.80794871782329...                1   \n",
       "3  POLYGON ((116.16248591680016 -1.80794871782329...                1   \n",
       "4  POLYGON ((116.16248591680016 -1.80794871782329...                1   \n",
       "\n",
       "  deviation_in_meter geometry  \n",
       "0        76.17405892     None  \n",
       "1        62.87094379     None  \n",
       "2        76.17405892     None  \n",
       "3        73.91421159     None  \n",
       "4       216.34677472     None  "
      ]
     },
     "execution_count": 2,
     "metadata": {},
     "output_type": "execute_result"
    }
   ],
   "source": [
    "df = gpd.read_file('/Users/danielbeltsazar/Work/ZebraX/Coding/Geospatial/clean_result.csv')\n",
    "df.head()"
   ]
  },
  {
   "cell_type": "code",
   "execution_count": 3,
   "id": "dbae67bf",
   "metadata": {},
   "outputs": [],
   "source": [
    "df['lat']=df['lat'].astype(\"float\")\n",
    "df['lon']=df['lon'].astype(\"float\")\n",
    "df['deviation_in_meter']=df['deviation_in_meter'].astype(\"float\")\n",
    "df['network_no']=df['network_no'].astype('int')\n",
    "df['is_outside_route']=df['is_outside_route'].astype('int')\n",
    "df['datetime']=pd.to_datetime(df['datetime'])"
   ]
  },
  {
   "cell_type": "code",
   "execution_count": 4,
   "id": "6db57be3",
   "metadata": {
    "scrolled": true
   },
   "outputs": [
    {
     "name": "stdout",
     "output_type": "stream",
     "text": [
      "<class 'geopandas.geodataframe.GeoDataFrame'>\n",
      "RangeIndex: 541639 entries, 0 to 541638\n",
      "Data columns (total 13 columns):\n",
      " #   Column              Non-Null Count   Dtype         \n",
      "---  ------              --------------   -----         \n",
      " 0   datetime            541639 non-null  datetime64[ns]\n",
      " 1   txid                541639 non-null  object        \n",
      " 2   vessel_name         541639 non-null  object        \n",
      " 3   lat                 541639 non-null  float64       \n",
      " 4   lon                 541639 non-null  float64       \n",
      " 5   fleet_work_center   541639 non-null  object        \n",
      " 6   route_name          541639 non-null  object        \n",
      " 7   network_no          541639 non-null  int64         \n",
      " 8   position            541639 non-null  object        \n",
      " 9   route_polygon       541639 non-null  object        \n",
      " 10  is_outside_route    541639 non-null  int64         \n",
      " 11  deviation_in_meter  541639 non-null  float64       \n",
      " 12  geometry            0 non-null       geometry      \n",
      "dtypes: datetime64[ns](1), float64(3), geometry(1), int64(2), object(6)\n",
      "memory usage: 53.7+ MB\n"
     ]
    }
   ],
   "source": [
    "df.info()"
   ]
  },
  {
   "cell_type": "code",
   "execution_count": 5,
   "id": "6c204269",
   "metadata": {},
   "outputs": [
    {
     "data": {
      "text/plain": [
       "TMCT-ADANGBAY         488552\n",
       "ASAM-ASAM-REMBANG      24112\n",
       "ASAM-ASAM-PAITON       18923\n",
       "TARAHAN-LABUAN          5406\n",
       "TARAHAN-PLTULONTAR      4646\n",
       "Name: route_name, dtype: int64"
      ]
     },
     "execution_count": 5,
     "metadata": {},
     "output_type": "execute_result"
    }
   ],
   "source": [
    "df['route_name'].value_counts()"
   ]
  },
  {
   "cell_type": "markdown",
   "id": "aae7f002",
   "metadata": {},
   "source": [
    "## Filter route"
   ]
  },
  {
   "cell_type": "markdown",
   "id": "fdb93ffd",
   "metadata": {},
   "source": [
    "#### Function"
   ]
  },
  {
   "cell_type": "code",
   "execution_count": 6,
   "id": "6b691dbd",
   "metadata": {},
   "outputs": [],
   "source": [
    "def plot_map(df,routename):\n",
    "    df1 = df[df['route_name']==routename]\n",
    "    df1 = df1.drop(['geometry'],axis=1)\n",
    "    \n",
    "    df1['position'] = gpd.GeoSeries.from_wkt(df1['position'])\n",
    "    df1 = gpd.GeoDataFrame(df1, geometry='position')\n",
    "    df1['route_polygon'] = gpd.GeoSeries.from_wkt(df1['route_polygon'])\n",
    "    df1 = gpd.GeoDataFrame(df1, geometry='route_polygon')\n",
    "    \n",
    "    df1.crs = \"epsg:4326\"\n",
    "    df1=df1.to_crs(\"EPSG:4326\")\n",
    "    \n",
    "    colormap = cm.LinearColormap(colors=['yellow','red'], index=[0,15000],vmin=0,vmax=15000)\n",
    "    dev = list(df1.deviation_in_meter)\n",
    "    \n",
    "    #x_start = (df1['lat'].max() + df1['lat'].min()) / 2\n",
    "    #y_start = (df1['lon'].max() + df1['lon'].min()) / 2\n",
    "    x_start = (df1['lat'].mean())\n",
    "    y_start = (df1['lon'].mean())\n",
    "    start_coord = (x_start, y_start)\n",
    "\n",
    "    maps = folium.Map(location = start_coord,zoom_start = 8)\n",
    "    geo_df1_list = [[point.xy[1][0], point.xy[0][0]] for point in df1.position]\n",
    "    for coordinates,p in zip(geo_df1_list,dev):\n",
    "        folium.CircleMarker(location = coordinates,radius=2,color=colormap(p)).add_to(maps)\n",
    "    maps.add_child(colormap)\n",
    "    folium.GeoJson(data=df1[\"route_polygon\"]).add_to(maps)\n",
    "    #maps.save(\" maps {}.html \".format(routename))\n",
    "    return maps"
   ]
  },
  {
   "cell_type": "code",
   "execution_count": 7,
   "id": "2e593544",
   "metadata": {},
   "outputs": [
    {
     "data": {
      "text/plain": [
       "TMCT-ADANGBAY         488552\n",
       "ASAM-ASAM-REMBANG      24112\n",
       "ASAM-ASAM-PAITON       18923\n",
       "TARAHAN-LABUAN          5406\n",
       "TARAHAN-PLTULONTAR      4646\n",
       "Name: route_name, dtype: int64"
      ]
     },
     "execution_count": 7,
     "metadata": {},
     "output_type": "execute_result"
    }
   ],
   "source": [
    "df['route_name'].value_counts()"
   ]
  },
  {
   "cell_type": "code",
   "execution_count": 1,
   "id": "006b48d8",
   "metadata": {},
   "outputs": [],
   "source": [
    "#map1 = plot_map(df,'TARAHAN-PLTULONTAR')\n",
    "#map1"
   ]
  },
  {
   "cell_type": "markdown",
   "id": "d27f2192",
   "metadata": {},
   "source": [
    "### Github is not able to show rendered folium map. However it can be seen through nbviewer which can be accessed through this link below \n",
    "\n",
    "[Visualization_map1](http://nbviewer.org/github/danielbeltsazar99/My-Projects/blob/main/Geospatial%20Projects/Vessels%20Tracking%20and%20Route%20Classification/Vessels%20Route%20and%20Position%20Tracking.ipynb)"
   ]
  },
  {
   "cell_type": "code",
   "execution_count": 1,
   "id": "14be1f68",
   "metadata": {},
   "outputs": [],
   "source": [
    "#plot_map(df,'ASAM-ASAM-PAITON')"
   ]
  },
  {
   "cell_type": "code",
   "execution_count": null,
   "id": "047affd2",
   "metadata": {},
   "outputs": [],
   "source": []
  },
  {
   "cell_type": "code",
   "execution_count": 10,
   "id": "d9ce8e09",
   "metadata": {},
   "outputs": [],
   "source": [
    "def plot_map_add(df,routename,maps):\n",
    "    df1 = df[df['route_name']==routename]\n",
    "    df1 = df1.drop(['geometry'],axis=1)\n",
    "    \n",
    "    df1['position'] = gpd.GeoSeries.from_wkt(df1['position'])\n",
    "    df1 = gpd.GeoDataFrame(df1, geometry='position')\n",
    "    df1['route_polygon'] = gpd.GeoSeries.from_wkt(df1['route_polygon'])\n",
    "    df1 = gpd.GeoDataFrame(df1, geometry='route_polygon')\n",
    "    \n",
    "    df1.crs = \"epsg:4326\"\n",
    "    df1=df1.to_crs(\"EPSG:4326\")\n",
    "    \n",
    "    colormap = cm.LinearColormap(colors=['yellow','red'], index=[0,15000],vmin=0,vmax=15000)\n",
    "    dev = list(df1.deviation_in_meter)\n",
    "    \n",
    "    #x_start = (df1['lat'].max() + df1['lat'].min()) / 2\n",
    "    #y_start = (df1['lon'].max() + df1['lon'].min()) / 2\n",
    "    #x_start = (df1['lat'].mean())\n",
    "    #y_start = (df1['lon'].mean())\n",
    "    #start_coord = (x_start, y_start)\n",
    "\n",
    "    #maps = folium.Map(location = start_coord,zoom_start = 8)\n",
    "    geo_df1_list = [[point.xy[1][0], point.xy[0][0]] for point in df1.position]\n",
    "    for coordinates,p in zip(geo_df1_list,dev):\n",
    "        folium.CircleMarker(location = coordinates,radius=2,color=colormap(p)).add_to(maps)\n",
    "    #maps.add_child(colormap)\n",
    "    folium.GeoJson(data=df1[\"route_polygon\"]).add_to(maps)\n",
    "    #maps.save(\" maps {}.html \".format(routename))\n",
    "    display(maps)"
   ]
  },
  {
   "cell_type": "code",
   "execution_count": 2,
   "id": "3d5888b9",
   "metadata": {},
   "outputs": [],
   "source": [
    "#plot_map_add(df,'TARAHAN-LABUAN',map1)"
   ]
  },
  {
   "cell_type": "code",
   "execution_count": null,
   "id": "148e7092",
   "metadata": {},
   "outputs": [],
   "source": []
  },
  {
   "cell_type": "code",
   "execution_count": null,
   "id": "313baae0",
   "metadata": {},
   "outputs": [],
   "source": []
  },
  {
   "cell_type": "code",
   "execution_count": null,
   "id": "b3656131",
   "metadata": {},
   "outputs": [],
   "source": []
  }
 ],
 "metadata": {
  "kernelspec": {
   "display_name": "Python 3 (ipykernel)",
   "language": "python",
   "name": "python3"
  },
  "language_info": {
   "codemirror_mode": {
    "name": "ipython",
    "version": 3
   },
   "file_extension": ".py",
   "mimetype": "text/x-python",
   "name": "python",
   "nbconvert_exporter": "python",
   "pygments_lexer": "ipython3",
   "version": "3.9.7"
  }
 },
 "nbformat": 4,
 "nbformat_minor": 5
}
