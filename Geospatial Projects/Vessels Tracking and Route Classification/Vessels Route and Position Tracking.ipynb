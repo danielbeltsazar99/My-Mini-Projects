{
 "cells": [
  {
   "cell_type": "code",
   "execution_count": 1,
   "id": "921c564a",
   "metadata": {},
   "outputs": [],
   "source": [
    "import geopandas as gpd\n",
    "import folium\n",
    "import matplotlib.pyplot as plt\n",
    "import pandas as pd\n",
    "from shapely.geometry import Point,Polygon,LineString\n",
    "from folium.plugins import FastMarkerCluster\n",
    "from folium.features import GeoJson, GeoJsonTooltip, GeoJsonPopup\n",
    "from keplergl import KeplerGl\n",
    "import branca\n",
    "import branca.colormap as cm"
   ]
  },
  {
   "cell_type": "code",
   "execution_count": null,
   "id": "1f6e5da7",
   "metadata": {},
   "outputs": [],
   "source": [
    "df = gpd.read_file('/Users/danielbeltsazar/Work/ZebraX/Coding/Geospatial/clean_result.csv')\n",
    "df.head()"
   ]
  },
  {
   "cell_type": "code",
   "execution_count": null,
   "id": "dbae67bf",
   "metadata": {},
   "outputs": [],
   "source": [
    "df['lat']=df['lat'].astype(\"float\")\n",
    "df['lon']=df['lon'].astype(\"float\")\n",
    "df['deviation_in_meter']=df['deviation_in_meter'].astype(\"float\")\n",
    "df['network_no']=df['network_no'].astype('int')\n",
    "df['is_outside_route']=df['is_outside_route'].astype('int')\n",
    "df['datetime']=pd.to_datetime(df['datetime'])"
   ]
  },
  {
   "cell_type": "code",
   "execution_count": null,
   "id": "6db57be3",
   "metadata": {
    "scrolled": true
   },
   "outputs": [],
   "source": [
    "df.info()"
   ]
  },
  {
   "cell_type": "code",
   "execution_count": null,
   "id": "6c204269",
   "metadata": {},
   "outputs": [],
   "source": [
    "df['route_name'].value_counts()"
   ]
  },
  {
   "cell_type": "markdown",
   "id": "aae7f002",
   "metadata": {},
   "source": [
    "## Filter route"
   ]
  },
  {
   "cell_type": "markdown",
   "id": "fdb93ffd",
   "metadata": {},
   "source": [
    "#### Function"
   ]
  },
  {
   "cell_type": "code",
   "execution_count": null,
   "id": "6b691dbd",
   "metadata": {},
   "outputs": [],
   "source": [
    "def plot_map(df,routename):\n",
    "    df1 = df[df['route_name']==routename]\n",
    "    df1 = df1.drop(['geometry'],axis=1)\n",
    "    \n",
    "    df1['position'] = gpd.GeoSeries.from_wkt(df1['position'])\n",
    "    df1 = gpd.GeoDataFrame(df1, geometry='position')\n",
    "    df1['route_polygon'] = gpd.GeoSeries.from_wkt(df1['route_polygon'])\n",
    "    df1 = gpd.GeoDataFrame(df1, geometry='route_polygon')\n",
    "    \n",
    "    df1.crs = \"epsg:4326\"\n",
    "    df1=df1.to_crs(\"EPSG:4326\")\n",
    "    \n",
    "    colormap = cm.LinearColormap(colors=['yellow','red'], index=[0,15000],vmin=0,vmax=15000)\n",
    "    dev = list(df1.deviation_in_meter)\n",
    "    \n",
    "    maps = folium.Map(location = [-5.57,105.328],zoom_start = 8)\n",
    "    geo_df1_list = [[point.xy[1][0], point.xy[0][0]] for point in df1.position]\n",
    "    for coordinates,p in zip(geo_df1_list,dev):\n",
    "        folium.CircleMarker(location = coordinates,radius=2,color=colormap(p)).add_to(maps)\n",
    "    maps.add_child(colormap)\n",
    "    folium.GeoJson(data=df1[\"route_polygon\"]).add_to(maps)\n",
    "    display(maps)"
   ]
  },
  {
   "cell_type": "code",
   "execution_count": null,
   "id": "2e593544",
   "metadata": {},
   "outputs": [],
   "source": [
    "df['route_name'].value_counts()"
   ]
  },
  {
   "cell_type": "code",
   "execution_count": null,
   "id": "006b48d8",
   "metadata": {},
   "outputs": [],
   "source": [
    "plot_map(df,'TARAHAN-PLTULONTAR')"
   ]
  },
  {
   "cell_type": "code",
   "execution_count": null,
   "id": "ec65e7db",
   "metadata": {},
   "outputs": [],
   "source": []
  },
  {
   "cell_type": "code",
   "execution_count": null,
   "id": "047affd2",
   "metadata": {},
   "outputs": [],
   "source": []
  },
  {
   "cell_type": "code",
   "execution_count": null,
   "id": "d9ce8e09",
   "metadata": {},
   "outputs": [],
   "source": []
  },
  {
   "cell_type": "markdown",
   "id": "ca784bbf",
   "metadata": {},
   "source": [
    "## Visualization for all route"
   ]
  },
  {
   "cell_type": "code",
   "execution_count": null,
   "id": "6ee3ebda",
   "metadata": {},
   "outputs": [],
   "source": [
    "#df.info()"
   ]
  },
  {
   "cell_type": "code",
   "execution_count": null,
   "id": "c23b72df",
   "metadata": {},
   "outputs": [],
   "source": [
    "#df = df.drop(['geometry'],axis=1)"
   ]
  },
  {
   "cell_type": "code",
   "execution_count": null,
   "id": "c7188730",
   "metadata": {},
   "outputs": [],
   "source": [
    "#df['position'] = gpd.GeoSeries.from_wkt(df['position'])\n",
    "#df= gpd.GeoDataFrame(df, geometry='position')"
   ]
  },
  {
   "cell_type": "code",
   "execution_count": null,
   "id": "3062bf29",
   "metadata": {},
   "outputs": [],
   "source": [
    "#df['route_polygon'] = gpd.GeoSeries.from_wkt(df['route_polygon'])\n",
    "#df= gpd.GeoDataFrame(df, geometry='route_polygon')"
   ]
  },
  {
   "cell_type": "code",
   "execution_count": null,
   "id": "ead9cdd7",
   "metadata": {},
   "outputs": [],
   "source": [
    "#df.info()"
   ]
  },
  {
   "cell_type": "code",
   "execution_count": null,
   "id": "bfccbddf",
   "metadata": {},
   "outputs": [],
   "source": [
    "#df.crs = \"epsg:4326\"\n",
    "#df=df.to_crs(\"EPSG:4326\")"
   ]
  },
  {
   "cell_type": "code",
   "execution_count": null,
   "id": "680bdd0e",
   "metadata": {},
   "outputs": [],
   "source": [
    "#dev2 = list(df.deviation_in_meter)\n",
    "#colormap3 = cm.LinearColormap(colors=['yellow','red'], index=[0,15000],vmin=0,vmax=15000)\n",
    "#m6 = folium.Map(location = [-5.57,105.328],zoom_start = 6)\n",
    "#geo_df_list = [[point.xy[1][0], point.xy[0][0]] for point in df.position]\n",
    "#for coordinates,p in zip(geo_df_list,dev2):\n",
    "    #folium.CircleMarker(location = coordinates,radius = 2,color=colormap3(p)).add_to(m6)\n",
    "    \n",
    "#m6.add_child(colormap3)\n",
    "#folium.GeoJson(data=df[\"route_polygon\"]).add_to(m6)\n",
    "#display(m6)"
   ]
  },
  {
   "cell_type": "code",
   "execution_count": null,
   "id": "3d5888b9",
   "metadata": {},
   "outputs": [],
   "source": []
  },
  {
   "cell_type": "code",
   "execution_count": null,
   "id": "148e7092",
   "metadata": {},
   "outputs": [],
   "source": []
  },
  {
   "cell_type": "code",
   "execution_count": null,
   "id": "313baae0",
   "metadata": {},
   "outputs": [],
   "source": []
  },
  {
   "cell_type": "code",
   "execution_count": null,
   "id": "b3656131",
   "metadata": {},
   "outputs": [],
   "source": []
  }
 ],
 "metadata": {
  "kernelspec": {
   "display_name": "Python 3 (ipykernel)",
   "language": "python",
   "name": "python3"
  },
  "language_info": {
   "codemirror_mode": {
    "name": "ipython",
    "version": 3
   },
   "file_extension": ".py",
   "mimetype": "text/x-python",
   "name": "python",
   "nbconvert_exporter": "python",
   "pygments_lexer": "ipython3",
   "version": "3.9.7"
  }
 },
 "nbformat": 4,
 "nbformat_minor": 5
}
