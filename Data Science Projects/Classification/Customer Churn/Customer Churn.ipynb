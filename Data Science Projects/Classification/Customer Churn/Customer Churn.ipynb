{
 "cells": [
  {
   "cell_type": "markdown",
   "id": "fd169206",
   "metadata": {},
   "source": [
    "Source : https://www.kaggle.com/datasets/abhinav89/telecom-customer"
   ]
  },
  {
   "cell_type": "code",
   "execution_count": 22,
   "id": "77859f20",
   "metadata": {},
   "outputs": [
    {
     "ename": "ValueError",
     "evalue": "Must provide an even number of non-keyword arguments",
     "output_type": "error",
     "traceback": [
      "\u001b[0;31m---------------------------------------------------------------------------\u001b[0m",
      "\u001b[0;31mValueError\u001b[0m                                Traceback (most recent call last)",
      "\u001b[0;32m/var/folders/52/_h12ds1j0_5c854m0gwwj0y80000gn/T/ipykernel_6977/3765771582.py\u001b[0m in \u001b[0;36m<module>\u001b[0;34m\u001b[0m\n\u001b[1;32m      1\u001b[0m \u001b[0;32mimport\u001b[0m \u001b[0mpandas\u001b[0m \u001b[0;32mas\u001b[0m \u001b[0mpd\u001b[0m\u001b[0;34m\u001b[0m\u001b[0;34m\u001b[0m\u001b[0m\n\u001b[1;32m      2\u001b[0m \u001b[0;32mimport\u001b[0m \u001b[0mnumpy\u001b[0m \u001b[0;32mas\u001b[0m \u001b[0mnp\u001b[0m\u001b[0;34m\u001b[0m\u001b[0;34m\u001b[0m\u001b[0m\n\u001b[0;32m----> 3\u001b[0;31m \u001b[0mpd\u001b[0m\u001b[0;34m.\u001b[0m\u001b[0mset_option\u001b[0m\u001b[0;34m(\u001b[0m\u001b[0mmax_col\u001b[0m\u001b[0;34m=\u001b[0m\u001b[0;32mNone\u001b[0m\u001b[0;34m)\u001b[0m\u001b[0;34m\u001b[0m\u001b[0;34m\u001b[0m\u001b[0m\n\u001b[0m",
      "\u001b[0;32m~/opt/anaconda3/envs/boost/lib/python3.9/site-packages/pandas/_config/config.py\u001b[0m in \u001b[0;36m__call__\u001b[0;34m(self, *args, **kwds)\u001b[0m\n\u001b[1;32m    254\u001b[0m \u001b[0;34m\u001b[0m\u001b[0m\n\u001b[1;32m    255\u001b[0m     \u001b[0;32mdef\u001b[0m \u001b[0m__call__\u001b[0m\u001b[0;34m(\u001b[0m\u001b[0mself\u001b[0m\u001b[0;34m,\u001b[0m \u001b[0;34m*\u001b[0m\u001b[0margs\u001b[0m\u001b[0;34m,\u001b[0m \u001b[0;34m**\u001b[0m\u001b[0mkwds\u001b[0m\u001b[0;34m)\u001b[0m\u001b[0;34m:\u001b[0m\u001b[0;34m\u001b[0m\u001b[0;34m\u001b[0m\u001b[0m\n\u001b[0;32m--> 256\u001b[0;31m         \u001b[0;32mreturn\u001b[0m \u001b[0mself\u001b[0m\u001b[0;34m.\u001b[0m\u001b[0m__func__\u001b[0m\u001b[0;34m(\u001b[0m\u001b[0;34m*\u001b[0m\u001b[0margs\u001b[0m\u001b[0;34m,\u001b[0m \u001b[0;34m**\u001b[0m\u001b[0mkwds\u001b[0m\u001b[0;34m)\u001b[0m\u001b[0;34m\u001b[0m\u001b[0;34m\u001b[0m\u001b[0m\n\u001b[0m\u001b[1;32m    257\u001b[0m \u001b[0;34m\u001b[0m\u001b[0m\n\u001b[1;32m    258\u001b[0m     \u001b[0;34m@\u001b[0m\u001b[0mproperty\u001b[0m\u001b[0;34m\u001b[0m\u001b[0;34m\u001b[0m\u001b[0m\n",
      "\u001b[0;32m~/opt/anaconda3/envs/boost/lib/python3.9/site-packages/pandas/_config/config.py\u001b[0m in \u001b[0;36m_set_option\u001b[0;34m(*args, **kwargs)\u001b[0m\n\u001b[1;32m    137\u001b[0m     \u001b[0mnargs\u001b[0m \u001b[0;34m=\u001b[0m \u001b[0mlen\u001b[0m\u001b[0;34m(\u001b[0m\u001b[0margs\u001b[0m\u001b[0;34m)\u001b[0m\u001b[0;34m\u001b[0m\u001b[0;34m\u001b[0m\u001b[0m\n\u001b[1;32m    138\u001b[0m     \u001b[0;32mif\u001b[0m \u001b[0;32mnot\u001b[0m \u001b[0mnargs\u001b[0m \u001b[0;32mor\u001b[0m \u001b[0mnargs\u001b[0m \u001b[0;34m%\u001b[0m \u001b[0;36m2\u001b[0m \u001b[0;34m!=\u001b[0m \u001b[0;36m0\u001b[0m\u001b[0;34m:\u001b[0m\u001b[0;34m\u001b[0m\u001b[0;34m\u001b[0m\u001b[0m\n\u001b[0;32m--> 139\u001b[0;31m         \u001b[0;32mraise\u001b[0m \u001b[0mValueError\u001b[0m\u001b[0;34m(\u001b[0m\u001b[0;34m\"Must provide an even number of non-keyword arguments\"\u001b[0m\u001b[0;34m)\u001b[0m\u001b[0;34m\u001b[0m\u001b[0;34m\u001b[0m\u001b[0m\n\u001b[0m\u001b[1;32m    140\u001b[0m \u001b[0;34m\u001b[0m\u001b[0m\n\u001b[1;32m    141\u001b[0m     \u001b[0;31m# default to false\u001b[0m\u001b[0;34m\u001b[0m\u001b[0;34m\u001b[0m\u001b[0m\n",
      "\u001b[0;31mValueError\u001b[0m: Must provide an even number of non-keyword arguments"
     ]
    }
   ],
   "source": [
    "import pandas as pd\n",
    "import numpy as np\n",
    "pd.set_option(max_col=None)"
   ]
  },
  {
   "cell_type": "code",
   "execution_count": 2,
   "id": "6b89b1af",
   "metadata": {},
   "outputs": [
    {
     "data": {
      "text/html": [
       "<div>\n",
       "<style scoped>\n",
       "    .dataframe tbody tr th:only-of-type {\n",
       "        vertical-align: middle;\n",
       "    }\n",
       "\n",
       "    .dataframe tbody tr th {\n",
       "        vertical-align: top;\n",
       "    }\n",
       "\n",
       "    .dataframe thead th {\n",
       "        text-align: right;\n",
       "    }\n",
       "</style>\n",
       "<table border=\"1\" class=\"dataframe\">\n",
       "  <thead>\n",
       "    <tr style=\"text-align: right;\">\n",
       "      <th></th>\n",
       "      <th>rev_Mean</th>\n",
       "      <th>mou_Mean</th>\n",
       "      <th>totmrc_Mean</th>\n",
       "      <th>da_Mean</th>\n",
       "      <th>ovrmou_Mean</th>\n",
       "      <th>ovrrev_Mean</th>\n",
       "      <th>vceovr_Mean</th>\n",
       "      <th>datovr_Mean</th>\n",
       "      <th>roam_Mean</th>\n",
       "      <th>change_mou</th>\n",
       "      <th>...</th>\n",
       "      <th>forgntvl</th>\n",
       "      <th>ethnic</th>\n",
       "      <th>kid0_2</th>\n",
       "      <th>kid3_5</th>\n",
       "      <th>kid6_10</th>\n",
       "      <th>kid11_15</th>\n",
       "      <th>kid16_17</th>\n",
       "      <th>creditcd</th>\n",
       "      <th>eqpdays</th>\n",
       "      <th>Customer_ID</th>\n",
       "    </tr>\n",
       "  </thead>\n",
       "  <tbody>\n",
       "    <tr>\n",
       "      <th>0</th>\n",
       "      <td>23.9975</td>\n",
       "      <td>219.25</td>\n",
       "      <td>22.500</td>\n",
       "      <td>0.2475</td>\n",
       "      <td>0.00</td>\n",
       "      <td>0.0</td>\n",
       "      <td>0.0</td>\n",
       "      <td>0.0</td>\n",
       "      <td>0.0</td>\n",
       "      <td>-157.25</td>\n",
       "      <td>...</td>\n",
       "      <td>0.0</td>\n",
       "      <td>N</td>\n",
       "      <td>U</td>\n",
       "      <td>U</td>\n",
       "      <td>U</td>\n",
       "      <td>U</td>\n",
       "      <td>U</td>\n",
       "      <td>Y</td>\n",
       "      <td>361.0</td>\n",
       "      <td>1000001</td>\n",
       "    </tr>\n",
       "    <tr>\n",
       "      <th>1</th>\n",
       "      <td>57.4925</td>\n",
       "      <td>482.75</td>\n",
       "      <td>37.425</td>\n",
       "      <td>0.2475</td>\n",
       "      <td>22.75</td>\n",
       "      <td>9.1</td>\n",
       "      <td>9.1</td>\n",
       "      <td>0.0</td>\n",
       "      <td>0.0</td>\n",
       "      <td>532.25</td>\n",
       "      <td>...</td>\n",
       "      <td>0.0</td>\n",
       "      <td>Z</td>\n",
       "      <td>U</td>\n",
       "      <td>U</td>\n",
       "      <td>U</td>\n",
       "      <td>U</td>\n",
       "      <td>U</td>\n",
       "      <td>Y</td>\n",
       "      <td>240.0</td>\n",
       "      <td>1000002</td>\n",
       "    </tr>\n",
       "    <tr>\n",
       "      <th>2</th>\n",
       "      <td>16.9900</td>\n",
       "      <td>10.25</td>\n",
       "      <td>16.990</td>\n",
       "      <td>0.0000</td>\n",
       "      <td>0.00</td>\n",
       "      <td>0.0</td>\n",
       "      <td>0.0</td>\n",
       "      <td>0.0</td>\n",
       "      <td>0.0</td>\n",
       "      <td>-4.25</td>\n",
       "      <td>...</td>\n",
       "      <td>0.0</td>\n",
       "      <td>N</td>\n",
       "      <td>U</td>\n",
       "      <td>Y</td>\n",
       "      <td>U</td>\n",
       "      <td>U</td>\n",
       "      <td>U</td>\n",
       "      <td>Y</td>\n",
       "      <td>1504.0</td>\n",
       "      <td>1000003</td>\n",
       "    </tr>\n",
       "    <tr>\n",
       "      <th>3</th>\n",
       "      <td>38.0000</td>\n",
       "      <td>7.50</td>\n",
       "      <td>38.000</td>\n",
       "      <td>0.0000</td>\n",
       "      <td>0.00</td>\n",
       "      <td>0.0</td>\n",
       "      <td>0.0</td>\n",
       "      <td>0.0</td>\n",
       "      <td>0.0</td>\n",
       "      <td>-1.50</td>\n",
       "      <td>...</td>\n",
       "      <td>0.0</td>\n",
       "      <td>U</td>\n",
       "      <td>Y</td>\n",
       "      <td>U</td>\n",
       "      <td>U</td>\n",
       "      <td>U</td>\n",
       "      <td>U</td>\n",
       "      <td>Y</td>\n",
       "      <td>1812.0</td>\n",
       "      <td>1000004</td>\n",
       "    </tr>\n",
       "    <tr>\n",
       "      <th>4</th>\n",
       "      <td>55.2300</td>\n",
       "      <td>570.50</td>\n",
       "      <td>71.980</td>\n",
       "      <td>0.0000</td>\n",
       "      <td>0.00</td>\n",
       "      <td>0.0</td>\n",
       "      <td>0.0</td>\n",
       "      <td>0.0</td>\n",
       "      <td>0.0</td>\n",
       "      <td>38.50</td>\n",
       "      <td>...</td>\n",
       "      <td>0.0</td>\n",
       "      <td>I</td>\n",
       "      <td>U</td>\n",
       "      <td>U</td>\n",
       "      <td>U</td>\n",
       "      <td>U</td>\n",
       "      <td>U</td>\n",
       "      <td>Y</td>\n",
       "      <td>434.0</td>\n",
       "      <td>1000005</td>\n",
       "    </tr>\n",
       "  </tbody>\n",
       "</table>\n",
       "<p>5 rows × 100 columns</p>\n",
       "</div>"
      ],
      "text/plain": [
       "   rev_Mean  mou_Mean  totmrc_Mean  da_Mean  ovrmou_Mean  ovrrev_Mean  \\\n",
       "0   23.9975    219.25       22.500   0.2475         0.00          0.0   \n",
       "1   57.4925    482.75       37.425   0.2475        22.75          9.1   \n",
       "2   16.9900     10.25       16.990   0.0000         0.00          0.0   \n",
       "3   38.0000      7.50       38.000   0.0000         0.00          0.0   \n",
       "4   55.2300    570.50       71.980   0.0000         0.00          0.0   \n",
       "\n",
       "   vceovr_Mean  datovr_Mean  roam_Mean  change_mou  ...  forgntvl  ethnic  \\\n",
       "0          0.0          0.0        0.0     -157.25  ...       0.0       N   \n",
       "1          9.1          0.0        0.0      532.25  ...       0.0       Z   \n",
       "2          0.0          0.0        0.0       -4.25  ...       0.0       N   \n",
       "3          0.0          0.0        0.0       -1.50  ...       0.0       U   \n",
       "4          0.0          0.0        0.0       38.50  ...       0.0       I   \n",
       "\n",
       "   kid0_2  kid3_5  kid6_10  kid11_15  kid16_17  creditcd  eqpdays  Customer_ID  \n",
       "0       U       U        U         U         U         Y    361.0      1000001  \n",
       "1       U       U        U         U         U         Y    240.0      1000002  \n",
       "2       U       Y        U         U         U         Y   1504.0      1000003  \n",
       "3       Y       U        U         U         U         Y   1812.0      1000004  \n",
       "4       U       U        U         U         U         Y    434.0      1000005  \n",
       "\n",
       "[5 rows x 100 columns]"
      ]
     },
     "execution_count": 2,
     "metadata": {},
     "output_type": "execute_result"
    }
   ],
   "source": [
    "df = pd.read_csv('/Users/danielbeltsazar/DS-ML-DL Mini Projects/Exploring/Classification/Customer Churn/Telecom_customer churn.csv')\n",
    "\n",
    "df.head()\n"
   ]
  },
  {
   "cell_type": "code",
   "execution_count": 3,
   "id": "15462b7f",
   "metadata": {},
   "outputs": [
    {
     "name": "stdout",
     "output_type": "stream",
     "text": [
      "<class 'pandas.core.frame.DataFrame'>\n",
      "RangeIndex: 100000 entries, 0 to 99999\n",
      "Data columns (total 100 columns):\n",
      " #   Column            Non-Null Count   Dtype  \n",
      "---  ------            --------------   -----  \n",
      " 0   rev_Mean          99643 non-null   float64\n",
      " 1   mou_Mean          99643 non-null   float64\n",
      " 2   totmrc_Mean       99643 non-null   float64\n",
      " 3   da_Mean           99643 non-null   float64\n",
      " 4   ovrmou_Mean       99643 non-null   float64\n",
      " 5   ovrrev_Mean       99643 non-null   float64\n",
      " 6   vceovr_Mean       99643 non-null   float64\n",
      " 7   datovr_Mean       99643 non-null   float64\n",
      " 8   roam_Mean         99643 non-null   float64\n",
      " 9   change_mou        99109 non-null   float64\n",
      " 10  change_rev        99109 non-null   float64\n",
      " 11  drop_vce_Mean     100000 non-null  float64\n",
      " 12  drop_dat_Mean     100000 non-null  float64\n",
      " 13  blck_vce_Mean     100000 non-null  float64\n",
      " 14  blck_dat_Mean     100000 non-null  float64\n",
      " 15  unan_vce_Mean     100000 non-null  float64\n",
      " 16  unan_dat_Mean     100000 non-null  float64\n",
      " 17  plcd_vce_Mean     100000 non-null  float64\n",
      " 18  plcd_dat_Mean     100000 non-null  float64\n",
      " 19  recv_vce_Mean     100000 non-null  float64\n",
      " 20  recv_sms_Mean     100000 non-null  float64\n",
      " 21  comp_vce_Mean     100000 non-null  float64\n",
      " 22  comp_dat_Mean     100000 non-null  float64\n",
      " 23  custcare_Mean     100000 non-null  float64\n",
      " 24  ccrndmou_Mean     100000 non-null  float64\n",
      " 25  cc_mou_Mean       100000 non-null  float64\n",
      " 26  inonemin_Mean     100000 non-null  float64\n",
      " 27  threeway_Mean     100000 non-null  float64\n",
      " 28  mou_cvce_Mean     100000 non-null  float64\n",
      " 29  mou_cdat_Mean     100000 non-null  float64\n",
      " 30  mou_rvce_Mean     100000 non-null  float64\n",
      " 31  owylis_vce_Mean   100000 non-null  float64\n",
      " 32  mouowylisv_Mean   100000 non-null  float64\n",
      " 33  iwylis_vce_Mean   100000 non-null  float64\n",
      " 34  mouiwylisv_Mean   100000 non-null  float64\n",
      " 35  peak_vce_Mean     100000 non-null  float64\n",
      " 36  peak_dat_Mean     100000 non-null  float64\n",
      " 37  mou_peav_Mean     100000 non-null  float64\n",
      " 38  mou_pead_Mean     100000 non-null  float64\n",
      " 39  opk_vce_Mean      100000 non-null  float64\n",
      " 40  opk_dat_Mean      100000 non-null  float64\n",
      " 41  mou_opkv_Mean     100000 non-null  float64\n",
      " 42  mou_opkd_Mean     100000 non-null  float64\n",
      " 43  drop_blk_Mean     100000 non-null  float64\n",
      " 44  attempt_Mean      100000 non-null  float64\n",
      " 45  complete_Mean     100000 non-null  float64\n",
      " 46  callfwdv_Mean     100000 non-null  float64\n",
      " 47  callwait_Mean     100000 non-null  float64\n",
      " 48  churn             100000 non-null  int64  \n",
      " 49  months            100000 non-null  int64  \n",
      " 50  uniqsubs          100000 non-null  int64  \n",
      " 51  actvsubs          100000 non-null  int64  \n",
      " 52  new_cell          100000 non-null  object \n",
      " 53  crclscod          100000 non-null  object \n",
      " 54  asl_flag          100000 non-null  object \n",
      " 55  totcalls          100000 non-null  int64  \n",
      " 56  totmou            100000 non-null  float64\n",
      " 57  totrev            100000 non-null  float64\n",
      " 58  adjrev            100000 non-null  float64\n",
      " 59  adjmou            100000 non-null  float64\n",
      " 60  adjqty            100000 non-null  int64  \n",
      " 61  avgrev            100000 non-null  float64\n",
      " 62  avgmou            100000 non-null  float64\n",
      " 63  avgqty            100000 non-null  float64\n",
      " 64  avg3mou           100000 non-null  int64  \n",
      " 65  avg3qty           100000 non-null  int64  \n",
      " 66  avg3rev           100000 non-null  int64  \n",
      " 67  avg6mou           97161 non-null   float64\n",
      " 68  avg6qty           97161 non-null   float64\n",
      " 69  avg6rev           97161 non-null   float64\n",
      " 70  prizm_social_one  92612 non-null   object \n",
      " 71  area              99960 non-null   object \n",
      " 72  dualband          99999 non-null   object \n",
      " 73  refurb_new        99999 non-null   object \n",
      " 74  hnd_price         99153 non-null   float64\n",
      " 75  phones            99999 non-null   float64\n",
      " 76  models            99999 non-null   float64\n",
      " 77  hnd_webcap        89811 non-null   object \n",
      " 78  truck             98268 non-null   float64\n",
      " 79  rv                98268 non-null   float64\n",
      " 80  ownrent           66294 non-null   object \n",
      " 81  lor               69810 non-null   float64\n",
      " 82  dwlltype          68091 non-null   object \n",
      " 83  marital           98268 non-null   object \n",
      " 84  adults            76981 non-null   float64\n",
      " 85  infobase          77921 non-null   object \n",
      " 86  income            74564 non-null   float64\n",
      " 87  numbcars          50634 non-null   float64\n",
      " 88  HHstatin          62077 non-null   object \n",
      " 89  dwllsize          61692 non-null   object \n",
      " 90  forgntvl          98268 non-null   float64\n",
      " 91  ethnic            98268 non-null   object \n",
      " 92  kid0_2            98268 non-null   object \n",
      " 93  kid3_5            98268 non-null   object \n",
      " 94  kid6_10           98268 non-null   object \n",
      " 95  kid11_15          98268 non-null   object \n",
      " 96  kid16_17          98268 non-null   object \n",
      " 97  creditcd          98268 non-null   object \n",
      " 98  eqpdays           99999 non-null   float64\n",
      " 99  Customer_ID       100000 non-null  int64  \n",
      "dtypes: float64(69), int64(10), object(21)\n",
      "memory usage: 76.3+ MB\n"
     ]
    }
   ],
   "source": [
    "df.info()"
   ]
  },
  {
   "cell_type": "code",
   "execution_count": 4,
   "id": "15ee9b51",
   "metadata": {},
   "outputs": [
    {
     "data": {
      "text/plain": [
       "0    50438\n",
       "1    49562\n",
       "Name: churn, dtype: int64"
      ]
     },
     "execution_count": 4,
     "metadata": {},
     "output_type": "execute_result"
    }
   ],
   "source": [
    "df['churn'].value_counts()"
   ]
  },
  {
   "cell_type": "code",
   "execution_count": null,
   "id": "6b7b356f",
   "metadata": {},
   "outputs": [],
   "source": []
  },
  {
   "cell_type": "markdown",
   "id": "cd1b0463",
   "metadata": {},
   "source": [
    "# 2. Data Cleaning"
   ]
  },
  {
   "cell_type": "markdown",
   "id": "841d3835",
   "metadata": {},
   "source": [
    "## 2.1. Drop Features with only 1 unique value"
   ]
  },
  {
   "cell_type": "code",
   "execution_count": 5,
   "id": "08534aa6",
   "metadata": {},
   "outputs": [],
   "source": [
    "un = []\n",
    "for cols in df.columns:\n",
    "    if df[cols].nunique()==1:\n",
    "        un.append(cols)\n",
    "    else:\n",
    "        pass\n",
    "\n",
    "df = df.drop(un,axis=1)"
   ]
  },
  {
   "cell_type": "code",
   "execution_count": 6,
   "id": "02fd3ad1",
   "metadata": {},
   "outputs": [
    {
     "data": {
      "text/plain": [
       "(100000, 100)"
      ]
     },
     "execution_count": 6,
     "metadata": {},
     "output_type": "execute_result"
    }
   ],
   "source": [
    "df.shape"
   ]
  },
  {
   "cell_type": "markdown",
   "id": "1adcd00c",
   "metadata": {},
   "source": [
    "## 2.2. Missing Value Handling"
   ]
  },
  {
   "cell_type": "markdown",
   "id": "001bfff9",
   "metadata": {},
   "source": [
    "### Removing Columns whose values are all missing"
   ]
  },
  {
   "cell_type": "code",
   "execution_count": 7,
   "id": "24600417",
   "metadata": {},
   "outputs": [],
   "source": [
    "df = df.dropna(axis='columns', how='all')"
   ]
  },
  {
   "cell_type": "markdown",
   "id": "e9243762",
   "metadata": {},
   "source": [
    "### Filling missing value in categorical and numerical data"
   ]
  },
  {
   "cell_type": "code",
   "execution_count": 8,
   "id": "384b77ab",
   "metadata": {
    "scrolled": true
   },
   "outputs": [
    {
     "data": {
      "text/plain": [
       "rev_Mean        357\n",
       "mou_Mean        357\n",
       "totmrc_Mean     357\n",
       "da_Mean         357\n",
       "ovrmou_Mean     357\n",
       "               ... \n",
       "kid11_15       1732\n",
       "kid16_17       1732\n",
       "creditcd       1732\n",
       "eqpdays           1\n",
       "Customer_ID       0\n",
       "Length: 100, dtype: int64"
      ]
     },
     "execution_count": 8,
     "metadata": {},
     "output_type": "execute_result"
    }
   ],
   "source": [
    "df.isnull().sum()"
   ]
  },
  {
   "cell_type": "markdown",
   "id": "24dde6a3",
   "metadata": {},
   "source": [
    "**Categorical**"
   ]
  },
  {
   "cell_type": "code",
   "execution_count": 9,
   "id": "8937db91",
   "metadata": {},
   "outputs": [],
   "source": [
    "# set containing categorical features\n",
    "p = set(df.select_dtypes(include=['object','category']).columns)"
   ]
  },
  {
   "cell_type": "code",
   "execution_count": 10,
   "id": "4ea200d0",
   "metadata": {},
   "outputs": [],
   "source": [
    "# set containing features with null value\n",
    "q= set(df.columns[df.isnull().any()])"
   ]
  },
  {
   "cell_type": "code",
   "execution_count": 11,
   "id": "1ebc5ac0",
   "metadata": {
    "scrolled": false
   },
   "outputs": [
    {
     "data": {
      "text/plain": [
       "['dwlltype',\n",
       " 'dwllsize',\n",
       " 'kid11_15',\n",
       " 'area',\n",
       " 'hnd_webcap',\n",
       " 'ethnic',\n",
       " 'infobase',\n",
       " 'kid16_17',\n",
       " 'kid6_10',\n",
       " 'HHstatin',\n",
       " 'dualband',\n",
       " 'marital',\n",
       " 'refurb_new',\n",
       " 'kid3_5',\n",
       " 'prizm_social_one',\n",
       " 'kid0_2',\n",
       " 'ownrent',\n",
       " 'creditcd']"
      ]
     },
     "execution_count": 11,
     "metadata": {},
     "output_type": "execute_result"
    }
   ],
   "source": [
    "# Intersections between them to get categorical features which contain missing value\n",
    "r = list(p&q)\n",
    "r"
   ]
  },
  {
   "cell_type": "code",
   "execution_count": 13,
   "id": "23c70964",
   "metadata": {},
   "outputs": [
    {
     "name": "stdout",
     "output_type": "stream",
     "text": [
      "Missing value left in categorical features : \n",
      " 0\n"
     ]
    }
   ],
   "source": [
    "## Filling missing value with their mode\n",
    "for cat_col in r:\n",
    "    df[cat_col]=df[cat_col].fillna(df[cat_col].mode()[0])\n",
    "\n",
    "print('Missing value left in categorical features : \\n',df.select_dtypes(include=['object','category']).isnull().sum().sum())\n",
    "\n"
   ]
  },
  {
   "cell_type": "markdown",
   "id": "d09e3e9c",
   "metadata": {},
   "source": [
    "**Numerical**"
   ]
  },
  {
   "cell_type": "code",
   "execution_count": 17,
   "id": "ec857b05",
   "metadata": {},
   "outputs": [],
   "source": [
    "# To get numerical features which contain missing value\n",
    "v = p&q\n",
    "h = list(q-v)"
   ]
  },
  {
   "cell_type": "code",
   "execution_count": 19,
   "id": "b2a16b95",
   "metadata": {
    "scrolled": true
   },
   "outputs": [
    {
     "data": {
      "text/plain": [
       "datovr_Mean      357\n",
       "eqpdays            1\n",
       "roam_Mean        357\n",
       "forgntvl        1732\n",
       "ovrmou_Mean      357\n",
       "rv              1732\n",
       "rev_Mean         357\n",
       "adults         23019\n",
       "lor            30190\n",
       "vceovr_Mean      357\n",
       "avg6rev         2839\n",
       "models             1\n",
       "phones             1\n",
       "mou_Mean         357\n",
       "numbcars       49366\n",
       "change_rev       891\n",
       "totmrc_Mean      357\n",
       "truck           1732\n",
       "avg6qty         2839\n",
       "ovrrev_Mean      357\n",
       "avg6mou         2839\n",
       "income         25436\n",
       "change_mou       891\n",
       "da_Mean          357\n",
       "hnd_price        847\n",
       "dtype: int64"
      ]
     },
     "execution_count": 19,
     "metadata": {},
     "output_type": "execute_result"
    }
   ],
   "source": [
    "# We see our numerical missing value\n",
    "df[h].isnull().sum()"
   ]
  },
  {
   "cell_type": "code",
   "execution_count": 21,
   "id": "aa937774",
   "metadata": {},
   "outputs": [
    {
     "name": "stdout",
     "output_type": "stream",
     "text": [
      "Missing value left in categorical features : \n",
      " 0\n"
     ]
    }
   ],
   "source": [
    "## Filling missing value with their mean\n",
    "for num_col in h:\n",
    "    df[num_col]=df[num_col].fillna(value = df[num_col].mean())\n",
    "    \n",
    "print('Missing value left in numerical features : \\n',df[h].isnull().sum().sum())"
   ]
  },
  {
   "cell_type": "code",
   "execution_count": null,
   "id": "9a102fa4",
   "metadata": {},
   "outputs": [],
   "source": []
  },
  {
   "cell_type": "markdown",
   "id": "e5b153fc",
   "metadata": {},
   "source": [
    "2.3"
   ]
  },
  {
   "cell_type": "code",
   "execution_count": null,
   "id": "3eb9a59e",
   "metadata": {},
   "outputs": [],
   "source": []
  },
  {
   "cell_type": "code",
   "execution_count": null,
   "id": "e73a9675",
   "metadata": {},
   "outputs": [],
   "source": []
  },
  {
   "cell_type": "code",
   "execution_count": null,
   "id": "f902bcbb",
   "metadata": {},
   "outputs": [],
   "source": []
  },
  {
   "cell_type": "code",
   "execution_count": null,
   "id": "dbef8c7f",
   "metadata": {},
   "outputs": [],
   "source": []
  },
  {
   "cell_type": "code",
   "execution_count": null,
   "id": "af68c515",
   "metadata": {},
   "outputs": [],
   "source": []
  }
 ],
 "metadata": {
  "kernelspec": {
   "display_name": "Python 3 (ipykernel)",
   "language": "python",
   "name": "python3"
  },
  "language_info": {
   "codemirror_mode": {
    "name": "ipython",
    "version": 3
   },
   "file_extension": ".py",
   "mimetype": "text/x-python",
   "name": "python",
   "nbconvert_exporter": "python",
   "pygments_lexer": "ipython3",
   "version": "3.9.7"
  }
 },
 "nbformat": 4,
 "nbformat_minor": 5
}
