{
 "cells": [
  {
   "cell_type": "markdown",
   "metadata": {},
   "source": [
    "### Here i have covid open dataset from instituion of health that contains number of confirmed, recovered, deaths of people due to covid infection from all countries in the world. I will do some analysis and prediction model based on the dataset that we have."
   ]
  },
  {
   "cell_type": "markdown",
   "metadata": {},
   "source": [
    " "
   ]
  },
  {
   "cell_type": "markdown",
   "metadata": {},
   "source": [
    "# 1. Import library dan dataset"
   ]
  },
  {
   "cell_type": "code",
   "execution_count": 1,
   "metadata": {},
   "outputs": [],
   "source": [
    "#Importing required modules\n",
    "import pandas as pd\n",
    "import numpy as np\n",
    "import matplotlib.pyplot as plt\n",
    "from sklearn.metrics import confusion_matrix,classification_report\n",
    "from sklearn.model_selection import cross_val_score, GridSearchCV\n",
    "\n",
    "#Reading datasets\n",
    "#main dataset\n",
    "df = pd.read_csv('covid.csv')\n",
    "#region and climate dataset\n",
    "df_cat = pd.read_csv('covid_cat.csv')"
   ]
  },
  {
   "cell_type": "code",
   "execution_count": 2,
   "metadata": {},
   "outputs": [
    {
     "data": {
      "text/html": [
       "<div>\n",
       "<style scoped>\n",
       "    .dataframe tbody tr th:only-of-type {\n",
       "        vertical-align: middle;\n",
       "    }\n",
       "\n",
       "    .dataframe tbody tr th {\n",
       "        vertical-align: top;\n",
       "    }\n",
       "\n",
       "    .dataframe thead th {\n",
       "        text-align: right;\n",
       "    }\n",
       "</style>\n",
       "<table border=\"1\" class=\"dataframe\">\n",
       "  <thead>\n",
       "    <tr style=\"text-align: right;\">\n",
       "      <th></th>\n",
       "      <th>Unnamed: 0</th>\n",
       "      <th>country</th>\n",
       "      <th>province</th>\n",
       "      <th>date</th>\n",
       "      <th>confirmed</th>\n",
       "      <th>recovered</th>\n",
       "      <th>deaths</th>\n",
       "    </tr>\n",
       "  </thead>\n",
       "  <tbody>\n",
       "    <tr>\n",
       "      <th>0</th>\n",
       "      <td>0</td>\n",
       "      <td>Afghanistan</td>\n",
       "      <td>0</td>\n",
       "      <td>2020-01-22</td>\n",
       "      <td>0.0</td>\n",
       "      <td>0.0</td>\n",
       "      <td>0.0</td>\n",
       "    </tr>\n",
       "    <tr>\n",
       "      <th>1</th>\n",
       "      <td>1</td>\n",
       "      <td>Albania</td>\n",
       "      <td>0</td>\n",
       "      <td>2020-01-22</td>\n",
       "      <td>0.0</td>\n",
       "      <td>0.0</td>\n",
       "      <td>0.0</td>\n",
       "    </tr>\n",
       "    <tr>\n",
       "      <th>2</th>\n",
       "      <td>2</td>\n",
       "      <td>Algeria</td>\n",
       "      <td>0</td>\n",
       "      <td>2020-01-22</td>\n",
       "      <td>0.0</td>\n",
       "      <td>0.0</td>\n",
       "      <td>0.0</td>\n",
       "    </tr>\n",
       "    <tr>\n",
       "      <th>3</th>\n",
       "      <td>3</td>\n",
       "      <td>Andorra</td>\n",
       "      <td>0</td>\n",
       "      <td>2020-01-22</td>\n",
       "      <td>0.0</td>\n",
       "      <td>0.0</td>\n",
       "      <td>0.0</td>\n",
       "    </tr>\n",
       "    <tr>\n",
       "      <th>4</th>\n",
       "      <td>4</td>\n",
       "      <td>Angola</td>\n",
       "      <td>0</td>\n",
       "      <td>2020-01-22</td>\n",
       "      <td>0.0</td>\n",
       "      <td>0.0</td>\n",
       "      <td>0.0</td>\n",
       "    </tr>\n",
       "  </tbody>\n",
       "</table>\n",
       "</div>"
      ],
      "text/plain": [
       "   Unnamed: 0      country province        date  confirmed  recovered  deaths\n",
       "0           0  Afghanistan        0  2020-01-22        0.0        0.0     0.0\n",
       "1           1      Albania        0  2020-01-22        0.0        0.0     0.0\n",
       "2           2      Algeria        0  2020-01-22        0.0        0.0     0.0\n",
       "3           3      Andorra        0  2020-01-22        0.0        0.0     0.0\n",
       "4           4       Angola        0  2020-01-22        0.0        0.0     0.0"
      ]
     },
     "execution_count": 2,
     "metadata": {},
     "output_type": "execute_result"
    }
   ],
   "source": [
    "df.head()"
   ]
  },
  {
   "cell_type": "code",
   "execution_count": 3,
   "metadata": {},
   "outputs": [
    {
     "data": {
      "text/html": [
       "<div>\n",
       "<style scoped>\n",
       "    .dataframe tbody tr th:only-of-type {\n",
       "        vertical-align: middle;\n",
       "    }\n",
       "\n",
       "    .dataframe tbody tr th {\n",
       "        vertical-align: top;\n",
       "    }\n",
       "\n",
       "    .dataframe thead th {\n",
       "        text-align: right;\n",
       "    }\n",
       "</style>\n",
       "<table border=\"1\" class=\"dataframe\">\n",
       "  <thead>\n",
       "    <tr style=\"text-align: right;\">\n",
       "      <th></th>\n",
       "      <th>country</th>\n",
       "      <th>region</th>\n",
       "      <th>climate</th>\n",
       "    </tr>\n",
       "  </thead>\n",
       "  <tbody>\n",
       "    <tr>\n",
       "      <th>0</th>\n",
       "      <td>Afghanistan</td>\n",
       "      <td>Asia &amp; Pacific</td>\n",
       "      <td>nontropic</td>\n",
       "    </tr>\n",
       "    <tr>\n",
       "      <th>1</th>\n",
       "      <td>Albania</td>\n",
       "      <td>Europe</td>\n",
       "      <td>nontropic</td>\n",
       "    </tr>\n",
       "    <tr>\n",
       "      <th>2</th>\n",
       "      <td>Algeria</td>\n",
       "      <td>Arab States</td>\n",
       "      <td>nontropic</td>\n",
       "    </tr>\n",
       "    <tr>\n",
       "      <th>3</th>\n",
       "      <td>Andorra</td>\n",
       "      <td>Europe</td>\n",
       "      <td>nontropic</td>\n",
       "    </tr>\n",
       "    <tr>\n",
       "      <th>4</th>\n",
       "      <td>Angola</td>\n",
       "      <td>Africa</td>\n",
       "      <td>tropic</td>\n",
       "    </tr>\n",
       "  </tbody>\n",
       "</table>\n",
       "</div>"
      ],
      "text/plain": [
       "       country          region    climate\n",
       "0  Afghanistan  Asia & Pacific  nontropic\n",
       "1      Albania          Europe  nontropic\n",
       "2      Algeria     Arab States  nontropic\n",
       "3      Andorra          Europe  nontropic\n",
       "4       Angola          Africa     tropic"
      ]
     },
     "execution_count": 3,
     "metadata": {},
     "output_type": "execute_result"
    }
   ],
   "source": [
    "df_cat.head()"
   ]
  },
  {
   "cell_type": "code",
   "execution_count": 4,
   "metadata": {},
   "outputs": [
    {
     "data": {
      "text/plain": [
       "(175840, 7)"
      ]
     },
     "execution_count": 4,
     "metadata": {},
     "output_type": "execute_result"
    }
   ],
   "source": [
    "df.shape"
   ]
  },
  {
   "cell_type": "code",
   "execution_count": 5,
   "metadata": {},
   "outputs": [
    {
     "data": {
      "text/plain": [
       "195"
      ]
     },
     "execution_count": 5,
     "metadata": {},
     "output_type": "execute_result"
    }
   ],
   "source": [
    "df['country'].nunique()"
   ]
  },
  {
   "cell_type": "code",
   "execution_count": 6,
   "metadata": {},
   "outputs": [
    {
     "name": "stdout",
     "output_type": "stream",
     "text": [
      "Number of days of observation : 628\n",
      "First date of observation : 2020-01-22 00:00:00\n",
      "Last date of observation : 2021-10-10 00:00:00\n"
     ]
    }
   ],
   "source": [
    "df['date']=pd.to_datetime(df['date'])\n",
    "print('Number of days of observation :', df['date'].nunique())\n",
    "print('First date of observation :', df['date'].min())\n",
    "print('Last date of observation :', df['date'].max())"
   ]
  },
  {
   "cell_type": "markdown",
   "metadata": {},
   "source": [
    "### The covid data that we have consists of 7 feature columns and 175840 rows of data. Our data contains data from 195 different countries from the results of observations for 628 days starting from January 22, 2020 to October 10, 2021."
   ]
  },
  {
   "cell_type": "markdown",
   "metadata": {},
   "source": [
    " "
   ]
  },
  {
   "cell_type": "markdown",
   "metadata": {},
   "source": [
    "# 2. Data Cleaning and Feature Engineering"
   ]
  },
  {
   "cell_type": "markdown",
   "metadata": {},
   "source": [
    "## We change some data in the 'country' column so that there are no different names for the same country."
   ]
  },
  {
   "cell_type": "code",
   "execution_count": 7,
   "metadata": {},
   "outputs": [],
   "source": [
    "df = df.replace({'country':{\"('St. Martin',)\":'St. Martin',\n",
    "' Azerbaijan':'Azerbaijan',\n",
    "'Cabo Verde':'Cape Verde',\n",
    "'Congo (Brazzaville)':'Congo',\n",
    "'Congo (Kinshasa)':'Congo',\n",
    "'North Ireland':'Ireland',\n",
    "'North Macedonia':'Macedonia',\n",
    "'occupied Palestinian territory':'Palestine',\n",
    "'Holy See':'Vatican',\n",
    "'Republic of Ireland':'Ireland',\n",
    "'The Bahamas':'Bahamas',\n",
    "'The Gambia':'Gambia',\n",
    "'Bahamas, The':'Bahamas',\n",
    "'Gambia, The':'Gambia',\n",
    "'Vatican City':'Vatican',\n",
    "'East Timor':'Timor-Leste',\n",
    "'West Bank and Gaza':'Palestine',\n",
    "'MS Zaandam':'Others',\n",
    "'Diamond Princess':'Others'}})"
   ]
  },
  {
   "cell_type": "markdown",
   "metadata": {},
   "source": [
    "## Several 'countries' in the 'df' dataframe have daily data divided into several 'provinces'. We accumulated the 'confirmed', 'deaths', and 'recovered' data for these provinces so that the daily data for each country is only represented by 1 row by creating a new dataframe 'df_new'."
   ]
  },
  {
   "cell_type": "code",
   "execution_count": 8,
   "metadata": {},
   "outputs": [
    {
     "data": {
      "text/html": [
       "<div>\n",
       "<style scoped>\n",
       "    .dataframe tbody tr th:only-of-type {\n",
       "        vertical-align: middle;\n",
       "    }\n",
       "\n",
       "    .dataframe tbody tr th {\n",
       "        vertical-align: top;\n",
       "    }\n",
       "\n",
       "    .dataframe thead th {\n",
       "        text-align: right;\n",
       "    }\n",
       "</style>\n",
       "<table border=\"1\" class=\"dataframe\">\n",
       "  <thead>\n",
       "    <tr style=\"text-align: right;\">\n",
       "      <th></th>\n",
       "      <th>country</th>\n",
       "      <th>date</th>\n",
       "      <th>confirmed</th>\n",
       "      <th>deaths</th>\n",
       "      <th>recovered</th>\n",
       "    </tr>\n",
       "  </thead>\n",
       "  <tbody>\n",
       "    <tr>\n",
       "      <th>121184</th>\n",
       "      <td>Zimbabwe</td>\n",
       "      <td>2021-09-21</td>\n",
       "      <td>128186.0</td>\n",
       "      <td>4569.0</td>\n",
       "      <td>0.0</td>\n",
       "    </tr>\n",
       "    <tr>\n",
       "      <th>121185</th>\n",
       "      <td>Zimbabwe</td>\n",
       "      <td>2021-09-22</td>\n",
       "      <td>128804.0</td>\n",
       "      <td>4592.0</td>\n",
       "      <td>0.0</td>\n",
       "    </tr>\n",
       "    <tr>\n",
       "      <th>121186</th>\n",
       "      <td>Zimbabwe</td>\n",
       "      <td>2021-09-23</td>\n",
       "      <td>129134.0</td>\n",
       "      <td>4600.0</td>\n",
       "      <td>0.0</td>\n",
       "    </tr>\n",
       "    <tr>\n",
       "      <th>121187</th>\n",
       "      <td>Zimbabwe</td>\n",
       "      <td>2021-09-24</td>\n",
       "      <td>129134.0</td>\n",
       "      <td>4600.0</td>\n",
       "      <td>0.0</td>\n",
       "    </tr>\n",
       "    <tr>\n",
       "      <th>121188</th>\n",
       "      <td>Zimbabwe</td>\n",
       "      <td>2021-09-25</td>\n",
       "      <td>129505.0</td>\n",
       "      <td>4603.0</td>\n",
       "      <td>0.0</td>\n",
       "    </tr>\n",
       "    <tr>\n",
       "      <th>121189</th>\n",
       "      <td>Zimbabwe</td>\n",
       "      <td>2021-09-26</td>\n",
       "      <td>129625.0</td>\n",
       "      <td>4604.0</td>\n",
       "      <td>0.0</td>\n",
       "    </tr>\n",
       "    <tr>\n",
       "      <th>121190</th>\n",
       "      <td>Zimbabwe</td>\n",
       "      <td>2021-09-27</td>\n",
       "      <td>129919.0</td>\n",
       "      <td>4607.0</td>\n",
       "      <td>0.0</td>\n",
       "    </tr>\n",
       "    <tr>\n",
       "      <th>121191</th>\n",
       "      <td>Zimbabwe</td>\n",
       "      <td>2021-09-28</td>\n",
       "      <td>130272.0</td>\n",
       "      <td>4615.0</td>\n",
       "      <td>0.0</td>\n",
       "    </tr>\n",
       "    <tr>\n",
       "      <th>121192</th>\n",
       "      <td>Zimbabwe</td>\n",
       "      <td>2021-09-29</td>\n",
       "      <td>130485.0</td>\n",
       "      <td>4616.0</td>\n",
       "      <td>0.0</td>\n",
       "    </tr>\n",
       "    <tr>\n",
       "      <th>121193</th>\n",
       "      <td>Zimbabwe</td>\n",
       "      <td>2021-09-30</td>\n",
       "      <td>130820.0</td>\n",
       "      <td>4623.0</td>\n",
       "      <td>0.0</td>\n",
       "    </tr>\n",
       "    <tr>\n",
       "      <th>121194</th>\n",
       "      <td>Zimbabwe</td>\n",
       "      <td>2021-10-01</td>\n",
       "      <td>131028.0</td>\n",
       "      <td>4624.0</td>\n",
       "      <td>0.0</td>\n",
       "    </tr>\n",
       "    <tr>\n",
       "      <th>121195</th>\n",
       "      <td>Zimbabwe</td>\n",
       "      <td>2021-10-02</td>\n",
       "      <td>131094.0</td>\n",
       "      <td>4625.0</td>\n",
       "      <td>0.0</td>\n",
       "    </tr>\n",
       "    <tr>\n",
       "      <th>121196</th>\n",
       "      <td>Zimbabwe</td>\n",
       "      <td>2021-10-03</td>\n",
       "      <td>131129.0</td>\n",
       "      <td>4627.0</td>\n",
       "      <td>0.0</td>\n",
       "    </tr>\n",
       "    <tr>\n",
       "      <th>121197</th>\n",
       "      <td>Zimbabwe</td>\n",
       "      <td>2021-10-04</td>\n",
       "      <td>131129.0</td>\n",
       "      <td>4627.0</td>\n",
       "      <td>0.0</td>\n",
       "    </tr>\n",
       "    <tr>\n",
       "      <th>121198</th>\n",
       "      <td>Zimbabwe</td>\n",
       "      <td>2021-10-05</td>\n",
       "      <td>131205.0</td>\n",
       "      <td>4627.0</td>\n",
       "      <td>0.0</td>\n",
       "    </tr>\n",
       "    <tr>\n",
       "      <th>121199</th>\n",
       "      <td>Zimbabwe</td>\n",
       "      <td>2021-10-06</td>\n",
       "      <td>131434.0</td>\n",
       "      <td>4630.0</td>\n",
       "      <td>0.0</td>\n",
       "    </tr>\n",
       "    <tr>\n",
       "      <th>121200</th>\n",
       "      <td>Zimbabwe</td>\n",
       "      <td>2021-10-07</td>\n",
       "      <td>131523.0</td>\n",
       "      <td>4631.0</td>\n",
       "      <td>0.0</td>\n",
       "    </tr>\n",
       "    <tr>\n",
       "      <th>121201</th>\n",
       "      <td>Zimbabwe</td>\n",
       "      <td>2021-10-08</td>\n",
       "      <td>131705.0</td>\n",
       "      <td>4634.0</td>\n",
       "      <td>0.0</td>\n",
       "    </tr>\n",
       "    <tr>\n",
       "      <th>121202</th>\n",
       "      <td>Zimbabwe</td>\n",
       "      <td>2021-10-09</td>\n",
       "      <td>131762.0</td>\n",
       "      <td>4636.0</td>\n",
       "      <td>0.0</td>\n",
       "    </tr>\n",
       "    <tr>\n",
       "      <th>121203</th>\n",
       "      <td>Zimbabwe</td>\n",
       "      <td>2021-10-10</td>\n",
       "      <td>131796.0</td>\n",
       "      <td>4637.0</td>\n",
       "      <td>0.0</td>\n",
       "    </tr>\n",
       "  </tbody>\n",
       "</table>\n",
       "</div>"
      ],
      "text/plain": [
       "         country       date  confirmed  deaths  recovered\n",
       "121184  Zimbabwe 2021-09-21   128186.0  4569.0        0.0\n",
       "121185  Zimbabwe 2021-09-22   128804.0  4592.0        0.0\n",
       "121186  Zimbabwe 2021-09-23   129134.0  4600.0        0.0\n",
       "121187  Zimbabwe 2021-09-24   129134.0  4600.0        0.0\n",
       "121188  Zimbabwe 2021-09-25   129505.0  4603.0        0.0\n",
       "121189  Zimbabwe 2021-09-26   129625.0  4604.0        0.0\n",
       "121190  Zimbabwe 2021-09-27   129919.0  4607.0        0.0\n",
       "121191  Zimbabwe 2021-09-28   130272.0  4615.0        0.0\n",
       "121192  Zimbabwe 2021-09-29   130485.0  4616.0        0.0\n",
       "121193  Zimbabwe 2021-09-30   130820.0  4623.0        0.0\n",
       "121194  Zimbabwe 2021-10-01   131028.0  4624.0        0.0\n",
       "121195  Zimbabwe 2021-10-02   131094.0  4625.0        0.0\n",
       "121196  Zimbabwe 2021-10-03   131129.0  4627.0        0.0\n",
       "121197  Zimbabwe 2021-10-04   131129.0  4627.0        0.0\n",
       "121198  Zimbabwe 2021-10-05   131205.0  4627.0        0.0\n",
       "121199  Zimbabwe 2021-10-06   131434.0  4630.0        0.0\n",
       "121200  Zimbabwe 2021-10-07   131523.0  4631.0        0.0\n",
       "121201  Zimbabwe 2021-10-08   131705.0  4634.0        0.0\n",
       "121202  Zimbabwe 2021-10-09   131762.0  4636.0        0.0\n",
       "121203  Zimbabwe 2021-10-10   131796.0  4637.0        0.0"
      ]
     },
     "execution_count": 8,
     "metadata": {},
     "output_type": "execute_result"
    }
   ],
   "source": [
    "df_new = df.groupby(['country','date'])[['confirmed','deaths','recovered']].sum()\n",
    "df_new=df_new.reset_index()\n",
    "df_new.tail(20)"
   ]
  },
  {
   "cell_type": "markdown",
   "metadata": {},
   "source": [
    "## We add the 'region' and 'climate' column to 'df_new' and fill it with region and climate for each country with reference to 'df_cat'.\n"
   ]
  },
  {
   "cell_type": "code",
   "execution_count": 9,
   "metadata": {
    "scrolled": true
   },
   "outputs": [
    {
     "data": {
      "text/html": [
       "<div>\n",
       "<style scoped>\n",
       "    .dataframe tbody tr th:only-of-type {\n",
       "        vertical-align: middle;\n",
       "    }\n",
       "\n",
       "    .dataframe tbody tr th {\n",
       "        vertical-align: top;\n",
       "    }\n",
       "\n",
       "    .dataframe thead th {\n",
       "        text-align: right;\n",
       "    }\n",
       "</style>\n",
       "<table border=\"1\" class=\"dataframe\">\n",
       "  <thead>\n",
       "    <tr style=\"text-align: right;\">\n",
       "      <th></th>\n",
       "      <th>country</th>\n",
       "      <th>date</th>\n",
       "      <th>confirmed</th>\n",
       "      <th>deaths</th>\n",
       "      <th>recovered</th>\n",
       "      <th>region</th>\n",
       "      <th>climate</th>\n",
       "    </tr>\n",
       "  </thead>\n",
       "  <tbody>\n",
       "    <tr>\n",
       "      <th>0</th>\n",
       "      <td>Afghanistan</td>\n",
       "      <td>2020-01-22</td>\n",
       "      <td>0.0</td>\n",
       "      <td>0.0</td>\n",
       "      <td>0.0</td>\n",
       "      <td>Asia &amp; Pacific</td>\n",
       "      <td>nontropic</td>\n",
       "    </tr>\n",
       "    <tr>\n",
       "      <th>1</th>\n",
       "      <td>Afghanistan</td>\n",
       "      <td>2020-01-23</td>\n",
       "      <td>0.0</td>\n",
       "      <td>0.0</td>\n",
       "      <td>0.0</td>\n",
       "      <td>Asia &amp; Pacific</td>\n",
       "      <td>nontropic</td>\n",
       "    </tr>\n",
       "    <tr>\n",
       "      <th>2</th>\n",
       "      <td>Afghanistan</td>\n",
       "      <td>2020-01-24</td>\n",
       "      <td>0.0</td>\n",
       "      <td>0.0</td>\n",
       "      <td>0.0</td>\n",
       "      <td>Asia &amp; Pacific</td>\n",
       "      <td>nontropic</td>\n",
       "    </tr>\n",
       "    <tr>\n",
       "      <th>3</th>\n",
       "      <td>Afghanistan</td>\n",
       "      <td>2020-01-25</td>\n",
       "      <td>0.0</td>\n",
       "      <td>0.0</td>\n",
       "      <td>0.0</td>\n",
       "      <td>Asia &amp; Pacific</td>\n",
       "      <td>nontropic</td>\n",
       "    </tr>\n",
       "    <tr>\n",
       "      <th>4</th>\n",
       "      <td>Afghanistan</td>\n",
       "      <td>2020-01-26</td>\n",
       "      <td>0.0</td>\n",
       "      <td>0.0</td>\n",
       "      <td>0.0</td>\n",
       "      <td>Asia &amp; Pacific</td>\n",
       "      <td>nontropic</td>\n",
       "    </tr>\n",
       "  </tbody>\n",
       "</table>\n",
       "</div>"
      ],
      "text/plain": [
       "       country       date  confirmed  deaths  recovered          region  \\\n",
       "0  Afghanistan 2020-01-22        0.0     0.0        0.0  Asia & Pacific   \n",
       "1  Afghanistan 2020-01-23        0.0     0.0        0.0  Asia & Pacific   \n",
       "2  Afghanistan 2020-01-24        0.0     0.0        0.0  Asia & Pacific   \n",
       "3  Afghanistan 2020-01-25        0.0     0.0        0.0  Asia & Pacific   \n",
       "4  Afghanistan 2020-01-26        0.0     0.0        0.0  Asia & Pacific   \n",
       "\n",
       "     climate  \n",
       "0  nontropic  \n",
       "1  nontropic  \n",
       "2  nontropic  \n",
       "3  nontropic  \n",
       "4  nontropic  "
      ]
     },
     "execution_count": 9,
     "metadata": {},
     "output_type": "execute_result"
    }
   ],
   "source": [
    "df_new = pd.merge(df_new,df_cat,on='country',how='left')\n",
    "df_new.head()"
   ]
  },
  {
   "cell_type": "markdown",
   "metadata": {},
   "source": [
    "## Here we will save the process and try to filter the data based on the observation time.\n",
    "\n",
    "## We filter 'df_new' so that it only includes data on March 1, 2020 - December 13, 2020. We drop all rows in 'df_new' whose data 'confirmed' is below 100. Drop all rows whose data is 'region' or 'climate' the NaN on 'df_new'.\n"
   ]
  },
  {
   "cell_type": "code",
   "execution_count": 10,
   "metadata": {
    "scrolled": true
   },
   "outputs": [
    {
     "data": {
      "text/html": [
       "<div>\n",
       "<style scoped>\n",
       "    .dataframe tbody tr th:only-of-type {\n",
       "        vertical-align: middle;\n",
       "    }\n",
       "\n",
       "    .dataframe tbody tr th {\n",
       "        vertical-align: top;\n",
       "    }\n",
       "\n",
       "    .dataframe thead th {\n",
       "        text-align: right;\n",
       "    }\n",
       "</style>\n",
       "<table border=\"1\" class=\"dataframe\">\n",
       "  <thead>\n",
       "    <tr style=\"text-align: right;\">\n",
       "      <th></th>\n",
       "      <th>country</th>\n",
       "      <th>date</th>\n",
       "      <th>confirmed</th>\n",
       "      <th>deaths</th>\n",
       "      <th>recovered</th>\n",
       "      <th>region</th>\n",
       "      <th>climate</th>\n",
       "    </tr>\n",
       "  </thead>\n",
       "  <tbody>\n",
       "    <tr>\n",
       "      <th>66</th>\n",
       "      <td>Afghanistan</td>\n",
       "      <td>2020-03-28</td>\n",
       "      <td>106.0</td>\n",
       "      <td>2.0</td>\n",
       "      <td>2.0</td>\n",
       "      <td>Asia &amp; Pacific</td>\n",
       "      <td>nontropic</td>\n",
       "    </tr>\n",
       "    <tr>\n",
       "      <th>67</th>\n",
       "      <td>Afghanistan</td>\n",
       "      <td>2020-03-29</td>\n",
       "      <td>114.0</td>\n",
       "      <td>4.0</td>\n",
       "      <td>2.0</td>\n",
       "      <td>Asia &amp; Pacific</td>\n",
       "      <td>nontropic</td>\n",
       "    </tr>\n",
       "    <tr>\n",
       "      <th>68</th>\n",
       "      <td>Afghanistan</td>\n",
       "      <td>2020-03-30</td>\n",
       "      <td>114.0</td>\n",
       "      <td>4.0</td>\n",
       "      <td>2.0</td>\n",
       "      <td>Asia &amp; Pacific</td>\n",
       "      <td>nontropic</td>\n",
       "    </tr>\n",
       "    <tr>\n",
       "      <th>69</th>\n",
       "      <td>Afghanistan</td>\n",
       "      <td>2020-03-31</td>\n",
       "      <td>166.0</td>\n",
       "      <td>4.0</td>\n",
       "      <td>5.0</td>\n",
       "      <td>Asia &amp; Pacific</td>\n",
       "      <td>nontropic</td>\n",
       "    </tr>\n",
       "    <tr>\n",
       "      <th>70</th>\n",
       "      <td>Afghanistan</td>\n",
       "      <td>2020-04-01</td>\n",
       "      <td>192.0</td>\n",
       "      <td>4.0</td>\n",
       "      <td>5.0</td>\n",
       "      <td>Asia &amp; Pacific</td>\n",
       "      <td>nontropic</td>\n",
       "    </tr>\n",
       "  </tbody>\n",
       "</table>\n",
       "</div>"
      ],
      "text/plain": [
       "        country       date  confirmed  deaths  recovered          region  \\\n",
       "66  Afghanistan 2020-03-28      106.0     2.0        2.0  Asia & Pacific   \n",
       "67  Afghanistan 2020-03-29      114.0     4.0        2.0  Asia & Pacific   \n",
       "68  Afghanistan 2020-03-30      114.0     4.0        2.0  Asia & Pacific   \n",
       "69  Afghanistan 2020-03-31      166.0     4.0        5.0  Asia & Pacific   \n",
       "70  Afghanistan 2020-04-01      192.0     4.0        5.0  Asia & Pacific   \n",
       "\n",
       "      climate  \n",
       "66  nontropic  \n",
       "67  nontropic  \n",
       "68  nontropic  \n",
       "69  nontropic  \n",
       "70  nontropic  "
      ]
     },
     "execution_count": 10,
     "metadata": {},
     "output_type": "execute_result"
    }
   ],
   "source": [
    "start_date = \"2020-3-1\"\n",
    "end_date = \"2020-12-13\"\n",
    "after_start_date = df_new[\"date\"] >= start_date\n",
    "before_end_date = df_new[\"date\"] <= end_date\n",
    "confirmed_more = df_new['confirmed']>=100\n",
    "filtered_data = after_start_date & before_end_date & confirmed_more\n",
    "df_new = df_new.loc[filtered_data]\n",
    "df_new = df_new.dropna(subset = ['region', 'climate'])\n",
    "df_new.head()"
   ]
  },
  {
   "cell_type": "markdown",
   "metadata": {},
   "source": [
    " "
   ]
  },
  {
   "cell_type": "markdown",
   "metadata": {},
   "source": [
    "# 3. Exploratory Data Analysis (EDA) dan Visualization"
   ]
  },
  {
   "cell_type": "markdown",
   "metadata": {},
   "source": [
    "## 3.1. Data plot of confirmed Covid people for each region"
   ]
  },
  {
   "cell_type": "code",
   "execution_count": 11,
   "metadata": {},
   "outputs": [
    {
     "data": {
      "text/plain": [
       "Text(0, 0.5, 'Confirmed')"
      ]
     },
     "execution_count": 11,
     "metadata": {},
     "output_type": "execute_result"
    },
    {
     "data": {
      "image/png": "[encoded data removed]",
      "text/plain": [
       "<Figure size 1080x504 with 1 Axes>"
      ]
     },
     "metadata": {
      "needs_background": "light"
     },
     "output_type": "display_data"
    }
   ],
   "source": [
    "fig, ax = plt.subplots(figsize=(15,7))\n",
    "# use unstack()\n",
    "df_new.groupby(['date','region'])[['confirmed']].sum().unstack().plot(ax=ax)\n",
    "ax.set_xlabel('Date')\n",
    "ax.set_ylabel('Confirmed')\n",
    "\n",
    "# plotted on the y-axis times 1e7 or 10^7"
   ]
  },
  {
   "cell_type": "markdown",
   "metadata": {},
   "source": [
    "## 3.2. Plot of confirmed Covid-19 people for each climate group"
   ]
  },
  {
   "cell_type": "code",
   "execution_count": 12,
   "metadata": {},
   "outputs": [
    {
     "data": {
      "text/plain": [
       "Text(0, 0.5, 'Confirmed')"
      ]
     },
     "execution_count": 12,
     "metadata": {},
     "output_type": "execute_result"
    },
    {
     "data": {
      "image/png": "[encoded data removed]",
      "text/plain": [
       "<Figure size 1080x504 with 1 Axes>"
      ]
     },
     "metadata": {
      "needs_background": "light"
     },
     "output_type": "display_data"
    }
   ],
   "source": [
    "fig, ax = plt.subplots(figsize=(15,7))\n",
    "# use unstack()\n",
    "df_new.groupby(['date','climate'])[['confirmed']].sum().unstack().plot(ax=ax)\n",
    "ax.set_xlabel('Date')\n",
    "ax.set_ylabel('Confirmed')\n",
    "\n",
    "# plotted on the y-axis times 1e7 or 10^7"
   ]
  },
  {
   "cell_type": "markdown",
   "metadata": {},
   "source": [
    "## 3.3 List of 10 countries with the highest number of deaths from cases on the last date in the previous filtered data."
   ]
  },
  {
   "cell_type": "code",
   "execution_count": 13,
   "metadata": {},
   "outputs": [
    {
     "data": {
      "text/html": [
       "<div>\n",
       "<style scoped>\n",
       "    .dataframe tbody tr th:only-of-type {\n",
       "        vertical-align: middle;\n",
       "    }\n",
       "\n",
       "    .dataframe tbody tr th {\n",
       "        vertical-align: top;\n",
       "    }\n",
       "\n",
       "    .dataframe thead th {\n",
       "        text-align: right;\n",
       "    }\n",
       "</style>\n",
       "<table border=\"1\" class=\"dataframe\">\n",
       "  <thead>\n",
       "    <tr style=\"text-align: right;\">\n",
       "      <th></th>\n",
       "      <th>country</th>\n",
       "      <th>confirmed</th>\n",
       "      <th>deaths</th>\n",
       "      <th>recovered</th>\n",
       "      <th>region</th>\n",
       "      <th>climate</th>\n",
       "    </tr>\n",
       "  </thead>\n",
       "  <tbody>\n",
       "    <tr>\n",
       "      <th>326</th>\n",
       "      <td>Afghanistan</td>\n",
       "      <td>48952.0</td>\n",
       "      <td>1960.0</td>\n",
       "      <td>38250.0</td>\n",
       "      <td>Asia &amp; Pacific</td>\n",
       "      <td>nontropic</td>\n",
       "    </tr>\n",
       "    <tr>\n",
       "      <th>954</th>\n",
       "      <td>Albania</td>\n",
       "      <td>48530.0</td>\n",
       "      <td>1003.0</td>\n",
       "      <td>24820.0</td>\n",
       "      <td>Europe</td>\n",
       "      <td>nontropic</td>\n",
       "    </tr>\n",
       "    <tr>\n",
       "      <th>1582</th>\n",
       "      <td>Algeria</td>\n",
       "      <td>92102.0</td>\n",
       "      <td>2596.0</td>\n",
       "      <td>60457.0</td>\n",
       "      <td>Arab States</td>\n",
       "      <td>nontropic</td>\n",
       "    </tr>\n",
       "    <tr>\n",
       "      <th>2210</th>\n",
       "      <td>Andorra</td>\n",
       "      <td>7338.0</td>\n",
       "      <td>79.0</td>\n",
       "      <td>6629.0</td>\n",
       "      <td>Europe</td>\n",
       "      <td>nontropic</td>\n",
       "    </tr>\n",
       "    <tr>\n",
       "      <th>2838</th>\n",
       "      <td>Angola</td>\n",
       "      <td>16188.0</td>\n",
       "      <td>371.0</td>\n",
       "      <td>8898.0</td>\n",
       "      <td>Africa</td>\n",
       "      <td>tropic</td>\n",
       "    </tr>\n",
       "  </tbody>\n",
       "</table>\n",
       "</div>"
      ],
      "text/plain": [
       "          country  confirmed  deaths  recovered          region    climate\n",
       "326   Afghanistan    48952.0  1960.0    38250.0  Asia & Pacific  nontropic\n",
       "954       Albania    48530.0  1003.0    24820.0          Europe  nontropic\n",
       "1582      Algeria    92102.0  2596.0    60457.0     Arab States  nontropic\n",
       "2210      Andorra     7338.0    79.0     6629.0          Europe  nontropic\n",
       "2838       Angola    16188.0   371.0     8898.0          Africa     tropic"
      ]
     },
     "execution_count": 13,
     "metadata": {},
     "output_type": "execute_result"
    }
   ],
   "source": [
    "# We create a dataframe 'df_last' which only contains the last date data from 'df_new',\n",
    "# where each row shows 'confirmed', 'deaths', 'recovered', 'region', and 'climate' data for 1 country.\n",
    "df_last = df_new[df_new['date']==\"2020-12-13\"]\n",
    "df_last = df_last.drop(['date'],axis=1)\n",
    "df_last.head()"
   ]
  },
  {
   "cell_type": "code",
   "execution_count": 14,
   "metadata": {},
   "outputs": [
    {
     "data": {
      "text/plain": [
       "Text(0, 0.5, 'Deaths')"
      ]
     },
     "execution_count": 14,
     "metadata": {},
     "output_type": "execute_result"
    },
    {
     "data": {
      "image/png": "[encoded data removed]",
      "text/plain": [
       "<Figure size 1008x576 with 1 Axes>"
      ]
     },
     "metadata": {
      "needs_background": "light"
     },
     "output_type": "display_data"
    }
   ],
   "source": [
    "# Based on df_last, we identify 10 countries with the highest 'deaths' data. Make the barplot.\n",
    "\n",
    "df_last_top10 = df_last.sort_values(by=['deaths'], ascending=False).head(10)\n",
    "\n",
    "fig,ax = plt.subplots(figsize=(14,8))\n",
    "plt.bar(df_last_top10['country'],df_last_top10['deaths'])\n",
    "ax.set_xlabel('Country')\n",
    "ax.set_ylabel('Deaths')"
   ]
  },
  {
   "cell_type": "markdown",
   "metadata": {},
   "source": [
    "## Adding a new column to the previous data containing some calculations:\n",
    "\n",
    "### 1. Column 'active_case' which is the result of calculation 'confirmed' minus 'recovered' and 'deaths'.\n",
    "### 2. Column 'active_case_%' which is the result of calculation 'active_case' divided by 'confirmed' times 100.\n",
    "### 3. Column 'deaths_%' which is the result of the calculation of 'deaths' divided by 'confirmed' times 100.\n",
    "### 4. Column 'recovered_%' which is the result of calculation 'recovered' divided by 'confirmed' times 100."
   ]
  },
  {
   "cell_type": "markdown",
   "metadata": {},
   "source": [
    " "
   ]
  },
  {
   "cell_type": "code",
   "execution_count": 15,
   "metadata": {},
   "outputs": [
    {
     "data": {
      "text/html": [
       "<div>\n",
       "<style scoped>\n",
       "    .dataframe tbody tr th:only-of-type {\n",
       "        vertical-align: middle;\n",
       "    }\n",
       "\n",
       "    .dataframe tbody tr th {\n",
       "        vertical-align: top;\n",
       "    }\n",
       "\n",
       "    .dataframe thead th {\n",
       "        text-align: right;\n",
       "    }\n",
       "</style>\n",
       "<table border=\"1\" class=\"dataframe\">\n",
       "  <thead>\n",
       "    <tr style=\"text-align: right;\">\n",
       "      <th></th>\n",
       "      <th>country</th>\n",
       "      <th>confirmed</th>\n",
       "      <th>deaths</th>\n",
       "      <th>recovered</th>\n",
       "      <th>region</th>\n",
       "      <th>climate</th>\n",
       "      <th>active_case</th>\n",
       "      <th>active_case_%</th>\n",
       "      <th>deaths_%</th>\n",
       "      <th>recovered_%</th>\n",
       "    </tr>\n",
       "  </thead>\n",
       "  <tbody>\n",
       "    <tr>\n",
       "      <th>326</th>\n",
       "      <td>Afghanistan</td>\n",
       "      <td>48952.0</td>\n",
       "      <td>1960.0</td>\n",
       "      <td>38250.0</td>\n",
       "      <td>Asia &amp; Pacific</td>\n",
       "      <td>nontropic</td>\n",
       "      <td>8742.0</td>\n",
       "      <td>17.858310</td>\n",
       "      <td>4.003922</td>\n",
       "      <td>78.137768</td>\n",
       "    </tr>\n",
       "    <tr>\n",
       "      <th>954</th>\n",
       "      <td>Albania</td>\n",
       "      <td>48530.0</td>\n",
       "      <td>1003.0</td>\n",
       "      <td>24820.0</td>\n",
       "      <td>Europe</td>\n",
       "      <td>nontropic</td>\n",
       "      <td>22707.0</td>\n",
       "      <td>46.789615</td>\n",
       "      <td>2.066763</td>\n",
       "      <td>51.143623</td>\n",
       "    </tr>\n",
       "    <tr>\n",
       "      <th>1582</th>\n",
       "      <td>Algeria</td>\n",
       "      <td>92102.0</td>\n",
       "      <td>2596.0</td>\n",
       "      <td>60457.0</td>\n",
       "      <td>Arab States</td>\n",
       "      <td>nontropic</td>\n",
       "      <td>29049.0</td>\n",
       "      <td>31.540032</td>\n",
       "      <td>2.818614</td>\n",
       "      <td>65.641354</td>\n",
       "    </tr>\n",
       "    <tr>\n",
       "      <th>2210</th>\n",
       "      <td>Andorra</td>\n",
       "      <td>7338.0</td>\n",
       "      <td>79.0</td>\n",
       "      <td>6629.0</td>\n",
       "      <td>Europe</td>\n",
       "      <td>nontropic</td>\n",
       "      <td>630.0</td>\n",
       "      <td>8.585446</td>\n",
       "      <td>1.076588</td>\n",
       "      <td>90.337967</td>\n",
       "    </tr>\n",
       "    <tr>\n",
       "      <th>2838</th>\n",
       "      <td>Angola</td>\n",
       "      <td>16188.0</td>\n",
       "      <td>371.0</td>\n",
       "      <td>8898.0</td>\n",
       "      <td>Africa</td>\n",
       "      <td>tropic</td>\n",
       "      <td>6919.0</td>\n",
       "      <td>42.741537</td>\n",
       "      <td>2.291821</td>\n",
       "      <td>54.966642</td>\n",
       "    </tr>\n",
       "  </tbody>\n",
       "</table>\n",
       "</div>"
      ],
      "text/plain": [
       "          country  confirmed  deaths  recovered          region    climate  \\\n",
       "326   Afghanistan    48952.0  1960.0    38250.0  Asia & Pacific  nontropic   \n",
       "954       Albania    48530.0  1003.0    24820.0          Europe  nontropic   \n",
       "1582      Algeria    92102.0  2596.0    60457.0     Arab States  nontropic   \n",
       "2210      Andorra     7338.0    79.0     6629.0          Europe  nontropic   \n",
       "2838       Angola    16188.0   371.0     8898.0          Africa     tropic   \n",
       "\n",
       "      active_case  active_case_%  deaths_%  recovered_%  \n",
       "326        8742.0      17.858310  4.003922    78.137768  \n",
       "954       22707.0      46.789615  2.066763    51.143623  \n",
       "1582      29049.0      31.540032  2.818614    65.641354  \n",
       "2210        630.0       8.585446  1.076588    90.337967  \n",
       "2838       6919.0      42.741537  2.291821    54.966642  "
      ]
     },
     "execution_count": 15,
     "metadata": {},
     "output_type": "execute_result"
    }
   ],
   "source": [
    "df_last['active_case']=df_last['confirmed']-(df_last['recovered']+df_last['deaths'])\n",
    "df_last['active_case_%']=(df_last['active_case']/df_last['confirmed'])*100\n",
    "df_last['deaths_%']=(df_last['deaths']/df_last['confirmed'])*100\n",
    "df_last['recovered_%']=(df_last['recovered']/df_last['confirmed'])*100\n",
    "df_last.head()"
   ]
  },
  {
   "cell_type": "markdown",
   "metadata": {},
   "source": [
    "## 3.5. Scatter matrix plots the percentage of active cases, deaths, and recovered for each region and climate."
   ]
  },
  {
   "cell_type": "code",
   "execution_count": 16,
   "metadata": {
    "scrolled": false
   },
   "outputs": [
    {
     "data": {
      "text/plain": [
       "array([[<AxesSubplot:xlabel='active_case_%', ylabel='active_case_%'>,\n",
       "        <AxesSubplot:xlabel='deaths_%', ylabel='active_case_%'>,\n",
       "        <AxesSubplot:xlabel='recovered_%', ylabel='active_case_%'>],\n",
       "       [<AxesSubplot:xlabel='active_case_%', ylabel='deaths_%'>,\n",
       "        <AxesSubplot:xlabel='deaths_%', ylabel='deaths_%'>,\n",
       "        <AxesSubplot:xlabel='recovered_%', ylabel='deaths_%'>],\n",
       "       [<AxesSubplot:xlabel='active_case_%', ylabel='recovered_%'>,\n",
       "        <AxesSubplot:xlabel='deaths_%', ylabel='recovered_%'>,\n",
       "        <AxesSubplot:xlabel='recovered_%', ylabel='recovered_%'>]],\n",
       "      dtype=object)"
      ]
     },
     "execution_count": 16,
     "metadata": {},
     "output_type": "execute_result"
    },
    {
     "data": {
      "image/png": "[encoded data removed]",
      "text/plain": [
       "<Figure size 1080x576 with 9 Axes>"
      ]
     },
     "metadata": {
      "needs_background": "light"
     },
     "output_type": "display_data"
    }
   ],
   "source": [
    "# We create a scatter matrix based on 'df_last' for\n",
    "# columns 'active_case_%', 'deaths_%', and 'recovered_%' (Scatter plot colors are different by region)\n",
    "\n",
    "from pandas.plotting import scatter_matrix\n",
    "\n",
    "colors_region = {'Europe':'red','Africa':'green','South/Latin America':'blue','Asia & Pacific':'yellow','Middle east':'orange', 'Arab States':'purple', 'North America':'brown'}\n",
    "\n",
    "pd.plotting.scatter_matrix(df_last[['active_case_%','deaths_%','recovered_%']], alpha = 0.5, figsize = (15, 8), diagonal = 'hist', marker='o', c=df_last['region'].map(colors_region))\n"
   ]
  },
  {
   "cell_type": "code",
   "execution_count": 17,
   "metadata": {},
   "outputs": [
    {
     "data": {
      "text/plain": [
       "array([[<AxesSubplot:xlabel='active_case_%', ylabel='active_case_%'>,\n",
       "        <AxesSubplot:xlabel='deaths_%', ylabel='active_case_%'>,\n",
       "        <AxesSubplot:xlabel='recovered_%', ylabel='active_case_%'>],\n",
       "       [<AxesSubplot:xlabel='active_case_%', ylabel='deaths_%'>,\n",
       "        <AxesSubplot:xlabel='deaths_%', ylabel='deaths_%'>,\n",
       "        <AxesSubplot:xlabel='recovered_%', ylabel='deaths_%'>],\n",
       "       [<AxesSubplot:xlabel='active_case_%', ylabel='recovered_%'>,\n",
       "        <AxesSubplot:xlabel='deaths_%', ylabel='recovered_%'>,\n",
       "        <AxesSubplot:xlabel='recovered_%', ylabel='recovered_%'>]],\n",
       "      dtype=object)"
      ]
     },
     "execution_count": 17,
     "metadata": {},
     "output_type": "execute_result"
    },
    {
     "data": {
      "image/png": "[encoded data removed]",
      "text/plain": [
       "<Figure size 1080x576 with 9 Axes>"
      ]
     },
     "metadata": {
      "needs_background": "light"
     },
     "output_type": "display_data"
    }
   ],
   "source": [
    "# We do the same thing by differentiating the color of the scatter plot based on climate.\n",
    "\n",
    "colors_climate = {'nontropic':'red','tropic':'green'}\n",
    "\n",
    "pd.plotting.scatter_matrix(df_last[['active_case_%','deaths_%','recovered_%']], alpha = 0.5, figsize = (15, 8), diagonal = 'hist', marker='o', c=df_last['climate'].map(colors_climate))\n"
   ]
  },
  {
   "cell_type": "markdown",
   "metadata": {},
   "source": [
    "## 3.6. Pearson test and p-value to test the correlation or linear relationship between the data on the percentage of active cases, deaths, and recovered."
   ]
  },
  {
   "cell_type": "code",
   "execution_count": 18,
   "metadata": {},
   "outputs": [
    {
     "name": "stdout",
     "output_type": "stream",
     "text": [
      "               active_case_%  deaths_%  recovered_%\n",
      "active_case_%       1.000000  0.034203    -0.997663\n",
      "deaths_%            0.034203  1.000000    -0.102413\n",
      "recovered_%        -0.997663 -0.102413     1.000000\n"
     ]
    },
    {
     "data": {
      "image/png": "[encoded data removed]",
      "text/plain": [
       "<Figure size 432x288 with 2 Axes>"
      ]
     },
     "metadata": {
      "needs_background": "light"
     },
     "output_type": "display_data"
    }
   ],
   "source": [
    "print (df_last[['active_case_%','deaths_%','recovered_%']].corr())\n",
    "# We make the heatmap plot with seaborn\n",
    "import seaborn as sns\n",
    "sns.heatmap(df_last[['active_case_%','deaths_%','recovered_%']].corr(), annot=True);"
   ]
  },
  {
   "cell_type": "markdown",
   "metadata": {},
   "source": [
    "### Conclusion :\n",
    "\n",
    "### The active_case_% data is strongly negatively correlated with the recovered_% data. This can be seen from their correlation value, the value is -0.997. We know that the value of the Pearson correlation coefficient is between -1<p<1 , where a value of 0 indicates no correlation at all and a value of 1 or -1 indicates a total positive or negative correlation. For deaths_% data has the same correlation between deaths_% data relationships with active_case_% or with recovered_% which is 0.03. This indicates a correlation but not too high."
   ]
  },
  {
   "cell_type": "code",
   "execution_count": 19,
   "metadata": {},
   "outputs": [
    {
     "name": "stdout",
     "output_type": "stream",
     "text": [
      "Pearson correlation between active_case_% and deaths_% 0.03420279015254477  dengan P-value = 0.6637174562888603\n",
      "Pearson correlation between active_case_% and recovered_% -0.9976627521520631  dengan P-value = 1.0113427233764027e-190\n",
      "Pearson correlation between deaths_% and recovered_% -0.10241319306595473  dengan P-value = 0.19191631175112117\n"
     ]
    }
   ],
   "source": [
    "# P-value\n",
    "\n",
    "from scipy import stats\n",
    "pearson_coef1, p_value1 = stats.pearsonr(df_last['active_case_%'], df_last['deaths_%'])\n",
    "pearson_coef2, p_value2 = stats.pearsonr(df_last['active_case_%'], df_last['recovered_%'])\n",
    "pearson_coef3, p_value3 = stats.pearsonr(df_last['deaths_%'], df_last['recovered_%'])\n",
    "print(\"Pearson correlation between active_case_% and deaths_%\", pearson_coef1, \" dengan P-value =\", p_value1)  \n",
    "print(\"Pearson correlation between active_case_% and recovered_%\", pearson_coef2, \" dengan P-value =\", p_value2)\n",
    "print(\"Pearson correlation between deaths_% and recovered_%\", pearson_coef3, \" dengan P-value =\", p_value3)"
   ]
  },
  {
   "cell_type": "markdown",
   "metadata": {},
   "source": [
    "### Conclusion:\n",
    "1. The P-Value of the correlation between active_case_% and deaths_% is 0.66371. Since P-Value > 0.1 , there is no evidence that their correlation is significant.\n",
    "\n",
    "2. The P-Value of the correlation between active_case_% and recovered_% is 1.0113427233958369e-190. Since P-Value < 0.001, it can be said that there is strong evidence that their correlation is significant.\n",
    "\n",
    "3. The P-Value of the correlation between deaths_% and recovered_% is 0.191916. Since P-Value > 0.1 , there is no evidence (weak evidence) that their correlation is significant."
   ]
  },
  {
   "cell_type": "markdown",
   "metadata": {},
   "source": [
    "## 3.7 Anova test to test the linear relationship between the data on the percentage of active cases, deaths, and recovered."
   ]
  },
  {
   "cell_type": "code",
   "execution_count": 20,
   "metadata": {},
   "outputs": [
    {
     "name": "stdout",
     "output_type": "stream",
     "text": [
      "P-Value for Anova is:  3.826063859655487e-06\n"
     ]
    }
   ],
   "source": [
    "# region-active_case_%\n",
    "\n",
    "from scipy.stats import f_oneway\n",
    "CategoryGroupLists1=df_last.groupby('region')['active_case_%'].apply(list)\n",
    "AnovaResults1 = f_oneway(*CategoryGroupLists1)\n",
    "print('P-Value for Anova is: ', AnovaResults1[1])"
   ]
  },
  {
   "cell_type": "code",
   "execution_count": 21,
   "metadata": {},
   "outputs": [
    {
     "name": "stdout",
     "output_type": "stream",
     "text": [
      "P-Value for Anova is:  0.005674002083079122\n"
     ]
    }
   ],
   "source": [
    "# region-deaths_%\n",
    "\n",
    "from scipy.stats import f_oneway\n",
    "CategoryGroupLists2=df_last.groupby('region')['deaths_%'].apply(list)\n",
    "AnovaResults2 = f_oneway(*CategoryGroupLists2)\n",
    "print('P-Value for Anova is: ', AnovaResults2[1])"
   ]
  },
  {
   "cell_type": "code",
   "execution_count": 22,
   "metadata": {},
   "outputs": [
    {
     "name": "stdout",
     "output_type": "stream",
     "text": [
      "P-Value for Anova is:  7.1621169013953965e-06\n"
     ]
    }
   ],
   "source": [
    "# region-recovered_%\n",
    "\n",
    "from scipy.stats import f_oneway\n",
    "CategoryGroupLists3=df_last.groupby('region')['recovered_%'].apply(list)\n",
    "AnovaResults3 = f_oneway(*CategoryGroupLists3)\n",
    "print('P-Value for Anova is: ', AnovaResults3[1])"
   ]
  },
  {
   "cell_type": "markdown",
   "metadata": {},
   "source": [
    "### Conclusion: The correlation between regions and active_case, deaths, recovered is quite strong because the p-values are all close to 0"
   ]
  },
  {
   "cell_type": "markdown",
   "metadata": {},
   "source": [
    "## 3.8. Adding a safety column with the following criteria:\n",
    "\n",
    "### If the data of a country meets 'active_case_%' < 10, 'deaths_%' < 5, 'recovered_%' > 85 we label this country with 'safe' in the 'safety' column. If it does not meet the criteria, we label it with 'not_safe'."
   ]
  },
  {
   "cell_type": "code",
   "execution_count": 23,
   "metadata": {},
   "outputs": [],
   "source": [
    "def conditions(s):\n",
    "    if (s['active_case_%'] < 10) & (s['deaths_%'] < 5) & (s['recovered_%'] > 85):\n",
    "        return 'safe'\n",
    "    else:\n",
    "        return 'not_safe'"
   ]
  },
  {
   "cell_type": "code",
   "execution_count": 24,
   "metadata": {},
   "outputs": [
    {
     "data": {
      "text/html": [
       "<div>\n",
       "<style scoped>\n",
       "    .dataframe tbody tr th:only-of-type {\n",
       "        vertical-align: middle;\n",
       "    }\n",
       "\n",
       "    .dataframe tbody tr th {\n",
       "        vertical-align: top;\n",
       "    }\n",
       "\n",
       "    .dataframe thead th {\n",
       "        text-align: right;\n",
       "    }\n",
       "</style>\n",
       "<table border=\"1\" class=\"dataframe\">\n",
       "  <thead>\n",
       "    <tr style=\"text-align: right;\">\n",
       "      <th></th>\n",
       "      <th>country</th>\n",
       "      <th>confirmed</th>\n",
       "      <th>deaths</th>\n",
       "      <th>recovered</th>\n",
       "      <th>region</th>\n",
       "      <th>climate</th>\n",
       "      <th>active_case</th>\n",
       "      <th>active_case_%</th>\n",
       "      <th>deaths_%</th>\n",
       "      <th>recovered_%</th>\n",
       "      <th>safety</th>\n",
       "    </tr>\n",
       "  </thead>\n",
       "  <tbody>\n",
       "    <tr>\n",
       "      <th>326</th>\n",
       "      <td>Afghanistan</td>\n",
       "      <td>48952.0</td>\n",
       "      <td>1960.0</td>\n",
       "      <td>38250.0</td>\n",
       "      <td>Asia &amp; Pacific</td>\n",
       "      <td>nontropic</td>\n",
       "      <td>8742.0</td>\n",
       "      <td>17.858310</td>\n",
       "      <td>4.003922</td>\n",
       "      <td>78.137768</td>\n",
       "      <td>not_safe</td>\n",
       "    </tr>\n",
       "    <tr>\n",
       "      <th>954</th>\n",
       "      <td>Albania</td>\n",
       "      <td>48530.0</td>\n",
       "      <td>1003.0</td>\n",
       "      <td>24820.0</td>\n",
       "      <td>Europe</td>\n",
       "      <td>nontropic</td>\n",
       "      <td>22707.0</td>\n",
       "      <td>46.789615</td>\n",
       "      <td>2.066763</td>\n",
       "      <td>51.143623</td>\n",
       "      <td>not_safe</td>\n",
       "    </tr>\n",
       "    <tr>\n",
       "      <th>1582</th>\n",
       "      <td>Algeria</td>\n",
       "      <td>92102.0</td>\n",
       "      <td>2596.0</td>\n",
       "      <td>60457.0</td>\n",
       "      <td>Arab States</td>\n",
       "      <td>nontropic</td>\n",
       "      <td>29049.0</td>\n",
       "      <td>31.540032</td>\n",
       "      <td>2.818614</td>\n",
       "      <td>65.641354</td>\n",
       "      <td>not_safe</td>\n",
       "    </tr>\n",
       "    <tr>\n",
       "      <th>2210</th>\n",
       "      <td>Andorra</td>\n",
       "      <td>7338.0</td>\n",
       "      <td>79.0</td>\n",
       "      <td>6629.0</td>\n",
       "      <td>Europe</td>\n",
       "      <td>nontropic</td>\n",
       "      <td>630.0</td>\n",
       "      <td>8.585446</td>\n",
       "      <td>1.076588</td>\n",
       "      <td>90.337967</td>\n",
       "      <td>safe</td>\n",
       "    </tr>\n",
       "    <tr>\n",
       "      <th>2838</th>\n",
       "      <td>Angola</td>\n",
       "      <td>16188.0</td>\n",
       "      <td>371.0</td>\n",
       "      <td>8898.0</td>\n",
       "      <td>Africa</td>\n",
       "      <td>tropic</td>\n",
       "      <td>6919.0</td>\n",
       "      <td>42.741537</td>\n",
       "      <td>2.291821</td>\n",
       "      <td>54.966642</td>\n",
       "      <td>not_safe</td>\n",
       "    </tr>\n",
       "  </tbody>\n",
       "</table>\n",
       "</div>"
      ],
      "text/plain": [
       "          country  confirmed  deaths  recovered          region    climate  \\\n",
       "326   Afghanistan    48952.0  1960.0    38250.0  Asia & Pacific  nontropic   \n",
       "954       Albania    48530.0  1003.0    24820.0          Europe  nontropic   \n",
       "1582      Algeria    92102.0  2596.0    60457.0     Arab States  nontropic   \n",
       "2210      Andorra     7338.0    79.0     6629.0          Europe  nontropic   \n",
       "2838       Angola    16188.0   371.0     8898.0          Africa     tropic   \n",
       "\n",
       "      active_case  active_case_%  deaths_%  recovered_%    safety  \n",
       "326        8742.0      17.858310  4.003922    78.137768  not_safe  \n",
       "954       22707.0      46.789615  2.066763    51.143623  not_safe  \n",
       "1582      29049.0      31.540032  2.818614    65.641354  not_safe  \n",
       "2210        630.0       8.585446  1.076588    90.337967      safe  \n",
       "2838       6919.0      42.741537  2.291821    54.966642  not_safe  "
      ]
     },
     "execution_count": 24,
     "metadata": {},
     "output_type": "execute_result"
    }
   ],
   "source": [
    "df_last['safety']=df_last.apply(conditions,axis=1)\n",
    "df_last.head()"
   ]
  },
  {
   "cell_type": "markdown",
   "metadata": {},
   "source": [
    " "
   ]
  },
  {
   "cell_type": "markdown",
   "metadata": {},
   "source": [
    "# 4. Machine Learning Model"
   ]
  },
  {
   "cell_type": "markdown",
   "metadata": {},
   "source": [
    "## 4.1. Classification Model to predict which countries (eg among Indonesia, US, Brazil, New Zealand, Singapore) are safe based on the \"safety\" category."
   ]
  },
  {
   "cell_type": "code",
   "execution_count": 25,
   "metadata": {},
   "outputs": [
    {
     "data": {
      "text/html": [
       "<div>\n",
       "<style scoped>\n",
       "    .dataframe tbody tr th:only-of-type {\n",
       "        vertical-align: middle;\n",
       "    }\n",
       "\n",
       "    .dataframe tbody tr th {\n",
       "        vertical-align: top;\n",
       "    }\n",
       "\n",
       "    .dataframe thead th {\n",
       "        text-align: right;\n",
       "    }\n",
       "</style>\n",
       "<table border=\"1\" class=\"dataframe\">\n",
       "  <thead>\n",
       "    <tr style=\"text-align: right;\">\n",
       "      <th></th>\n",
       "      <th>country</th>\n",
       "      <th>confirmed</th>\n",
       "      <th>deaths</th>\n",
       "      <th>recovered</th>\n",
       "      <th>region</th>\n",
       "      <th>climate</th>\n",
       "      <th>active_case</th>\n",
       "      <th>active_case_%</th>\n",
       "      <th>deaths_%</th>\n",
       "      <th>recovered_%</th>\n",
       "      <th>safety</th>\n",
       "    </tr>\n",
       "  </thead>\n",
       "  <tbody>\n",
       "    <tr>\n",
       "      <th>14770</th>\n",
       "      <td>Brazil</td>\n",
       "      <td>6901952.0</td>\n",
       "      <td>181402.0</td>\n",
       "      <td>6138349.0</td>\n",
       "      <td>South/Latin America</td>\n",
       "      <td>tropic</td>\n",
       "      <td>582201.0</td>\n",
       "      <td>8.435309</td>\n",
       "      <td>2.628271</td>\n",
       "      <td>88.936420</td>\n",
       "      <td>safe</td>\n",
       "    </tr>\n",
       "    <tr>\n",
       "      <th>48682</th>\n",
       "      <td>Indonesia</td>\n",
       "      <td>617820.0</td>\n",
       "      <td>18819.0</td>\n",
       "      <td>505836.0</td>\n",
       "      <td>Asia &amp; Pacific</td>\n",
       "      <td>tropic</td>\n",
       "      <td>93165.0</td>\n",
       "      <td>15.079635</td>\n",
       "      <td>3.046033</td>\n",
       "      <td>81.874332</td>\n",
       "      <td>not_safe</td>\n",
       "    </tr>\n",
       "    <tr>\n",
       "      <th>77570</th>\n",
       "      <td>New Zealand</td>\n",
       "      <td>2096.0</td>\n",
       "      <td>25.0</td>\n",
       "      <td>2015.0</td>\n",
       "      <td>Asia &amp; Pacific</td>\n",
       "      <td>nontropic</td>\n",
       "      <td>56.0</td>\n",
       "      <td>2.671756</td>\n",
       "      <td>1.192748</td>\n",
       "      <td>96.135496</td>\n",
       "      <td>safe</td>\n",
       "    </tr>\n",
       "    <tr>\n",
       "      <th>97666</th>\n",
       "      <td>Singapore</td>\n",
       "      <td>58320.0</td>\n",
       "      <td>29.0</td>\n",
       "      <td>58208.0</td>\n",
       "      <td>Asia &amp; Pacific</td>\n",
       "      <td>tropic</td>\n",
       "      <td>83.0</td>\n",
       "      <td>0.142318</td>\n",
       "      <td>0.049726</td>\n",
       "      <td>99.807956</td>\n",
       "      <td>safe</td>\n",
       "    </tr>\n",
       "    <tr>\n",
       "      <th>112738</th>\n",
       "      <td>US</td>\n",
       "      <td>16463227.0</td>\n",
       "      <td>303463.0</td>\n",
       "      <td>6298082.0</td>\n",
       "      <td>North America</td>\n",
       "      <td>nontropic</td>\n",
       "      <td>9861682.0</td>\n",
       "      <td>59.901270</td>\n",
       "      <td>1.843278</td>\n",
       "      <td>38.255453</td>\n",
       "      <td>not_safe</td>\n",
       "    </tr>\n",
       "  </tbody>\n",
       "</table>\n",
       "</div>"
      ],
      "text/plain": [
       "            country   confirmed    deaths  recovered               region  \\\n",
       "14770        Brazil   6901952.0  181402.0  6138349.0  South/Latin America   \n",
       "48682     Indonesia    617820.0   18819.0   505836.0       Asia & Pacific   \n",
       "77570   New Zealand      2096.0      25.0     2015.0       Asia & Pacific   \n",
       "97666     Singapore     58320.0      29.0    58208.0       Asia & Pacific   \n",
       "112738           US  16463227.0  303463.0  6298082.0        North America   \n",
       "\n",
       "          climate  active_case  active_case_%  deaths_%  recovered_%    safety  \n",
       "14770      tropic     582201.0       8.435309  2.628271    88.936420      safe  \n",
       "48682      tropic      93165.0      15.079635  3.046033    81.874332  not_safe  \n",
       "77570   nontropic         56.0       2.671756  1.192748    96.135496      safe  \n",
       "97666      tropic         83.0       0.142318  0.049726    99.807956      safe  \n",
       "112738  nontropic    9861682.0      59.901270  1.843278    38.255453  not_safe  "
      ]
     },
     "execution_count": 25,
     "metadata": {},
     "output_type": "execute_result"
    }
   ],
   "source": [
    "new_df = df_last[(df_last['country']=='Indonesia')| (df_last['country']=='US')|(df_last['country']=='Brazil')|(df_last['country']=='New Zealand')|(df_last['country']=='Singapore')]\n",
    "new_df"
   ]
  },
  {
   "cell_type": "code",
   "execution_count": 26,
   "metadata": {
    "scrolled": false
   },
   "outputs": [
    {
     "data": {
      "text/html": [
       "<div>\n",
       "<style scoped>\n",
       "    .dataframe tbody tr th:only-of-type {\n",
       "        vertical-align: middle;\n",
       "    }\n",
       "\n",
       "    .dataframe tbody tr th {\n",
       "        vertical-align: top;\n",
       "    }\n",
       "\n",
       "    .dataframe thead th {\n",
       "        text-align: right;\n",
       "    }\n",
       "</style>\n",
       "<table border=\"1\" class=\"dataframe\">\n",
       "  <thead>\n",
       "    <tr style=\"text-align: right;\">\n",
       "      <th></th>\n",
       "      <th>confirmed</th>\n",
       "      <th>deaths</th>\n",
       "      <th>recovered</th>\n",
       "      <th>active_case</th>\n",
       "      <th>active_case_%</th>\n",
       "      <th>deaths_%</th>\n",
       "      <th>recovered_%</th>\n",
       "    </tr>\n",
       "  </thead>\n",
       "  <tbody>\n",
       "    <tr>\n",
       "      <th>0</th>\n",
       "      <td>-0.233650</td>\n",
       "      <td>-0.237823</td>\n",
       "      <td>-0.240653</td>\n",
       "      <td>-0.154237</td>\n",
       "      <td>-0.154613</td>\n",
       "      <td>1.336931</td>\n",
       "      <td>0.062484</td>\n",
       "    </tr>\n",
       "    <tr>\n",
       "      <th>1</th>\n",
       "      <td>-0.233912</td>\n",
       "      <td>-0.267214</td>\n",
       "      <td>-0.253778</td>\n",
       "      <td>-0.136722</td>\n",
       "      <td>1.176864</td>\n",
       "      <td>0.039071</td>\n",
       "      <td>-1.174032</td>\n",
       "    </tr>\n",
       "    <tr>\n",
       "      <th>2</th>\n",
       "      <td>-0.206905</td>\n",
       "      <td>-0.218290</td>\n",
       "      <td>-0.218951</td>\n",
       "      <td>-0.128767</td>\n",
       "      <td>0.475047</td>\n",
       "      <td>0.542797</td>\n",
       "      <td>-0.509937</td>\n",
       "    </tr>\n",
       "    <tr>\n",
       "      <th>3</th>\n",
       "      <td>-0.259443</td>\n",
       "      <td>-0.295592</td>\n",
       "      <td>-0.271556</td>\n",
       "      <td>-0.164411</td>\n",
       "      <td>-0.581369</td>\n",
       "      <td>-0.624328</td>\n",
       "      <td>0.621336</td>\n",
       "    </tr>\n",
       "    <tr>\n",
       "      <th>4</th>\n",
       "      <td>-0.253958</td>\n",
       "      <td>-0.286624</td>\n",
       "      <td>-0.269339</td>\n",
       "      <td>-0.156523</td>\n",
       "      <td>0.990563</td>\n",
       "      <td>0.189856</td>\n",
       "      <td>-0.998912</td>\n",
       "    </tr>\n",
       "  </tbody>\n",
       "</table>\n",
       "</div>"
      ],
      "text/plain": [
       "   confirmed    deaths  recovered  active_case  active_case_%  deaths_%  \\\n",
       "0  -0.233650 -0.237823  -0.240653    -0.154237      -0.154613  1.336931   \n",
       "1  -0.233912 -0.267214  -0.253778    -0.136722       1.176864  0.039071   \n",
       "2  -0.206905 -0.218290  -0.218951    -0.128767       0.475047  0.542797   \n",
       "3  -0.259443 -0.295592  -0.271556    -0.164411      -0.581369 -0.624328   \n",
       "4  -0.253958 -0.286624  -0.269339    -0.156523       0.990563  0.189856   \n",
       "\n",
       "   recovered_%  \n",
       "0     0.062484  \n",
       "1    -1.174032  \n",
       "2    -0.509937  \n",
       "3     0.621336  \n",
       "4    -0.998912  "
      ]
     },
     "execution_count": 26,
     "metadata": {},
     "output_type": "execute_result"
    }
   ],
   "source": [
    "# Because our target is safety, the region and country columns are actually not very relevant because safety is influenced by the value of\n",
    "# -the value of the number or index of covid cases.\n",
    "\n",
    "from sklearn.preprocessing import StandardScaler\n",
    "from sklearn import preprocessing\n",
    "le = preprocessing.LabelEncoder()\n",
    "\n",
    "data_fitur = df_last.drop(['country','region', 'safety', 'climate'],axis=1)\n",
    "\n",
    "# scaling\n",
    "stdscalar = StandardScaler()\n",
    "data_scale = stdscalar.fit_transform(data_fitur)\n",
    "fitur_scale = pd.DataFrame(data_scale,columns=data_fitur.columns)\n",
    "fitur_scale.head()\n"
   ]
  },
  {
   "cell_type": "code",
   "execution_count": 27,
   "metadata": {},
   "outputs": [
    {
     "data": {
      "text/html": [
       "<div>\n",
       "<style scoped>\n",
       "    .dataframe tbody tr th:only-of-type {\n",
       "        vertical-align: middle;\n",
       "    }\n",
       "\n",
       "    .dataframe tbody tr th {\n",
       "        vertical-align: top;\n",
       "    }\n",
       "\n",
       "    .dataframe thead th {\n",
       "        text-align: right;\n",
       "    }\n",
       "</style>\n",
       "<table border=\"1\" class=\"dataframe\">\n",
       "  <thead>\n",
       "    <tr style=\"text-align: right;\">\n",
       "      <th></th>\n",
       "      <th>safety</th>\n",
       "    </tr>\n",
       "  </thead>\n",
       "  <tbody>\n",
       "    <tr>\n",
       "      <th>326</th>\n",
       "      <td>0</td>\n",
       "    </tr>\n",
       "    <tr>\n",
       "      <th>954</th>\n",
       "      <td>0</td>\n",
       "    </tr>\n",
       "    <tr>\n",
       "      <th>1582</th>\n",
       "      <td>0</td>\n",
       "    </tr>\n",
       "    <tr>\n",
       "      <th>2210</th>\n",
       "      <td>1</td>\n",
       "    </tr>\n",
       "    <tr>\n",
       "      <th>2838</th>\n",
       "      <td>0</td>\n",
       "    </tr>\n",
       "  </tbody>\n",
       "</table>\n",
       "</div>"
      ],
      "text/plain": [
       "      safety\n",
       "326        0\n",
       "954        0\n",
       "1582       0\n",
       "2210       1\n",
       "2838       0"
      ]
     },
     "execution_count": 27,
     "metadata": {},
     "output_type": "execute_result"
    }
   ],
   "source": [
    "# label encoding label target (safety)\n",
    "\n",
    "target_encoded= df_last[['safety']].copy()\n",
    "for col in target_encoded.select_dtypes(include='O').columns:\n",
    "    target_encoded [col]=le.fit_transform(target_encoded[col])\n",
    "    \n",
    "target_encoded.head()\n",
    "# If we want to encode back : Y_pred_label = list(le.inverse_transform(target_encoded))"
   ]
  },
  {
   "cell_type": "markdown",
   "metadata": {},
   "source": [
    "### We see if our data is balanced or not"
   ]
  },
  {
   "cell_type": "code",
   "execution_count": 28,
   "metadata": {},
   "outputs": [],
   "source": [
    "from collections import Counter"
   ]
  },
  {
   "cell_type": "code",
   "execution_count": 29,
   "metadata": {},
   "outputs": [
    {
     "data": {
      "text/plain": [
       "Counter({0: 110, 1: 54})"
      ]
     },
     "execution_count": 29,
     "metadata": {},
     "output_type": "execute_result"
    }
   ],
   "source": [
    "Counter(target_encoded['safety'])"
   ]
  },
  {
   "cell_type": "markdown",
   "metadata": {},
   "source": [
    "### It seems that our data is imbalanced. We are going to use SMOTE algorithm to oversample our data."
   ]
  },
  {
   "cell_type": "code",
   "execution_count": 30,
   "metadata": {},
   "outputs": [],
   "source": [
    "from imblearn.over_sampling import SMOTE\n",
    "from imblearn.under_sampling import RandomUnderSampler\n",
    "from imblearn.pipeline import Pipeline\n",
    "from numpy import where"
   ]
  },
  {
   "cell_type": "code",
   "execution_count": 31,
   "metadata": {},
   "outputs": [],
   "source": [
    "X=fitur_scale\n",
    "y=target_encoded['safety']"
   ]
  },
  {
   "cell_type": "code",
   "execution_count": 32,
   "metadata": {},
   "outputs": [],
   "source": [
    "# define pipeline\n",
    "over = SMOTE(sampling_strategy=0.95)\n",
    "#under = RandomUnderSampler(sampling_strategy=0.7)\n",
    "\n",
    "steps = [('over', over)] #, ('under', under)\n",
    "pipeline = Pipeline(steps=steps)"
   ]
  },
  {
   "cell_type": "code",
   "execution_count": 33,
   "metadata": {},
   "outputs": [
    {
     "name": "stdout",
     "output_type": "stream",
     "text": [
      "Counter({0: 110, 1: 104})\n"
     ]
    }
   ],
   "source": [
    "# transform the dataset\n",
    "X, y = pipeline.fit_resample(X, y)\n",
    "# summarize the new class distribution\n",
    "counter_new = Counter(y)\n",
    "print(counter_new)"
   ]
  },
  {
   "cell_type": "markdown",
   "metadata": {},
   "source": [
    "**Our target class data now is better**"
   ]
  },
  {
   "cell_type": "markdown",
   "metadata": {},
   "source": [
    "### For example, here we use the K-Nearest Neighbors model"
   ]
  },
  {
   "cell_type": "code",
   "execution_count": 34,
   "metadata": {},
   "outputs": [
    {
     "data": {
      "text/plain": [
       "StandardScaler()"
      ]
     },
     "execution_count": 34,
     "metadata": {},
     "output_type": "execute_result"
    }
   ],
   "source": [
    "from sklearn.preprocessing import StandardScaler\n",
    "from sklearn.neighbors import KNeighborsClassifier\n",
    "from sklearn.model_selection import train_test_split\n",
    "\n",
    "X_train, X_test, y_train, y_test = train_test_split(X, y, test_size=0.2, random_state=21)\n",
    "scaler = StandardScaler()\n",
    "scaler.fit(X_train,y_train)\n"
   ]
  },
  {
   "cell_type": "code",
   "execution_count": 35,
   "metadata": {},
   "outputs": [],
   "source": [
    "X_train = scaler.transform(X_train)\n",
    "X_test = scaler.transform(X_test)"
   ]
  },
  {
   "cell_type": "code",
   "execution_count": 36,
   "metadata": {},
   "outputs": [
    {
     "data": {
      "text/plain": [
       "KNeighborsClassifier(leaf_size=34, n_neighbors=15, weights='distance')"
      ]
     },
     "execution_count": 36,
     "metadata": {},
     "output_type": "execute_result"
    }
   ],
   "source": [
    "# Making KNN Model\n",
    "model_knn = KNeighborsClassifier(n_neighbors=15,weights='distance',leaf_size=34)\n",
    "model_knn.fit(X_train,y_train)"
   ]
  },
  {
   "cell_type": "code",
   "execution_count": 37,
   "metadata": {},
   "outputs": [
    {
     "name": "stdout",
     "output_type": "stream",
     "text": [
      "Model Accuary on test data: 0.9767441860465116\n"
     ]
    }
   ],
   "source": [
    "# Model Accuracy\n",
    "from sklearn.metrics import accuracy_score, classification_report, precision_score, recall_score \n",
    "from sklearn.metrics import confusion_matrix, precision_recall_curve, roc_curve, auc, log_loss\n",
    "y_pred = model_knn.predict(X_test)\n",
    "print('Model Accuary on test data:',accuracy_score(y_test,y_pred))"
   ]
  },
  {
   "cell_type": "markdown",
   "metadata": {},
   "source": [
    "### Confusion matrix of the prediction model"
   ]
  },
  {
   "cell_type": "code",
   "execution_count": 38,
   "metadata": {},
   "outputs": [
    {
     "name": "stdout",
     "output_type": "stream",
     "text": [
      "[[26  1]\n",
      " [ 0 16]]\n",
      "\n",
      "\n",
      "              precision    recall  f1-score   support\n",
      "\n",
      "           0       1.00      0.96      0.98        27\n",
      "           1       0.94      1.00      0.97        16\n",
      "\n",
      "    accuracy                           0.98        43\n",
      "   macro avg       0.97      0.98      0.98        43\n",
      "weighted avg       0.98      0.98      0.98        43\n",
      "\n"
     ]
    }
   ],
   "source": [
    "print(confusion_matrix(y_test,y_pred))\n",
    "print(\"\\n\")\n",
    "print(classification_report(y_test,y_pred))"
   ]
  },
  {
   "cell_type": "markdown",
   "metadata": {},
   "source": [
    "### Now we try using Gridsearch CV on our model"
   ]
  },
  {
   "cell_type": "code",
   "execution_count": 39,
   "metadata": {},
   "outputs": [],
   "source": [
    "#Create the parameter grid based on the results of random search \n",
    "params_grid = {'n_neighbors': [5,10,15,20], 'weights': ['uniform','distance'],\n",
    "                     'algorithm': ['auto', 'ball_tree', 'kd_tree', 'brute']}"
   ]
  },
  {
   "cell_type": "code",
   "execution_count": 40,
   "metadata": {},
   "outputs": [
    {
     "name": "stdout",
     "output_type": "stream",
     "text": [
      "Fitting 5 folds for each of 32 candidates, totalling 160 fits\n"
     ]
    },
    {
     "data": {
      "text/plain": [
       "GridSearchCV(cv=5, estimator=KNeighborsClassifier(), n_jobs=-1,\n",
       "             param_grid={'algorithm': ['auto', 'ball_tree', 'kd_tree', 'brute'],\n",
       "                         'n_neighbors': [5, 10, 15, 20],\n",
       "                         'weights': ['uniform', 'distance']},\n",
       "             verbose=3)"
      ]
     },
     "execution_count": 40,
     "metadata": {},
     "output_type": "execute_result"
    }
   ],
   "source": [
    "knn_model = GridSearchCV(KNeighborsClassifier(), params_grid, cv=5,refit = True, verbose = 3,n_jobs=-1)\n",
    "knn_model.fit(X_train,y_train)"
   ]
  },
  {
   "cell_type": "markdown",
   "metadata": {},
   "source": [
    "#### We got optimal parameters:"
   ]
  },
  {
   "cell_type": "code",
   "execution_count": 41,
   "metadata": {
    "scrolled": true
   },
   "outputs": [
    {
     "name": "stdout",
     "output_type": "stream",
     "text": [
      "{'algorithm': 'auto', 'n_neighbors': 5, 'weights': 'distance'}\n"
     ]
    }
   ],
   "source": [
    "print(knn_model.best_params_)"
   ]
  },
  {
   "cell_type": "code",
   "execution_count": 42,
   "metadata": {},
   "outputs": [
    {
     "name": "stdout",
     "output_type": "stream",
     "text": [
      "Best score for training data: 0.9589915966386554 \n",
      "\n",
      "Best algorithm: auto \n",
      "\n",
      "Best n_neighbors: 5 \n",
      "\n",
      "Best weights: distance \n",
      "\n"
     ]
    }
   ],
   "source": [
    "# View the accuracy score\n",
    "print('Best score for training data:', knn_model.best_score_,\"\\n\") \n",
    "\n",
    "# View the best parameters for the model found using grid search\n",
    "print('Best algorithm:',knn_model.best_estimator_.algorithm,\"\\n\") \n",
    "print('Best n_neighbors:',knn_model.best_estimator_.n_neighbors,\"\\n\")\n",
    "print('Best weights:',knn_model.best_estimator_.weights,\"\\n\")"
   ]
  },
  {
   "cell_type": "code",
   "execution_count": 43,
   "metadata": {},
   "outputs": [],
   "source": [
    "final_model = knn_model.best_estimator_\n",
    "y_pred2 = final_model.predict(X_test)"
   ]
  },
  {
   "cell_type": "markdown",
   "metadata": {},
   "source": [
    "### Confusion matrix of our gridsearch model"
   ]
  },
  {
   "cell_type": "code",
   "execution_count": 44,
   "metadata": {},
   "outputs": [
    {
     "name": "stdout",
     "output_type": "stream",
     "text": [
      "[[26  1]\n",
      " [ 1 15]]\n",
      "\n",
      "\n",
      "              precision    recall  f1-score   support\n",
      "\n",
      "           0       0.96      0.96      0.96        27\n",
      "           1       0.94      0.94      0.94        16\n",
      "\n",
      "    accuracy                           0.95        43\n",
      "   macro avg       0.95      0.95      0.95        43\n",
      "weighted avg       0.95      0.95      0.95        43\n",
      "\n"
     ]
    }
   ],
   "source": [
    "print(confusion_matrix(y_test,y_pred2))\n",
    "print(\"\\n\")\n",
    "print(classification_report(y_test,y_pred2))"
   ]
  },
  {
   "cell_type": "markdown",
   "metadata": {},
   "source": [
    " "
   ]
  },
  {
   "cell_type": "markdown",
   "metadata": {},
   "source": [
    "### We create new dataframes for Indonesia, US, Brazil, New Zealand, Singapore to make predictions"
   ]
  },
  {
   "cell_type": "code",
   "execution_count": 45,
   "metadata": {},
   "outputs": [
    {
     "data": {
      "text/html": [
       "<div>\n",
       "<style scoped>\n",
       "    .dataframe tbody tr th:only-of-type {\n",
       "        vertical-align: middle;\n",
       "    }\n",
       "\n",
       "    .dataframe tbody tr th {\n",
       "        vertical-align: top;\n",
       "    }\n",
       "\n",
       "    .dataframe thead th {\n",
       "        text-align: right;\n",
       "    }\n",
       "</style>\n",
       "<table border=\"1\" class=\"dataframe\">\n",
       "  <thead>\n",
       "    <tr style=\"text-align: right;\">\n",
       "      <th></th>\n",
       "      <th>country</th>\n",
       "      <th>confirmed</th>\n",
       "      <th>deaths</th>\n",
       "      <th>recovered</th>\n",
       "      <th>region</th>\n",
       "      <th>climate</th>\n",
       "      <th>active_case</th>\n",
       "      <th>active_case_%</th>\n",
       "      <th>deaths_%</th>\n",
       "      <th>recovered_%</th>\n",
       "      <th>safety</th>\n",
       "    </tr>\n",
       "  </thead>\n",
       "  <tbody>\n",
       "    <tr>\n",
       "      <th>14770</th>\n",
       "      <td>Brazil</td>\n",
       "      <td>6901952.0</td>\n",
       "      <td>181402.0</td>\n",
       "      <td>6138349.0</td>\n",
       "      <td>South/Latin America</td>\n",
       "      <td>tropic</td>\n",
       "      <td>582201.0</td>\n",
       "      <td>8.435309</td>\n",
       "      <td>2.628271</td>\n",
       "      <td>88.936420</td>\n",
       "      <td>safe</td>\n",
       "    </tr>\n",
       "    <tr>\n",
       "      <th>48682</th>\n",
       "      <td>Indonesia</td>\n",
       "      <td>617820.0</td>\n",
       "      <td>18819.0</td>\n",
       "      <td>505836.0</td>\n",
       "      <td>Asia &amp; Pacific</td>\n",
       "      <td>tropic</td>\n",
       "      <td>93165.0</td>\n",
       "      <td>15.079635</td>\n",
       "      <td>3.046033</td>\n",
       "      <td>81.874332</td>\n",
       "      <td>not_safe</td>\n",
       "    </tr>\n",
       "    <tr>\n",
       "      <th>77570</th>\n",
       "      <td>New Zealand</td>\n",
       "      <td>2096.0</td>\n",
       "      <td>25.0</td>\n",
       "      <td>2015.0</td>\n",
       "      <td>Asia &amp; Pacific</td>\n",
       "      <td>nontropic</td>\n",
       "      <td>56.0</td>\n",
       "      <td>2.671756</td>\n",
       "      <td>1.192748</td>\n",
       "      <td>96.135496</td>\n",
       "      <td>safe</td>\n",
       "    </tr>\n",
       "    <tr>\n",
       "      <th>97666</th>\n",
       "      <td>Singapore</td>\n",
       "      <td>58320.0</td>\n",
       "      <td>29.0</td>\n",
       "      <td>58208.0</td>\n",
       "      <td>Asia &amp; Pacific</td>\n",
       "      <td>tropic</td>\n",
       "      <td>83.0</td>\n",
       "      <td>0.142318</td>\n",
       "      <td>0.049726</td>\n",
       "      <td>99.807956</td>\n",
       "      <td>safe</td>\n",
       "    </tr>\n",
       "    <tr>\n",
       "      <th>112738</th>\n",
       "      <td>US</td>\n",
       "      <td>16463227.0</td>\n",
       "      <td>303463.0</td>\n",
       "      <td>6298082.0</td>\n",
       "      <td>North America</td>\n",
       "      <td>nontropic</td>\n",
       "      <td>9861682.0</td>\n",
       "      <td>59.901270</td>\n",
       "      <td>1.843278</td>\n",
       "      <td>38.255453</td>\n",
       "      <td>not_safe</td>\n",
       "    </tr>\n",
       "  </tbody>\n",
       "</table>\n",
       "</div>"
      ],
      "text/plain": [
       "            country   confirmed    deaths  recovered               region  \\\n",
       "14770        Brazil   6901952.0  181402.0  6138349.0  South/Latin America   \n",
       "48682     Indonesia    617820.0   18819.0   505836.0       Asia & Pacific   \n",
       "77570   New Zealand      2096.0      25.0     2015.0       Asia & Pacific   \n",
       "97666     Singapore     58320.0      29.0    58208.0       Asia & Pacific   \n",
       "112738           US  16463227.0  303463.0  6298082.0        North America   \n",
       "\n",
       "          climate  active_case  active_case_%  deaths_%  recovered_%    safety  \n",
       "14770      tropic     582201.0       8.435309  2.628271    88.936420      safe  \n",
       "48682      tropic      93165.0      15.079635  3.046033    81.874332  not_safe  \n",
       "77570   nontropic         56.0       2.671756  1.192748    96.135496      safe  \n",
       "97666      tropic         83.0       0.142318  0.049726    99.807956      safe  \n",
       "112738  nontropic    9861682.0      59.901270  1.843278    38.255453  not_safe  "
      ]
     },
     "execution_count": 45,
     "metadata": {},
     "output_type": "execute_result"
    }
   ],
   "source": [
    "new_df = df_last[(df_last['country']=='Indonesia')| (df_last['country']=='US')|(df_last['country']=='Brazil')|(df_last['country']=='New Zealand')|(df_last['country']=='Singapore')]\n",
    "new_df"
   ]
  },
  {
   "cell_type": "code",
   "execution_count": 46,
   "metadata": {},
   "outputs": [
    {
     "name": "stderr",
     "output_type": "stream",
     "text": [
      "/Users/danielbeltsazar/opt/anaconda3/envs/boost/lib/python3.9/site-packages/sklearn/base.py:443: UserWarning: X has feature names, but KNeighborsClassifier was fitted without feature names\n",
      "  warnings.warn(\n"
     ]
    },
    {
     "data": {
      "text/plain": [
       "array([1, 0, 1, 1, 0])"
      ]
     },
     "execution_count": 46,
     "metadata": {},
     "output_type": "execute_result"
    }
   ],
   "source": [
    "df_newpred = new_df.drop(['country','region', 'safety','climate'],axis=1)\n",
    "\n",
    "safety_pred = model_knn.predict(df_newpred)\n",
    "safety_pred"
   ]
  },
  {
   "cell_type": "code",
   "execution_count": 47,
   "metadata": {},
   "outputs": [
    {
     "name": "stderr",
     "output_type": "stream",
     "text": [
      "/var/folders/52/_h12ds1j0_5c854m0gwwj0y80000gn/T/ipykernel_3441/3720220134.py:1: SettingWithCopyWarning: \n",
      "A value is trying to be set on a copy of a slice from a DataFrame.\n",
      "Try using .loc[row_indexer,col_indexer] = value instead\n",
      "\n",
      "See the caveats in the documentation: https://pandas.pydata.org/pandas-docs/stable/user_guide/indexing.html#returning-a-view-versus-a-copy\n",
      "  new_df['safety_prediction_']=le.inverse_transform(safety_pred)\n"
     ]
    },
    {
     "data": {
      "text/html": [
       "<div>\n",
       "<style scoped>\n",
       "    .dataframe tbody tr th:only-of-type {\n",
       "        vertical-align: middle;\n",
       "    }\n",
       "\n",
       "    .dataframe tbody tr th {\n",
       "        vertical-align: top;\n",
       "    }\n",
       "\n",
       "    .dataframe thead th {\n",
       "        text-align: right;\n",
       "    }\n",
       "</style>\n",
       "<table border=\"1\" class=\"dataframe\">\n",
       "  <thead>\n",
       "    <tr style=\"text-align: right;\">\n",
       "      <th></th>\n",
       "      <th>country</th>\n",
       "      <th>confirmed</th>\n",
       "      <th>deaths</th>\n",
       "      <th>recovered</th>\n",
       "      <th>region</th>\n",
       "      <th>climate</th>\n",
       "      <th>active_case</th>\n",
       "      <th>active_case_%</th>\n",
       "      <th>deaths_%</th>\n",
       "      <th>recovered_%</th>\n",
       "      <th>safety</th>\n",
       "      <th>safety_prediction_</th>\n",
       "    </tr>\n",
       "  </thead>\n",
       "  <tbody>\n",
       "    <tr>\n",
       "      <th>14770</th>\n",
       "      <td>Brazil</td>\n",
       "      <td>6901952.0</td>\n",
       "      <td>181402.0</td>\n",
       "      <td>6138349.0</td>\n",
       "      <td>South/Latin America</td>\n",
       "      <td>tropic</td>\n",
       "      <td>582201.0</td>\n",
       "      <td>8.435309</td>\n",
       "      <td>2.628271</td>\n",
       "      <td>88.936420</td>\n",
       "      <td>safe</td>\n",
       "      <td>safe</td>\n",
       "    </tr>\n",
       "    <tr>\n",
       "      <th>48682</th>\n",
       "      <td>Indonesia</td>\n",
       "      <td>617820.0</td>\n",
       "      <td>18819.0</td>\n",
       "      <td>505836.0</td>\n",
       "      <td>Asia &amp; Pacific</td>\n",
       "      <td>tropic</td>\n",
       "      <td>93165.0</td>\n",
       "      <td>15.079635</td>\n",
       "      <td>3.046033</td>\n",
       "      <td>81.874332</td>\n",
       "      <td>not_safe</td>\n",
       "      <td>not_safe</td>\n",
       "    </tr>\n",
       "    <tr>\n",
       "      <th>77570</th>\n",
       "      <td>New Zealand</td>\n",
       "      <td>2096.0</td>\n",
       "      <td>25.0</td>\n",
       "      <td>2015.0</td>\n",
       "      <td>Asia &amp; Pacific</td>\n",
       "      <td>nontropic</td>\n",
       "      <td>56.0</td>\n",
       "      <td>2.671756</td>\n",
       "      <td>1.192748</td>\n",
       "      <td>96.135496</td>\n",
       "      <td>safe</td>\n",
       "      <td>safe</td>\n",
       "    </tr>\n",
       "    <tr>\n",
       "      <th>97666</th>\n",
       "      <td>Singapore</td>\n",
       "      <td>58320.0</td>\n",
       "      <td>29.0</td>\n",
       "      <td>58208.0</td>\n",
       "      <td>Asia &amp; Pacific</td>\n",
       "      <td>tropic</td>\n",
       "      <td>83.0</td>\n",
       "      <td>0.142318</td>\n",
       "      <td>0.049726</td>\n",
       "      <td>99.807956</td>\n",
       "      <td>safe</td>\n",
       "      <td>safe</td>\n",
       "    </tr>\n",
       "    <tr>\n",
       "      <th>112738</th>\n",
       "      <td>US</td>\n",
       "      <td>16463227.0</td>\n",
       "      <td>303463.0</td>\n",
       "      <td>6298082.0</td>\n",
       "      <td>North America</td>\n",
       "      <td>nontropic</td>\n",
       "      <td>9861682.0</td>\n",
       "      <td>59.901270</td>\n",
       "      <td>1.843278</td>\n",
       "      <td>38.255453</td>\n",
       "      <td>not_safe</td>\n",
       "      <td>not_safe</td>\n",
       "    </tr>\n",
       "  </tbody>\n",
       "</table>\n",
       "</div>"
      ],
      "text/plain": [
       "            country   confirmed    deaths  recovered               region  \\\n",
       "14770        Brazil   6901952.0  181402.0  6138349.0  South/Latin America   \n",
       "48682     Indonesia    617820.0   18819.0   505836.0       Asia & Pacific   \n",
       "77570   New Zealand      2096.0      25.0     2015.0       Asia & Pacific   \n",
       "97666     Singapore     58320.0      29.0    58208.0       Asia & Pacific   \n",
       "112738           US  16463227.0  303463.0  6298082.0        North America   \n",
       "\n",
       "          climate  active_case  active_case_%  deaths_%  recovered_%  \\\n",
       "14770      tropic     582201.0       8.435309  2.628271    88.936420   \n",
       "48682      tropic      93165.0      15.079635  3.046033    81.874332   \n",
       "77570   nontropic         56.0       2.671756  1.192748    96.135496   \n",
       "97666      tropic         83.0       0.142318  0.049726    99.807956   \n",
       "112738  nontropic    9861682.0      59.901270  1.843278    38.255453   \n",
       "\n",
       "          safety safety_prediction_  \n",
       "14770       safe               safe  \n",
       "48682   not_safe           not_safe  \n",
       "77570       safe               safe  \n",
       "97666       safe               safe  \n",
       "112738  not_safe           not_safe  "
      ]
     },
     "execution_count": 47,
     "metadata": {},
     "output_type": "execute_result"
    }
   ],
   "source": [
    "new_df['safety_prediction_']=le.inverse_transform(safety_pred)\n",
    "new_df.head()\n",
    "#Y_pred_label = list(le.inverse_transform(target_encoded)"
   ]
  },
  {
   "cell_type": "markdown",
   "metadata": {},
   "source": [
    "### Then we can see from table above that the prediction result of new_df data is good (safety_prediction column) compared to original safety condition (safety column). The predictions are all the same from the original (safety). Although it has tendency to overfitting because this data more likely has already been seen by our model."
   ]
  },
  {
   "cell_type": "markdown",
   "metadata": {},
   "source": [
    "## 4.2. Linear Regression Model to plot and predict active case percentage (active_case_%)"
   ]
  },
  {
   "cell_type": "code",
   "execution_count": 48,
   "metadata": {},
   "outputs": [],
   "source": [
    "from sklearn.linear_model import LinearRegression\n",
    "lr = LinearRegression()\n",
    "X_new = df_last.drop(['country','region', 'safety','climate','active_case_%'],axis=1)\n",
    "y_new = df_last['active_case_%']\n",
    "X_Train, X_Test, y_Train, y_Test = train_test_split(X_new, y_new, test_size=0.2, random_state=21)"
   ]
  },
  {
   "cell_type": "code",
   "execution_count": 49,
   "metadata": {},
   "outputs": [
    {
     "data": {
      "text/plain": [
       "LinearRegression()"
      ]
     },
     "execution_count": 49,
     "metadata": {},
     "output_type": "execute_result"
    }
   ],
   "source": [
    "lr.fit(X_Train,y_Train)"
   ]
  },
  {
   "cell_type": "code",
   "execution_count": 50,
   "metadata": {},
   "outputs": [
    {
     "name": "stdout",
     "output_type": "stream",
     "text": [
      "intercept :  99.99999999999979\n",
      "slope : [ 4.91557539e-12 -4.91549218e-12 -4.91557673e-12 -4.91557712e-12\n",
      " -1.00000000e+00 -1.00000000e+00]\n"
     ]
    }
   ],
   "source": [
    "print('intercept : ',lr.intercept_)\n",
    "print('slope :',lr.coef_)"
   ]
  },
  {
   "cell_type": "code",
   "execution_count": 51,
   "metadata": {},
   "outputs": [
    {
     "name": "stdout",
     "output_type": "stream",
     "text": [
      "Mean Absolute Error: 4.59508693721618e-13\n",
      "Mean Squared Error: 1.2649944006356915e-24\n",
      "Root Mean Squared Error: 1.1247196986963869e-12\n"
     ]
    }
   ],
   "source": [
    "y_Pred = lr.predict(X_Test)\n",
    "\n",
    "from sklearn import metrics\n",
    "print('Mean Absolute Error:', metrics.mean_absolute_error(y_Test, y_Pred))\n",
    "print('Mean Squared Error:', metrics.mean_squared_error(y_Test, y_Pred))\n",
    "print('Root Mean Squared Error:', np.sqrt(metrics.mean_squared_error(y_Test, y_Pred)))"
   ]
  },
  {
   "cell_type": "code",
   "execution_count": 52,
   "metadata": {},
   "outputs": [
    {
     "data": {
      "text/plain": [
       "Text(0, 0.5, 'active_case_%')"
      ]
     },
     "execution_count": 52,
     "metadata": {},
     "output_type": "execute_result"
    },
    {
     "data": {
      "image/png": "[encoded data removed]",
      "text/plain": [
       "<Figure size 432x288 with 1 Axes>"
      ]
     },
     "metadata": {
      "needs_background": "light"
     },
     "output_type": "display_data"
    }
   ],
   "source": [
    "# It will be difficult to plot because the train data consists of many dimensions. I don't know how yet.\n",
    "# But here I try to display the original recovered_% data with the regression result, namely active_case_% along with the regression plot\n",
    "\n",
    "plt.scatter(X_Test['recovered_%'], y_Test)\n",
    "plt.plot(X_Test['recovered_%'], y_Pred, c='r')\n",
    "plt.xlabel('recovered_%')\n",
    "plt.ylabel('active_case_%')\n"
   ]
  },
  {
   "cell_type": "markdown",
   "metadata": {},
   "source": [
    "### Then we have made a classification model on our covid dataset with gridsearch on our KNN model with 94% accuracy. But it still has tendency to overfit our data. We can make improvement later. We also have made regression model to predict percentage of covid active case. We have achieved small Mean Absolute Error and other metrics. We can make improvement by using other regression model like polynomial, gradient boosting, or isotonic regression."
   ]
  },
  {
   "cell_type": "code",
   "execution_count": null,
   "metadata": {},
   "outputs": [],
   "source": []
  }
 ],
 "metadata": {
  "kernelspec": {
   "display_name": "Python 3 (ipykernel)",
   "language": "python",
   "name": "python3"
  },
  "language_info": {
   "codemirror_mode": {
    "name": "ipython",
    "version": 3
   },
   "file_extension": ".py",
   "mimetype": "text/x-python",
   "name": "python",
   "nbconvert_exporter": "python",
   "pygments_lexer": "ipython3",
   "version": "3.9.7"
  }
 },
 "nbformat": 4,
 "nbformat_minor": 4
}
