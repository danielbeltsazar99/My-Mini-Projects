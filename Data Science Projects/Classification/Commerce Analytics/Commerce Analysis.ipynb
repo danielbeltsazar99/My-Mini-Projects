{
 "cells": [
  {
   "cell_type": "markdown",
   "id": "43d35de5",
   "metadata": {},
   "source": [
    "# A. Importing Library dan dataset"
   ]
  },
  {
   "cell_type": "code",
   "execution_count": 1,
   "id": "57a607bc",
   "metadata": {},
   "outputs": [],
   "source": [
    "import pandas as pd\n",
    "import numpy as np\n",
    "import matplotlib.pyplot as plt\n",
    "import statistics as st\n",
    "import seaborn as sns"
   ]
  },
  {
   "cell_type": "code",
   "execution_count": 2,
   "id": "da920577",
   "metadata": {},
   "outputs": [
    {
     "data": {
      "text/html": [
       "<div>\n",
       "<style scoped>\n",
       "    .dataframe tbody tr th:only-of-type {\n",
       "        vertical-align: middle;\n",
       "    }\n",
       "\n",
       "    .dataframe tbody tr th {\n",
       "        vertical-align: top;\n",
       "    }\n",
       "\n",
       "    .dataframe thead th {\n",
       "        text-align: right;\n",
       "    }\n",
       "</style>\n",
       "<table border=\"1\" class=\"dataframe\">\n",
       "  <thead>\n",
       "    <tr style=\"text-align: right;\">\n",
       "      <th></th>\n",
       "      <th>ID</th>\n",
       "      <th>Warehouse_block</th>\n",
       "      <th>Mode_of_Shipment</th>\n",
       "      <th>Customer_care_calls</th>\n",
       "      <th>Customer_rating</th>\n",
       "      <th>Cost_of_the_Product</th>\n",
       "      <th>Prior_purchases</th>\n",
       "      <th>Product_importance</th>\n",
       "      <th>Gender</th>\n",
       "      <th>Discount_offered</th>\n",
       "      <th>Weight_in_gms</th>\n",
       "      <th>Reached.on.Time_Y.N</th>\n",
       "    </tr>\n",
       "  </thead>\n",
       "  <tbody>\n",
       "    <tr>\n",
       "      <th>0</th>\n",
       "      <td>1</td>\n",
       "      <td>D</td>\n",
       "      <td>Flight</td>\n",
       "      <td>4</td>\n",
       "      <td>2</td>\n",
       "      <td>177</td>\n",
       "      <td>3</td>\n",
       "      <td>low</td>\n",
       "      <td>F</td>\n",
       "      <td>44</td>\n",
       "      <td>1233</td>\n",
       "      <td>1</td>\n",
       "    </tr>\n",
       "    <tr>\n",
       "      <th>1</th>\n",
       "      <td>2</td>\n",
       "      <td>F</td>\n",
       "      <td>Flight</td>\n",
       "      <td>4</td>\n",
       "      <td>5</td>\n",
       "      <td>216</td>\n",
       "      <td>2</td>\n",
       "      <td>low</td>\n",
       "      <td>M</td>\n",
       "      <td>59</td>\n",
       "      <td>3088</td>\n",
       "      <td>1</td>\n",
       "    </tr>\n",
       "    <tr>\n",
       "      <th>2</th>\n",
       "      <td>3</td>\n",
       "      <td>A</td>\n",
       "      <td>Flight</td>\n",
       "      <td>2</td>\n",
       "      <td>2</td>\n",
       "      <td>183</td>\n",
       "      <td>4</td>\n",
       "      <td>low</td>\n",
       "      <td>M</td>\n",
       "      <td>48</td>\n",
       "      <td>3374</td>\n",
       "      <td>1</td>\n",
       "    </tr>\n",
       "    <tr>\n",
       "      <th>3</th>\n",
       "      <td>4</td>\n",
       "      <td>B</td>\n",
       "      <td>Flight</td>\n",
       "      <td>3</td>\n",
       "      <td>3</td>\n",
       "      <td>176</td>\n",
       "      <td>4</td>\n",
       "      <td>medium</td>\n",
       "      <td>M</td>\n",
       "      <td>10</td>\n",
       "      <td>1177</td>\n",
       "      <td>1</td>\n",
       "    </tr>\n",
       "    <tr>\n",
       "      <th>4</th>\n",
       "      <td>5</td>\n",
       "      <td>C</td>\n",
       "      <td>Flight</td>\n",
       "      <td>2</td>\n",
       "      <td>2</td>\n",
       "      <td>184</td>\n",
       "      <td>3</td>\n",
       "      <td>medium</td>\n",
       "      <td>F</td>\n",
       "      <td>46</td>\n",
       "      <td>2484</td>\n",
       "      <td>1</td>\n",
       "    </tr>\n",
       "  </tbody>\n",
       "</table>\n",
       "</div>"
      ],
      "text/plain": [
       "   ID Warehouse_block Mode_of_Shipment  Customer_care_calls  Customer_rating  \\\n",
       "0   1               D           Flight                    4                2   \n",
       "1   2               F           Flight                    4                5   \n",
       "2   3               A           Flight                    2                2   \n",
       "3   4               B           Flight                    3                3   \n",
       "4   5               C           Flight                    2                2   \n",
       "\n",
       "   Cost_of_the_Product  Prior_purchases Product_importance Gender  \\\n",
       "0                  177                3                low      F   \n",
       "1                  216                2                low      M   \n",
       "2                  183                4                low      M   \n",
       "3                  176                4             medium      M   \n",
       "4                  184                3             medium      F   \n",
       "\n",
       "   Discount_offered  Weight_in_gms  Reached.on.Time_Y.N  \n",
       "0                44           1233                    1  \n",
       "1                59           3088                    1  \n",
       "2                48           3374                    1  \n",
       "3                10           1177                    1  \n",
       "4                46           2484                    1  "
      ]
     },
     "execution_count": 2,
     "metadata": {},
     "output_type": "execute_result"
    }
   ],
   "source": [
    "df = pd.read_csv(\"Train.csv\")\n",
    "df.head()"
   ]
  },
  {
   "cell_type": "code",
   "execution_count": 3,
   "id": "84c2b5c4",
   "metadata": {},
   "outputs": [
    {
     "name": "stdout",
     "output_type": "stream",
     "text": [
      "<class 'pandas.core.frame.DataFrame'>\n",
      "RangeIndex: 10999 entries, 0 to 10998\n",
      "Data columns (total 12 columns):\n",
      " #   Column               Non-Null Count  Dtype \n",
      "---  ------               --------------  ----- \n",
      " 0   ID                   10999 non-null  int64 \n",
      " 1   Warehouse_block      10999 non-null  object\n",
      " 2   Mode_of_Shipment     10999 non-null  object\n",
      " 3   Customer_care_calls  10999 non-null  int64 \n",
      " 4   Customer_rating      10999 non-null  int64 \n",
      " 5   Cost_of_the_Product  10999 non-null  int64 \n",
      " 6   Prior_purchases      10999 non-null  int64 \n",
      " 7   Product_importance   10999 non-null  object\n",
      " 8   Gender               10999 non-null  object\n",
      " 9   Discount_offered     10999 non-null  int64 \n",
      " 10  Weight_in_gms        10999 non-null  int64 \n",
      " 11  Reached.on.Time_Y.N  10999 non-null  int64 \n",
      "dtypes: int64(8), object(4)\n",
      "memory usage: 1.0+ MB\n"
     ]
    }
   ],
   "source": [
    "df.info()"
   ]
  },
  {
   "cell_type": "markdown",
   "id": "1f7aa8af",
   "metadata": {},
   "source": [
    " "
   ]
  },
  {
   "cell_type": "markdown",
   "id": "b74ab620",
   "metadata": {},
   "source": [
    "# B. Data Cleaning"
   ]
  },
  {
   "cell_type": "markdown",
   "id": "6e678306",
   "metadata": {},
   "source": [
    "## 1. Missing Value Handling"
   ]
  },
  {
   "cell_type": "code",
   "execution_count": 4,
   "id": "7ed6ff5d",
   "metadata": {},
   "outputs": [
    {
     "data": {
      "text/plain": [
       "ID                     False\n",
       "Warehouse_block        False\n",
       "Mode_of_Shipment       False\n",
       "Customer_care_calls    False\n",
       "Customer_rating        False\n",
       "Cost_of_the_Product    False\n",
       "Prior_purchases        False\n",
       "Product_importance     False\n",
       "Gender                 False\n",
       "Discount_offered       False\n",
       "Weight_in_gms          False\n",
       "Reached.on.Time_Y.N    False\n",
       "dtype: bool"
      ]
     },
     "execution_count": 4,
     "metadata": {},
     "output_type": "execute_result"
    }
   ],
   "source": [
    "df.isnull().any()"
   ]
  },
  {
   "cell_type": "markdown",
   "id": "06e7689a",
   "metadata": {},
   "source": [
    "#### No missing value in our data"
   ]
  },
  {
   "cell_type": "markdown",
   "id": "c8024731",
   "metadata": {},
   "source": [
    "## 2. Removing Unnecessary Feature"
   ]
  },
  {
   "cell_type": "code",
   "execution_count": 5,
   "id": "e2655b8f",
   "metadata": {},
   "outputs": [],
   "source": [
    "df = df.drop([\"ID\"],axis=1)"
   ]
  },
  {
   "cell_type": "code",
   "execution_count": 6,
   "id": "893c5ec9",
   "metadata": {},
   "outputs": [
    {
     "data": {
      "text/html": [
       "<div>\n",
       "<style scoped>\n",
       "    .dataframe tbody tr th:only-of-type {\n",
       "        vertical-align: middle;\n",
       "    }\n",
       "\n",
       "    .dataframe tbody tr th {\n",
       "        vertical-align: top;\n",
       "    }\n",
       "\n",
       "    .dataframe thead th {\n",
       "        text-align: right;\n",
       "    }\n",
       "</style>\n",
       "<table border=\"1\" class=\"dataframe\">\n",
       "  <thead>\n",
       "    <tr style=\"text-align: right;\">\n",
       "      <th></th>\n",
       "      <th>Warehouse_block</th>\n",
       "      <th>Mode_of_Shipment</th>\n",
       "      <th>Customer_care_calls</th>\n",
       "      <th>Customer_rating</th>\n",
       "      <th>Cost_of_the_Product</th>\n",
       "      <th>Prior_purchases</th>\n",
       "      <th>Product_importance</th>\n",
       "      <th>Gender</th>\n",
       "      <th>Discount_offered</th>\n",
       "      <th>Weight_in_gms</th>\n",
       "      <th>Reached.on.Time_Y.N</th>\n",
       "    </tr>\n",
       "  </thead>\n",
       "  <tbody>\n",
       "    <tr>\n",
       "      <th>0</th>\n",
       "      <td>D</td>\n",
       "      <td>Flight</td>\n",
       "      <td>4</td>\n",
       "      <td>2</td>\n",
       "      <td>177</td>\n",
       "      <td>3</td>\n",
       "      <td>low</td>\n",
       "      <td>F</td>\n",
       "      <td>44</td>\n",
       "      <td>1233</td>\n",
       "      <td>1</td>\n",
       "    </tr>\n",
       "    <tr>\n",
       "      <th>1</th>\n",
       "      <td>F</td>\n",
       "      <td>Flight</td>\n",
       "      <td>4</td>\n",
       "      <td>5</td>\n",
       "      <td>216</td>\n",
       "      <td>2</td>\n",
       "      <td>low</td>\n",
       "      <td>M</td>\n",
       "      <td>59</td>\n",
       "      <td>3088</td>\n",
       "      <td>1</td>\n",
       "    </tr>\n",
       "    <tr>\n",
       "      <th>2</th>\n",
       "      <td>A</td>\n",
       "      <td>Flight</td>\n",
       "      <td>2</td>\n",
       "      <td>2</td>\n",
       "      <td>183</td>\n",
       "      <td>4</td>\n",
       "      <td>low</td>\n",
       "      <td>M</td>\n",
       "      <td>48</td>\n",
       "      <td>3374</td>\n",
       "      <td>1</td>\n",
       "    </tr>\n",
       "    <tr>\n",
       "      <th>3</th>\n",
       "      <td>B</td>\n",
       "      <td>Flight</td>\n",
       "      <td>3</td>\n",
       "      <td>3</td>\n",
       "      <td>176</td>\n",
       "      <td>4</td>\n",
       "      <td>medium</td>\n",
       "      <td>M</td>\n",
       "      <td>10</td>\n",
       "      <td>1177</td>\n",
       "      <td>1</td>\n",
       "    </tr>\n",
       "    <tr>\n",
       "      <th>4</th>\n",
       "      <td>C</td>\n",
       "      <td>Flight</td>\n",
       "      <td>2</td>\n",
       "      <td>2</td>\n",
       "      <td>184</td>\n",
       "      <td>3</td>\n",
       "      <td>medium</td>\n",
       "      <td>F</td>\n",
       "      <td>46</td>\n",
       "      <td>2484</td>\n",
       "      <td>1</td>\n",
       "    </tr>\n",
       "  </tbody>\n",
       "</table>\n",
       "</div>"
      ],
      "text/plain": [
       "  Warehouse_block Mode_of_Shipment  Customer_care_calls  Customer_rating  \\\n",
       "0               D           Flight                    4                2   \n",
       "1               F           Flight                    4                5   \n",
       "2               A           Flight                    2                2   \n",
       "3               B           Flight                    3                3   \n",
       "4               C           Flight                    2                2   \n",
       "\n",
       "   Cost_of_the_Product  Prior_purchases Product_importance Gender  \\\n",
       "0                  177                3                low      F   \n",
       "1                  216                2                low      M   \n",
       "2                  183                4                low      M   \n",
       "3                  176                4             medium      M   \n",
       "4                  184                3             medium      F   \n",
       "\n",
       "   Discount_offered  Weight_in_gms  Reached.on.Time_Y.N  \n",
       "0                44           1233                    1  \n",
       "1                59           3088                    1  \n",
       "2                48           3374                    1  \n",
       "3                10           1177                    1  \n",
       "4                46           2484                    1  "
      ]
     },
     "execution_count": 6,
     "metadata": {},
     "output_type": "execute_result"
    }
   ],
   "source": [
    "df.head()"
   ]
  },
  {
   "cell_type": "markdown",
   "id": "88e43110",
   "metadata": {},
   "source": [
    "## 3. Data encoding for machine learning"
   ]
  },
  {
   "cell_type": "markdown",
   "id": "0d26a08e",
   "metadata": {},
   "source": [
    "#### For the purposes of making machine learning models and other things, a new dataframe is created in which categorical data has been encoded. We have two dataframes now."
   ]
  },
  {
   "cell_type": "markdown",
   "id": "2052f099",
   "metadata": {},
   "source": [
    "#### Encoding With Label Encoder"
   ]
  },
  {
   "cell_type": "code",
   "execution_count": 7,
   "id": "8b0b3593",
   "metadata": {},
   "outputs": [],
   "source": [
    "from sklearn import preprocessing\n",
    "le = preprocessing.LabelEncoder()"
   ]
  },
  {
   "cell_type": "code",
   "execution_count": 8,
   "id": "a35d3d33",
   "metadata": {},
   "outputs": [],
   "source": [
    "comm= df.copy()\n",
    "for col in comm.select_dtypes(include='O').columns:\n",
    "    comm[col]=le.fit_transform(comm[col])"
   ]
  },
  {
   "cell_type": "code",
   "execution_count": 9,
   "id": "a73a1428",
   "metadata": {},
   "outputs": [
    {
     "data": {
      "text/html": [
       "<div>\n",
       "<style scoped>\n",
       "    .dataframe tbody tr th:only-of-type {\n",
       "        vertical-align: middle;\n",
       "    }\n",
       "\n",
       "    .dataframe tbody tr th {\n",
       "        vertical-align: top;\n",
       "    }\n",
       "\n",
       "    .dataframe thead th {\n",
       "        text-align: right;\n",
       "    }\n",
       "</style>\n",
       "<table border=\"1\" class=\"dataframe\">\n",
       "  <thead>\n",
       "    <tr style=\"text-align: right;\">\n",
       "      <th></th>\n",
       "      <th>Warehouse_block</th>\n",
       "      <th>Mode_of_Shipment</th>\n",
       "      <th>Customer_care_calls</th>\n",
       "      <th>Customer_rating</th>\n",
       "      <th>Cost_of_the_Product</th>\n",
       "      <th>Prior_purchases</th>\n",
       "      <th>Product_importance</th>\n",
       "      <th>Gender</th>\n",
       "      <th>Discount_offered</th>\n",
       "      <th>Weight_in_gms</th>\n",
       "      <th>Reached.on.Time_Y.N</th>\n",
       "    </tr>\n",
       "  </thead>\n",
       "  <tbody>\n",
       "    <tr>\n",
       "      <th>0</th>\n",
       "      <td>3</td>\n",
       "      <td>0</td>\n",
       "      <td>4</td>\n",
       "      <td>2</td>\n",
       "      <td>177</td>\n",
       "      <td>3</td>\n",
       "      <td>1</td>\n",
       "      <td>0</td>\n",
       "      <td>44</td>\n",
       "      <td>1233</td>\n",
       "      <td>1</td>\n",
       "    </tr>\n",
       "    <tr>\n",
       "      <th>1</th>\n",
       "      <td>4</td>\n",
       "      <td>0</td>\n",
       "      <td>4</td>\n",
       "      <td>5</td>\n",
       "      <td>216</td>\n",
       "      <td>2</td>\n",
       "      <td>1</td>\n",
       "      <td>1</td>\n",
       "      <td>59</td>\n",
       "      <td>3088</td>\n",
       "      <td>1</td>\n",
       "    </tr>\n",
       "    <tr>\n",
       "      <th>2</th>\n",
       "      <td>0</td>\n",
       "      <td>0</td>\n",
       "      <td>2</td>\n",
       "      <td>2</td>\n",
       "      <td>183</td>\n",
       "      <td>4</td>\n",
       "      <td>1</td>\n",
       "      <td>1</td>\n",
       "      <td>48</td>\n",
       "      <td>3374</td>\n",
       "      <td>1</td>\n",
       "    </tr>\n",
       "    <tr>\n",
       "      <th>3</th>\n",
       "      <td>1</td>\n",
       "      <td>0</td>\n",
       "      <td>3</td>\n",
       "      <td>3</td>\n",
       "      <td>176</td>\n",
       "      <td>4</td>\n",
       "      <td>2</td>\n",
       "      <td>1</td>\n",
       "      <td>10</td>\n",
       "      <td>1177</td>\n",
       "      <td>1</td>\n",
       "    </tr>\n",
       "    <tr>\n",
       "      <th>4</th>\n",
       "      <td>2</td>\n",
       "      <td>0</td>\n",
       "      <td>2</td>\n",
       "      <td>2</td>\n",
       "      <td>184</td>\n",
       "      <td>3</td>\n",
       "      <td>2</td>\n",
       "      <td>0</td>\n",
       "      <td>46</td>\n",
       "      <td>2484</td>\n",
       "      <td>1</td>\n",
       "    </tr>\n",
       "  </tbody>\n",
       "</table>\n",
       "</div>"
      ],
      "text/plain": [
       "   Warehouse_block  Mode_of_Shipment  Customer_care_calls  Customer_rating  \\\n",
       "0                3                 0                    4                2   \n",
       "1                4                 0                    4                5   \n",
       "2                0                 0                    2                2   \n",
       "3                1                 0                    3                3   \n",
       "4                2                 0                    2                2   \n",
       "\n",
       "   Cost_of_the_Product  Prior_purchases  Product_importance  Gender  \\\n",
       "0                  177                3                   1       0   \n",
       "1                  216                2                   1       1   \n",
       "2                  183                4                   1       1   \n",
       "3                  176                4                   2       1   \n",
       "4                  184                3                   2       0   \n",
       "\n",
       "   Discount_offered  Weight_in_gms  Reached.on.Time_Y.N  \n",
       "0                44           1233                    1  \n",
       "1                59           3088                    1  \n",
       "2                48           3374                    1  \n",
       "3                10           1177                    1  \n",
       "4                46           2484                    1  "
      ]
     },
     "execution_count": 9,
     "metadata": {},
     "output_type": "execute_result"
    }
   ],
   "source": [
    "comm.head()"
   ]
  },
  {
   "cell_type": "code",
   "execution_count": 10,
   "id": "d5451f8b",
   "metadata": {},
   "outputs": [
    {
     "name": "stdout",
     "output_type": "stream",
     "text": [
      "<class 'pandas.core.frame.DataFrame'>\n",
      "RangeIndex: 10999 entries, 0 to 10998\n",
      "Data columns (total 11 columns):\n",
      " #   Column               Non-Null Count  Dtype\n",
      "---  ------               --------------  -----\n",
      " 0   Warehouse_block      10999 non-null  int64\n",
      " 1   Mode_of_Shipment     10999 non-null  int64\n",
      " 2   Customer_care_calls  10999 non-null  int64\n",
      " 3   Customer_rating      10999 non-null  int64\n",
      " 4   Cost_of_the_Product  10999 non-null  int64\n",
      " 5   Prior_purchases      10999 non-null  int64\n",
      " 6   Product_importance   10999 non-null  int64\n",
      " 7   Gender               10999 non-null  int64\n",
      " 8   Discount_offered     10999 non-null  int64\n",
      " 9   Weight_in_gms        10999 non-null  int64\n",
      " 10  Reached.on.Time_Y.N  10999 non-null  int64\n",
      "dtypes: int64(11)\n",
      "memory usage: 945.4 KB\n"
     ]
    }
   ],
   "source": [
    "comm.info()"
   ]
  },
  {
   "cell_type": "markdown",
   "id": "8a7b1380",
   "metadata": {},
   "source": [
    " "
   ]
  },
  {
   "cell_type": "markdown",
   "id": "07c509f0",
   "metadata": {},
   "source": [
    "# B. Exploratory Data Analysis"
   ]
  },
  {
   "cell_type": "markdown",
   "id": "26a587ac",
   "metadata": {},
   "source": [
    "## 1. Statistics Descriptive"
   ]
  },
  {
   "cell_type": "code",
   "execution_count": 36,
   "id": "cdd7bbc9",
   "metadata": {},
   "outputs": [],
   "source": [
    "def summary(df,column):\n",
    "    print(\"Distinct : \",len(pd.unique(df[column])))\n",
    "    print(\"Missing : \",df[column].isnull().sum())\n",
    "    print(\"Sum : \",df[column].sum())\n",
    "    print(\"Mode : \",st.mode(df[column]))\n",
    "    print(\"stddev : \",np.std(df[column]))\n",
    "    print(\"CV :\",100*(np.std(df[column]))/(np.mean(df[column]))) #coefficient of variation\n",
    "    print(\"Min : \",df[column].min())\n",
    "    print(\"Max : \",df[column].max())\n",
    "    print(\"Mean : \",df[column].mean())\n",
    "    print(\"Q1 : \",np.quantile(df[column],0.25))\n",
    "    print(\"Q1 : \",np.quantile(df[column],0.5))\n",
    "    print(\"Q1 : \",np.quantile(df[column],0.75))\n",
    "    \n",
    "    \n",
    "def values(df,column):\n",
    "    for i in df[column].unique():\n",
    "        print(i)\n",
    "\n",
    "\n",
    "def values_df(df):\n",
    "    for i in df.columns:\n",
    "        print(i)\n",
    "        for j in df[i].unique():\n",
    "            print(j)\n",
    "        print(\"-\"*20)\n",
    "        \n",
    "def proportion(df,column):\n",
    "    for i in df[column].unique():\n",
    "        counts = (sum(df[column]==i)/df[column].count()) *100\n",
    "        print (i,' dengan proporsi {}%'.format(counts))"
   ]
  },
  {
   "cell_type": "markdown",
   "id": "850598df",
   "metadata": {},
   "source": [
    "#### Let's see a brief statistical description of the data"
   ]
  },
  {
   "cell_type": "code",
   "execution_count": 12,
   "id": "339cc078",
   "metadata": {},
   "outputs": [
    {
     "data": {
      "text/html": [
       "<div>\n",
       "<style scoped>\n",
       "    .dataframe tbody tr th:only-of-type {\n",
       "        vertical-align: middle;\n",
       "    }\n",
       "\n",
       "    .dataframe tbody tr th {\n",
       "        vertical-align: top;\n",
       "    }\n",
       "\n",
       "    .dataframe thead th {\n",
       "        text-align: right;\n",
       "    }\n",
       "</style>\n",
       "<table border=\"1\" class=\"dataframe\">\n",
       "  <thead>\n",
       "    <tr style=\"text-align: right;\">\n",
       "      <th></th>\n",
       "      <th>Customer_care_calls</th>\n",
       "      <th>Customer_rating</th>\n",
       "      <th>Cost_of_the_Product</th>\n",
       "      <th>Prior_purchases</th>\n",
       "      <th>Discount_offered</th>\n",
       "      <th>Weight_in_gms</th>\n",
       "      <th>Reached.on.Time_Y.N</th>\n",
       "    </tr>\n",
       "  </thead>\n",
       "  <tbody>\n",
       "    <tr>\n",
       "      <th>count</th>\n",
       "      <td>10999.000000</td>\n",
       "      <td>10999.000000</td>\n",
       "      <td>10999.000000</td>\n",
       "      <td>10999.000000</td>\n",
       "      <td>10999.000000</td>\n",
       "      <td>10999.000000</td>\n",
       "      <td>10999.000000</td>\n",
       "    </tr>\n",
       "    <tr>\n",
       "      <th>mean</th>\n",
       "      <td>4.054459</td>\n",
       "      <td>2.990545</td>\n",
       "      <td>210.196836</td>\n",
       "      <td>3.567597</td>\n",
       "      <td>13.373216</td>\n",
       "      <td>3634.016729</td>\n",
       "      <td>0.596691</td>\n",
       "    </tr>\n",
       "    <tr>\n",
       "      <th>std</th>\n",
       "      <td>1.141490</td>\n",
       "      <td>1.413603</td>\n",
       "      <td>48.063272</td>\n",
       "      <td>1.522860</td>\n",
       "      <td>16.205527</td>\n",
       "      <td>1635.377251</td>\n",
       "      <td>0.490584</td>\n",
       "    </tr>\n",
       "    <tr>\n",
       "      <th>min</th>\n",
       "      <td>2.000000</td>\n",
       "      <td>1.000000</td>\n",
       "      <td>96.000000</td>\n",
       "      <td>2.000000</td>\n",
       "      <td>1.000000</td>\n",
       "      <td>1001.000000</td>\n",
       "      <td>0.000000</td>\n",
       "    </tr>\n",
       "    <tr>\n",
       "      <th>25%</th>\n",
       "      <td>3.000000</td>\n",
       "      <td>2.000000</td>\n",
       "      <td>169.000000</td>\n",
       "      <td>3.000000</td>\n",
       "      <td>4.000000</td>\n",
       "      <td>1839.500000</td>\n",
       "      <td>0.000000</td>\n",
       "    </tr>\n",
       "    <tr>\n",
       "      <th>50%</th>\n",
       "      <td>4.000000</td>\n",
       "      <td>3.000000</td>\n",
       "      <td>214.000000</td>\n",
       "      <td>3.000000</td>\n",
       "      <td>7.000000</td>\n",
       "      <td>4149.000000</td>\n",
       "      <td>1.000000</td>\n",
       "    </tr>\n",
       "    <tr>\n",
       "      <th>75%</th>\n",
       "      <td>5.000000</td>\n",
       "      <td>4.000000</td>\n",
       "      <td>251.000000</td>\n",
       "      <td>4.000000</td>\n",
       "      <td>10.000000</td>\n",
       "      <td>5050.000000</td>\n",
       "      <td>1.000000</td>\n",
       "    </tr>\n",
       "    <tr>\n",
       "      <th>max</th>\n",
       "      <td>7.000000</td>\n",
       "      <td>5.000000</td>\n",
       "      <td>310.000000</td>\n",
       "      <td>10.000000</td>\n",
       "      <td>65.000000</td>\n",
       "      <td>7846.000000</td>\n",
       "      <td>1.000000</td>\n",
       "    </tr>\n",
       "  </tbody>\n",
       "</table>\n",
       "</div>"
      ],
      "text/plain": [
       "       Customer_care_calls  Customer_rating  Cost_of_the_Product  \\\n",
       "count         10999.000000     10999.000000         10999.000000   \n",
       "mean              4.054459         2.990545           210.196836   \n",
       "std               1.141490         1.413603            48.063272   \n",
       "min               2.000000         1.000000            96.000000   \n",
       "25%               3.000000         2.000000           169.000000   \n",
       "50%               4.000000         3.000000           214.000000   \n",
       "75%               5.000000         4.000000           251.000000   \n",
       "max               7.000000         5.000000           310.000000   \n",
       "\n",
       "       Prior_purchases  Discount_offered  Weight_in_gms  Reached.on.Time_Y.N  \n",
       "count     10999.000000      10999.000000   10999.000000         10999.000000  \n",
       "mean          3.567597         13.373216    3634.016729             0.596691  \n",
       "std           1.522860         16.205527    1635.377251             0.490584  \n",
       "min           2.000000          1.000000    1001.000000             0.000000  \n",
       "25%           3.000000          4.000000    1839.500000             0.000000  \n",
       "50%           3.000000          7.000000    4149.000000             1.000000  \n",
       "75%           4.000000         10.000000    5050.000000             1.000000  \n",
       "max          10.000000         65.000000    7846.000000             1.000000  "
      ]
     },
     "execution_count": 12,
     "metadata": {},
     "output_type": "execute_result"
    }
   ],
   "source": [
    "df.describe()"
   ]
  },
  {
   "cell_type": "markdown",
   "id": "c6d45bc1",
   "metadata": {},
   "source": [
    "#### Or it can be seen from the encoded data:"
   ]
  },
  {
   "cell_type": "code",
   "execution_count": 13,
   "id": "3bba6230",
   "metadata": {},
   "outputs": [
    {
     "data": {
      "text/html": [
       "<div>\n",
       "<style scoped>\n",
       "    .dataframe tbody tr th:only-of-type {\n",
       "        vertical-align: middle;\n",
       "    }\n",
       "\n",
       "    .dataframe tbody tr th {\n",
       "        vertical-align: top;\n",
       "    }\n",
       "\n",
       "    .dataframe thead th {\n",
       "        text-align: right;\n",
       "    }\n",
       "</style>\n",
       "<table border=\"1\" class=\"dataframe\">\n",
       "  <thead>\n",
       "    <tr style=\"text-align: right;\">\n",
       "      <th></th>\n",
       "      <th>Warehouse_block</th>\n",
       "      <th>Mode_of_Shipment</th>\n",
       "      <th>Customer_care_calls</th>\n",
       "      <th>Customer_rating</th>\n",
       "      <th>Cost_of_the_Product</th>\n",
       "      <th>Prior_purchases</th>\n",
       "      <th>Product_importance</th>\n",
       "      <th>Gender</th>\n",
       "      <th>Discount_offered</th>\n",
       "      <th>Weight_in_gms</th>\n",
       "      <th>Reached.on.Time_Y.N</th>\n",
       "    </tr>\n",
       "  </thead>\n",
       "  <tbody>\n",
       "    <tr>\n",
       "      <th>count</th>\n",
       "      <td>10999.000000</td>\n",
       "      <td>10999.000000</td>\n",
       "      <td>10999.000000</td>\n",
       "      <td>10999.000000</td>\n",
       "      <td>10999.000000</td>\n",
       "      <td>10999.000000</td>\n",
       "      <td>10999.000000</td>\n",
       "      <td>10999.000000</td>\n",
       "      <td>10999.000000</td>\n",
       "      <td>10999.000000</td>\n",
       "      <td>10999.000000</td>\n",
       "    </tr>\n",
       "    <tr>\n",
       "      <th>mean</th>\n",
       "      <td>2.333394</td>\n",
       "      <td>1.516865</td>\n",
       "      <td>4.054459</td>\n",
       "      <td>2.990545</td>\n",
       "      <td>210.196836</td>\n",
       "      <td>3.567597</td>\n",
       "      <td>1.346031</td>\n",
       "      <td>0.495863</td>\n",
       "      <td>13.373216</td>\n",
       "      <td>3634.016729</td>\n",
       "      <td>0.596691</td>\n",
       "    </tr>\n",
       "    <tr>\n",
       "      <th>std</th>\n",
       "      <td>1.490726</td>\n",
       "      <td>0.756894</td>\n",
       "      <td>1.141490</td>\n",
       "      <td>1.413603</td>\n",
       "      <td>48.063272</td>\n",
       "      <td>1.522860</td>\n",
       "      <td>0.631434</td>\n",
       "      <td>0.500006</td>\n",
       "      <td>16.205527</td>\n",
       "      <td>1635.377251</td>\n",
       "      <td>0.490584</td>\n",
       "    </tr>\n",
       "    <tr>\n",
       "      <th>min</th>\n",
       "      <td>0.000000</td>\n",
       "      <td>0.000000</td>\n",
       "      <td>2.000000</td>\n",
       "      <td>1.000000</td>\n",
       "      <td>96.000000</td>\n",
       "      <td>2.000000</td>\n",
       "      <td>0.000000</td>\n",
       "      <td>0.000000</td>\n",
       "      <td>1.000000</td>\n",
       "      <td>1001.000000</td>\n",
       "      <td>0.000000</td>\n",
       "    </tr>\n",
       "    <tr>\n",
       "      <th>25%</th>\n",
       "      <td>1.000000</td>\n",
       "      <td>1.000000</td>\n",
       "      <td>3.000000</td>\n",
       "      <td>2.000000</td>\n",
       "      <td>169.000000</td>\n",
       "      <td>3.000000</td>\n",
       "      <td>1.000000</td>\n",
       "      <td>0.000000</td>\n",
       "      <td>4.000000</td>\n",
       "      <td>1839.500000</td>\n",
       "      <td>0.000000</td>\n",
       "    </tr>\n",
       "    <tr>\n",
       "      <th>50%</th>\n",
       "      <td>3.000000</td>\n",
       "      <td>2.000000</td>\n",
       "      <td>4.000000</td>\n",
       "      <td>3.000000</td>\n",
       "      <td>214.000000</td>\n",
       "      <td>3.000000</td>\n",
       "      <td>1.000000</td>\n",
       "      <td>0.000000</td>\n",
       "      <td>7.000000</td>\n",
       "      <td>4149.000000</td>\n",
       "      <td>1.000000</td>\n",
       "    </tr>\n",
       "    <tr>\n",
       "      <th>75%</th>\n",
       "      <td>4.000000</td>\n",
       "      <td>2.000000</td>\n",
       "      <td>5.000000</td>\n",
       "      <td>4.000000</td>\n",
       "      <td>251.000000</td>\n",
       "      <td>4.000000</td>\n",
       "      <td>2.000000</td>\n",
       "      <td>1.000000</td>\n",
       "      <td>10.000000</td>\n",
       "      <td>5050.000000</td>\n",
       "      <td>1.000000</td>\n",
       "    </tr>\n",
       "    <tr>\n",
       "      <th>max</th>\n",
       "      <td>4.000000</td>\n",
       "      <td>2.000000</td>\n",
       "      <td>7.000000</td>\n",
       "      <td>5.000000</td>\n",
       "      <td>310.000000</td>\n",
       "      <td>10.000000</td>\n",
       "      <td>2.000000</td>\n",
       "      <td>1.000000</td>\n",
       "      <td>65.000000</td>\n",
       "      <td>7846.000000</td>\n",
       "      <td>1.000000</td>\n",
       "    </tr>\n",
       "  </tbody>\n",
       "</table>\n",
       "</div>"
      ],
      "text/plain": [
       "       Warehouse_block  Mode_of_Shipment  Customer_care_calls  \\\n",
       "count     10999.000000      10999.000000         10999.000000   \n",
       "mean          2.333394          1.516865             4.054459   \n",
       "std           1.490726          0.756894             1.141490   \n",
       "min           0.000000          0.000000             2.000000   \n",
       "25%           1.000000          1.000000             3.000000   \n",
       "50%           3.000000          2.000000             4.000000   \n",
       "75%           4.000000          2.000000             5.000000   \n",
       "max           4.000000          2.000000             7.000000   \n",
       "\n",
       "       Customer_rating  Cost_of_the_Product  Prior_purchases  \\\n",
       "count     10999.000000         10999.000000     10999.000000   \n",
       "mean          2.990545           210.196836         3.567597   \n",
       "std           1.413603            48.063272         1.522860   \n",
       "min           1.000000            96.000000         2.000000   \n",
       "25%           2.000000           169.000000         3.000000   \n",
       "50%           3.000000           214.000000         3.000000   \n",
       "75%           4.000000           251.000000         4.000000   \n",
       "max           5.000000           310.000000        10.000000   \n",
       "\n",
       "       Product_importance        Gender  Discount_offered  Weight_in_gms  \\\n",
       "count        10999.000000  10999.000000      10999.000000   10999.000000   \n",
       "mean             1.346031      0.495863         13.373216    3634.016729   \n",
       "std              0.631434      0.500006         16.205527    1635.377251   \n",
       "min              0.000000      0.000000          1.000000    1001.000000   \n",
       "25%              1.000000      0.000000          4.000000    1839.500000   \n",
       "50%              1.000000      0.000000          7.000000    4149.000000   \n",
       "75%              2.000000      1.000000         10.000000    5050.000000   \n",
       "max              2.000000      1.000000         65.000000    7846.000000   \n",
       "\n",
       "       Reached.on.Time_Y.N  \n",
       "count         10999.000000  \n",
       "mean              0.596691  \n",
       "std               0.490584  \n",
       "min               0.000000  \n",
       "25%               0.000000  \n",
       "50%               1.000000  \n",
       "75%               1.000000  \n",
       "max               1.000000  "
      ]
     },
     "execution_count": 13,
     "metadata": {},
     "output_type": "execute_result"
    }
   ],
   "source": [
    "comm.describe()"
   ]
  },
  {
   "cell_type": "code",
   "execution_count": 14,
   "id": "77371169",
   "metadata": {
    "scrolled": false
   },
   "outputs": [
    {
     "name": "stdout",
     "output_type": "stream",
     "text": [
      "Warehouse_block \n",
      "\n",
      "Distinct :  5\n",
      "Missing :  0\n",
      "Sum :  25665\n",
      "Mode :  4\n",
      "stddev :  1.490657770144777\n",
      "CV : 63.88367353914827\n",
      "Min :  0\n",
      "Max :  4\n",
      "Mean :  2.333393944904082\n",
      "Q1 :  1.0\n",
      "Q1 :  3.0\n",
      "Q1 :  4.0\n",
      "------------------------------\n",
      "Mode_of_Shipment \n",
      "\n",
      "Distinct :  3\n",
      "Missing :  0\n",
      "Sum :  16684\n",
      "Mode :  2\n",
      "stddev :  0.7568592007222695\n",
      "CV : 49.89627396753921\n",
      "Min :  0\n",
      "Max :  2\n",
      "Mean :  1.5168651695608693\n",
      "Q1 :  1.0\n",
      "Q1 :  2.0\n",
      "Q1 :  2.0\n",
      "------------------------------\n",
      "Customer_care_calls \n",
      "\n",
      "Distinct :  6\n",
      "Missing :  0\n",
      "Sum :  44595\n",
      "Mode :  4\n",
      "stddev :  1.141437755315412\n",
      "CV : 28.15264911024603\n",
      "Min :  2\n",
      "Max :  7\n",
      "Mean :  4.054459496317847\n",
      "Q1 :  3.0\n",
      "Q1 :  4.0\n",
      "Q1 :  5.0\n",
      "------------------------------\n",
      "Customer_rating \n",
      "\n",
      "Distinct :  5\n",
      "Missing :  0\n",
      "Sum :  32893\n",
      "Mode :  3\n",
      "stddev :  1.4135389093311672\n",
      "CV : 47.266939664164134\n",
      "Min :  1\n",
      "Max :  5\n",
      "Mean :  2.9905445949631786\n",
      "Q1 :  2.0\n",
      "Q1 :  3.0\n",
      "Q1 :  4.0\n",
      "------------------------------\n",
      "Cost_of_the_Product \n",
      "\n",
      "Distinct :  215\n",
      "Missing :  0\n",
      "Sum :  2311955\n",
      "Mode :  245\n",
      "stddev :  48.06108680907199\n",
      "CV : 22.86480030160547\n",
      "Min :  96\n",
      "Max :  310\n",
      "Mean :  210.19683607600692\n",
      "Q1 :  169.0\n",
      "Q1 :  214.0\n",
      "Q1 :  251.0\n",
      "------------------------------\n",
      "Prior_purchases \n",
      "\n",
      "Distinct :  8\n",
      "Missing :  0\n",
      "Sum :  39240\n",
      "Mode :  3\n",
      "stddev :  1.5227908136053485\n",
      "CV : 42.683935165252876\n",
      "Min :  2\n",
      "Max :  10\n",
      "Mean :  3.5675970542776616\n",
      "Q1 :  3.0\n",
      "Q1 :  3.0\n",
      "Q1 :  4.0\n",
      "------------------------------\n",
      "Product_importance \n",
      "\n",
      "Distinct :  3\n",
      "Missing :  0\n",
      "Sum :  14805\n",
      "Mode :  1\n",
      "stddev :  0.6314055710088285\n",
      "CV : 46.90867865941307\n",
      "Min :  0\n",
      "Max :  2\n",
      "Mean :  1.3460314574052186\n",
      "Q1 :  1.0\n",
      "Q1 :  1.0\n",
      "Q1 :  2.0\n",
      "------------------------------\n",
      "Gender \n",
      "\n",
      "Distinct :  2\n",
      "Missing :  0\n",
      "Sum :  5454\n",
      "Mode :  0\n",
      "stddev :  0.4999828870918199\n",
      "CV : 100.83079895714938\n",
      "Min :  0\n",
      "Max :  1\n",
      "Mean :  0.4958632602963906\n",
      "Q1 :  0.0\n",
      "Q1 :  0.0\n",
      "Q1 :  1.0\n",
      "------------------------------\n",
      "Discount_offered \n",
      "\n",
      "Distinct :  65\n",
      "Missing :  0\n",
      "Sum :  147092\n",
      "Mode :  10\n",
      "stddev :  16.20479038205704\n",
      "CV : 121.1734760641268\n",
      "Min :  1\n",
      "Max :  65\n",
      "Mean :  13.37321574688608\n",
      "Q1 :  4.0\n",
      "Q1 :  7.0\n",
      "Q1 :  10.0\n",
      "------------------------------\n",
      "Weight_in_gms \n",
      "\n",
      "Distinct :  4034\n",
      "Missing :  0\n",
      "Sum :  39970550\n",
      "Mode :  4883\n",
      "stddev :  1635.3029076240819\n",
      "CV : 44.999872858785466\n",
      "Min :  1001\n",
      "Max :  7846\n",
      "Mean :  3634.016728793527\n",
      "Q1 :  1839.5\n",
      "Q1 :  4149.0\n",
      "Q1 :  5050.0\n",
      "------------------------------\n",
      "Reached.on.Time_Y.N \n",
      "\n",
      "Distinct :  2\n",
      "Missing :  0\n",
      "Sum :  6563\n",
      "Mode :  1\n",
      "stddev :  0.4905618475572194\n",
      "CV : 82.21377055130056\n",
      "Min :  0\n",
      "Max :  1\n",
      "Mean :  0.5966906082371125\n",
      "Q1 :  0.0\n",
      "Q1 :  1.0\n",
      "Q1 :  1.0\n",
      "------------------------------\n"
     ]
    }
   ],
   "source": [
    "for i in comm.columns:\n",
    "    print (i,'\\n')\n",
    "    summary(comm,i)\n",
    "    print(\"-\"*30)"
   ]
  },
  {
   "cell_type": "markdown",
   "id": "994d34ff",
   "metadata": {},
   "source": [
    "## 2. Imbalanced Dataset Checking (Checking Target Class Proportion)"
   ]
  },
  {
   "cell_type": "markdown",
   "id": "1148ef77",
   "metadata": {},
   "source": [
    "#### We see our target value distribution"
   ]
  },
  {
   "cell_type": "code",
   "execution_count": 15,
   "id": "16d403c0",
   "metadata": {
    "scrolled": true
   },
   "outputs": [
    {
     "name": "stdout",
     "output_type": "stream",
     "text": [
      "1  dengan proporsi 59.66906082371125%\n",
      "0  dengan proporsi 40.33093917628875%\n"
     ]
    }
   ],
   "source": [
    "proportion(comm,'Reached.on.Time_Y.N')"
   ]
  },
  {
   "cell_type": "markdown",
   "id": "6d8548f5",
   "metadata": {},
   "source": [
    "#### It can be seen that the proportion or amount of data for each target class that we have is not too much different in number, so it is enough to avoid the problem of imbalanced datasets"
   ]
  },
  {
   "cell_type": "markdown",
   "id": "a1f0342c",
   "metadata": {},
   "source": [
    "## 3. Checking For Outlier"
   ]
  },
  {
   "cell_type": "code",
   "execution_count": 16,
   "id": "1a202425",
   "metadata": {},
   "outputs": [
    {
     "data": {
      "text/html": [
       "<div>\n",
       "<style scoped>\n",
       "    .dataframe tbody tr th:only-of-type {\n",
       "        vertical-align: middle;\n",
       "    }\n",
       "\n",
       "    .dataframe tbody tr th {\n",
       "        vertical-align: top;\n",
       "    }\n",
       "\n",
       "    .dataframe thead th {\n",
       "        text-align: right;\n",
       "    }\n",
       "</style>\n",
       "<table border=\"1\" class=\"dataframe\">\n",
       "  <thead>\n",
       "    <tr style=\"text-align: right;\">\n",
       "      <th></th>\n",
       "      <th>Customer_care_calls</th>\n",
       "      <th>Customer_rating</th>\n",
       "      <th>Cost_of_the_Product</th>\n",
       "      <th>Prior_purchases</th>\n",
       "      <th>Discount_offered</th>\n",
       "      <th>Weight_in_gms</th>\n",
       "      <th>Reached.on.Time_Y.N</th>\n",
       "    </tr>\n",
       "  </thead>\n",
       "  <tbody>\n",
       "    <tr>\n",
       "      <th>count</th>\n",
       "      <td>10999.000000</td>\n",
       "      <td>10999.000000</td>\n",
       "      <td>10999.000000</td>\n",
       "      <td>10999.000000</td>\n",
       "      <td>10999.000000</td>\n",
       "      <td>10999.000000</td>\n",
       "      <td>10999.000000</td>\n",
       "    </tr>\n",
       "    <tr>\n",
       "      <th>mean</th>\n",
       "      <td>4.054459</td>\n",
       "      <td>2.990545</td>\n",
       "      <td>210.196836</td>\n",
       "      <td>3.567597</td>\n",
       "      <td>13.373216</td>\n",
       "      <td>3634.016729</td>\n",
       "      <td>0.596691</td>\n",
       "    </tr>\n",
       "    <tr>\n",
       "      <th>std</th>\n",
       "      <td>1.141490</td>\n",
       "      <td>1.413603</td>\n",
       "      <td>48.063272</td>\n",
       "      <td>1.522860</td>\n",
       "      <td>16.205527</td>\n",
       "      <td>1635.377251</td>\n",
       "      <td>0.490584</td>\n",
       "    </tr>\n",
       "    <tr>\n",
       "      <th>min</th>\n",
       "      <td>2.000000</td>\n",
       "      <td>1.000000</td>\n",
       "      <td>96.000000</td>\n",
       "      <td>2.000000</td>\n",
       "      <td>1.000000</td>\n",
       "      <td>1001.000000</td>\n",
       "      <td>0.000000</td>\n",
       "    </tr>\n",
       "    <tr>\n",
       "      <th>25%</th>\n",
       "      <td>3.000000</td>\n",
       "      <td>2.000000</td>\n",
       "      <td>169.000000</td>\n",
       "      <td>3.000000</td>\n",
       "      <td>4.000000</td>\n",
       "      <td>1839.500000</td>\n",
       "      <td>0.000000</td>\n",
       "    </tr>\n",
       "    <tr>\n",
       "      <th>50%</th>\n",
       "      <td>4.000000</td>\n",
       "      <td>3.000000</td>\n",
       "      <td>214.000000</td>\n",
       "      <td>3.000000</td>\n",
       "      <td>7.000000</td>\n",
       "      <td>4149.000000</td>\n",
       "      <td>1.000000</td>\n",
       "    </tr>\n",
       "    <tr>\n",
       "      <th>75%</th>\n",
       "      <td>5.000000</td>\n",
       "      <td>4.000000</td>\n",
       "      <td>251.000000</td>\n",
       "      <td>4.000000</td>\n",
       "      <td>10.000000</td>\n",
       "      <td>5050.000000</td>\n",
       "      <td>1.000000</td>\n",
       "    </tr>\n",
       "    <tr>\n",
       "      <th>max</th>\n",
       "      <td>7.000000</td>\n",
       "      <td>5.000000</td>\n",
       "      <td>310.000000</td>\n",
       "      <td>10.000000</td>\n",
       "      <td>65.000000</td>\n",
       "      <td>7846.000000</td>\n",
       "      <td>1.000000</td>\n",
       "    </tr>\n",
       "  </tbody>\n",
       "</table>\n",
       "</div>"
      ],
      "text/plain": [
       "       Customer_care_calls  Customer_rating  Cost_of_the_Product  \\\n",
       "count         10999.000000     10999.000000         10999.000000   \n",
       "mean              4.054459         2.990545           210.196836   \n",
       "std               1.141490         1.413603            48.063272   \n",
       "min               2.000000         1.000000            96.000000   \n",
       "25%               3.000000         2.000000           169.000000   \n",
       "50%               4.000000         3.000000           214.000000   \n",
       "75%               5.000000         4.000000           251.000000   \n",
       "max               7.000000         5.000000           310.000000   \n",
       "\n",
       "       Prior_purchases  Discount_offered  Weight_in_gms  Reached.on.Time_Y.N  \n",
       "count     10999.000000      10999.000000   10999.000000         10999.000000  \n",
       "mean          3.567597         13.373216    3634.016729             0.596691  \n",
       "std           1.522860         16.205527    1635.377251             0.490584  \n",
       "min           2.000000          1.000000    1001.000000             0.000000  \n",
       "25%           3.000000          4.000000    1839.500000             0.000000  \n",
       "50%           3.000000          7.000000    4149.000000             1.000000  \n",
       "75%           4.000000         10.000000    5050.000000             1.000000  \n",
       "max          10.000000         65.000000    7846.000000             1.000000  "
      ]
     },
     "execution_count": 16,
     "metadata": {},
     "output_type": "execute_result"
    }
   ],
   "source": [
    "df.describe()"
   ]
  },
  {
   "cell_type": "markdown",
   "id": "0bb38dcc",
   "metadata": {},
   "source": [
    "#### Dari deskripsi statistik data, fitur \"Weight_in_gms\" terlihat sedikit mencurigakan, kita akan cek apakah pada fitur-fitur tersebut terdapat outlier"
   ]
  },
  {
   "cell_type": "markdown",
   "id": "4b2090aa",
   "metadata": {},
   "source": [
    "#### Kita cek outlier dengan menggunakan Interquartile Range (IQR)"
   ]
  },
  {
   "cell_type": "code",
   "execution_count": 17,
   "id": "dd5ff1cc",
   "metadata": {},
   "outputs": [],
   "source": [
    "Q12 = df['Weight_in_gms'].quantile(0.25)\n",
    "Q32 = df['Weight_in_gms'].quantile(0.75)\n",
    "IQR = Q32-Q12"
   ]
  },
  {
   "cell_type": "code",
   "execution_count": 18,
   "id": "060a047f",
   "metadata": {},
   "outputs": [
    {
     "data": {
      "text/html": [
       "<div>\n",
       "<style scoped>\n",
       "    .dataframe tbody tr th:only-of-type {\n",
       "        vertical-align: middle;\n",
       "    }\n",
       "\n",
       "    .dataframe tbody tr th {\n",
       "        vertical-align: top;\n",
       "    }\n",
       "\n",
       "    .dataframe thead th {\n",
       "        text-align: right;\n",
       "    }\n",
       "</style>\n",
       "<table border=\"1\" class=\"dataframe\">\n",
       "  <thead>\n",
       "    <tr style=\"text-align: right;\">\n",
       "      <th></th>\n",
       "      <th>Warehouse_block</th>\n",
       "      <th>Mode_of_Shipment</th>\n",
       "      <th>Customer_care_calls</th>\n",
       "      <th>Customer_rating</th>\n",
       "      <th>Cost_of_the_Product</th>\n",
       "      <th>Prior_purchases</th>\n",
       "      <th>Product_importance</th>\n",
       "      <th>Gender</th>\n",
       "      <th>Discount_offered</th>\n",
       "      <th>Weight_in_gms</th>\n",
       "      <th>Reached.on.Time_Y.N</th>\n",
       "    </tr>\n",
       "  </thead>\n",
       "  <tbody>\n",
       "  </tbody>\n",
       "</table>\n",
       "</div>"
      ],
      "text/plain": [
       "Empty DataFrame\n",
       "Columns: [Warehouse_block, Mode_of_Shipment, Customer_care_calls, Customer_rating, Cost_of_the_Product, Prior_purchases, Product_importance, Gender, Discount_offered, Weight_in_gms, Reached.on.Time_Y.N]\n",
       "Index: []"
      ]
     },
     "execution_count": 18,
     "metadata": {},
     "output_type": "execute_result"
    }
   ],
   "source": [
    "df[df['Weight_in_gms']>(Q32+(1.5*IQR))]"
   ]
  },
  {
   "cell_type": "markdown",
   "id": "ca85983e",
   "metadata": {},
   "source": [
    "#### Terlihat tidak terdeteksi adanya outlier pada fitur data Weight_in_gms"
   ]
  },
  {
   "cell_type": "markdown",
   "id": "f7c4991d",
   "metadata": {},
   "source": [
    " "
   ]
  },
  {
   "cell_type": "markdown",
   "id": "d64ba3b5",
   "metadata": {},
   "source": [
    "# C. Data Visualization"
   ]
  },
  {
   "cell_type": "markdown",
   "id": "c58054f5",
   "metadata": {},
   "source": [
    "## 1. Korelasi Antar Fitur Pada Data"
   ]
  },
  {
   "cell_type": "markdown",
   "id": "39bc6920",
   "metadata": {},
   "source": [
    "Kita lihat correlation heatmap pada data awal"
   ]
  },
  {
   "cell_type": "code",
   "execution_count": 19,
   "id": "c03ce0e0",
   "metadata": {},
   "outputs": [
    {
     "data": {
      "image/png": "[encoded data removed]",
      "text/plain": [
       "<Figure size 1152x648 with 2 Axes>"
      ]
     },
     "metadata": {
      "needs_background": "light"
     },
     "output_type": "display_data"
    }
   ],
   "source": [
    "plt.figure(figsize=(16,9))\n",
    "x = df.drop(['Warehouse_block','Mode_of_Shipment','Product_importance','Gender'],axis = 1)\n",
    "ax = sns.heatmap(df.corr(),annot = True,cmap = 'viridis')\n",
    "plt.show()"
   ]
  },
  {
   "cell_type": "markdown",
   "id": "eaa7645e",
   "metadata": {},
   "source": [
    "#### Sekarang kita coba juga pada data yang sudah diencoding"
   ]
  },
  {
   "cell_type": "code",
   "execution_count": 20,
   "id": "c48fb257",
   "metadata": {},
   "outputs": [
    {
     "data": {
      "image/png": "[encoded data removed]",
      "text/plain": [
       "<Figure size 1152x648 with 2 Axes>"
      ]
     },
     "metadata": {
      "needs_background": "light"
     },
     "output_type": "display_data"
    }
   ],
   "source": [
    "plt.figure(figsize=(16,9))\n",
    "x = comm\n",
    "ax = sns.heatmap(comm.corr(),annot = True,cmap = 'viridis')\n",
    "plt.show()"
   ]
  },
  {
   "cell_type": "markdown",
   "id": "bd66de08",
   "metadata": {},
   "source": [
    "#### Terlihat bahwa masing-masing fitur pada data tidak ada yang memiliki korelasi signifikan pada kolom target kita, yaitu \"Reached.on.Time_YN\"\n",
    "\n",
    "#### Fitur discount_offered memiliki korelasi paling besar, yaitu 0.4 pada fitur \"Reached.on.Time_YN\", namun nilai ini tidak menunjukan korelasi yang cukup kuat antara kedua fitur tersebut."
   ]
  },
  {
   "cell_type": "markdown",
   "id": "eee33fd8",
   "metadata": {},
   "source": [
    "## 2. Basic Visualization"
   ]
  },
  {
   "cell_type": "code",
   "execution_count": 21,
   "id": "aec98782",
   "metadata": {},
   "outputs": [
    {
     "name": "stdout",
     "output_type": "stream",
     "text": [
      "<class 'pandas.core.frame.DataFrame'>\n",
      "RangeIndex: 10999 entries, 0 to 10998\n",
      "Data columns (total 11 columns):\n",
      " #   Column               Non-Null Count  Dtype \n",
      "---  ------               --------------  ----- \n",
      " 0   Warehouse_block      10999 non-null  object\n",
      " 1   Mode_of_Shipment     10999 non-null  object\n",
      " 2   Customer_care_calls  10999 non-null  int64 \n",
      " 3   Customer_rating      10999 non-null  int64 \n",
      " 4   Cost_of_the_Product  10999 non-null  int64 \n",
      " 5   Prior_purchases      10999 non-null  int64 \n",
      " 6   Product_importance   10999 non-null  object\n",
      " 7   Gender               10999 non-null  object\n",
      " 8   Discount_offered     10999 non-null  int64 \n",
      " 9   Weight_in_gms        10999 non-null  int64 \n",
      " 10  Reached.on.Time_Y.N  10999 non-null  int64 \n",
      "dtypes: int64(7), object(4)\n",
      "memory usage: 945.4+ KB\n"
     ]
    }
   ],
   "source": [
    "df.info()"
   ]
  },
  {
   "cell_type": "markdown",
   "id": "b91e0acd",
   "metadata": {},
   "source": [
    "### 2.1. Fitur Warehouse_block"
   ]
  },
  {
   "cell_type": "code",
   "execution_count": 22,
   "id": "0881b904",
   "metadata": {
    "scrolled": false
   },
   "outputs": [
    {
     "data": {
      "image/png": "[encoded data removed]",
      "text/plain": [
       "<Figure size 936x576 with 1 Axes>"
      ]
     },
     "metadata": {},
     "output_type": "display_data"
    }
   ],
   "source": [
    "sns.set_theme(style=\"whitegrid\")\n",
    "sns.set(rc = {'figure.figsize':(13,8)})\n",
    "ax = sns.countplot(x='Warehouse_block',data=df)"
   ]
  },
  {
   "cell_type": "code",
   "execution_count": 23,
   "id": "34d69ace",
   "metadata": {},
   "outputs": [
    {
     "data": {
      "text/plain": [
       "<seaborn.axisgrid.FacetGrid at 0x7f996a9a9160>"
      ]
     },
     "execution_count": 23,
     "metadata": {},
     "output_type": "execute_result"
    },
    {
     "data": {
      "text/plain": [
       "<Figure size 1440x576 with 0 Axes>"
      ]
     },
     "metadata": {},
     "output_type": "display_data"
    },
    {
     "data": {
      "image/png": "[encoded data removed]",
      "text/plain": [
       "<Figure size 992.175x576 with 1 Axes>"
      ]
     },
     "metadata": {},
     "output_type": "display_data"
    }
   ],
   "source": [
    "sns.set_theme(style=\"whitegrid\")\n",
    "plt.figure(figsize = (20,8))\n",
    "sns.catplot(x='Warehouse_block',hue='Reached.on.Time_Y.N',data=df,kind=\"count\",height=8, aspect=1.5)"
   ]
  },
  {
   "cell_type": "markdown",
   "id": "56775168",
   "metadata": {},
   "source": [
    "### 2.2. Fitur Mode_of_Shipment"
   ]
  },
  {
   "cell_type": "code",
   "execution_count": 24,
   "id": "2baf03c9",
   "metadata": {},
   "outputs": [
    {
     "data": {
      "image/png": "[encoded data removed]",
      "text/plain": [
       "<Figure size 936x576 with 1 Axes>"
      ]
     },
     "metadata": {},
     "output_type": "display_data"
    }
   ],
   "source": [
    "sns.set_theme(style=\"whitegrid\")\n",
    "sns.set(rc = {'figure.figsize':(13,8)})\n",
    "ax = sns.countplot(x='Mode_of_Shipment',data=df)"
   ]
  },
  {
   "cell_type": "code",
   "execution_count": 25,
   "id": "5c18fb27",
   "metadata": {},
   "outputs": [
    {
     "data": {
      "text/plain": [
       "<seaborn.axisgrid.FacetGrid at 0x7f996b42d100>"
      ]
     },
     "execution_count": 25,
     "metadata": {},
     "output_type": "execute_result"
    },
    {
     "data": {
      "text/plain": [
       "<Figure size 1440x576 with 0 Axes>"
      ]
     },
     "metadata": {},
     "output_type": "display_data"
    },
    {
     "data": {
      "image/png": "[encoded data removed]",
      "text/plain": [
       "<Figure size 992.175x576 with 1 Axes>"
      ]
     },
     "metadata": {},
     "output_type": "display_data"
    }
   ],
   "source": [
    "sns.set_theme(style=\"whitegrid\")\n",
    "plt.figure(figsize = (20,8))\n",
    "sns.catplot(x='Mode_of_Shipment',hue='Reached.on.Time_Y.N',data=df,kind=\"count\",height=8, aspect=1.5)"
   ]
  },
  {
   "cell_type": "markdown",
   "id": "45972393",
   "metadata": {},
   "source": [
    "### 2.3. Fitur Customer_care_calls"
   ]
  },
  {
   "cell_type": "code",
   "execution_count": 26,
   "id": "e7e3495c",
   "metadata": {},
   "outputs": [
    {
     "data": {
      "text/plain": [
       "<seaborn.axisgrid.FacetGrid at 0x7f996aed8520>"
      ]
     },
     "execution_count": 26,
     "metadata": {},
     "output_type": "execute_result"
    },
    {
     "data": {
      "text/plain": [
       "<Figure size 1440x576 with 0 Axes>"
      ]
     },
     "metadata": {},
     "output_type": "display_data"
    },
    {
     "data": {
      "image/png": "[encoded data removed]",
      "text/plain": [
       "<Figure size 992.175x576 with 1 Axes>"
      ]
     },
     "metadata": {},
     "output_type": "display_data"
    }
   ],
   "source": [
    "sns.set_theme(style=\"whitegrid\")\n",
    "plt.figure(figsize = (20,8))\n",
    "sns.catplot(x='Customer_care_calls',hue='Reached.on.Time_Y.N',data=df,kind=\"count\",height=8, aspect=1.5)"
   ]
  },
  {
   "cell_type": "markdown",
   "id": "e1b7d0e7",
   "metadata": {},
   "source": [
    "### 2.4. Fitur Customer_rating"
   ]
  },
  {
   "cell_type": "code",
   "execution_count": 27,
   "id": "f6e51675",
   "metadata": {},
   "outputs": [
    {
     "data": {
      "text/plain": [
       "<seaborn.axisgrid.FacetGrid at 0x7f996a99ce50>"
      ]
     },
     "execution_count": 27,
     "metadata": {},
     "output_type": "execute_result"
    },
    {
     "data": {
      "text/plain": [
       "<Figure size 1440x576 with 0 Axes>"
      ]
     },
     "metadata": {},
     "output_type": "display_data"
    },
    {
     "data": {
      "image/png": "[encoded data removed]",
      "text/plain": [
       "<Figure size 992.175x576 with 1 Axes>"
      ]
     },
     "metadata": {},
     "output_type": "display_data"
    }
   ],
   "source": [
    "sns.set_theme(style=\"whitegrid\")\n",
    "plt.figure(figsize = (20,8))\n",
    "sns.catplot(x='Customer_rating',hue='Reached.on.Time_Y.N',data=df,kind=\"count\",height=8, aspect=1.5)"
   ]
  },
  {
   "cell_type": "markdown",
   "id": "55edad83",
   "metadata": {},
   "source": [
    "### 2.5. Fitur Cost_of_the_Product"
   ]
  },
  {
   "cell_type": "code",
   "execution_count": 28,
   "id": "81c908e7",
   "metadata": {},
   "outputs": [
    {
     "data": {
      "text/plain": [
       "<AxesSubplot:xlabel='Cost_of_the_Product', ylabel='Count'>"
      ]
     },
     "execution_count": 28,
     "metadata": {},
     "output_type": "execute_result"
    },
    {
     "data": {
      "image/png": "[encoded data removed]",
      "text/plain": [
       "<Figure size 936x576 with 1 Axes>"
      ]
     },
     "metadata": {},
     "output_type": "display_data"
    }
   ],
   "source": [
    "sns.histplot(data=df, x=\"Cost_of_the_Product\",hue=\"Reached.on.Time_Y.N\",element=\"step\")"
   ]
  },
  {
   "cell_type": "markdown",
   "id": "37ca22e3",
   "metadata": {},
   "source": [
    "### 2.6. Fitur Prior_purchases"
   ]
  },
  {
   "cell_type": "code",
   "execution_count": 29,
   "id": "7dea3d31",
   "metadata": {},
   "outputs": [
    {
     "data": {
      "text/plain": [
       "<seaborn.axisgrid.FacetGrid at 0x7f996aee6f40>"
      ]
     },
     "execution_count": 29,
     "metadata": {},
     "output_type": "execute_result"
    },
    {
     "data": {
      "text/plain": [
       "<Figure size 1440x576 with 0 Axes>"
      ]
     },
     "metadata": {},
     "output_type": "display_data"
    },
    {
     "data": {
      "image/png": "[encoded data removed]",
      "text/plain": [
       "<Figure size 992.175x576 with 1 Axes>"
      ]
     },
     "metadata": {},
     "output_type": "display_data"
    }
   ],
   "source": [
    "sns.set_theme(style=\"whitegrid\")\n",
    "plt.figure(figsize = (20,8))\n",
    "sns.catplot(x='Prior_purchases',hue='Reached.on.Time_Y.N',data=df,kind=\"count\",height=8, aspect=1.5)"
   ]
  },
  {
   "cell_type": "markdown",
   "id": "94f02534",
   "metadata": {},
   "source": [
    "### 2.7. Fitur Product_importance"
   ]
  },
  {
   "cell_type": "code",
   "execution_count": 30,
   "id": "7ff4d9a2",
   "metadata": {},
   "outputs": [
    {
     "data": {
      "image/png": "[encoded data removed]",
      "text/plain": [
       "<Figure size 936x576 with 1 Axes>"
      ]
     },
     "metadata": {},
     "output_type": "display_data"
    }
   ],
   "source": [
    "sns.set_theme(style=\"whitegrid\")\n",
    "sns.set(rc = {'figure.figsize':(13,8)})\n",
    "ax = sns.countplot(x='Product_importance',data=df)"
   ]
  },
  {
   "cell_type": "code",
   "execution_count": 31,
   "id": "7b6950f5",
   "metadata": {},
   "outputs": [
    {
     "data": {
      "text/plain": [
       "<seaborn.axisgrid.FacetGrid at 0x7f996a95b6a0>"
      ]
     },
     "execution_count": 31,
     "metadata": {},
     "output_type": "execute_result"
    },
    {
     "data": {
      "text/plain": [
       "<Figure size 1440x576 with 0 Axes>"
      ]
     },
     "metadata": {},
     "output_type": "display_data"
    },
    {
     "data": {
      "image/png": "[encoded data removed]",
      "text/plain": [
       "<Figure size 992.175x576 with 1 Axes>"
      ]
     },
     "metadata": {},
     "output_type": "display_data"
    }
   ],
   "source": [
    "sns.set_theme(style=\"whitegrid\")\n",
    "plt.figure(figsize = (20,8))\n",
    "sns.catplot(x='Product_importance',hue='Reached.on.Time_Y.N',data=df,kind=\"count\",height=8, aspect=1.5)"
   ]
  },
  {
   "cell_type": "markdown",
   "id": "a22488b4",
   "metadata": {},
   "source": [
    "### 2.8. Fitur Gender"
   ]
  },
  {
   "cell_type": "code",
   "execution_count": 32,
   "id": "b8d4618d",
   "metadata": {},
   "outputs": [
    {
     "data": {
      "image/png": "[encoded data removed]",
      "text/plain": [
       "<Figure size 936x576 with 1 Axes>"
      ]
     },
     "metadata": {},
     "output_type": "display_data"
    }
   ],
   "source": [
    "sns.set_theme(style=\"whitegrid\")\n",
    "sns.set(rc = {'figure.figsize':(13,8)})\n",
    "ax = sns.countplot(x='Gender',data=df)"
   ]
  },
  {
   "cell_type": "code",
   "execution_count": 33,
   "id": "4548b2e1",
   "metadata": {
    "scrolled": false
   },
   "outputs": [
    {
     "data": {
      "text/plain": [
       "<seaborn.axisgrid.FacetGrid at 0x7f995893ec10>"
      ]
     },
     "execution_count": 33,
     "metadata": {},
     "output_type": "execute_result"
    },
    {
     "data": {
      "text/plain": [
       "<Figure size 1440x576 with 0 Axes>"
      ]
     },
     "metadata": {},
     "output_type": "display_data"
    },
    {
     "data": {
      "image/png": "[encoded data removed]",
      "text/plain": [
       "<Figure size 992.175x576 with 1 Axes>"
      ]
     },
     "metadata": {},
     "output_type": "display_data"
    }
   ],
   "source": [
    "sns.set_theme(style=\"whitegrid\")\n",
    "plt.figure(figsize = (20,8))\n",
    "sns.catplot(x='Gender',hue='Reached.on.Time_Y.N',data=df,kind=\"count\",height=8, aspect=1.5)"
   ]
  },
  {
   "cell_type": "markdown",
   "id": "ec89a452",
   "metadata": {},
   "source": [
    "### 2.9. Fitur Discount_offered"
   ]
  },
  {
   "cell_type": "code",
   "execution_count": 34,
   "id": "568ba904",
   "metadata": {},
   "outputs": [
    {
     "data": {
      "text/plain": [
       "<AxesSubplot:xlabel='Discount_offered', ylabel='Count'>"
      ]
     },
     "execution_count": 34,
     "metadata": {},
     "output_type": "execute_result"
    },
    {
     "data": {
      "image/png": "[encoded data removed]",
      "text/plain": [
       "<Figure size 936x576 with 1 Axes>"
      ]
     },
     "metadata": {},
     "output_type": "display_data"
    }
   ],
   "source": [
    "sns.histplot(data=df, x=\"Discount_offered\",hue=\"Reached.on.Time_Y.N\",element=\"step\")"
   ]
  },
  {
   "cell_type": "markdown",
   "id": "dcdd2b97",
   "metadata": {},
   "source": [
    "### 2.10. Fitur Weight_in_gms"
   ]
  },
  {
   "cell_type": "code",
   "execution_count": 35,
   "id": "2d195c7c",
   "metadata": {},
   "outputs": [
    {
     "data": {
      "text/plain": [
       "<AxesSubplot:xlabel='Weight_in_gms', ylabel='Count'>"
      ]
     },
     "execution_count": 35,
     "metadata": {},
     "output_type": "execute_result"
    },
    {
     "data": {
      "image/png": "[encoded data removed]",
      "text/plain": [
       "<Figure size 936x576 with 1 Axes>"
      ]
     },
     "metadata": {},
     "output_type": "display_data"
    }
   ],
   "source": [
    "sns.histplot(data=df, x=\"Weight_in_gms\",hue=\"Reached.on.Time_Y.N\",element=\"step\")"
   ]
  },
  {
   "cell_type": "code",
   "execution_count": null,
   "id": "854c9977",
   "metadata": {},
   "outputs": [],
   "source": []
  },
  {
   "cell_type": "code",
   "execution_count": null,
   "id": "f7c38982",
   "metadata": {},
   "outputs": [],
   "source": []
  },
  {
   "cell_type": "code",
   "execution_count": null,
   "id": "a474eb1b",
   "metadata": {},
   "outputs": [],
   "source": []
  }
 ],
 "metadata": {
  "kernelspec": {
   "display_name": "Python 3 (ipykernel)",
   "language": "python",
   "name": "python3"
  },
  "language_info": {
   "codemirror_mode": {
    "name": "ipython",
    "version": 3
   },
   "file_extension": ".py",
   "mimetype": "text/x-python",
   "name": "python",
   "nbconvert_exporter": "python",
   "pygments_lexer": "ipython3",
   "version": "3.9.7"
  }
 },
 "nbformat": 4,
 "nbformat_minor": 5
}
