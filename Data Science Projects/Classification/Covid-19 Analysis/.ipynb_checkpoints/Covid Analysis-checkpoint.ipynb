{
 "cells": [
  {
   "cell_type": "markdown",
   "metadata": {},
   "source": [
    "# 1. Import library dan dataset"
   ]
  },
  {
   "cell_type": "code",
   "execution_count": 1,
   "metadata": {},
   "outputs": [],
   "source": [
    "#Importing required modules\n",
    "import pandas as pd\n",
    "import numpy as np\n",
    "import matplotlib.pyplot as plt\n",
    "from sklearn.metrics import confusion_matrix,classification_report\n",
    "from sklearn.model_selection import cross_val_score, GridSearchCV\n",
    "\n",
    "#Reading datasets\n",
    "#main dataset\n",
    "df = pd.read_csv('covid.csv')\n",
    "#region and climate dataset\n",
    "df_cat = pd.read_csv('covid_cat.csv')"
   ]
  },
  {
   "cell_type": "code",
   "execution_count": 2,
   "metadata": {},
   "outputs": [
    {
     "data": {
      "text/html": [
       "<div>\n",
       "<style scoped>\n",
       "    .dataframe tbody tr th:only-of-type {\n",
       "        vertical-align: middle;\n",
       "    }\n",
       "\n",
       "    .dataframe tbody tr th {\n",
       "        vertical-align: top;\n",
       "    }\n",
       "\n",
       "    .dataframe thead th {\n",
       "        text-align: right;\n",
       "    }\n",
       "</style>\n",
       "<table border=\"1\" class=\"dataframe\">\n",
       "  <thead>\n",
       "    <tr style=\"text-align: right;\">\n",
       "      <th></th>\n",
       "      <th>Unnamed: 0</th>\n",
       "      <th>country</th>\n",
       "      <th>province</th>\n",
       "      <th>date</th>\n",
       "      <th>confirmed</th>\n",
       "      <th>recovered</th>\n",
       "      <th>deaths</th>\n",
       "    </tr>\n",
       "  </thead>\n",
       "  <tbody>\n",
       "    <tr>\n",
       "      <th>0</th>\n",
       "      <td>0</td>\n",
       "      <td>Afghanistan</td>\n",
       "      <td>0</td>\n",
       "      <td>2020-01-22</td>\n",
       "      <td>0.0</td>\n",
       "      <td>0.0</td>\n",
       "      <td>0.0</td>\n",
       "    </tr>\n",
       "    <tr>\n",
       "      <th>1</th>\n",
       "      <td>1</td>\n",
       "      <td>Albania</td>\n",
       "      <td>0</td>\n",
       "      <td>2020-01-22</td>\n",
       "      <td>0.0</td>\n",
       "      <td>0.0</td>\n",
       "      <td>0.0</td>\n",
       "    </tr>\n",
       "    <tr>\n",
       "      <th>2</th>\n",
       "      <td>2</td>\n",
       "      <td>Algeria</td>\n",
       "      <td>0</td>\n",
       "      <td>2020-01-22</td>\n",
       "      <td>0.0</td>\n",
       "      <td>0.0</td>\n",
       "      <td>0.0</td>\n",
       "    </tr>\n",
       "    <tr>\n",
       "      <th>3</th>\n",
       "      <td>3</td>\n",
       "      <td>Andorra</td>\n",
       "      <td>0</td>\n",
       "      <td>2020-01-22</td>\n",
       "      <td>0.0</td>\n",
       "      <td>0.0</td>\n",
       "      <td>0.0</td>\n",
       "    </tr>\n",
       "    <tr>\n",
       "      <th>4</th>\n",
       "      <td>4</td>\n",
       "      <td>Angola</td>\n",
       "      <td>0</td>\n",
       "      <td>2020-01-22</td>\n",
       "      <td>0.0</td>\n",
       "      <td>0.0</td>\n",
       "      <td>0.0</td>\n",
       "    </tr>\n",
       "  </tbody>\n",
       "</table>\n",
       "</div>"
      ],
      "text/plain": [
       "   Unnamed: 0      country province        date  confirmed  recovered  deaths\n",
       "0           0  Afghanistan        0  2020-01-22        0.0        0.0     0.0\n",
       "1           1      Albania        0  2020-01-22        0.0        0.0     0.0\n",
       "2           2      Algeria        0  2020-01-22        0.0        0.0     0.0\n",
       "3           3      Andorra        0  2020-01-22        0.0        0.0     0.0\n",
       "4           4       Angola        0  2020-01-22        0.0        0.0     0.0"
      ]
     },
     "execution_count": 2,
     "metadata": {},
     "output_type": "execute_result"
    }
   ],
   "source": [
    "df.head()"
   ]
  },
  {
   "cell_type": "code",
   "execution_count": 3,
   "metadata": {},
   "outputs": [
    {
     "data": {
      "text/html": [
       "<div>\n",
       "<style scoped>\n",
       "    .dataframe tbody tr th:only-of-type {\n",
       "        vertical-align: middle;\n",
       "    }\n",
       "\n",
       "    .dataframe tbody tr th {\n",
       "        vertical-align: top;\n",
       "    }\n",
       "\n",
       "    .dataframe thead th {\n",
       "        text-align: right;\n",
       "    }\n",
       "</style>\n",
       "<table border=\"1\" class=\"dataframe\">\n",
       "  <thead>\n",
       "    <tr style=\"text-align: right;\">\n",
       "      <th></th>\n",
       "      <th>country</th>\n",
       "      <th>region</th>\n",
       "      <th>climate</th>\n",
       "    </tr>\n",
       "  </thead>\n",
       "  <tbody>\n",
       "    <tr>\n",
       "      <th>0</th>\n",
       "      <td>Afghanistan</td>\n",
       "      <td>Asia &amp; Pacific</td>\n",
       "      <td>nontropic</td>\n",
       "    </tr>\n",
       "    <tr>\n",
       "      <th>1</th>\n",
       "      <td>Albania</td>\n",
       "      <td>Europe</td>\n",
       "      <td>nontropic</td>\n",
       "    </tr>\n",
       "    <tr>\n",
       "      <th>2</th>\n",
       "      <td>Algeria</td>\n",
       "      <td>Arab States</td>\n",
       "      <td>nontropic</td>\n",
       "    </tr>\n",
       "    <tr>\n",
       "      <th>3</th>\n",
       "      <td>Andorra</td>\n",
       "      <td>Europe</td>\n",
       "      <td>nontropic</td>\n",
       "    </tr>\n",
       "    <tr>\n",
       "      <th>4</th>\n",
       "      <td>Angola</td>\n",
       "      <td>Africa</td>\n",
       "      <td>tropic</td>\n",
       "    </tr>\n",
       "  </tbody>\n",
       "</table>\n",
       "</div>"
      ],
      "text/plain": [
       "       country          region    climate\n",
       "0  Afghanistan  Asia & Pacific  nontropic\n",
       "1      Albania          Europe  nontropic\n",
       "2      Algeria     Arab States  nontropic\n",
       "3      Andorra          Europe  nontropic\n",
       "4       Angola          Africa     tropic"
      ]
     },
     "execution_count": 3,
     "metadata": {},
     "output_type": "execute_result"
    }
   ],
   "source": [
    "df_cat.head()"
   ]
  },
  {
   "cell_type": "code",
   "execution_count": 4,
   "metadata": {},
   "outputs": [
    {
     "data": {
      "text/plain": [
       "(175840, 7)"
      ]
     },
     "execution_count": 4,
     "metadata": {},
     "output_type": "execute_result"
    }
   ],
   "source": [
    "df.shape"
   ]
  },
  {
   "cell_type": "code",
   "execution_count": 5,
   "metadata": {},
   "outputs": [
    {
     "data": {
      "text/plain": [
       "195"
      ]
     },
     "execution_count": 5,
     "metadata": {},
     "output_type": "execute_result"
    }
   ],
   "source": [
    "df['country'].nunique()"
   ]
  },
  {
   "cell_type": "code",
   "execution_count": 6,
   "metadata": {},
   "outputs": [
    {
     "name": "stdout",
     "output_type": "stream",
     "text": [
      "Jumlah hari observasi : 628\n",
      "Tanggal pertama observasi : 2020-01-22 00:00:00\n",
      "Tanggal terakhir observasi : 2021-10-10 00:00:00\n"
     ]
    }
   ],
   "source": [
    "df['date']=pd.to_datetime(df['date'])\n",
    "print('Jumlah hari observasi :', df['date'].nunique())\n",
    "print('Tanggal pertama observasi :', df['date'].min())\n",
    "print('Tanggal terakhir observasi :', df['date'].max())"
   ]
  },
  {
   "cell_type": "markdown",
   "metadata": {},
   "source": [
    "### Data covid yang kita miliki terdiri dari 7 kolom fitur dan 175840 baris data. Data kita mengandung data dari 195 negara yang berbeda dari hasil observasi selama 628 hari terhitung sejak tanggal 22 Januari 2020 sampai tanggal 10 Oktober 2021"
   ]
  },
  {
   "cell_type": "markdown",
   "metadata": {},
   "source": [
    " "
   ]
  },
  {
   "cell_type": "markdown",
   "metadata": {},
   "source": [
    "# 2. Data Cleansing"
   ]
  },
  {
   "cell_type": "markdown",
   "metadata": {},
   "source": [
    "## Kita ubah beberapa data pada kolom 'country' agar tidak ada nama berbeda untuk negara yang sama."
   ]
  },
  {
   "cell_type": "code",
   "execution_count": 7,
   "metadata": {},
   "outputs": [],
   "source": [
    "df = df.replace({'country':{\"('St. Martin',)\":'St. Martin',\n",
    "' Azerbaijan':'Azerbaijan',\n",
    "'Cabo Verde':'Cape Verde',\n",
    "'Congo (Brazzaville)':'Congo',\n",
    "'Congo (Kinshasa)':'Congo',\n",
    "'North Ireland':'Ireland',\n",
    "'North Macedonia':'Macedonia',\n",
    "'occupied Palestinian territory':'Palestine',\n",
    "'Holy See':'Vatican',\n",
    "'Republic of Ireland':'Ireland',\n",
    "'The Bahamas':'Bahamas',\n",
    "'The Gambia':'Gambia',\n",
    "'Bahamas, The':'Bahamas',\n",
    "'Gambia, The':'Gambia',\n",
    "'Vatican City':'Vatican',\n",
    "'East Timor':'Timor-Leste',\n",
    "'West Bank and Gaza':'Palestine',\n",
    "'MS Zaandam':'Others',\n",
    "'Diamond Princess':'Others'}})"
   ]
  },
  {
   "cell_type": "markdown",
   "metadata": {},
   "source": [
    "## Beberapa 'country' pada dataframe 'df' data hariannya dibagi menjadi beberapa 'province'. Kita akumulasikan data 'confirmed','deaths', dan 'recovered' provinsi-provinsi ini sehingga data harian tiap negara hanya diwakili oleh 1 row dengan membuat dataframe baru 'df_new'"
   ]
  },
  {
   "cell_type": "code",
   "execution_count": 8,
   "metadata": {},
   "outputs": [
    {
     "data": {
      "text/html": [
       "<div>\n",
       "<style scoped>\n",
       "    .dataframe tbody tr th:only-of-type {\n",
       "        vertical-align: middle;\n",
       "    }\n",
       "\n",
       "    .dataframe tbody tr th {\n",
       "        vertical-align: top;\n",
       "    }\n",
       "\n",
       "    .dataframe thead th {\n",
       "        text-align: right;\n",
       "    }\n",
       "</style>\n",
       "<table border=\"1\" class=\"dataframe\">\n",
       "  <thead>\n",
       "    <tr style=\"text-align: right;\">\n",
       "      <th></th>\n",
       "      <th>country</th>\n",
       "      <th>date</th>\n",
       "      <th>confirmed</th>\n",
       "      <th>deaths</th>\n",
       "      <th>recovered</th>\n",
       "    </tr>\n",
       "  </thead>\n",
       "  <tbody>\n",
       "    <tr>\n",
       "      <th>121184</th>\n",
       "      <td>Zimbabwe</td>\n",
       "      <td>2021-09-21</td>\n",
       "      <td>128186.0</td>\n",
       "      <td>4569.0</td>\n",
       "      <td>0.0</td>\n",
       "    </tr>\n",
       "    <tr>\n",
       "      <th>121185</th>\n",
       "      <td>Zimbabwe</td>\n",
       "      <td>2021-09-22</td>\n",
       "      <td>128804.0</td>\n",
       "      <td>4592.0</td>\n",
       "      <td>0.0</td>\n",
       "    </tr>\n",
       "    <tr>\n",
       "      <th>121186</th>\n",
       "      <td>Zimbabwe</td>\n",
       "      <td>2021-09-23</td>\n",
       "      <td>129134.0</td>\n",
       "      <td>4600.0</td>\n",
       "      <td>0.0</td>\n",
       "    </tr>\n",
       "    <tr>\n",
       "      <th>121187</th>\n",
       "      <td>Zimbabwe</td>\n",
       "      <td>2021-09-24</td>\n",
       "      <td>129134.0</td>\n",
       "      <td>4600.0</td>\n",
       "      <td>0.0</td>\n",
       "    </tr>\n",
       "    <tr>\n",
       "      <th>121188</th>\n",
       "      <td>Zimbabwe</td>\n",
       "      <td>2021-09-25</td>\n",
       "      <td>129505.0</td>\n",
       "      <td>4603.0</td>\n",
       "      <td>0.0</td>\n",
       "    </tr>\n",
       "    <tr>\n",
       "      <th>121189</th>\n",
       "      <td>Zimbabwe</td>\n",
       "      <td>2021-09-26</td>\n",
       "      <td>129625.0</td>\n",
       "      <td>4604.0</td>\n",
       "      <td>0.0</td>\n",
       "    </tr>\n",
       "    <tr>\n",
       "      <th>121190</th>\n",
       "      <td>Zimbabwe</td>\n",
       "      <td>2021-09-27</td>\n",
       "      <td>129919.0</td>\n",
       "      <td>4607.0</td>\n",
       "      <td>0.0</td>\n",
       "    </tr>\n",
       "    <tr>\n",
       "      <th>121191</th>\n",
       "      <td>Zimbabwe</td>\n",
       "      <td>2021-09-28</td>\n",
       "      <td>130272.0</td>\n",
       "      <td>4615.0</td>\n",
       "      <td>0.0</td>\n",
       "    </tr>\n",
       "    <tr>\n",
       "      <th>121192</th>\n",
       "      <td>Zimbabwe</td>\n",
       "      <td>2021-09-29</td>\n",
       "      <td>130485.0</td>\n",
       "      <td>4616.0</td>\n",
       "      <td>0.0</td>\n",
       "    </tr>\n",
       "    <tr>\n",
       "      <th>121193</th>\n",
       "      <td>Zimbabwe</td>\n",
       "      <td>2021-09-30</td>\n",
       "      <td>130820.0</td>\n",
       "      <td>4623.0</td>\n",
       "      <td>0.0</td>\n",
       "    </tr>\n",
       "    <tr>\n",
       "      <th>121194</th>\n",
       "      <td>Zimbabwe</td>\n",
       "      <td>2021-10-01</td>\n",
       "      <td>131028.0</td>\n",
       "      <td>4624.0</td>\n",
       "      <td>0.0</td>\n",
       "    </tr>\n",
       "    <tr>\n",
       "      <th>121195</th>\n",
       "      <td>Zimbabwe</td>\n",
       "      <td>2021-10-02</td>\n",
       "      <td>131094.0</td>\n",
       "      <td>4625.0</td>\n",
       "      <td>0.0</td>\n",
       "    </tr>\n",
       "    <tr>\n",
       "      <th>121196</th>\n",
       "      <td>Zimbabwe</td>\n",
       "      <td>2021-10-03</td>\n",
       "      <td>131129.0</td>\n",
       "      <td>4627.0</td>\n",
       "      <td>0.0</td>\n",
       "    </tr>\n",
       "    <tr>\n",
       "      <th>121197</th>\n",
       "      <td>Zimbabwe</td>\n",
       "      <td>2021-10-04</td>\n",
       "      <td>131129.0</td>\n",
       "      <td>4627.0</td>\n",
       "      <td>0.0</td>\n",
       "    </tr>\n",
       "    <tr>\n",
       "      <th>121198</th>\n",
       "      <td>Zimbabwe</td>\n",
       "      <td>2021-10-05</td>\n",
       "      <td>131205.0</td>\n",
       "      <td>4627.0</td>\n",
       "      <td>0.0</td>\n",
       "    </tr>\n",
       "    <tr>\n",
       "      <th>121199</th>\n",
       "      <td>Zimbabwe</td>\n",
       "      <td>2021-10-06</td>\n",
       "      <td>131434.0</td>\n",
       "      <td>4630.0</td>\n",
       "      <td>0.0</td>\n",
       "    </tr>\n",
       "    <tr>\n",
       "      <th>121200</th>\n",
       "      <td>Zimbabwe</td>\n",
       "      <td>2021-10-07</td>\n",
       "      <td>131523.0</td>\n",
       "      <td>4631.0</td>\n",
       "      <td>0.0</td>\n",
       "    </tr>\n",
       "    <tr>\n",
       "      <th>121201</th>\n",
       "      <td>Zimbabwe</td>\n",
       "      <td>2021-10-08</td>\n",
       "      <td>131705.0</td>\n",
       "      <td>4634.0</td>\n",
       "      <td>0.0</td>\n",
       "    </tr>\n",
       "    <tr>\n",
       "      <th>121202</th>\n",
       "      <td>Zimbabwe</td>\n",
       "      <td>2021-10-09</td>\n",
       "      <td>131762.0</td>\n",
       "      <td>4636.0</td>\n",
       "      <td>0.0</td>\n",
       "    </tr>\n",
       "    <tr>\n",
       "      <th>121203</th>\n",
       "      <td>Zimbabwe</td>\n",
       "      <td>2021-10-10</td>\n",
       "      <td>131796.0</td>\n",
       "      <td>4637.0</td>\n",
       "      <td>0.0</td>\n",
       "    </tr>\n",
       "  </tbody>\n",
       "</table>\n",
       "</div>"
      ],
      "text/plain": [
       "         country       date  confirmed  deaths  recovered\n",
       "121184  Zimbabwe 2021-09-21   128186.0  4569.0        0.0\n",
       "121185  Zimbabwe 2021-09-22   128804.0  4592.0        0.0\n",
       "121186  Zimbabwe 2021-09-23   129134.0  4600.0        0.0\n",
       "121187  Zimbabwe 2021-09-24   129134.0  4600.0        0.0\n",
       "121188  Zimbabwe 2021-09-25   129505.0  4603.0        0.0\n",
       "121189  Zimbabwe 2021-09-26   129625.0  4604.0        0.0\n",
       "121190  Zimbabwe 2021-09-27   129919.0  4607.0        0.0\n",
       "121191  Zimbabwe 2021-09-28   130272.0  4615.0        0.0\n",
       "121192  Zimbabwe 2021-09-29   130485.0  4616.0        0.0\n",
       "121193  Zimbabwe 2021-09-30   130820.0  4623.0        0.0\n",
       "121194  Zimbabwe 2021-10-01   131028.0  4624.0        0.0\n",
       "121195  Zimbabwe 2021-10-02   131094.0  4625.0        0.0\n",
       "121196  Zimbabwe 2021-10-03   131129.0  4627.0        0.0\n",
       "121197  Zimbabwe 2021-10-04   131129.0  4627.0        0.0\n",
       "121198  Zimbabwe 2021-10-05   131205.0  4627.0        0.0\n",
       "121199  Zimbabwe 2021-10-06   131434.0  4630.0        0.0\n",
       "121200  Zimbabwe 2021-10-07   131523.0  4631.0        0.0\n",
       "121201  Zimbabwe 2021-10-08   131705.0  4634.0        0.0\n",
       "121202  Zimbabwe 2021-10-09   131762.0  4636.0        0.0\n",
       "121203  Zimbabwe 2021-10-10   131796.0  4637.0        0.0"
      ]
     },
     "execution_count": 8,
     "metadata": {},
     "output_type": "execute_result"
    }
   ],
   "source": [
    "df_new = df.groupby(['country','date'])[['confirmed','deaths','recovered']].sum()\n",
    "df_new=df_new.reset_index()\n",
    "df_new.tail(20)"
   ]
  },
  {
   "cell_type": "markdown",
   "metadata": {},
   "source": [
    "## Kita tambahkan kolom 'region' dan 'climate' pada 'df_new' dan isi dengan region dan climate untuk tiap negara dengan mengacu pada 'df_cat'\n"
   ]
  },
  {
   "cell_type": "code",
   "execution_count": 9,
   "metadata": {
    "scrolled": true
   },
   "outputs": [
    {
     "data": {
      "text/html": [
       "<div>\n",
       "<style scoped>\n",
       "    .dataframe tbody tr th:only-of-type {\n",
       "        vertical-align: middle;\n",
       "    }\n",
       "\n",
       "    .dataframe tbody tr th {\n",
       "        vertical-align: top;\n",
       "    }\n",
       "\n",
       "    .dataframe thead th {\n",
       "        text-align: right;\n",
       "    }\n",
       "</style>\n",
       "<table border=\"1\" class=\"dataframe\">\n",
       "  <thead>\n",
       "    <tr style=\"text-align: right;\">\n",
       "      <th></th>\n",
       "      <th>country</th>\n",
       "      <th>date</th>\n",
       "      <th>confirmed</th>\n",
       "      <th>deaths</th>\n",
       "      <th>recovered</th>\n",
       "      <th>region</th>\n",
       "      <th>climate</th>\n",
       "    </tr>\n",
       "  </thead>\n",
       "  <tbody>\n",
       "    <tr>\n",
       "      <th>0</th>\n",
       "      <td>Afghanistan</td>\n",
       "      <td>2020-01-22</td>\n",
       "      <td>0.0</td>\n",
       "      <td>0.0</td>\n",
       "      <td>0.0</td>\n",
       "      <td>Asia &amp; Pacific</td>\n",
       "      <td>nontropic</td>\n",
       "    </tr>\n",
       "    <tr>\n",
       "      <th>1</th>\n",
       "      <td>Afghanistan</td>\n",
       "      <td>2020-01-23</td>\n",
       "      <td>0.0</td>\n",
       "      <td>0.0</td>\n",
       "      <td>0.0</td>\n",
       "      <td>Asia &amp; Pacific</td>\n",
       "      <td>nontropic</td>\n",
       "    </tr>\n",
       "    <tr>\n",
       "      <th>2</th>\n",
       "      <td>Afghanistan</td>\n",
       "      <td>2020-01-24</td>\n",
       "      <td>0.0</td>\n",
       "      <td>0.0</td>\n",
       "      <td>0.0</td>\n",
       "      <td>Asia &amp; Pacific</td>\n",
       "      <td>nontropic</td>\n",
       "    </tr>\n",
       "    <tr>\n",
       "      <th>3</th>\n",
       "      <td>Afghanistan</td>\n",
       "      <td>2020-01-25</td>\n",
       "      <td>0.0</td>\n",
       "      <td>0.0</td>\n",
       "      <td>0.0</td>\n",
       "      <td>Asia &amp; Pacific</td>\n",
       "      <td>nontropic</td>\n",
       "    </tr>\n",
       "    <tr>\n",
       "      <th>4</th>\n",
       "      <td>Afghanistan</td>\n",
       "      <td>2020-01-26</td>\n",
       "      <td>0.0</td>\n",
       "      <td>0.0</td>\n",
       "      <td>0.0</td>\n",
       "      <td>Asia &amp; Pacific</td>\n",
       "      <td>nontropic</td>\n",
       "    </tr>\n",
       "  </tbody>\n",
       "</table>\n",
       "</div>"
      ],
      "text/plain": [
       "       country       date  confirmed  deaths  recovered          region  \\\n",
       "0  Afghanistan 2020-01-22        0.0     0.0        0.0  Asia & Pacific   \n",
       "1  Afghanistan 2020-01-23        0.0     0.0        0.0  Asia & Pacific   \n",
       "2  Afghanistan 2020-01-24        0.0     0.0        0.0  Asia & Pacific   \n",
       "3  Afghanistan 2020-01-25        0.0     0.0        0.0  Asia & Pacific   \n",
       "4  Afghanistan 2020-01-26        0.0     0.0        0.0  Asia & Pacific   \n",
       "\n",
       "     climate  \n",
       "0  nontropic  \n",
       "1  nontropic  \n",
       "2  nontropic  \n",
       "3  nontropic  \n",
       "4  nontropic  "
      ]
     },
     "execution_count": 9,
     "metadata": {},
     "output_type": "execute_result"
    }
   ],
   "source": [
    "df_new = pd.merge(df_new,df_cat,on='country',how='left')\n",
    "df_new.head()"
   ]
  },
  {
   "cell_type": "markdown",
   "metadata": {},
   "source": [
    "## Di sini kita akan menghemat proses dan mencoba melakukan filtering data berdasarkan waktu observasinya\n",
    "\n",
    "## Kita filter 'df_new' sehingga hanya di include data tanggal 1 Maret 2020 - 13 Desember 2020. Kita drop semua row pada 'df_new' yang data 'confirmed'-nya di bawah 100. Drop semua row yang data 'region' atau 'climate'-nya NaN pada 'df_new'\n"
   ]
  },
  {
   "cell_type": "code",
   "execution_count": 10,
   "metadata": {
    "scrolled": true
   },
   "outputs": [
    {
     "data": {
      "text/html": [
       "<div>\n",
       "<style scoped>\n",
       "    .dataframe tbody tr th:only-of-type {\n",
       "        vertical-align: middle;\n",
       "    }\n",
       "\n",
       "    .dataframe tbody tr th {\n",
       "        vertical-align: top;\n",
       "    }\n",
       "\n",
       "    .dataframe thead th {\n",
       "        text-align: right;\n",
       "    }\n",
       "</style>\n",
       "<table border=\"1\" class=\"dataframe\">\n",
       "  <thead>\n",
       "    <tr style=\"text-align: right;\">\n",
       "      <th></th>\n",
       "      <th>country</th>\n",
       "      <th>date</th>\n",
       "      <th>confirmed</th>\n",
       "      <th>deaths</th>\n",
       "      <th>recovered</th>\n",
       "      <th>region</th>\n",
       "      <th>climate</th>\n",
       "    </tr>\n",
       "  </thead>\n",
       "  <tbody>\n",
       "    <tr>\n",
       "      <th>66</th>\n",
       "      <td>Afghanistan</td>\n",
       "      <td>2020-03-28</td>\n",
       "      <td>106.0</td>\n",
       "      <td>2.0</td>\n",
       "      <td>2.0</td>\n",
       "      <td>Asia &amp; Pacific</td>\n",
       "      <td>nontropic</td>\n",
       "    </tr>\n",
       "    <tr>\n",
       "      <th>67</th>\n",
       "      <td>Afghanistan</td>\n",
       "      <td>2020-03-29</td>\n",
       "      <td>114.0</td>\n",
       "      <td>4.0</td>\n",
       "      <td>2.0</td>\n",
       "      <td>Asia &amp; Pacific</td>\n",
       "      <td>nontropic</td>\n",
       "    </tr>\n",
       "    <tr>\n",
       "      <th>68</th>\n",
       "      <td>Afghanistan</td>\n",
       "      <td>2020-03-30</td>\n",
       "      <td>114.0</td>\n",
       "      <td>4.0</td>\n",
       "      <td>2.0</td>\n",
       "      <td>Asia &amp; Pacific</td>\n",
       "      <td>nontropic</td>\n",
       "    </tr>\n",
       "    <tr>\n",
       "      <th>69</th>\n",
       "      <td>Afghanistan</td>\n",
       "      <td>2020-03-31</td>\n",
       "      <td>166.0</td>\n",
       "      <td>4.0</td>\n",
       "      <td>5.0</td>\n",
       "      <td>Asia &amp; Pacific</td>\n",
       "      <td>nontropic</td>\n",
       "    </tr>\n",
       "    <tr>\n",
       "      <th>70</th>\n",
       "      <td>Afghanistan</td>\n",
       "      <td>2020-04-01</td>\n",
       "      <td>192.0</td>\n",
       "      <td>4.0</td>\n",
       "      <td>5.0</td>\n",
       "      <td>Asia &amp; Pacific</td>\n",
       "      <td>nontropic</td>\n",
       "    </tr>\n",
       "  </tbody>\n",
       "</table>\n",
       "</div>"
      ],
      "text/plain": [
       "        country       date  confirmed  deaths  recovered          region  \\\n",
       "66  Afghanistan 2020-03-28      106.0     2.0        2.0  Asia & Pacific   \n",
       "67  Afghanistan 2020-03-29      114.0     4.0        2.0  Asia & Pacific   \n",
       "68  Afghanistan 2020-03-30      114.0     4.0        2.0  Asia & Pacific   \n",
       "69  Afghanistan 2020-03-31      166.0     4.0        5.0  Asia & Pacific   \n",
       "70  Afghanistan 2020-04-01      192.0     4.0        5.0  Asia & Pacific   \n",
       "\n",
       "      climate  \n",
       "66  nontropic  \n",
       "67  nontropic  \n",
       "68  nontropic  \n",
       "69  nontropic  \n",
       "70  nontropic  "
      ]
     },
     "execution_count": 10,
     "metadata": {},
     "output_type": "execute_result"
    }
   ],
   "source": [
    "start_date = \"2020-3-1\"\n",
    "end_date = \"2020-12-13\"\n",
    "after_start_date = df_new[\"date\"] >= start_date\n",
    "before_end_date = df_new[\"date\"] <= end_date\n",
    "confirmed_more = df_new['confirmed']>=100\n",
    "filtered_data = after_start_date & before_end_date & confirmed_more\n",
    "df_new = df_new.loc[filtered_data]\n",
    "df_new = df_new.dropna(subset = ['region', 'climate'])\n",
    "df_new.head()"
   ]
  },
  {
   "cell_type": "markdown",
   "metadata": {},
   "source": [
    " "
   ]
  },
  {
   "cell_type": "markdown",
   "metadata": {},
   "source": [
    "# 3. Exploratory Data Analysis (EDA) dan Visualisasi"
   ]
  },
  {
   "cell_type": "markdown",
   "metadata": {},
   "source": [
    "## 3.1. Plot data orang terkonfirmasi Covid tiap region"
   ]
  },
  {
   "cell_type": "code",
   "execution_count": 11,
   "metadata": {},
   "outputs": [
    {
     "data": {
      "text/plain": [
       "Text(0, 0.5, 'Confirmed')"
      ]
     },
     "execution_count": 11,
     "metadata": {},
     "output_type": "execute_result"
    },
    {
     "data": {
      "image/png": "[encoded data removed]",
      "text/plain": [
       "<Figure size 1080x504 with 1 Axes>"
      ]
     },
     "metadata": {
      "needs_background": "light"
     },
     "output_type": "display_data"
    }
   ],
   "source": [
    "fig, ax = plt.subplots(figsize=(15,7))\n",
    "# use unstack()\n",
    "df_new.groupby(['date','region'])[['confirmed']].sum().unstack().plot(ax=ax)\n",
    "ax.set_xlabel('Date')\n",
    "ax.set_ylabel('Confirmed')\n",
    "\n",
    "# hasil plot pada sumbu y dikali 1e7 atau 10^7"
   ]
  },
  {
   "cell_type": "markdown",
   "metadata": {},
   "source": [
    "## 3.2. Plot orang terkonfirmasi Covid-19 tiap kelompok iklim"
   ]
  },
  {
   "cell_type": "code",
   "execution_count": 12,
   "metadata": {},
   "outputs": [
    {
     "data": {
      "text/plain": [
       "Text(0, 0.5, 'Confirmed')"
      ]
     },
     "execution_count": 12,
     "metadata": {},
     "output_type": "execute_result"
    },
    {
     "data": {
      "image/png": "[encoded data removed]",
      "text/plain": [
       "<Figure size 1080x504 with 1 Axes>"
      ]
     },
     "metadata": {
      "needs_background": "light"
     },
     "output_type": "display_data"
    }
   ],
   "source": [
    "fig, ax = plt.subplots(figsize=(15,7))\n",
    "# use unstack()\n",
    "df_new.groupby(['date','climate'])[['confirmed']].sum().unstack().plot(ax=ax)\n",
    "ax.set_xlabel('Date')\n",
    "ax.set_ylabel('Confirmed')\n",
    "\n",
    "# hasil plot pada sumbu y dikali 1e7 atau 10^7"
   ]
  },
  {
   "cell_type": "markdown",
   "metadata": {},
   "source": [
    "## 3.3 Daftar 10 negara dengan kasus kematian tertinggi dari kasus-kasus pada tanggal terakhir di data hasil filter sebelumnya"
   ]
  },
  {
   "cell_type": "code",
   "execution_count": 13,
   "metadata": {},
   "outputs": [
    {
     "data": {
      "text/html": [
       "<div>\n",
       "<style scoped>\n",
       "    .dataframe tbody tr th:only-of-type {\n",
       "        vertical-align: middle;\n",
       "    }\n",
       "\n",
       "    .dataframe tbody tr th {\n",
       "        vertical-align: top;\n",
       "    }\n",
       "\n",
       "    .dataframe thead th {\n",
       "        text-align: right;\n",
       "    }\n",
       "</style>\n",
       "<table border=\"1\" class=\"dataframe\">\n",
       "  <thead>\n",
       "    <tr style=\"text-align: right;\">\n",
       "      <th></th>\n",
       "      <th>country</th>\n",
       "      <th>confirmed</th>\n",
       "      <th>deaths</th>\n",
       "      <th>recovered</th>\n",
       "      <th>region</th>\n",
       "      <th>climate</th>\n",
       "    </tr>\n",
       "  </thead>\n",
       "  <tbody>\n",
       "    <tr>\n",
       "      <th>326</th>\n",
       "      <td>Afghanistan</td>\n",
       "      <td>48952.0</td>\n",
       "      <td>1960.0</td>\n",
       "      <td>38250.0</td>\n",
       "      <td>Asia &amp; Pacific</td>\n",
       "      <td>nontropic</td>\n",
       "    </tr>\n",
       "    <tr>\n",
       "      <th>954</th>\n",
       "      <td>Albania</td>\n",
       "      <td>48530.0</td>\n",
       "      <td>1003.0</td>\n",
       "      <td>24820.0</td>\n",
       "      <td>Europe</td>\n",
       "      <td>nontropic</td>\n",
       "    </tr>\n",
       "    <tr>\n",
       "      <th>1582</th>\n",
       "      <td>Algeria</td>\n",
       "      <td>92102.0</td>\n",
       "      <td>2596.0</td>\n",
       "      <td>60457.0</td>\n",
       "      <td>Arab States</td>\n",
       "      <td>nontropic</td>\n",
       "    </tr>\n",
       "    <tr>\n",
       "      <th>2210</th>\n",
       "      <td>Andorra</td>\n",
       "      <td>7338.0</td>\n",
       "      <td>79.0</td>\n",
       "      <td>6629.0</td>\n",
       "      <td>Europe</td>\n",
       "      <td>nontropic</td>\n",
       "    </tr>\n",
       "    <tr>\n",
       "      <th>2838</th>\n",
       "      <td>Angola</td>\n",
       "      <td>16188.0</td>\n",
       "      <td>371.0</td>\n",
       "      <td>8898.0</td>\n",
       "      <td>Africa</td>\n",
       "      <td>tropic</td>\n",
       "    </tr>\n",
       "  </tbody>\n",
       "</table>\n",
       "</div>"
      ],
      "text/plain": [
       "          country  confirmed  deaths  recovered          region    climate\n",
       "326   Afghanistan    48952.0  1960.0    38250.0  Asia & Pacific  nontropic\n",
       "954       Albania    48530.0  1003.0    24820.0          Europe  nontropic\n",
       "1582      Algeria    92102.0  2596.0    60457.0     Arab States  nontropic\n",
       "2210      Andorra     7338.0    79.0     6629.0          Europe  nontropic\n",
       "2838       Angola    16188.0   371.0     8898.0          Africa     tropic"
      ]
     },
     "execution_count": 13,
     "metadata": {},
     "output_type": "execute_result"
    }
   ],
   "source": [
    "# Kita buat dataframe 'df_last' yang hanya mengandung data tanggal terakhir dari 'df_new', \n",
    "# di mana tiap row menunjukkan data 'confirmed', 'deaths', 'recovered', 'region', dan 'climate' untuk 1 negara.\n",
    "df_last = df_new[df_new['date']==\"2020-12-13\"]\n",
    "df_last = df_last.drop(['date'],axis=1)\n",
    "df_last.head()"
   ]
  },
  {
   "cell_type": "code",
   "execution_count": 14,
   "metadata": {},
   "outputs": [
    {
     "data": {
      "text/plain": [
       "Text(0, 0.5, 'Deaths')"
      ]
     },
     "execution_count": 14,
     "metadata": {},
     "output_type": "execute_result"
    },
    {
     "data": {
      "image/png": "[encoded data removed]",
      "text/plain": [
       "<Figure size 1008x576 with 1 Axes>"
      ]
     },
     "metadata": {
      "needs_background": "light"
     },
     "output_type": "display_data"
    }
   ],
   "source": [
    "# Berdasarkan df_last, kita identifikasi 10 negara dengan data 'deaths' tertinggi. Buat barplotnya.\n",
    "\n",
    "df_last_top10 = df_last.sort_values(by=['deaths'], ascending=False).head(10)\n",
    "\n",
    "fig,ax = plt.subplots(figsize=(14,8))\n",
    "plt.bar(df_last_top10['country'],df_last_top10['deaths'])\n",
    "ax.set_xlabel('Country')\n",
    "ax.set_ylabel('Deaths')"
   ]
  },
  {
   "cell_type": "markdown",
   "metadata": {},
   "source": [
    "## 3.4 Penambahan kolom baru pada data sebelumnya dengan berisi beberapa perhitungan:\n",
    "\n",
    "### 1. Kolom 'active_case' yang merupakan hasil perhitungan 'confirmed' dikurangi 'recovered' dan 'deaths'.\n",
    "### 2. Kolom 'active_case_%' yang merupakan hasil perhitungan 'active_case' dibagi 'confirmed' dikali 100.\n",
    "### 3. Kolom 'deaths_%' yang merupakan hasil perhitungan 'deaths' dibagi 'confirmed' dikali 100.\n",
    "### 4. Kolom 'recovered_%' yang merupakan hasil perhitungan 'recovered' dibagi 'confirmed' dikali 100."
   ]
  },
  {
   "cell_type": "markdown",
   "metadata": {},
   "source": [
    " "
   ]
  },
  {
   "cell_type": "code",
   "execution_count": 15,
   "metadata": {},
   "outputs": [
    {
     "data": {
      "text/html": [
       "<div>\n",
       "<style scoped>\n",
       "    .dataframe tbody tr th:only-of-type {\n",
       "        vertical-align: middle;\n",
       "    }\n",
       "\n",
       "    .dataframe tbody tr th {\n",
       "        vertical-align: top;\n",
       "    }\n",
       "\n",
       "    .dataframe thead th {\n",
       "        text-align: right;\n",
       "    }\n",
       "</style>\n",
       "<table border=\"1\" class=\"dataframe\">\n",
       "  <thead>\n",
       "    <tr style=\"text-align: right;\">\n",
       "      <th></th>\n",
       "      <th>country</th>\n",
       "      <th>confirmed</th>\n",
       "      <th>deaths</th>\n",
       "      <th>recovered</th>\n",
       "      <th>region</th>\n",
       "      <th>climate</th>\n",
       "      <th>active_case</th>\n",
       "      <th>active_case_%</th>\n",
       "      <th>deaths_%</th>\n",
       "      <th>recovered_%</th>\n",
       "    </tr>\n",
       "  </thead>\n",
       "  <tbody>\n",
       "    <tr>\n",
       "      <th>326</th>\n",
       "      <td>Afghanistan</td>\n",
       "      <td>48952.0</td>\n",
       "      <td>1960.0</td>\n",
       "      <td>38250.0</td>\n",
       "      <td>Asia &amp; Pacific</td>\n",
       "      <td>nontropic</td>\n",
       "      <td>8742.0</td>\n",
       "      <td>17.858310</td>\n",
       "      <td>4.003922</td>\n",
       "      <td>78.137768</td>\n",
       "    </tr>\n",
       "    <tr>\n",
       "      <th>954</th>\n",
       "      <td>Albania</td>\n",
       "      <td>48530.0</td>\n",
       "      <td>1003.0</td>\n",
       "      <td>24820.0</td>\n",
       "      <td>Europe</td>\n",
       "      <td>nontropic</td>\n",
       "      <td>22707.0</td>\n",
       "      <td>46.789615</td>\n",
       "      <td>2.066763</td>\n",
       "      <td>51.143623</td>\n",
       "    </tr>\n",
       "    <tr>\n",
       "      <th>1582</th>\n",
       "      <td>Algeria</td>\n",
       "      <td>92102.0</td>\n",
       "      <td>2596.0</td>\n",
       "      <td>60457.0</td>\n",
       "      <td>Arab States</td>\n",
       "      <td>nontropic</td>\n",
       "      <td>29049.0</td>\n",
       "      <td>31.540032</td>\n",
       "      <td>2.818614</td>\n",
       "      <td>65.641354</td>\n",
       "    </tr>\n",
       "    <tr>\n",
       "      <th>2210</th>\n",
       "      <td>Andorra</td>\n",
       "      <td>7338.0</td>\n",
       "      <td>79.0</td>\n",
       "      <td>6629.0</td>\n",
       "      <td>Europe</td>\n",
       "      <td>nontropic</td>\n",
       "      <td>630.0</td>\n",
       "      <td>8.585446</td>\n",
       "      <td>1.076588</td>\n",
       "      <td>90.337967</td>\n",
       "    </tr>\n",
       "    <tr>\n",
       "      <th>2838</th>\n",
       "      <td>Angola</td>\n",
       "      <td>16188.0</td>\n",
       "      <td>371.0</td>\n",
       "      <td>8898.0</td>\n",
       "      <td>Africa</td>\n",
       "      <td>tropic</td>\n",
       "      <td>6919.0</td>\n",
       "      <td>42.741537</td>\n",
       "      <td>2.291821</td>\n",
       "      <td>54.966642</td>\n",
       "    </tr>\n",
       "  </tbody>\n",
       "</table>\n",
       "</div>"
      ],
      "text/plain": [
       "          country  confirmed  deaths  recovered          region    climate  \\\n",
       "326   Afghanistan    48952.0  1960.0    38250.0  Asia & Pacific  nontropic   \n",
       "954       Albania    48530.0  1003.0    24820.0          Europe  nontropic   \n",
       "1582      Algeria    92102.0  2596.0    60457.0     Arab States  nontropic   \n",
       "2210      Andorra     7338.0    79.0     6629.0          Europe  nontropic   \n",
       "2838       Angola    16188.0   371.0     8898.0          Africa     tropic   \n",
       "\n",
       "      active_case  active_case_%  deaths_%  recovered_%  \n",
       "326        8742.0      17.858310  4.003922    78.137768  \n",
       "954       22707.0      46.789615  2.066763    51.143623  \n",
       "1582      29049.0      31.540032  2.818614    65.641354  \n",
       "2210        630.0       8.585446  1.076588    90.337967  \n",
       "2838       6919.0      42.741537  2.291821    54.966642  "
      ]
     },
     "execution_count": 15,
     "metadata": {},
     "output_type": "execute_result"
    }
   ],
   "source": [
    "df_last['active_case']=df_last['confirmed']-(df_last['recovered']+df_last['deaths'])\n",
    "df_last['active_case_%']=(df_last['active_case']/df_last['confirmed'])*100\n",
    "df_last['deaths_%']=(df_last['deaths']/df_last['confirmed'])*100\n",
    "df_last['recovered_%']=(df_last['recovered']/df_last['confirmed'])*100\n",
    "df_last.head()"
   ]
  },
  {
   "cell_type": "markdown",
   "metadata": {},
   "source": [
    "## 3.5. Scatter matrix plot persentasi kasus aktif, kematian, dan kesembuhan tiap region dan iklim"
   ]
  },
  {
   "cell_type": "code",
   "execution_count": 16,
   "metadata": {
    "scrolled": false
   },
   "outputs": [
    {
     "data": {
      "text/plain": [
       "array([[<AxesSubplot:xlabel='active_case_%', ylabel='active_case_%'>,\n",
       "        <AxesSubplot:xlabel='deaths_%', ylabel='active_case_%'>,\n",
       "        <AxesSubplot:xlabel='recovered_%', ylabel='active_case_%'>],\n",
       "       [<AxesSubplot:xlabel='active_case_%', ylabel='deaths_%'>,\n",
       "        <AxesSubplot:xlabel='deaths_%', ylabel='deaths_%'>,\n",
       "        <AxesSubplot:xlabel='recovered_%', ylabel='deaths_%'>],\n",
       "       [<AxesSubplot:xlabel='active_case_%', ylabel='recovered_%'>,\n",
       "        <AxesSubplot:xlabel='deaths_%', ylabel='recovered_%'>,\n",
       "        <AxesSubplot:xlabel='recovered_%', ylabel='recovered_%'>]],\n",
       "      dtype=object)"
      ]
     },
     "execution_count": 16,
     "metadata": {},
     "output_type": "execute_result"
    },
    {
     "data": {
      "image/png": "[encoded data removed]",
      "text/plain": [
       "<Figure size 1080x576 with 9 Axes>"
      ]
     },
     "metadata": {
      "needs_background": "light"
     },
     "output_type": "display_data"
    }
   ],
   "source": [
    "# Kita buat scatter matrix berdassarkan 'df_last' untuk \n",
    "# kolom 'active_case_%', 'deaths_%', dan 'recovered_%' (Warna scatter plot dibedakan berdasarkan region)\n",
    "\n",
    "from pandas.plotting import scatter_matrix\n",
    "\n",
    "colors_region = {'Europe':'red','Africa':'green','South/Latin America':'blue','Asia & Pacific':'yellow','Middle east':'orange', 'Arab States':'purple', 'North America':'brown'}\n",
    "\n",
    "pd.plotting.scatter_matrix(df_last[['active_case_%','deaths_%','recovered_%']], alpha = 0.5, figsize = (15, 8), diagonal = 'hist', marker='o', c=df_last['region'].map(colors_region))\n"
   ]
  },
  {
   "cell_type": "code",
   "execution_count": 17,
   "metadata": {},
   "outputs": [
    {
     "data": {
      "text/plain": [
       "array([[<AxesSubplot:xlabel='active_case_%', ylabel='active_case_%'>,\n",
       "        <AxesSubplot:xlabel='deaths_%', ylabel='active_case_%'>,\n",
       "        <AxesSubplot:xlabel='recovered_%', ylabel='active_case_%'>],\n",
       "       [<AxesSubplot:xlabel='active_case_%', ylabel='deaths_%'>,\n",
       "        <AxesSubplot:xlabel='deaths_%', ylabel='deaths_%'>,\n",
       "        <AxesSubplot:xlabel='recovered_%', ylabel='deaths_%'>],\n",
       "       [<AxesSubplot:xlabel='active_case_%', ylabel='recovered_%'>,\n",
       "        <AxesSubplot:xlabel='deaths_%', ylabel='recovered_%'>,\n",
       "        <AxesSubplot:xlabel='recovered_%', ylabel='recovered_%'>]],\n",
       "      dtype=object)"
      ]
     },
     "execution_count": 17,
     "metadata": {},
     "output_type": "execute_result"
    },
    {
     "data": {
      "image/png": "[encoded data removed]",
      "text/plain": [
       "<Figure size 1080x576 with 9 Axes>"
      ]
     },
     "metadata": {
      "needs_background": "light"
     },
     "output_type": "display_data"
    }
   ],
   "source": [
    "# Kita lakukan hal yang sama dengan membedakan warna scatter plot berdasarkan iklim.\n",
    "\n",
    "colors_climate = {'nontropic':'red','tropic':'green'}\n",
    "\n",
    "pd.plotting.scatter_matrix(df_last[['active_case_%','deaths_%','recovered_%']], alpha = 0.5, figsize = (15, 8), diagonal = 'hist', marker='o', c=df_last['climate'].map(colors_climate))\n"
   ]
  },
  {
   "cell_type": "markdown",
   "metadata": {},
   "source": [
    "## 3.6. Test Pearson dan p-value untuk menguji korelasi atau hubungan linear antara data persentasi kasus aktif, kematian, dan kesembuhan"
   ]
  },
  {
   "cell_type": "code",
   "execution_count": 18,
   "metadata": {},
   "outputs": [
    {
     "name": "stdout",
     "output_type": "stream",
     "text": [
      "               active_case_%  deaths_%  recovered_%\n",
      "active_case_%       1.000000  0.034203    -0.997663\n",
      "deaths_%            0.034203  1.000000    -0.102413\n",
      "recovered_%        -0.997663 -0.102413     1.000000\n"
     ]
    },
    {
     "data": {
      "image/png": "[encoded data removed]",
      "text/plain": [
       "<Figure size 432x288 with 2 Axes>"
      ]
     },
     "metadata": {
      "needs_background": "light"
     },
     "output_type": "display_data"
    }
   ],
   "source": [
    "print (df_last[['active_case_%','deaths_%','recovered_%']].corr())\n",
    "# Kita buat heatmap nya dengan seaborn\n",
    "import seaborn as sns\n",
    "sns.heatmap(df_last[['active_case_%','deaths_%','recovered_%']].corr(), annot=True);"
   ]
  },
  {
   "cell_type": "markdown",
   "metadata": {},
   "source": [
    "### Kesimpulan : \n",
    "\n",
    "### Data active_case_% sangat berkorelasi negatif dengan data recovered_%. Hal ini terlihat dari nilai korelasi mereka dihasilkan nilai -0.997. Kita tahu bahwa nilai koefisien korelasi pearson berada di antara nilai -1<p<1 , di mana nilai 0 menandakan tidak ada korelasi sama sekali dan nilai 1 atau -1 menandakan total korelasi positif atau negatif. Untuk data deaths_% memiliki korelasi yang sama antara hubungan data deaths_% dengan active_case_%  atau dengan recovered_% yaitu senilai 0.03. Ini menandakan adanya korelasi namun tidak terlalu tinggi."
   ]
  },
  {
   "cell_type": "code",
   "execution_count": 19,
   "metadata": {},
   "outputs": [
    {
     "name": "stdout",
     "output_type": "stream",
     "text": [
      "Korelasi Pearson antara active_case_% dan deaths_% 0.03420279015254477  dengan P-value = 0.6637174562888603\n",
      "Korelasi Pearson antara active_case_% dan recovered_% -0.9976627521520632  dengan P-value = 1.0113427233725161e-190\n",
      "Korelasi Pearson antara deaths_% dan recovered_% -0.10241319306595471  dengan P-value = 0.19191631175112117\n"
     ]
    }
   ],
   "source": [
    "# P-value\n",
    "\n",
    "from scipy import stats\n",
    "pearson_coef1, p_value1 = stats.pearsonr(df_last['active_case_%'], df_last['deaths_%'])\n",
    "pearson_coef2, p_value2 = stats.pearsonr(df_last['active_case_%'], df_last['recovered_%'])\n",
    "pearson_coef3, p_value3 = stats.pearsonr(df_last['deaths_%'], df_last['recovered_%'])\n",
    "print(\"Korelasi Pearson antara active_case_% dan deaths_%\", pearson_coef1, \" dengan P-value =\", p_value1)  \n",
    "print(\"Korelasi Pearson antara active_case_% dan recovered_%\", pearson_coef2, \" dengan P-value =\", p_value2)\n",
    "print(\"Korelasi Pearson antara deaths_% dan recovered_%\", pearson_coef3, \" dengan P-value =\", p_value3)"
   ]
  },
  {
   "cell_type": "markdown",
   "metadata": {},
   "source": [
    "### Kesimpulan:\n",
    "\n",
    "1. P-Value dari korelasi antara active_case_% dan deaths_% adalah 0.66371. Karena P-Value > 0.1 , maka tidak ada bukti bahwa korelasi mereka signifikan.\n",
    "\n",
    "2. P-Value dari korelasi antara active_case_% dan recovered_% adalah 1.0113427233958369e-190. Karena P-Value < 0.001, maka bisa dikatakan terdapat bukti kuat bahwa korelasi mereka signifikan.\n",
    "\n",
    "1. P-Value dari korelasi antara deaths_% dan recovered_% adalah 0.191916. Karena P-Value > 0.1 , maka tidak ada bukti (bukti lemah) bahwa korelasi mereka signifikan.\n"
   ]
  },
  {
   "cell_type": "markdown",
   "metadata": {},
   "source": [
    "## 3.7 Test Anova untuk menguji hubungan linear antara data persentasi kasus aktif, kematian, dan kesembuhan"
   ]
  },
  {
   "cell_type": "code",
   "execution_count": 20,
   "metadata": {},
   "outputs": [
    {
     "name": "stdout",
     "output_type": "stream",
     "text": [
      "P-Value for Anova is:  3.826063859655487e-06\n"
     ]
    }
   ],
   "source": [
    "# region-active_case_%\n",
    "\n",
    "from scipy.stats import f_oneway\n",
    "CategoryGroupLists1=df_last.groupby('region')['active_case_%'].apply(list)\n",
    "AnovaResults1 = f_oneway(*CategoryGroupLists1)\n",
    "print('P-Value for Anova is: ', AnovaResults1[1])"
   ]
  },
  {
   "cell_type": "code",
   "execution_count": 21,
   "metadata": {},
   "outputs": [
    {
     "name": "stdout",
     "output_type": "stream",
     "text": [
      "P-Value for Anova is:  0.005674002083079122\n"
     ]
    }
   ],
   "source": [
    "# region-deaths_%\n",
    "\n",
    "from scipy.stats import f_oneway\n",
    "CategoryGroupLists2=df_last.groupby('region')['deaths_%'].apply(list)\n",
    "AnovaResults2 = f_oneway(*CategoryGroupLists2)\n",
    "print('P-Value for Anova is: ', AnovaResults2[1])"
   ]
  },
  {
   "cell_type": "code",
   "execution_count": 22,
   "metadata": {},
   "outputs": [
    {
     "name": "stdout",
     "output_type": "stream",
     "text": [
      "P-Value for Anova is:  7.1621169013953965e-06\n"
     ]
    }
   ],
   "source": [
    "# region-recovered_%\n",
    "\n",
    "from scipy.stats import f_oneway\n",
    "CategoryGroupLists3=df_last.groupby('region')['recovered_%'].apply(list)\n",
    "AnovaResults3 = f_oneway(*CategoryGroupLists3)\n",
    "print('P-Value for Anova is: ', AnovaResults3[1])"
   ]
  },
  {
   "cell_type": "markdown",
   "metadata": {},
   "source": [
    "### Kesimpulan: Hubungan korelasi antara region dengan active_case, deaths,recovered cukup kuat dikarenakan nilai p-value yang semuanya hampir mendekati 0"
   ]
  },
  {
   "cell_type": "markdown",
   "metadata": {},
   "source": [
    "## 3.8. Penambahan kolom safety dengan kriteria:\n",
    "\n",
    "### Apabila data suatu negara memenuhi 'active_case_%' < 10, 'deaths_%' < 5, 'recovered_%' > 85 kita labeli negara ini dengan 'safe' pada kolom 'safety'. Apabila tidak memenuhi kriteria, kita labeli dengan 'not_safe'."
   ]
  },
  {
   "cell_type": "code",
   "execution_count": 23,
   "metadata": {},
   "outputs": [],
   "source": [
    "def conditions(s):\n",
    "    if (s['active_case_%'] < 10) & (s['deaths_%'] < 5) & (s['recovered_%'] > 85):\n",
    "        return 'safe'\n",
    "    else:\n",
    "        return 'not_safe'"
   ]
  },
  {
   "cell_type": "code",
   "execution_count": 24,
   "metadata": {},
   "outputs": [
    {
     "data": {
      "text/html": [
       "<div>\n",
       "<style scoped>\n",
       "    .dataframe tbody tr th:only-of-type {\n",
       "        vertical-align: middle;\n",
       "    }\n",
       "\n",
       "    .dataframe tbody tr th {\n",
       "        vertical-align: top;\n",
       "    }\n",
       "\n",
       "    .dataframe thead th {\n",
       "        text-align: right;\n",
       "    }\n",
       "</style>\n",
       "<table border=\"1\" class=\"dataframe\">\n",
       "  <thead>\n",
       "    <tr style=\"text-align: right;\">\n",
       "      <th></th>\n",
       "      <th>country</th>\n",
       "      <th>confirmed</th>\n",
       "      <th>deaths</th>\n",
       "      <th>recovered</th>\n",
       "      <th>region</th>\n",
       "      <th>climate</th>\n",
       "      <th>active_case</th>\n",
       "      <th>active_case_%</th>\n",
       "      <th>deaths_%</th>\n",
       "      <th>recovered_%</th>\n",
       "      <th>safety</th>\n",
       "    </tr>\n",
       "  </thead>\n",
       "  <tbody>\n",
       "    <tr>\n",
       "      <th>326</th>\n",
       "      <td>Afghanistan</td>\n",
       "      <td>48952.0</td>\n",
       "      <td>1960.0</td>\n",
       "      <td>38250.0</td>\n",
       "      <td>Asia &amp; Pacific</td>\n",
       "      <td>nontropic</td>\n",
       "      <td>8742.0</td>\n",
       "      <td>17.858310</td>\n",
       "      <td>4.003922</td>\n",
       "      <td>78.137768</td>\n",
       "      <td>not_safe</td>\n",
       "    </tr>\n",
       "    <tr>\n",
       "      <th>954</th>\n",
       "      <td>Albania</td>\n",
       "      <td>48530.0</td>\n",
       "      <td>1003.0</td>\n",
       "      <td>24820.0</td>\n",
       "      <td>Europe</td>\n",
       "      <td>nontropic</td>\n",
       "      <td>22707.0</td>\n",
       "      <td>46.789615</td>\n",
       "      <td>2.066763</td>\n",
       "      <td>51.143623</td>\n",
       "      <td>not_safe</td>\n",
       "    </tr>\n",
       "    <tr>\n",
       "      <th>1582</th>\n",
       "      <td>Algeria</td>\n",
       "      <td>92102.0</td>\n",
       "      <td>2596.0</td>\n",
       "      <td>60457.0</td>\n",
       "      <td>Arab States</td>\n",
       "      <td>nontropic</td>\n",
       "      <td>29049.0</td>\n",
       "      <td>31.540032</td>\n",
       "      <td>2.818614</td>\n",
       "      <td>65.641354</td>\n",
       "      <td>not_safe</td>\n",
       "    </tr>\n",
       "    <tr>\n",
       "      <th>2210</th>\n",
       "      <td>Andorra</td>\n",
       "      <td>7338.0</td>\n",
       "      <td>79.0</td>\n",
       "      <td>6629.0</td>\n",
       "      <td>Europe</td>\n",
       "      <td>nontropic</td>\n",
       "      <td>630.0</td>\n",
       "      <td>8.585446</td>\n",
       "      <td>1.076588</td>\n",
       "      <td>90.337967</td>\n",
       "      <td>safe</td>\n",
       "    </tr>\n",
       "    <tr>\n",
       "      <th>2838</th>\n",
       "      <td>Angola</td>\n",
       "      <td>16188.0</td>\n",
       "      <td>371.0</td>\n",
       "      <td>8898.0</td>\n",
       "      <td>Africa</td>\n",
       "      <td>tropic</td>\n",
       "      <td>6919.0</td>\n",
       "      <td>42.741537</td>\n",
       "      <td>2.291821</td>\n",
       "      <td>54.966642</td>\n",
       "      <td>not_safe</td>\n",
       "    </tr>\n",
       "  </tbody>\n",
       "</table>\n",
       "</div>"
      ],
      "text/plain": [
       "          country  confirmed  deaths  recovered          region    climate  \\\n",
       "326   Afghanistan    48952.0  1960.0    38250.0  Asia & Pacific  nontropic   \n",
       "954       Albania    48530.0  1003.0    24820.0          Europe  nontropic   \n",
       "1582      Algeria    92102.0  2596.0    60457.0     Arab States  nontropic   \n",
       "2210      Andorra     7338.0    79.0     6629.0          Europe  nontropic   \n",
       "2838       Angola    16188.0   371.0     8898.0          Africa     tropic   \n",
       "\n",
       "      active_case  active_case_%  deaths_%  recovered_%    safety  \n",
       "326        8742.0      17.858310  4.003922    78.137768  not_safe  \n",
       "954       22707.0      46.789615  2.066763    51.143623  not_safe  \n",
       "1582      29049.0      31.540032  2.818614    65.641354  not_safe  \n",
       "2210        630.0       8.585446  1.076588    90.337967      safe  \n",
       "2838       6919.0      42.741537  2.291821    54.966642  not_safe  "
      ]
     },
     "execution_count": 24,
     "metadata": {},
     "output_type": "execute_result"
    }
   ],
   "source": [
    "df_last['safety']=df_last.apply(conditions,axis=1)\n",
    "df_last.head()"
   ]
  },
  {
   "cell_type": "markdown",
   "metadata": {},
   "source": [
    " "
   ]
  },
  {
   "cell_type": "markdown",
   "metadata": {},
   "source": [
    "# 4. Model Machine Learning"
   ]
  },
  {
   "cell_type": "markdown",
   "metadata": {},
   "source": [
    "## 4.1. Model Klasifikasi untuk memprediksi negara mana (Misal di antara negara Indonesia, US, Brazil, New Zealand, Singapore) yang aman berdasarkan kategori \"safety\""
   ]
  },
  {
   "cell_type": "code",
   "execution_count": 25,
   "metadata": {},
   "outputs": [
    {
     "data": {
      "text/html": [
       "<div>\n",
       "<style scoped>\n",
       "    .dataframe tbody tr th:only-of-type {\n",
       "        vertical-align: middle;\n",
       "    }\n",
       "\n",
       "    .dataframe tbody tr th {\n",
       "        vertical-align: top;\n",
       "    }\n",
       "\n",
       "    .dataframe thead th {\n",
       "        text-align: right;\n",
       "    }\n",
       "</style>\n",
       "<table border=\"1\" class=\"dataframe\">\n",
       "  <thead>\n",
       "    <tr style=\"text-align: right;\">\n",
       "      <th></th>\n",
       "      <th>country</th>\n",
       "      <th>confirmed</th>\n",
       "      <th>deaths</th>\n",
       "      <th>recovered</th>\n",
       "      <th>region</th>\n",
       "      <th>climate</th>\n",
       "      <th>active_case</th>\n",
       "      <th>active_case_%</th>\n",
       "      <th>deaths_%</th>\n",
       "      <th>recovered_%</th>\n",
       "      <th>safety</th>\n",
       "    </tr>\n",
       "  </thead>\n",
       "  <tbody>\n",
       "    <tr>\n",
       "      <th>14770</th>\n",
       "      <td>Brazil</td>\n",
       "      <td>6901952.0</td>\n",
       "      <td>181402.0</td>\n",
       "      <td>6138349.0</td>\n",
       "      <td>South/Latin America</td>\n",
       "      <td>tropic</td>\n",
       "      <td>582201.0</td>\n",
       "      <td>8.435309</td>\n",
       "      <td>2.628271</td>\n",
       "      <td>88.936420</td>\n",
       "      <td>safe</td>\n",
       "    </tr>\n",
       "    <tr>\n",
       "      <th>48682</th>\n",
       "      <td>Indonesia</td>\n",
       "      <td>617820.0</td>\n",
       "      <td>18819.0</td>\n",
       "      <td>505836.0</td>\n",
       "      <td>Asia &amp; Pacific</td>\n",
       "      <td>tropic</td>\n",
       "      <td>93165.0</td>\n",
       "      <td>15.079635</td>\n",
       "      <td>3.046033</td>\n",
       "      <td>81.874332</td>\n",
       "      <td>not_safe</td>\n",
       "    </tr>\n",
       "    <tr>\n",
       "      <th>77570</th>\n",
       "      <td>New Zealand</td>\n",
       "      <td>2096.0</td>\n",
       "      <td>25.0</td>\n",
       "      <td>2015.0</td>\n",
       "      <td>Asia &amp; Pacific</td>\n",
       "      <td>nontropic</td>\n",
       "      <td>56.0</td>\n",
       "      <td>2.671756</td>\n",
       "      <td>1.192748</td>\n",
       "      <td>96.135496</td>\n",
       "      <td>safe</td>\n",
       "    </tr>\n",
       "    <tr>\n",
       "      <th>97666</th>\n",
       "      <td>Singapore</td>\n",
       "      <td>58320.0</td>\n",
       "      <td>29.0</td>\n",
       "      <td>58208.0</td>\n",
       "      <td>Asia &amp; Pacific</td>\n",
       "      <td>tropic</td>\n",
       "      <td>83.0</td>\n",
       "      <td>0.142318</td>\n",
       "      <td>0.049726</td>\n",
       "      <td>99.807956</td>\n",
       "      <td>safe</td>\n",
       "    </tr>\n",
       "    <tr>\n",
       "      <th>112738</th>\n",
       "      <td>US</td>\n",
       "      <td>16463227.0</td>\n",
       "      <td>303463.0</td>\n",
       "      <td>6298082.0</td>\n",
       "      <td>North America</td>\n",
       "      <td>nontropic</td>\n",
       "      <td>9861682.0</td>\n",
       "      <td>59.901270</td>\n",
       "      <td>1.843278</td>\n",
       "      <td>38.255453</td>\n",
       "      <td>not_safe</td>\n",
       "    </tr>\n",
       "  </tbody>\n",
       "</table>\n",
       "</div>"
      ],
      "text/plain": [
       "            country   confirmed    deaths  recovered               region  \\\n",
       "14770        Brazil   6901952.0  181402.0  6138349.0  South/Latin America   \n",
       "48682     Indonesia    617820.0   18819.0   505836.0       Asia & Pacific   \n",
       "77570   New Zealand      2096.0      25.0     2015.0       Asia & Pacific   \n",
       "97666     Singapore     58320.0      29.0    58208.0       Asia & Pacific   \n",
       "112738           US  16463227.0  303463.0  6298082.0        North America   \n",
       "\n",
       "          climate  active_case  active_case_%  deaths_%  recovered_%    safety  \n",
       "14770      tropic     582201.0       8.435309  2.628271    88.936420      safe  \n",
       "48682      tropic      93165.0      15.079635  3.046033    81.874332  not_safe  \n",
       "77570   nontropic         56.0       2.671756  1.192748    96.135496      safe  \n",
       "97666      tropic         83.0       0.142318  0.049726    99.807956      safe  \n",
       "112738  nontropic    9861682.0      59.901270  1.843278    38.255453  not_safe  "
      ]
     },
     "execution_count": 25,
     "metadata": {},
     "output_type": "execute_result"
    }
   ],
   "source": [
    "new_df = df_last[(df_last['country']=='Indonesia')| (df_last['country']=='US')|(df_last['country']=='Brazil')|(df_last['country']=='New Zealand')|(df_last['country']=='Singapore')]\n",
    "new_df"
   ]
  },
  {
   "cell_type": "code",
   "execution_count": 26,
   "metadata": {
    "scrolled": true
   },
   "outputs": [
    {
     "data": {
      "text/html": [
       "<div>\n",
       "<style scoped>\n",
       "    .dataframe tbody tr th:only-of-type {\n",
       "        vertical-align: middle;\n",
       "    }\n",
       "\n",
       "    .dataframe tbody tr th {\n",
       "        vertical-align: top;\n",
       "    }\n",
       "\n",
       "    .dataframe thead th {\n",
       "        text-align: right;\n",
       "    }\n",
       "</style>\n",
       "<table border=\"1\" class=\"dataframe\">\n",
       "  <thead>\n",
       "    <tr style=\"text-align: right;\">\n",
       "      <th></th>\n",
       "      <th>confirmed</th>\n",
       "      <th>deaths</th>\n",
       "      <th>recovered</th>\n",
       "      <th>active_case</th>\n",
       "      <th>active_case_%</th>\n",
       "      <th>deaths_%</th>\n",
       "      <th>recovered_%</th>\n",
       "    </tr>\n",
       "  </thead>\n",
       "  <tbody>\n",
       "    <tr>\n",
       "      <th>0</th>\n",
       "      <td>-0.233650</td>\n",
       "      <td>-0.237823</td>\n",
       "      <td>-0.240653</td>\n",
       "      <td>-0.154237</td>\n",
       "      <td>-0.154613</td>\n",
       "      <td>1.336931</td>\n",
       "      <td>0.062484</td>\n",
       "    </tr>\n",
       "    <tr>\n",
       "      <th>1</th>\n",
       "      <td>-0.233912</td>\n",
       "      <td>-0.267214</td>\n",
       "      <td>-0.253778</td>\n",
       "      <td>-0.136722</td>\n",
       "      <td>1.176864</td>\n",
       "      <td>0.039071</td>\n",
       "      <td>-1.174032</td>\n",
       "    </tr>\n",
       "    <tr>\n",
       "      <th>2</th>\n",
       "      <td>-0.206905</td>\n",
       "      <td>-0.218290</td>\n",
       "      <td>-0.218951</td>\n",
       "      <td>-0.128767</td>\n",
       "      <td>0.475047</td>\n",
       "      <td>0.542797</td>\n",
       "      <td>-0.509937</td>\n",
       "    </tr>\n",
       "    <tr>\n",
       "      <th>3</th>\n",
       "      <td>-0.259443</td>\n",
       "      <td>-0.295592</td>\n",
       "      <td>-0.271556</td>\n",
       "      <td>-0.164411</td>\n",
       "      <td>-0.581369</td>\n",
       "      <td>-0.624328</td>\n",
       "      <td>0.621336</td>\n",
       "    </tr>\n",
       "    <tr>\n",
       "      <th>4</th>\n",
       "      <td>-0.253958</td>\n",
       "      <td>-0.286624</td>\n",
       "      <td>-0.269339</td>\n",
       "      <td>-0.156523</td>\n",
       "      <td>0.990563</td>\n",
       "      <td>0.189856</td>\n",
       "      <td>-0.998912</td>\n",
       "    </tr>\n",
       "  </tbody>\n",
       "</table>\n",
       "</div>"
      ],
      "text/plain": [
       "   confirmed    deaths  recovered  active_case  active_case_%  deaths_%  \\\n",
       "0  -0.233650 -0.237823  -0.240653    -0.154237      -0.154613  1.336931   \n",
       "1  -0.233912 -0.267214  -0.253778    -0.136722       1.176864  0.039071   \n",
       "2  -0.206905 -0.218290  -0.218951    -0.128767       0.475047  0.542797   \n",
       "3  -0.259443 -0.295592  -0.271556    -0.164411      -0.581369 -0.624328   \n",
       "4  -0.253958 -0.286624  -0.269339    -0.156523       0.990563  0.189856   \n",
       "\n",
       "   recovered_%  \n",
       "0     0.062484  \n",
       "1    -1.174032  \n",
       "2    -0.509937  \n",
       "3     0.621336  \n",
       "4    -0.998912  "
      ]
     },
     "execution_count": 26,
     "metadata": {},
     "output_type": "execute_result"
    }
   ],
   "source": [
    "# Karena target kita adalah safety maka kolom region dan country sebenarnya tidak terlalu relevan karena safety dipengaruhi nilai\n",
    "# -nilai angka atau indeks kasus covid.\n",
    "\n",
    "from sklearn.preprocessing import StandardScaler\n",
    "from sklearn import preprocessing\n",
    "le = preprocessing.LabelEncoder()\n",
    "\n",
    "data_fitur = df_last.drop(['country','region', 'safety', 'climate'],axis=1)\n",
    "\n",
    "# scaling\n",
    "stdscalar = StandardScaler()\n",
    "data_scale = stdscalar.fit_transform(data_fitur)\n",
    "fitur_scale = pd.DataFrame(data_scale,columns=data_fitur.columns)\n",
    "fitur_scale.head()\n"
   ]
  },
  {
   "cell_type": "code",
   "execution_count": 27,
   "metadata": {},
   "outputs": [
    {
     "data": {
      "text/html": [
       "<div>\n",
       "<style scoped>\n",
       "    .dataframe tbody tr th:only-of-type {\n",
       "        vertical-align: middle;\n",
       "    }\n",
       "\n",
       "    .dataframe tbody tr th {\n",
       "        vertical-align: top;\n",
       "    }\n",
       "\n",
       "    .dataframe thead th {\n",
       "        text-align: right;\n",
       "    }\n",
       "</style>\n",
       "<table border=\"1\" class=\"dataframe\">\n",
       "  <thead>\n",
       "    <tr style=\"text-align: right;\">\n",
       "      <th></th>\n",
       "      <th>safety</th>\n",
       "    </tr>\n",
       "  </thead>\n",
       "  <tbody>\n",
       "    <tr>\n",
       "      <th>326</th>\n",
       "      <td>0</td>\n",
       "    </tr>\n",
       "    <tr>\n",
       "      <th>954</th>\n",
       "      <td>0</td>\n",
       "    </tr>\n",
       "    <tr>\n",
       "      <th>1582</th>\n",
       "      <td>0</td>\n",
       "    </tr>\n",
       "    <tr>\n",
       "      <th>2210</th>\n",
       "      <td>1</td>\n",
       "    </tr>\n",
       "    <tr>\n",
       "      <th>2838</th>\n",
       "      <td>0</td>\n",
       "    </tr>\n",
       "  </tbody>\n",
       "</table>\n",
       "</div>"
      ],
      "text/plain": [
       "      safety\n",
       "326        0\n",
       "954        0\n",
       "1582       0\n",
       "2210       1\n",
       "2838       0"
      ]
     },
     "execution_count": 27,
     "metadata": {},
     "output_type": "execute_result"
    }
   ],
   "source": [
    "# label encoding label target (safety)\n",
    "\n",
    "target_encoded= df_last[['safety']].copy()\n",
    "for col in target_encoded.select_dtypes(include='O').columns:\n",
    "    target_encoded [col]=le.fit_transform(target_encoded[col])\n",
    "    \n",
    "target_encoded.head()\n",
    "# If we want to encode back : Y_pred_label = list(le.inverse_transform(target_encoded))"
   ]
  },
  {
   "cell_type": "markdown",
   "metadata": {},
   "source": [
    "### Misal di sini kita menggunakan model K-Nearest Neighbors"
   ]
  },
  {
   "cell_type": "code",
   "execution_count": 28,
   "metadata": {},
   "outputs": [],
   "source": [
    "X=fitur_scale\n",
    "y=target_encoded\n",
    "\n",
    "from sklearn.neighbors import KNeighborsClassifier\n",
    "from sklearn.model_selection import train_test_split\n",
    "\n",
    "X_train, X_test, y_train, y_test = train_test_split(X, y, test_size=0.2, random_state=21)"
   ]
  },
  {
   "cell_type": "code",
   "execution_count": 29,
   "metadata": {},
   "outputs": [
    {
     "name": "stderr",
     "output_type": "stream",
     "text": [
      "/Users/danielbeltsazar/opt/anaconda3/envs/tensor/lib/python3.9/site-packages/sklearn/neighbors/_classification.py:198: DataConversionWarning: A column-vector y was passed when a 1d array was expected. Please change the shape of y to (n_samples,), for example using ravel().\n",
      "  return self._fit(X, y)\n"
     ]
    },
    {
     "data": {
      "text/plain": [
       "KNeighborsClassifier(leaf_size=34, n_neighbors=15, weights='distance')"
      ]
     },
     "execution_count": 29,
     "metadata": {},
     "output_type": "execute_result"
    }
   ],
   "source": [
    "# pembuatan model KNN\n",
    "model_knn = KNeighborsClassifier(n_neighbors=15,weights='distance',leaf_size=34)\n",
    "model_knn.fit(X_train,y_train)"
   ]
  },
  {
   "cell_type": "code",
   "execution_count": 30,
   "metadata": {},
   "outputs": [
    {
     "name": "stdout",
     "output_type": "stream",
     "text": [
      "Akurasi model pada data test: 0.9696969696969697\n"
     ]
    }
   ],
   "source": [
    "#akurasi model\n",
    "from sklearn.metrics import accuracy_score, classification_report, precision_score, recall_score \n",
    "from sklearn.metrics import confusion_matrix, precision_recall_curve, roc_curve, auc, log_loss\n",
    "y_pred = model_knn.predict(X_test)\n",
    "print('Akurasi model pada data test:',accuracy_score(y_test,y_pred))"
   ]
  },
  {
   "cell_type": "markdown",
   "metadata": {},
   "source": [
    "### Confusion matrix of the prediction model"
   ]
  },
  {
   "cell_type": "code",
   "execution_count": 31,
   "metadata": {},
   "outputs": [
    {
     "name": "stdout",
     "output_type": "stream",
     "text": [
      "[[23  0]\n",
      " [ 1  9]]\n",
      "\n",
      "\n",
      "              precision    recall  f1-score   support\n",
      "\n",
      "           0       0.96      1.00      0.98        23\n",
      "           1       1.00      0.90      0.95        10\n",
      "\n",
      "    accuracy                           0.97        33\n",
      "   macro avg       0.98      0.95      0.96        33\n",
      "weighted avg       0.97      0.97      0.97        33\n",
      "\n"
     ]
    }
   ],
   "source": [
    "print(confusion_matrix(y_test,y_pred))\n",
    "print(\"\\n\")\n",
    "print(classification_report(y_test,y_pred))"
   ]
  },
  {
   "cell_type": "markdown",
   "metadata": {},
   "source": [
    "### Now we try using Gridsearch CV on our model"
   ]
  },
  {
   "cell_type": "code",
   "execution_count": 32,
   "metadata": {},
   "outputs": [],
   "source": [
    "#Create the parameter grid based on the results of random search \n",
    "params_grid = {'n_neighbors': [5,10,15,20], 'weights': ['uniform','distance'],\n",
    "                     'algorithm': ['auto', 'ball_tree', 'kd_tree', 'brute']}"
   ]
  },
  {
   "cell_type": "code",
   "execution_count": 33,
   "metadata": {},
   "outputs": [
    {
     "name": "stdout",
     "output_type": "stream",
     "text": [
      "Fitting 5 folds for each of 32 candidates, totalling 160 fits\n"
     ]
    },
    {
     "name": "stderr",
     "output_type": "stream",
     "text": [
      "/Users/danielbeltsazar/opt/anaconda3/envs/tensor/lib/python3.9/site-packages/sklearn/neighbors/_classification.py:198: DataConversionWarning: A column-vector y was passed when a 1d array was expected. Please change the shape of y to (n_samples,), for example using ravel().\n",
      "  return self._fit(X, y)\n",
      "/Users/danielbeltsazar/opt/anaconda3/envs/tensor/lib/python3.9/site-packages/sklearn/neighbors/_classification.py:198: DataConversionWarning: A column-vector y was passed when a 1d array was expected. Please change the shape of y to (n_samples,), for example using ravel().\n",
      "  return self._fit(X, y)\n",
      "/Users/danielbeltsazar/opt/anaconda3/envs/tensor/lib/python3.9/site-packages/sklearn/neighbors/_classification.py:198: DataConversionWarning: A column-vector y was passed when a 1d array was expected. Please change the shape of y to (n_samples,), for example using ravel().\n",
      "  return self._fit(X, y)\n",
      "/Users/danielbeltsazar/opt/anaconda3/envs/tensor/lib/python3.9/site-packages/sklearn/neighbors/_classification.py:198: DataConversionWarning: A column-vector y was passed when a 1d array was expected. Please change the shape of y to (n_samples,), for example using ravel().\n",
      "  return self._fit(X, y)\n",
      "/Users/danielbeltsazar/opt/anaconda3/envs/tensor/lib/python3.9/site-packages/sklearn/neighbors/_classification.py:198: DataConversionWarning: A column-vector y was passed when a 1d array was expected. Please change the shape of y to (n_samples,), for example using ravel().\n",
      "  return self._fit(X, y)\n",
      "/Users/danielbeltsazar/opt/anaconda3/envs/tensor/lib/python3.9/site-packages/sklearn/neighbors/_classification.py:198: DataConversionWarning: A column-vector y was passed when a 1d array was expected. Please change the shape of y to (n_samples,), for example using ravel().\n",
      "  return self._fit(X, y)\n",
      "/Users/danielbeltsazar/opt/anaconda3/envs/tensor/lib/python3.9/site-packages/sklearn/neighbors/_classification.py:198: DataConversionWarning: A column-vector y was passed when a 1d array was expected. Please change the shape of y to (n_samples,), for example using ravel().\n",
      "  return self._fit(X, y)\n",
      "/Users/danielbeltsazar/opt/anaconda3/envs/tensor/lib/python3.9/site-packages/sklearn/neighbors/_classification.py:198: DataConversionWarning: A column-vector y was passed when a 1d array was expected. Please change the shape of y to (n_samples,), for example using ravel().\n",
      "  return self._fit(X, y)\n",
      "/Users/danielbeltsazar/opt/anaconda3/envs/tensor/lib/python3.9/site-packages/sklearn/neighbors/_classification.py:198: DataConversionWarning: A column-vector y was passed when a 1d array was expected. Please change the shape of y to (n_samples,), for example using ravel().\n",
      "  return self._fit(X, y)\n",
      "/Users/danielbeltsazar/opt/anaconda3/envs/tensor/lib/python3.9/site-packages/sklearn/neighbors/_classification.py:198: DataConversionWarning: A column-vector y was passed when a 1d array was expected. Please change the shape of y to (n_samples,), for example using ravel().\n",
      "  return self._fit(X, y)\n",
      "/Users/danielbeltsazar/opt/anaconda3/envs/tensor/lib/python3.9/site-packages/sklearn/neighbors/_classification.py:198: DataConversionWarning: A column-vector y was passed when a 1d array was expected. Please change the shape of y to (n_samples,), for example using ravel().\n",
      "  return self._fit(X, y)\n",
      "/Users/danielbeltsazar/opt/anaconda3/envs/tensor/lib/python3.9/site-packages/sklearn/neighbors/_classification.py:198: DataConversionWarning: A column-vector y was passed when a 1d array was expected. Please change the shape of y to (n_samples,), for example using ravel().\n",
      "  return self._fit(X, y)\n",
      "/Users/danielbeltsazar/opt/anaconda3/envs/tensor/lib/python3.9/site-packages/sklearn/neighbors/_classification.py:198: DataConversionWarning: A column-vector y was passed when a 1d array was expected. Please change the shape of y to (n_samples,), for example using ravel().\n",
      "  return self._fit(X, y)\n",
      "/Users/danielbeltsazar/opt/anaconda3/envs/tensor/lib/python3.9/site-packages/sklearn/neighbors/_classification.py:198: DataConversionWarning: A column-vector y was passed when a 1d array was expected. Please change the shape of y to (n_samples,), for example using ravel().\n",
      "  return self._fit(X, y)\n",
      "/Users/danielbeltsazar/opt/anaconda3/envs/tensor/lib/python3.9/site-packages/sklearn/neighbors/_classification.py:198: DataConversionWarning: A column-vector y was passed when a 1d array was expected. Please change the shape of y to (n_samples,), for example using ravel().\n",
      "  return self._fit(X, y)\n",
      "/Users/danielbeltsazar/opt/anaconda3/envs/tensor/lib/python3.9/site-packages/sklearn/neighbors/_classification.py:198: DataConversionWarning: A column-vector y was passed when a 1d array was expected. Please change the shape of y to (n_samples,), for example using ravel().\n",
      "  return self._fit(X, y)\n",
      "/Users/danielbeltsazar/opt/anaconda3/envs/tensor/lib/python3.9/site-packages/sklearn/neighbors/_classification.py:198: DataConversionWarning: A column-vector y was passed when a 1d array was expected. Please change the shape of y to (n_samples,), for example using ravel().\n",
      "  return self._fit(X, y)\n",
      "/Users/danielbeltsazar/opt/anaconda3/envs/tensor/lib/python3.9/site-packages/sklearn/neighbors/_classification.py:198: DataConversionWarning: A column-vector y was passed when a 1d array was expected. Please change the shape of y to (n_samples,), for example using ravel().\n",
      "  return self._fit(X, y)\n",
      "/Users/danielbeltsazar/opt/anaconda3/envs/tensor/lib/python3.9/site-packages/sklearn/neighbors/_classification.py:198: DataConversionWarning: A column-vector y was passed when a 1d array was expected. Please change the shape of y to (n_samples,), for example using ravel().\n",
      "  return self._fit(X, y)\n",
      "/Users/danielbeltsazar/opt/anaconda3/envs/tensor/lib/python3.9/site-packages/sklearn/neighbors/_classification.py:198: DataConversionWarning: A column-vector y was passed when a 1d array was expected. Please change the shape of y to (n_samples,), for example using ravel().\n",
      "  return self._fit(X, y)\n",
      "/Users/danielbeltsazar/opt/anaconda3/envs/tensor/lib/python3.9/site-packages/sklearn/neighbors/_classification.py:198: DataConversionWarning: A column-vector y was passed when a 1d array was expected. Please change the shape of y to (n_samples,), for example using ravel().\n",
      "  return self._fit(X, y)\n",
      "/Users/danielbeltsazar/opt/anaconda3/envs/tensor/lib/python3.9/site-packages/sklearn/neighbors/_classification.py:198: DataConversionWarning: A column-vector y was passed when a 1d array was expected. Please change the shape of y to (n_samples,), for example using ravel().\n",
      "  return self._fit(X, y)\n",
      "/Users/danielbeltsazar/opt/anaconda3/envs/tensor/lib/python3.9/site-packages/sklearn/neighbors/_classification.py:198: DataConversionWarning: A column-vector y was passed when a 1d array was expected. Please change the shape of y to (n_samples,), for example using ravel().\n",
      "  return self._fit(X, y)\n",
      "/Users/danielbeltsazar/opt/anaconda3/envs/tensor/lib/python3.9/site-packages/sklearn/neighbors/_classification.py:198: DataConversionWarning: A column-vector y was passed when a 1d array was expected. Please change the shape of y to (n_samples,), for example using ravel().\n",
      "  return self._fit(X, y)\n",
      "/Users/danielbeltsazar/opt/anaconda3/envs/tensor/lib/python3.9/site-packages/sklearn/neighbors/_classification.py:198: DataConversionWarning: A column-vector y was passed when a 1d array was expected. Please change the shape of y to (n_samples,), for example using ravel().\n",
      "  return self._fit(X, y)\n",
      "/Users/danielbeltsazar/opt/anaconda3/envs/tensor/lib/python3.9/site-packages/sklearn/neighbors/_classification.py:198: DataConversionWarning: A column-vector y was passed when a 1d array was expected. Please change the shape of y to (n_samples,), for example using ravel().\n",
      "  return self._fit(X, y)\n",
      "/Users/danielbeltsazar/opt/anaconda3/envs/tensor/lib/python3.9/site-packages/sklearn/neighbors/_classification.py:198: DataConversionWarning: A column-vector y was passed when a 1d array was expected. Please change the shape of y to (n_samples,), for example using ravel().\n",
      "  return self._fit(X, y)\n",
      "/Users/danielbeltsazar/opt/anaconda3/envs/tensor/lib/python3.9/site-packages/sklearn/neighbors/_classification.py:198: DataConversionWarning: A column-vector y was passed when a 1d array was expected. Please change the shape of y to (n_samples,), for example using ravel().\n",
      "  return self._fit(X, y)\n",
      "/Users/danielbeltsazar/opt/anaconda3/envs/tensor/lib/python3.9/site-packages/sklearn/neighbors/_classification.py:198: DataConversionWarning: A column-vector y was passed when a 1d array was expected. Please change the shape of y to (n_samples,), for example using ravel().\n",
      "  return self._fit(X, y)\n",
      "/Users/danielbeltsazar/opt/anaconda3/envs/tensor/lib/python3.9/site-packages/sklearn/neighbors/_classification.py:198: DataConversionWarning: A column-vector y was passed when a 1d array was expected. Please change the shape of y to (n_samples,), for example using ravel().\n",
      "  return self._fit(X, y)\n",
      "/Users/danielbeltsazar/opt/anaconda3/envs/tensor/lib/python3.9/site-packages/sklearn/neighbors/_classification.py:198: DataConversionWarning: A column-vector y was passed when a 1d array was expected. Please change the shape of y to (n_samples,), for example using ravel().\n",
      "  return self._fit(X, y)\n",
      "/Users/danielbeltsazar/opt/anaconda3/envs/tensor/lib/python3.9/site-packages/sklearn/neighbors/_classification.py:198: DataConversionWarning: A column-vector y was passed when a 1d array was expected. Please change the shape of y to (n_samples,), for example using ravel().\n",
      "  return self._fit(X, y)\n",
      "/Users/danielbeltsazar/opt/anaconda3/envs/tensor/lib/python3.9/site-packages/sklearn/neighbors/_classification.py:198: DataConversionWarning: A column-vector y was passed when a 1d array was expected. Please change the shape of y to (n_samples,), for example using ravel().\n",
      "  return self._fit(X, y)\n",
      "/Users/danielbeltsazar/opt/anaconda3/envs/tensor/lib/python3.9/site-packages/sklearn/neighbors/_classification.py:198: DataConversionWarning: A column-vector y was passed when a 1d array was expected. Please change the shape of y to (n_samples,), for example using ravel().\n",
      "  return self._fit(X, y)\n",
      "/Users/danielbeltsazar/opt/anaconda3/envs/tensor/lib/python3.9/site-packages/sklearn/neighbors/_classification.py:198: DataConversionWarning: A column-vector y was passed when a 1d array was expected. Please change the shape of y to (n_samples,), for example using ravel().\n",
      "  return self._fit(X, y)\n",
      "/Users/danielbeltsazar/opt/anaconda3/envs/tensor/lib/python3.9/site-packages/sklearn/neighbors/_classification.py:198: DataConversionWarning: A column-vector y was passed when a 1d array was expected. Please change the shape of y to (n_samples,), for example using ravel().\n",
      "  return self._fit(X, y)\n",
      "/Users/danielbeltsazar/opt/anaconda3/envs/tensor/lib/python3.9/site-packages/sklearn/neighbors/_classification.py:198: DataConversionWarning: A column-vector y was passed when a 1d array was expected. Please change the shape of y to (n_samples,), for example using ravel().\n",
      "  return self._fit(X, y)\n",
      "/Users/danielbeltsazar/opt/anaconda3/envs/tensor/lib/python3.9/site-packages/sklearn/neighbors/_classification.py:198: DataConversionWarning: A column-vector y was passed when a 1d array was expected. Please change the shape of y to (n_samples,), for example using ravel().\n",
      "  return self._fit(X, y)\n",
      "/Users/danielbeltsazar/opt/anaconda3/envs/tensor/lib/python3.9/site-packages/sklearn/neighbors/_classification.py:198: DataConversionWarning: A column-vector y was passed when a 1d array was expected. Please change the shape of y to (n_samples,), for example using ravel().\n",
      "  return self._fit(X, y)\n",
      "/Users/danielbeltsazar/opt/anaconda3/envs/tensor/lib/python3.9/site-packages/sklearn/neighbors/_classification.py:198: DataConversionWarning: A column-vector y was passed when a 1d array was expected. Please change the shape of y to (n_samples,), for example using ravel().\n",
      "  return self._fit(X, y)\n",
      "/Users/danielbeltsazar/opt/anaconda3/envs/tensor/lib/python3.9/site-packages/sklearn/neighbors/_classification.py:198: DataConversionWarning: A column-vector y was passed when a 1d array was expected. Please change the shape of y to (n_samples,), for example using ravel().\n",
      "  return self._fit(X, y)\n",
      "/Users/danielbeltsazar/opt/anaconda3/envs/tensor/lib/python3.9/site-packages/sklearn/neighbors/_classification.py:198: DataConversionWarning: A column-vector y was passed when a 1d array was expected. Please change the shape of y to (n_samples,), for example using ravel().\n",
      "  return self._fit(X, y)\n",
      "/Users/danielbeltsazar/opt/anaconda3/envs/tensor/lib/python3.9/site-packages/sklearn/neighbors/_classification.py:198: DataConversionWarning: A column-vector y was passed when a 1d array was expected. Please change the shape of y to (n_samples,), for example using ravel().\n",
      "  return self._fit(X, y)\n",
      "/Users/danielbeltsazar/opt/anaconda3/envs/tensor/lib/python3.9/site-packages/sklearn/neighbors/_classification.py:198: DataConversionWarning: A column-vector y was passed when a 1d array was expected. Please change the shape of y to (n_samples,), for example using ravel().\n",
      "  return self._fit(X, y)\n",
      "/Users/danielbeltsazar/opt/anaconda3/envs/tensor/lib/python3.9/site-packages/sklearn/neighbors/_classification.py:198: DataConversionWarning: A column-vector y was passed when a 1d array was expected. Please change the shape of y to (n_samples,), for example using ravel().\n",
      "  return self._fit(X, y)\n",
      "/Users/danielbeltsazar/opt/anaconda3/envs/tensor/lib/python3.9/site-packages/sklearn/neighbors/_classification.py:198: DataConversionWarning: A column-vector y was passed when a 1d array was expected. Please change the shape of y to (n_samples,), for example using ravel().\n",
      "  return self._fit(X, y)\n",
      "/Users/danielbeltsazar/opt/anaconda3/envs/tensor/lib/python3.9/site-packages/sklearn/neighbors/_classification.py:198: DataConversionWarning: A column-vector y was passed when a 1d array was expected. Please change the shape of y to (n_samples,), for example using ravel().\n",
      "  return self._fit(X, y)\n",
      "/Users/danielbeltsazar/opt/anaconda3/envs/tensor/lib/python3.9/site-packages/sklearn/neighbors/_classification.py:198: DataConversionWarning: A column-vector y was passed when a 1d array was expected. Please change the shape of y to (n_samples,), for example using ravel().\n",
      "  return self._fit(X, y)\n",
      "/Users/danielbeltsazar/opt/anaconda3/envs/tensor/lib/python3.9/site-packages/sklearn/neighbors/_classification.py:198: DataConversionWarning: A column-vector y was passed when a 1d array was expected. Please change the shape of y to (n_samples,), for example using ravel().\n",
      "  return self._fit(X, y)\n",
      "/Users/danielbeltsazar/opt/anaconda3/envs/tensor/lib/python3.9/site-packages/sklearn/neighbors/_classification.py:198: DataConversionWarning: A column-vector y was passed when a 1d array was expected. Please change the shape of y to (n_samples,), for example using ravel().\n",
      "  return self._fit(X, y)\n",
      "/Users/danielbeltsazar/opt/anaconda3/envs/tensor/lib/python3.9/site-packages/sklearn/neighbors/_classification.py:198: DataConversionWarning: A column-vector y was passed when a 1d array was expected. Please change the shape of y to (n_samples,), for example using ravel().\n",
      "  return self._fit(X, y)\n",
      "/Users/danielbeltsazar/opt/anaconda3/envs/tensor/lib/python3.9/site-packages/sklearn/neighbors/_classification.py:198: DataConversionWarning: A column-vector y was passed when a 1d array was expected. Please change the shape of y to (n_samples,), for example using ravel().\n",
      "  return self._fit(X, y)\n",
      "/Users/danielbeltsazar/opt/anaconda3/envs/tensor/lib/python3.9/site-packages/sklearn/neighbors/_classification.py:198: DataConversionWarning: A column-vector y was passed when a 1d array was expected. Please change the shape of y to (n_samples,), for example using ravel().\n",
      "  return self._fit(X, y)\n",
      "/Users/danielbeltsazar/opt/anaconda3/envs/tensor/lib/python3.9/site-packages/sklearn/neighbors/_classification.py:198: DataConversionWarning: A column-vector y was passed when a 1d array was expected. Please change the shape of y to (n_samples,), for example using ravel().\n",
      "  return self._fit(X, y)\n",
      "/Users/danielbeltsazar/opt/anaconda3/envs/tensor/lib/python3.9/site-packages/sklearn/neighbors/_classification.py:198: DataConversionWarning: A column-vector y was passed when a 1d array was expected. Please change the shape of y to (n_samples,), for example using ravel().\n",
      "  return self._fit(X, y)\n",
      "/Users/danielbeltsazar/opt/anaconda3/envs/tensor/lib/python3.9/site-packages/sklearn/neighbors/_classification.py:198: DataConversionWarning: A column-vector y was passed when a 1d array was expected. Please change the shape of y to (n_samples,), for example using ravel().\n",
      "  return self._fit(X, y)\n",
      "/Users/danielbeltsazar/opt/anaconda3/envs/tensor/lib/python3.9/site-packages/sklearn/neighbors/_classification.py:198: DataConversionWarning: A column-vector y was passed when a 1d array was expected. Please change the shape of y to (n_samples,), for example using ravel().\n",
      "  return self._fit(X, y)\n",
      "/Users/danielbeltsazar/opt/anaconda3/envs/tensor/lib/python3.9/site-packages/sklearn/neighbors/_classification.py:198: DataConversionWarning: A column-vector y was passed when a 1d array was expected. Please change the shape of y to (n_samples,), for example using ravel().\n",
      "  return self._fit(X, y)\n",
      "/Users/danielbeltsazar/opt/anaconda3/envs/tensor/lib/python3.9/site-packages/sklearn/neighbors/_classification.py:198: DataConversionWarning: A column-vector y was passed when a 1d array was expected. Please change the shape of y to (n_samples,), for example using ravel().\n",
      "  return self._fit(X, y)\n",
      "/Users/danielbeltsazar/opt/anaconda3/envs/tensor/lib/python3.9/site-packages/sklearn/neighbors/_classification.py:198: DataConversionWarning: A column-vector y was passed when a 1d array was expected. Please change the shape of y to (n_samples,), for example using ravel().\n",
      "  return self._fit(X, y)\n",
      "/Users/danielbeltsazar/opt/anaconda3/envs/tensor/lib/python3.9/site-packages/sklearn/neighbors/_classification.py:198: DataConversionWarning: A column-vector y was passed when a 1d array was expected. Please change the shape of y to (n_samples,), for example using ravel().\n",
      "  return self._fit(X, y)\n",
      "/Users/danielbeltsazar/opt/anaconda3/envs/tensor/lib/python3.9/site-packages/sklearn/neighbors/_classification.py:198: DataConversionWarning: A column-vector y was passed when a 1d array was expected. Please change the shape of y to (n_samples,), for example using ravel().\n",
      "  return self._fit(X, y)\n",
      "/Users/danielbeltsazar/opt/anaconda3/envs/tensor/lib/python3.9/site-packages/sklearn/neighbors/_classification.py:198: DataConversionWarning: A column-vector y was passed when a 1d array was expected. Please change the shape of y to (n_samples,), for example using ravel().\n",
      "  return self._fit(X, y)\n",
      "/Users/danielbeltsazar/opt/anaconda3/envs/tensor/lib/python3.9/site-packages/sklearn/neighbors/_classification.py:198: DataConversionWarning: A column-vector y was passed when a 1d array was expected. Please change the shape of y to (n_samples,), for example using ravel().\n",
      "  return self._fit(X, y)\n",
      "/Users/danielbeltsazar/opt/anaconda3/envs/tensor/lib/python3.9/site-packages/sklearn/neighbors/_classification.py:198: DataConversionWarning: A column-vector y was passed when a 1d array was expected. Please change the shape of y to (n_samples,), for example using ravel().\n",
      "  return self._fit(X, y)\n",
      "/Users/danielbeltsazar/opt/anaconda3/envs/tensor/lib/python3.9/site-packages/sklearn/neighbors/_classification.py:198: DataConversionWarning: A column-vector y was passed when a 1d array was expected. Please change the shape of y to (n_samples,), for example using ravel().\n",
      "  return self._fit(X, y)\n",
      "/Users/danielbeltsazar/opt/anaconda3/envs/tensor/lib/python3.9/site-packages/sklearn/neighbors/_classification.py:198: DataConversionWarning: A column-vector y was passed when a 1d array was expected. Please change the shape of y to (n_samples,), for example using ravel().\n",
      "  return self._fit(X, y)\n",
      "/Users/danielbeltsazar/opt/anaconda3/envs/tensor/lib/python3.9/site-packages/sklearn/neighbors/_classification.py:198: DataConversionWarning: A column-vector y was passed when a 1d array was expected. Please change the shape of y to (n_samples,), for example using ravel().\n",
      "  return self._fit(X, y)\n",
      "/Users/danielbeltsazar/opt/anaconda3/envs/tensor/lib/python3.9/site-packages/sklearn/neighbors/_classification.py:198: DataConversionWarning: A column-vector y was passed when a 1d array was expected. Please change the shape of y to (n_samples,), for example using ravel().\n",
      "  return self._fit(X, y)\n",
      "/Users/danielbeltsazar/opt/anaconda3/envs/tensor/lib/python3.9/site-packages/sklearn/neighbors/_classification.py:198: DataConversionWarning: A column-vector y was passed when a 1d array was expected. Please change the shape of y to (n_samples,), for example using ravel().\n",
      "  return self._fit(X, y)\n",
      "/Users/danielbeltsazar/opt/anaconda3/envs/tensor/lib/python3.9/site-packages/sklearn/neighbors/_classification.py:198: DataConversionWarning: A column-vector y was passed when a 1d array was expected. Please change the shape of y to (n_samples,), for example using ravel().\n",
      "  return self._fit(X, y)\n",
      "/Users/danielbeltsazar/opt/anaconda3/envs/tensor/lib/python3.9/site-packages/sklearn/neighbors/_classification.py:198: DataConversionWarning: A column-vector y was passed when a 1d array was expected. Please change the shape of y to (n_samples,), for example using ravel().\n",
      "  return self._fit(X, y)\n",
      "/Users/danielbeltsazar/opt/anaconda3/envs/tensor/lib/python3.9/site-packages/sklearn/neighbors/_classification.py:198: DataConversionWarning: A column-vector y was passed when a 1d array was expected. Please change the shape of y to (n_samples,), for example using ravel().\n",
      "  return self._fit(X, y)\n",
      "/Users/danielbeltsazar/opt/anaconda3/envs/tensor/lib/python3.9/site-packages/sklearn/neighbors/_classification.py:198: DataConversionWarning: A column-vector y was passed when a 1d array was expected. Please change the shape of y to (n_samples,), for example using ravel().\n",
      "  return self._fit(X, y)\n",
      "/Users/danielbeltsazar/opt/anaconda3/envs/tensor/lib/python3.9/site-packages/sklearn/neighbors/_classification.py:198: DataConversionWarning: A column-vector y was passed when a 1d array was expected. Please change the shape of y to (n_samples,), for example using ravel().\n",
      "  return self._fit(X, y)\n",
      "/Users/danielbeltsazar/opt/anaconda3/envs/tensor/lib/python3.9/site-packages/sklearn/neighbors/_classification.py:198: DataConversionWarning: A column-vector y was passed when a 1d array was expected. Please change the shape of y to (n_samples,), for example using ravel().\n",
      "  return self._fit(X, y)\n",
      "/Users/danielbeltsazar/opt/anaconda3/envs/tensor/lib/python3.9/site-packages/sklearn/neighbors/_classification.py:198: DataConversionWarning: A column-vector y was passed when a 1d array was expected. Please change the shape of y to (n_samples,), for example using ravel().\n",
      "  return self._fit(X, y)\n",
      "/Users/danielbeltsazar/opt/anaconda3/envs/tensor/lib/python3.9/site-packages/sklearn/neighbors/_classification.py:198: DataConversionWarning: A column-vector y was passed when a 1d array was expected. Please change the shape of y to (n_samples,), for example using ravel().\n",
      "  return self._fit(X, y)\n",
      "/Users/danielbeltsazar/opt/anaconda3/envs/tensor/lib/python3.9/site-packages/sklearn/neighbors/_classification.py:198: DataConversionWarning: A column-vector y was passed when a 1d array was expected. Please change the shape of y to (n_samples,), for example using ravel().\n",
      "  return self._fit(X, y)\n",
      "/Users/danielbeltsazar/opt/anaconda3/envs/tensor/lib/python3.9/site-packages/sklearn/neighbors/_classification.py:198: DataConversionWarning: A column-vector y was passed when a 1d array was expected. Please change the shape of y to (n_samples,), for example using ravel().\n",
      "  return self._fit(X, y)\n",
      "/Users/danielbeltsazar/opt/anaconda3/envs/tensor/lib/python3.9/site-packages/sklearn/neighbors/_classification.py:198: DataConversionWarning: A column-vector y was passed when a 1d array was expected. Please change the shape of y to (n_samples,), for example using ravel().\n",
      "  return self._fit(X, y)\n",
      "/Users/danielbeltsazar/opt/anaconda3/envs/tensor/lib/python3.9/site-packages/sklearn/neighbors/_classification.py:198: DataConversionWarning: A column-vector y was passed when a 1d array was expected. Please change the shape of y to (n_samples,), for example using ravel().\n",
      "  return self._fit(X, y)\n",
      "/Users/danielbeltsazar/opt/anaconda3/envs/tensor/lib/python3.9/site-packages/sklearn/neighbors/_classification.py:198: DataConversionWarning: A column-vector y was passed when a 1d array was expected. Please change the shape of y to (n_samples,), for example using ravel().\n",
      "  return self._fit(X, y)\n",
      "/Users/danielbeltsazar/opt/anaconda3/envs/tensor/lib/python3.9/site-packages/sklearn/neighbors/_classification.py:198: DataConversionWarning: A column-vector y was passed when a 1d array was expected. Please change the shape of y to (n_samples,), for example using ravel().\n",
      "  return self._fit(X, y)\n",
      "/Users/danielbeltsazar/opt/anaconda3/envs/tensor/lib/python3.9/site-packages/sklearn/neighbors/_classification.py:198: DataConversionWarning: A column-vector y was passed when a 1d array was expected. Please change the shape of y to (n_samples,), for example using ravel().\n",
      "  return self._fit(X, y)\n",
      "/Users/danielbeltsazar/opt/anaconda3/envs/tensor/lib/python3.9/site-packages/sklearn/neighbors/_classification.py:198: DataConversionWarning: A column-vector y was passed when a 1d array was expected. Please change the shape of y to (n_samples,), for example using ravel().\n",
      "  return self._fit(X, y)\n",
      "/Users/danielbeltsazar/opt/anaconda3/envs/tensor/lib/python3.9/site-packages/sklearn/neighbors/_classification.py:198: DataConversionWarning: A column-vector y was passed when a 1d array was expected. Please change the shape of y to (n_samples,), for example using ravel().\n",
      "  return self._fit(X, y)\n",
      "/Users/danielbeltsazar/opt/anaconda3/envs/tensor/lib/python3.9/site-packages/sklearn/neighbors/_classification.py:198: DataConversionWarning: A column-vector y was passed when a 1d array was expected. Please change the shape of y to (n_samples,), for example using ravel().\n",
      "  return self._fit(X, y)\n",
      "/Users/danielbeltsazar/opt/anaconda3/envs/tensor/lib/python3.9/site-packages/sklearn/neighbors/_classification.py:198: DataConversionWarning: A column-vector y was passed when a 1d array was expected. Please change the shape of y to (n_samples,), for example using ravel().\n",
      "  return self._fit(X, y)\n",
      "/Users/danielbeltsazar/opt/anaconda3/envs/tensor/lib/python3.9/site-packages/sklearn/neighbors/_classification.py:198: DataConversionWarning: A column-vector y was passed when a 1d array was expected. Please change the shape of y to (n_samples,), for example using ravel().\n",
      "  return self._fit(X, y)\n",
      "/Users/danielbeltsazar/opt/anaconda3/envs/tensor/lib/python3.9/site-packages/sklearn/neighbors/_classification.py:198: DataConversionWarning: A column-vector y was passed when a 1d array was expected. Please change the shape of y to (n_samples,), for example using ravel().\n",
      "  return self._fit(X, y)\n",
      "/Users/danielbeltsazar/opt/anaconda3/envs/tensor/lib/python3.9/site-packages/sklearn/neighbors/_classification.py:198: DataConversionWarning: A column-vector y was passed when a 1d array was expected. Please change the shape of y to (n_samples,), for example using ravel().\n",
      "  return self._fit(X, y)\n",
      "/Users/danielbeltsazar/opt/anaconda3/envs/tensor/lib/python3.9/site-packages/sklearn/neighbors/_classification.py:198: DataConversionWarning: A column-vector y was passed when a 1d array was expected. Please change the shape of y to (n_samples,), for example using ravel().\n",
      "  return self._fit(X, y)\n",
      "/Users/danielbeltsazar/opt/anaconda3/envs/tensor/lib/python3.9/site-packages/sklearn/neighbors/_classification.py:198: DataConversionWarning: A column-vector y was passed when a 1d array was expected. Please change the shape of y to (n_samples,), for example using ravel().\n",
      "  return self._fit(X, y)\n",
      "/Users/danielbeltsazar/opt/anaconda3/envs/tensor/lib/python3.9/site-packages/sklearn/neighbors/_classification.py:198: DataConversionWarning: A column-vector y was passed when a 1d array was expected. Please change the shape of y to (n_samples,), for example using ravel().\n",
      "  return self._fit(X, y)\n",
      "/Users/danielbeltsazar/opt/anaconda3/envs/tensor/lib/python3.9/site-packages/sklearn/neighbors/_classification.py:198: DataConversionWarning: A column-vector y was passed when a 1d array was expected. Please change the shape of y to (n_samples,), for example using ravel().\n",
      "  return self._fit(X, y)\n",
      "/Users/danielbeltsazar/opt/anaconda3/envs/tensor/lib/python3.9/site-packages/sklearn/neighbors/_classification.py:198: DataConversionWarning: A column-vector y was passed when a 1d array was expected. Please change the shape of y to (n_samples,), for example using ravel().\n",
      "  return self._fit(X, y)\n"
     ]
    },
    {
     "name": "stderr",
     "output_type": "stream",
     "text": [
      "/Users/danielbeltsazar/opt/anaconda3/envs/tensor/lib/python3.9/site-packages/sklearn/neighbors/_classification.py:198: DataConversionWarning: A column-vector y was passed when a 1d array was expected. Please change the shape of y to (n_samples,), for example using ravel().\n",
      "  return self._fit(X, y)\n",
      "/Users/danielbeltsazar/opt/anaconda3/envs/tensor/lib/python3.9/site-packages/sklearn/neighbors/_classification.py:198: DataConversionWarning: A column-vector y was passed when a 1d array was expected. Please change the shape of y to (n_samples,), for example using ravel().\n",
      "  return self._fit(X, y)\n",
      "/Users/danielbeltsazar/opt/anaconda3/envs/tensor/lib/python3.9/site-packages/sklearn/neighbors/_classification.py:198: DataConversionWarning: A column-vector y was passed when a 1d array was expected. Please change the shape of y to (n_samples,), for example using ravel().\n",
      "  return self._fit(X, y)\n",
      "/Users/danielbeltsazar/opt/anaconda3/envs/tensor/lib/python3.9/site-packages/sklearn/neighbors/_classification.py:198: DataConversionWarning: A column-vector y was passed when a 1d array was expected. Please change the shape of y to (n_samples,), for example using ravel().\n",
      "  return self._fit(X, y)\n",
      "/Users/danielbeltsazar/opt/anaconda3/envs/tensor/lib/python3.9/site-packages/sklearn/neighbors/_classification.py:198: DataConversionWarning: A column-vector y was passed when a 1d array was expected. Please change the shape of y to (n_samples,), for example using ravel().\n",
      "  return self._fit(X, y)\n",
      "/Users/danielbeltsazar/opt/anaconda3/envs/tensor/lib/python3.9/site-packages/sklearn/neighbors/_classification.py:198: DataConversionWarning: A column-vector y was passed when a 1d array was expected. Please change the shape of y to (n_samples,), for example using ravel().\n",
      "  return self._fit(X, y)\n",
      "/Users/danielbeltsazar/opt/anaconda3/envs/tensor/lib/python3.9/site-packages/sklearn/neighbors/_classification.py:198: DataConversionWarning: A column-vector y was passed when a 1d array was expected. Please change the shape of y to (n_samples,), for example using ravel().\n",
      "  return self._fit(X, y)\n",
      "/Users/danielbeltsazar/opt/anaconda3/envs/tensor/lib/python3.9/site-packages/sklearn/neighbors/_classification.py:198: DataConversionWarning: A column-vector y was passed when a 1d array was expected. Please change the shape of y to (n_samples,), for example using ravel().\n",
      "  return self._fit(X, y)\n",
      "/Users/danielbeltsazar/opt/anaconda3/envs/tensor/lib/python3.9/site-packages/sklearn/neighbors/_classification.py:198: DataConversionWarning: A column-vector y was passed when a 1d array was expected. Please change the shape of y to (n_samples,), for example using ravel().\n",
      "  return self._fit(X, y)\n",
      "/Users/danielbeltsazar/opt/anaconda3/envs/tensor/lib/python3.9/site-packages/sklearn/neighbors/_classification.py:198: DataConversionWarning: A column-vector y was passed when a 1d array was expected. Please change the shape of y to (n_samples,), for example using ravel().\n",
      "  return self._fit(X, y)\n",
      "/Users/danielbeltsazar/opt/anaconda3/envs/tensor/lib/python3.9/site-packages/sklearn/neighbors/_classification.py:198: DataConversionWarning: A column-vector y was passed when a 1d array was expected. Please change the shape of y to (n_samples,), for example using ravel().\n",
      "  return self._fit(X, y)\n",
      "/Users/danielbeltsazar/opt/anaconda3/envs/tensor/lib/python3.9/site-packages/sklearn/neighbors/_classification.py:198: DataConversionWarning: A column-vector y was passed when a 1d array was expected. Please change the shape of y to (n_samples,), for example using ravel().\n",
      "  return self._fit(X, y)\n",
      "/Users/danielbeltsazar/opt/anaconda3/envs/tensor/lib/python3.9/site-packages/sklearn/neighbors/_classification.py:198: DataConversionWarning: A column-vector y was passed when a 1d array was expected. Please change the shape of y to (n_samples,), for example using ravel().\n",
      "  return self._fit(X, y)\n",
      "/Users/danielbeltsazar/opt/anaconda3/envs/tensor/lib/python3.9/site-packages/sklearn/neighbors/_classification.py:198: DataConversionWarning: A column-vector y was passed when a 1d array was expected. Please change the shape of y to (n_samples,), for example using ravel().\n",
      "  return self._fit(X, y)\n",
      "/Users/danielbeltsazar/opt/anaconda3/envs/tensor/lib/python3.9/site-packages/sklearn/neighbors/_classification.py:198: DataConversionWarning: A column-vector y was passed when a 1d array was expected. Please change the shape of y to (n_samples,), for example using ravel().\n",
      "  return self._fit(X, y)\n",
      "/Users/danielbeltsazar/opt/anaconda3/envs/tensor/lib/python3.9/site-packages/sklearn/neighbors/_classification.py:198: DataConversionWarning: A column-vector y was passed when a 1d array was expected. Please change the shape of y to (n_samples,), for example using ravel().\n",
      "  return self._fit(X, y)\n",
      "/Users/danielbeltsazar/opt/anaconda3/envs/tensor/lib/python3.9/site-packages/sklearn/neighbors/_classification.py:198: DataConversionWarning: A column-vector y was passed when a 1d array was expected. Please change the shape of y to (n_samples,), for example using ravel().\n",
      "  return self._fit(X, y)\n",
      "/Users/danielbeltsazar/opt/anaconda3/envs/tensor/lib/python3.9/site-packages/sklearn/neighbors/_classification.py:198: DataConversionWarning: A column-vector y was passed when a 1d array was expected. Please change the shape of y to (n_samples,), for example using ravel().\n",
      "  return self._fit(X, y)\n",
      "/Users/danielbeltsazar/opt/anaconda3/envs/tensor/lib/python3.9/site-packages/sklearn/neighbors/_classification.py:198: DataConversionWarning: A column-vector y was passed when a 1d array was expected. Please change the shape of y to (n_samples,), for example using ravel().\n",
      "  return self._fit(X, y)\n",
      "/Users/danielbeltsazar/opt/anaconda3/envs/tensor/lib/python3.9/site-packages/sklearn/neighbors/_classification.py:198: DataConversionWarning: A column-vector y was passed when a 1d array was expected. Please change the shape of y to (n_samples,), for example using ravel().\n",
      "  return self._fit(X, y)\n",
      "/Users/danielbeltsazar/opt/anaconda3/envs/tensor/lib/python3.9/site-packages/sklearn/neighbors/_classification.py:198: DataConversionWarning: A column-vector y was passed when a 1d array was expected. Please change the shape of y to (n_samples,), for example using ravel().\n",
      "  return self._fit(X, y)\n",
      "/Users/danielbeltsazar/opt/anaconda3/envs/tensor/lib/python3.9/site-packages/sklearn/neighbors/_classification.py:198: DataConversionWarning: A column-vector y was passed when a 1d array was expected. Please change the shape of y to (n_samples,), for example using ravel().\n",
      "  return self._fit(X, y)\n",
      "/Users/danielbeltsazar/opt/anaconda3/envs/tensor/lib/python3.9/site-packages/sklearn/neighbors/_classification.py:198: DataConversionWarning: A column-vector y was passed when a 1d array was expected. Please change the shape of y to (n_samples,), for example using ravel().\n",
      "  return self._fit(X, y)\n",
      "/Users/danielbeltsazar/opt/anaconda3/envs/tensor/lib/python3.9/site-packages/sklearn/neighbors/_classification.py:198: DataConversionWarning: A column-vector y was passed when a 1d array was expected. Please change the shape of y to (n_samples,), for example using ravel().\n",
      "  return self._fit(X, y)\n",
      "/Users/danielbeltsazar/opt/anaconda3/envs/tensor/lib/python3.9/site-packages/sklearn/neighbors/_classification.py:198: DataConversionWarning: A column-vector y was passed when a 1d array was expected. Please change the shape of y to (n_samples,), for example using ravel().\n",
      "  return self._fit(X, y)\n",
      "/Users/danielbeltsazar/opt/anaconda3/envs/tensor/lib/python3.9/site-packages/sklearn/neighbors/_classification.py:198: DataConversionWarning: A column-vector y was passed when a 1d array was expected. Please change the shape of y to (n_samples,), for example using ravel().\n",
      "  return self._fit(X, y)\n",
      "/Users/danielbeltsazar/opt/anaconda3/envs/tensor/lib/python3.9/site-packages/sklearn/neighbors/_classification.py:198: DataConversionWarning: A column-vector y was passed when a 1d array was expected. Please change the shape of y to (n_samples,), for example using ravel().\n",
      "  return self._fit(X, y)\n",
      "/Users/danielbeltsazar/opt/anaconda3/envs/tensor/lib/python3.9/site-packages/sklearn/neighbors/_classification.py:198: DataConversionWarning: A column-vector y was passed when a 1d array was expected. Please change the shape of y to (n_samples,), for example using ravel().\n",
      "  return self._fit(X, y)\n",
      "/Users/danielbeltsazar/opt/anaconda3/envs/tensor/lib/python3.9/site-packages/sklearn/neighbors/_classification.py:198: DataConversionWarning: A column-vector y was passed when a 1d array was expected. Please change the shape of y to (n_samples,), for example using ravel().\n",
      "  return self._fit(X, y)\n",
      "/Users/danielbeltsazar/opt/anaconda3/envs/tensor/lib/python3.9/site-packages/sklearn/neighbors/_classification.py:198: DataConversionWarning: A column-vector y was passed when a 1d array was expected. Please change the shape of y to (n_samples,), for example using ravel().\n",
      "  return self._fit(X, y)\n",
      "/Users/danielbeltsazar/opt/anaconda3/envs/tensor/lib/python3.9/site-packages/sklearn/neighbors/_classification.py:198: DataConversionWarning: A column-vector y was passed when a 1d array was expected. Please change the shape of y to (n_samples,), for example using ravel().\n",
      "  return self._fit(X, y)\n",
      "/Users/danielbeltsazar/opt/anaconda3/envs/tensor/lib/python3.9/site-packages/sklearn/neighbors/_classification.py:198: DataConversionWarning: A column-vector y was passed when a 1d array was expected. Please change the shape of y to (n_samples,), for example using ravel().\n",
      "  return self._fit(X, y)\n",
      "/Users/danielbeltsazar/opt/anaconda3/envs/tensor/lib/python3.9/site-packages/sklearn/neighbors/_classification.py:198: DataConversionWarning: A column-vector y was passed when a 1d array was expected. Please change the shape of y to (n_samples,), for example using ravel().\n",
      "  return self._fit(X, y)\n",
      "/Users/danielbeltsazar/opt/anaconda3/envs/tensor/lib/python3.9/site-packages/sklearn/neighbors/_classification.py:198: DataConversionWarning: A column-vector y was passed when a 1d array was expected. Please change the shape of y to (n_samples,), for example using ravel().\n",
      "  return self._fit(X, y)\n",
      "/Users/danielbeltsazar/opt/anaconda3/envs/tensor/lib/python3.9/site-packages/sklearn/neighbors/_classification.py:198: DataConversionWarning: A column-vector y was passed when a 1d array was expected. Please change the shape of y to (n_samples,), for example using ravel().\n",
      "  return self._fit(X, y)\n",
      "/Users/danielbeltsazar/opt/anaconda3/envs/tensor/lib/python3.9/site-packages/sklearn/neighbors/_classification.py:198: DataConversionWarning: A column-vector y was passed when a 1d array was expected. Please change the shape of y to (n_samples,), for example using ravel().\n",
      "  return self._fit(X, y)\n",
      "/Users/danielbeltsazar/opt/anaconda3/envs/tensor/lib/python3.9/site-packages/sklearn/neighbors/_classification.py:198: DataConversionWarning: A column-vector y was passed when a 1d array was expected. Please change the shape of y to (n_samples,), for example using ravel().\n",
      "  return self._fit(X, y)\n",
      "/Users/danielbeltsazar/opt/anaconda3/envs/tensor/lib/python3.9/site-packages/sklearn/neighbors/_classification.py:198: DataConversionWarning: A column-vector y was passed when a 1d array was expected. Please change the shape of y to (n_samples,), for example using ravel().\n",
      "  return self._fit(X, y)\n",
      "/Users/danielbeltsazar/opt/anaconda3/envs/tensor/lib/python3.9/site-packages/sklearn/neighbors/_classification.py:198: DataConversionWarning: A column-vector y was passed when a 1d array was expected. Please change the shape of y to (n_samples,), for example using ravel().\n",
      "  return self._fit(X, y)\n",
      "/Users/danielbeltsazar/opt/anaconda3/envs/tensor/lib/python3.9/site-packages/sklearn/neighbors/_classification.py:198: DataConversionWarning: A column-vector y was passed when a 1d array was expected. Please change the shape of y to (n_samples,), for example using ravel().\n",
      "  return self._fit(X, y)\n",
      "/Users/danielbeltsazar/opt/anaconda3/envs/tensor/lib/python3.9/site-packages/sklearn/neighbors/_classification.py:198: DataConversionWarning: A column-vector y was passed when a 1d array was expected. Please change the shape of y to (n_samples,), for example using ravel().\n",
      "  return self._fit(X, y)\n",
      "/Users/danielbeltsazar/opt/anaconda3/envs/tensor/lib/python3.9/site-packages/sklearn/neighbors/_classification.py:198: DataConversionWarning: A column-vector y was passed when a 1d array was expected. Please change the shape of y to (n_samples,), for example using ravel().\n",
      "  return self._fit(X, y)\n",
      "/Users/danielbeltsazar/opt/anaconda3/envs/tensor/lib/python3.9/site-packages/sklearn/neighbors/_classification.py:198: DataConversionWarning: A column-vector y was passed when a 1d array was expected. Please change the shape of y to (n_samples,), for example using ravel().\n",
      "  return self._fit(X, y)\n",
      "/Users/danielbeltsazar/opt/anaconda3/envs/tensor/lib/python3.9/site-packages/sklearn/neighbors/_classification.py:198: DataConversionWarning: A column-vector y was passed when a 1d array was expected. Please change the shape of y to (n_samples,), for example using ravel().\n",
      "  return self._fit(X, y)\n",
      "/Users/danielbeltsazar/opt/anaconda3/envs/tensor/lib/python3.9/site-packages/sklearn/neighbors/_classification.py:198: DataConversionWarning: A column-vector y was passed when a 1d array was expected. Please change the shape of y to (n_samples,), for example using ravel().\n",
      "  return self._fit(X, y)\n",
      "/Users/danielbeltsazar/opt/anaconda3/envs/tensor/lib/python3.9/site-packages/sklearn/neighbors/_classification.py:198: DataConversionWarning: A column-vector y was passed when a 1d array was expected. Please change the shape of y to (n_samples,), for example using ravel().\n",
      "  return self._fit(X, y)\n",
      "/Users/danielbeltsazar/opt/anaconda3/envs/tensor/lib/python3.9/site-packages/sklearn/neighbors/_classification.py:198: DataConversionWarning: A column-vector y was passed when a 1d array was expected. Please change the shape of y to (n_samples,), for example using ravel().\n",
      "  return self._fit(X, y)\n",
      "/Users/danielbeltsazar/opt/anaconda3/envs/tensor/lib/python3.9/site-packages/sklearn/neighbors/_classification.py:198: DataConversionWarning: A column-vector y was passed when a 1d array was expected. Please change the shape of y to (n_samples,), for example using ravel().\n",
      "  return self._fit(X, y)\n",
      "/Users/danielbeltsazar/opt/anaconda3/envs/tensor/lib/python3.9/site-packages/sklearn/neighbors/_classification.py:198: DataConversionWarning: A column-vector y was passed when a 1d array was expected. Please change the shape of y to (n_samples,), for example using ravel().\n",
      "  return self._fit(X, y)\n",
      "/Users/danielbeltsazar/opt/anaconda3/envs/tensor/lib/python3.9/site-packages/sklearn/neighbors/_classification.py:198: DataConversionWarning: A column-vector y was passed when a 1d array was expected. Please change the shape of y to (n_samples,), for example using ravel().\n",
      "  return self._fit(X, y)\n",
      "/Users/danielbeltsazar/opt/anaconda3/envs/tensor/lib/python3.9/site-packages/sklearn/neighbors/_classification.py:198: DataConversionWarning: A column-vector y was passed when a 1d array was expected. Please change the shape of y to (n_samples,), for example using ravel().\n",
      "  return self._fit(X, y)\n",
      "/Users/danielbeltsazar/opt/anaconda3/envs/tensor/lib/python3.9/site-packages/sklearn/neighbors/_classification.py:198: DataConversionWarning: A column-vector y was passed when a 1d array was expected. Please change the shape of y to (n_samples,), for example using ravel().\n",
      "  return self._fit(X, y)\n",
      "/Users/danielbeltsazar/opt/anaconda3/envs/tensor/lib/python3.9/site-packages/sklearn/neighbors/_classification.py:198: DataConversionWarning: A column-vector y was passed when a 1d array was expected. Please change the shape of y to (n_samples,), for example using ravel().\n",
      "  return self._fit(X, y)\n",
      "/Users/danielbeltsazar/opt/anaconda3/envs/tensor/lib/python3.9/site-packages/sklearn/neighbors/_classification.py:198: DataConversionWarning: A column-vector y was passed when a 1d array was expected. Please change the shape of y to (n_samples,), for example using ravel().\n",
      "  return self._fit(X, y)\n",
      "/Users/danielbeltsazar/opt/anaconda3/envs/tensor/lib/python3.9/site-packages/sklearn/neighbors/_classification.py:198: DataConversionWarning: A column-vector y was passed when a 1d array was expected. Please change the shape of y to (n_samples,), for example using ravel().\n",
      "  return self._fit(X, y)\n",
      "/Users/danielbeltsazar/opt/anaconda3/envs/tensor/lib/python3.9/site-packages/sklearn/neighbors/_classification.py:198: DataConversionWarning: A column-vector y was passed when a 1d array was expected. Please change the shape of y to (n_samples,), for example using ravel().\n",
      "  return self._fit(X, y)\n",
      "/Users/danielbeltsazar/opt/anaconda3/envs/tensor/lib/python3.9/site-packages/sklearn/neighbors/_classification.py:198: DataConversionWarning: A column-vector y was passed when a 1d array was expected. Please change the shape of y to (n_samples,), for example using ravel().\n",
      "  return self._fit(X, y)\n",
      "/Users/danielbeltsazar/opt/anaconda3/envs/tensor/lib/python3.9/site-packages/sklearn/neighbors/_classification.py:198: DataConversionWarning: A column-vector y was passed when a 1d array was expected. Please change the shape of y to (n_samples,), for example using ravel().\n",
      "  return self._fit(X, y)\n",
      "/Users/danielbeltsazar/opt/anaconda3/envs/tensor/lib/python3.9/site-packages/sklearn/neighbors/_classification.py:198: DataConversionWarning: A column-vector y was passed when a 1d array was expected. Please change the shape of y to (n_samples,), for example using ravel().\n",
      "  return self._fit(X, y)\n",
      "/Users/danielbeltsazar/opt/anaconda3/envs/tensor/lib/python3.9/site-packages/sklearn/neighbors/_classification.py:198: DataConversionWarning: A column-vector y was passed when a 1d array was expected. Please change the shape of y to (n_samples,), for example using ravel().\n",
      "  return self._fit(X, y)\n",
      "/Users/danielbeltsazar/opt/anaconda3/envs/tensor/lib/python3.9/site-packages/sklearn/neighbors/_classification.py:198: DataConversionWarning: A column-vector y was passed when a 1d array was expected. Please change the shape of y to (n_samples,), for example using ravel().\n",
      "  return self._fit(X, y)\n",
      "/Users/danielbeltsazar/opt/anaconda3/envs/tensor/lib/python3.9/site-packages/sklearn/neighbors/_classification.py:198: DataConversionWarning: A column-vector y was passed when a 1d array was expected. Please change the shape of y to (n_samples,), for example using ravel().\n",
      "  return self._fit(X, y)\n",
      "/Users/danielbeltsazar/opt/anaconda3/envs/tensor/lib/python3.9/site-packages/sklearn/neighbors/_classification.py:198: DataConversionWarning: A column-vector y was passed when a 1d array was expected. Please change the shape of y to (n_samples,), for example using ravel().\n",
      "  return self._fit(X, y)\n",
      "/Users/danielbeltsazar/opt/anaconda3/envs/tensor/lib/python3.9/site-packages/sklearn/neighbors/_classification.py:198: DataConversionWarning: A column-vector y was passed when a 1d array was expected. Please change the shape of y to (n_samples,), for example using ravel().\n",
      "  return self._fit(X, y)\n"
     ]
    },
    {
     "data": {
      "text/plain": [
       "GridSearchCV(cv=5, estimator=KNeighborsClassifier(), n_jobs=-1,\n",
       "             param_grid={'algorithm': ['auto', 'ball_tree', 'kd_tree', 'brute'],\n",
       "                         'n_neighbors': [5, 10, 15, 20],\n",
       "                         'weights': ['uniform', 'distance']},\n",
       "             verbose=3)"
      ]
     },
     "execution_count": 33,
     "metadata": {},
     "output_type": "execute_result"
    }
   ],
   "source": [
    "knn_model = GridSearchCV(KNeighborsClassifier(), params_grid, cv=5,refit = True, verbose = 3,n_jobs=-1)\n",
    "knn_model.fit(X_train,y_train)"
   ]
  },
  {
   "cell_type": "markdown",
   "metadata": {},
   "source": [
    "#### We got optimal parameters:"
   ]
  },
  {
   "cell_type": "code",
   "execution_count": 34,
   "metadata": {
    "scrolled": true
   },
   "outputs": [
    {
     "name": "stdout",
     "output_type": "stream",
     "text": [
      "{'algorithm': 'auto', 'n_neighbors': 5, 'weights': 'uniform'}\n"
     ]
    }
   ],
   "source": [
    "print(knn_model.best_params_)"
   ]
  },
  {
   "cell_type": "code",
   "execution_count": 35,
   "metadata": {},
   "outputs": [
    {
     "name": "stdout",
     "output_type": "stream",
     "text": [
      "Best score for training data: 0.9615384615384617 \n",
      "\n",
      "Best algorithm: auto \n",
      "\n",
      "Best n_neighbors: 5 \n",
      "\n",
      "Best weights: uniform \n",
      "\n"
     ]
    }
   ],
   "source": [
    "# View the accuracy score\n",
    "print('Best score for training data:', knn_model.best_score_,\"\\n\") \n",
    "\n",
    "# View the best parameters for the model found using grid search\n",
    "print('Best algorithm:',knn_model.best_estimator_.algorithm,\"\\n\") \n",
    "print('Best n_neighbors:',knn_model.best_estimator_.n_neighbors,\"\\n\")\n",
    "print('Best weights:',knn_model.best_estimator_.weights,\"\\n\")"
   ]
  },
  {
   "cell_type": "code",
   "execution_count": 36,
   "metadata": {},
   "outputs": [],
   "source": [
    "final_model = knn_model.best_estimator_\n",
    "y_pred2 = final_model.predict(X_test)"
   ]
  },
  {
   "cell_type": "markdown",
   "metadata": {},
   "source": [
    "### Confusion matrix of our gridsearch model"
   ]
  },
  {
   "cell_type": "code",
   "execution_count": 37,
   "metadata": {},
   "outputs": [
    {
     "name": "stdout",
     "output_type": "stream",
     "text": [
      "[[23  0]\n",
      " [ 2  8]]\n",
      "\n",
      "\n",
      "              precision    recall  f1-score   support\n",
      "\n",
      "           0       0.92      1.00      0.96        23\n",
      "           1       1.00      0.80      0.89        10\n",
      "\n",
      "    accuracy                           0.94        33\n",
      "   macro avg       0.96      0.90      0.92        33\n",
      "weighted avg       0.94      0.94      0.94        33\n",
      "\n"
     ]
    }
   ],
   "source": [
    "print(confusion_matrix(y_test,y_pred2))\n",
    "print(\"\\n\")\n",
    "print(classification_report(y_test,y_pred2))"
   ]
  },
  {
   "cell_type": "markdown",
   "metadata": {},
   "source": [
    " "
   ]
  },
  {
   "cell_type": "markdown",
   "metadata": {},
   "source": [
    "### Kita buat dataframe baru untuk negara Indonesia, US, Brazil, New Zealand, Singapore untuk dilakukan prediksi"
   ]
  },
  {
   "cell_type": "code",
   "execution_count": 38,
   "metadata": {},
   "outputs": [
    {
     "data": {
      "text/html": [
       "<div>\n",
       "<style scoped>\n",
       "    .dataframe tbody tr th:only-of-type {\n",
       "        vertical-align: middle;\n",
       "    }\n",
       "\n",
       "    .dataframe tbody tr th {\n",
       "        vertical-align: top;\n",
       "    }\n",
       "\n",
       "    .dataframe thead th {\n",
       "        text-align: right;\n",
       "    }\n",
       "</style>\n",
       "<table border=\"1\" class=\"dataframe\">\n",
       "  <thead>\n",
       "    <tr style=\"text-align: right;\">\n",
       "      <th></th>\n",
       "      <th>country</th>\n",
       "      <th>confirmed</th>\n",
       "      <th>deaths</th>\n",
       "      <th>recovered</th>\n",
       "      <th>region</th>\n",
       "      <th>climate</th>\n",
       "      <th>active_case</th>\n",
       "      <th>active_case_%</th>\n",
       "      <th>deaths_%</th>\n",
       "      <th>recovered_%</th>\n",
       "      <th>safety</th>\n",
       "    </tr>\n",
       "  </thead>\n",
       "  <tbody>\n",
       "    <tr>\n",
       "      <th>14770</th>\n",
       "      <td>Brazil</td>\n",
       "      <td>6901952.0</td>\n",
       "      <td>181402.0</td>\n",
       "      <td>6138349.0</td>\n",
       "      <td>South/Latin America</td>\n",
       "      <td>tropic</td>\n",
       "      <td>582201.0</td>\n",
       "      <td>8.435309</td>\n",
       "      <td>2.628271</td>\n",
       "      <td>88.936420</td>\n",
       "      <td>safe</td>\n",
       "    </tr>\n",
       "    <tr>\n",
       "      <th>48682</th>\n",
       "      <td>Indonesia</td>\n",
       "      <td>617820.0</td>\n",
       "      <td>18819.0</td>\n",
       "      <td>505836.0</td>\n",
       "      <td>Asia &amp; Pacific</td>\n",
       "      <td>tropic</td>\n",
       "      <td>93165.0</td>\n",
       "      <td>15.079635</td>\n",
       "      <td>3.046033</td>\n",
       "      <td>81.874332</td>\n",
       "      <td>not_safe</td>\n",
       "    </tr>\n",
       "    <tr>\n",
       "      <th>77570</th>\n",
       "      <td>New Zealand</td>\n",
       "      <td>2096.0</td>\n",
       "      <td>25.0</td>\n",
       "      <td>2015.0</td>\n",
       "      <td>Asia &amp; Pacific</td>\n",
       "      <td>nontropic</td>\n",
       "      <td>56.0</td>\n",
       "      <td>2.671756</td>\n",
       "      <td>1.192748</td>\n",
       "      <td>96.135496</td>\n",
       "      <td>safe</td>\n",
       "    </tr>\n",
       "    <tr>\n",
       "      <th>97666</th>\n",
       "      <td>Singapore</td>\n",
       "      <td>58320.0</td>\n",
       "      <td>29.0</td>\n",
       "      <td>58208.0</td>\n",
       "      <td>Asia &amp; Pacific</td>\n",
       "      <td>tropic</td>\n",
       "      <td>83.0</td>\n",
       "      <td>0.142318</td>\n",
       "      <td>0.049726</td>\n",
       "      <td>99.807956</td>\n",
       "      <td>safe</td>\n",
       "    </tr>\n",
       "    <tr>\n",
       "      <th>112738</th>\n",
       "      <td>US</td>\n",
       "      <td>16463227.0</td>\n",
       "      <td>303463.0</td>\n",
       "      <td>6298082.0</td>\n",
       "      <td>North America</td>\n",
       "      <td>nontropic</td>\n",
       "      <td>9861682.0</td>\n",
       "      <td>59.901270</td>\n",
       "      <td>1.843278</td>\n",
       "      <td>38.255453</td>\n",
       "      <td>not_safe</td>\n",
       "    </tr>\n",
       "  </tbody>\n",
       "</table>\n",
       "</div>"
      ],
      "text/plain": [
       "            country   confirmed    deaths  recovered               region  \\\n",
       "14770        Brazil   6901952.0  181402.0  6138349.0  South/Latin America   \n",
       "48682     Indonesia    617820.0   18819.0   505836.0       Asia & Pacific   \n",
       "77570   New Zealand      2096.0      25.0     2015.0       Asia & Pacific   \n",
       "97666     Singapore     58320.0      29.0    58208.0       Asia & Pacific   \n",
       "112738           US  16463227.0  303463.0  6298082.0        North America   \n",
       "\n",
       "          climate  active_case  active_case_%  deaths_%  recovered_%    safety  \n",
       "14770      tropic     582201.0       8.435309  2.628271    88.936420      safe  \n",
       "48682      tropic      93165.0      15.079635  3.046033    81.874332  not_safe  \n",
       "77570   nontropic         56.0       2.671756  1.192748    96.135496      safe  \n",
       "97666      tropic         83.0       0.142318  0.049726    99.807956      safe  \n",
       "112738  nontropic    9861682.0      59.901270  1.843278    38.255453  not_safe  "
      ]
     },
     "execution_count": 38,
     "metadata": {},
     "output_type": "execute_result"
    }
   ],
   "source": [
    "new_df = df_last[(df_last['country']=='Indonesia')| (df_last['country']=='US')|(df_last['country']=='Brazil')|(df_last['country']=='New Zealand')|(df_last['country']=='Singapore')]\n",
    "new_df"
   ]
  },
  {
   "cell_type": "code",
   "execution_count": 39,
   "metadata": {},
   "outputs": [
    {
     "data": {
      "text/plain": [
       "array([0, 0, 0, 0, 0])"
      ]
     },
     "execution_count": 39,
     "metadata": {},
     "output_type": "execute_result"
    }
   ],
   "source": [
    "df_newpred = new_df.drop(['country','region', 'safety','climate'],axis=1)\n",
    "\n",
    "safety_pred = model_knn.predict(df_newpred)\n",
    "safety_pred"
   ]
  },
  {
   "cell_type": "code",
   "execution_count": 40,
   "metadata": {},
   "outputs": [
    {
     "name": "stderr",
     "output_type": "stream",
     "text": [
      "/var/folders/52/_h12ds1j0_5c854m0gwwj0y80000gn/T/ipykernel_9081/537474386.py:1: SettingWithCopyWarning: \n",
      "A value is trying to be set on a copy of a slice from a DataFrame.\n",
      "Try using .loc[row_indexer,col_indexer] = value instead\n",
      "\n",
      "See the caveats in the documentation: https://pandas.pydata.org/pandas-docs/stable/user_guide/indexing.html#returning-a-view-versus-a-copy\n",
      "  new_df['safety_prediksi_']='not_safe'\n"
     ]
    },
    {
     "data": {
      "text/html": [
       "<div>\n",
       "<style scoped>\n",
       "    .dataframe tbody tr th:only-of-type {\n",
       "        vertical-align: middle;\n",
       "    }\n",
       "\n",
       "    .dataframe tbody tr th {\n",
       "        vertical-align: top;\n",
       "    }\n",
       "\n",
       "    .dataframe thead th {\n",
       "        text-align: right;\n",
       "    }\n",
       "</style>\n",
       "<table border=\"1\" class=\"dataframe\">\n",
       "  <thead>\n",
       "    <tr style=\"text-align: right;\">\n",
       "      <th></th>\n",
       "      <th>country</th>\n",
       "      <th>confirmed</th>\n",
       "      <th>deaths</th>\n",
       "      <th>recovered</th>\n",
       "      <th>region</th>\n",
       "      <th>climate</th>\n",
       "      <th>active_case</th>\n",
       "      <th>active_case_%</th>\n",
       "      <th>deaths_%</th>\n",
       "      <th>recovered_%</th>\n",
       "      <th>safety</th>\n",
       "      <th>safety_prediksi_</th>\n",
       "    </tr>\n",
       "  </thead>\n",
       "  <tbody>\n",
       "    <tr>\n",
       "      <th>14770</th>\n",
       "      <td>Brazil</td>\n",
       "      <td>6901952.0</td>\n",
       "      <td>181402.0</td>\n",
       "      <td>6138349.0</td>\n",
       "      <td>South/Latin America</td>\n",
       "      <td>tropic</td>\n",
       "      <td>582201.0</td>\n",
       "      <td>8.435309</td>\n",
       "      <td>2.628271</td>\n",
       "      <td>88.936420</td>\n",
       "      <td>safe</td>\n",
       "      <td>not_safe</td>\n",
       "    </tr>\n",
       "    <tr>\n",
       "      <th>48682</th>\n",
       "      <td>Indonesia</td>\n",
       "      <td>617820.0</td>\n",
       "      <td>18819.0</td>\n",
       "      <td>505836.0</td>\n",
       "      <td>Asia &amp; Pacific</td>\n",
       "      <td>tropic</td>\n",
       "      <td>93165.0</td>\n",
       "      <td>15.079635</td>\n",
       "      <td>3.046033</td>\n",
       "      <td>81.874332</td>\n",
       "      <td>not_safe</td>\n",
       "      <td>not_safe</td>\n",
       "    </tr>\n",
       "    <tr>\n",
       "      <th>77570</th>\n",
       "      <td>New Zealand</td>\n",
       "      <td>2096.0</td>\n",
       "      <td>25.0</td>\n",
       "      <td>2015.0</td>\n",
       "      <td>Asia &amp; Pacific</td>\n",
       "      <td>nontropic</td>\n",
       "      <td>56.0</td>\n",
       "      <td>2.671756</td>\n",
       "      <td>1.192748</td>\n",
       "      <td>96.135496</td>\n",
       "      <td>safe</td>\n",
       "      <td>not_safe</td>\n",
       "    </tr>\n",
       "    <tr>\n",
       "      <th>97666</th>\n",
       "      <td>Singapore</td>\n",
       "      <td>58320.0</td>\n",
       "      <td>29.0</td>\n",
       "      <td>58208.0</td>\n",
       "      <td>Asia &amp; Pacific</td>\n",
       "      <td>tropic</td>\n",
       "      <td>83.0</td>\n",
       "      <td>0.142318</td>\n",
       "      <td>0.049726</td>\n",
       "      <td>99.807956</td>\n",
       "      <td>safe</td>\n",
       "      <td>not_safe</td>\n",
       "    </tr>\n",
       "    <tr>\n",
       "      <th>112738</th>\n",
       "      <td>US</td>\n",
       "      <td>16463227.0</td>\n",
       "      <td>303463.0</td>\n",
       "      <td>6298082.0</td>\n",
       "      <td>North America</td>\n",
       "      <td>nontropic</td>\n",
       "      <td>9861682.0</td>\n",
       "      <td>59.901270</td>\n",
       "      <td>1.843278</td>\n",
       "      <td>38.255453</td>\n",
       "      <td>not_safe</td>\n",
       "      <td>not_safe</td>\n",
       "    </tr>\n",
       "  </tbody>\n",
       "</table>\n",
       "</div>"
      ],
      "text/plain": [
       "            country   confirmed    deaths  recovered               region  \\\n",
       "14770        Brazil   6901952.0  181402.0  6138349.0  South/Latin America   \n",
       "48682     Indonesia    617820.0   18819.0   505836.0       Asia & Pacific   \n",
       "77570   New Zealand      2096.0      25.0     2015.0       Asia & Pacific   \n",
       "97666     Singapore     58320.0      29.0    58208.0       Asia & Pacific   \n",
       "112738           US  16463227.0  303463.0  6298082.0        North America   \n",
       "\n",
       "          climate  active_case  active_case_%  deaths_%  recovered_%  \\\n",
       "14770      tropic     582201.0       8.435309  2.628271    88.936420   \n",
       "48682      tropic      93165.0      15.079635  3.046033    81.874332   \n",
       "77570   nontropic         56.0       2.671756  1.192748    96.135496   \n",
       "97666      tropic         83.0       0.142318  0.049726    99.807956   \n",
       "112738  nontropic    9861682.0      59.901270  1.843278    38.255453   \n",
       "\n",
       "          safety safety_prediksi_  \n",
       "14770       safe         not_safe  \n",
       "48682   not_safe         not_safe  \n",
       "77570       safe         not_safe  \n",
       "97666       safe         not_safe  \n",
       "112738  not_safe         not_safe  "
      ]
     },
     "execution_count": 40,
     "metadata": {},
     "output_type": "execute_result"
    }
   ],
   "source": [
    "new_df['safety_prediksi_']='not_safe'\n",
    "new_df.head()"
   ]
  },
  {
   "cell_type": "markdown",
   "metadata": {},
   "source": [
    "## 4.2. Model Regresi Linear untuk memplot dan memprediksi persentasi kasus aktif (active_case_%)"
   ]
  },
  {
   "cell_type": "code",
   "execution_count": 41,
   "metadata": {},
   "outputs": [],
   "source": [
    "from sklearn.linear_model import LinearRegression\n",
    "lr = LinearRegression()\n",
    "X_new = df_last.drop(['country','region', 'safety','climate','active_case_%'],axis=1)\n",
    "y_new = df_last['active_case_%']\n",
    "X_Train, X_Test, y_Train, y_Test = train_test_split(X_new, y_new, test_size=0.2, random_state=21)"
   ]
  },
  {
   "cell_type": "code",
   "execution_count": 42,
   "metadata": {},
   "outputs": [
    {
     "data": {
      "text/plain": [
       "LinearRegression()"
      ]
     },
     "execution_count": 42,
     "metadata": {},
     "output_type": "execute_result"
    }
   ],
   "source": [
    "lr.fit(X_Train,y_Train)"
   ]
  },
  {
   "cell_type": "code",
   "execution_count": 43,
   "metadata": {},
   "outputs": [
    {
     "name": "stdout",
     "output_type": "stream",
     "text": [
      "intercept :  99.99999999999979\n",
      "slope : [ 4.91557539e-12 -4.91549218e-12 -4.91557673e-12 -4.91557712e-12\n",
      " -1.00000000e+00 -1.00000000e+00]\n"
     ]
    }
   ],
   "source": [
    "print('intercept : ',lr.intercept_)\n",
    "print('slope :',lr.coef_)"
   ]
  },
  {
   "cell_type": "code",
   "execution_count": 44,
   "metadata": {},
   "outputs": [
    {
     "name": "stdout",
     "output_type": "stream",
     "text": [
      "Mean Absolute Error: 4.59508693721618e-13\n",
      "Mean Squared Error: 1.2649944006356915e-24\n",
      "Root Mean Squared Error: 1.1247196986963869e-12\n"
     ]
    }
   ],
   "source": [
    "y_Pred = lr.predict(X_Test)\n",
    "\n",
    "from sklearn import metrics\n",
    "print('Mean Absolute Error:', metrics.mean_absolute_error(y_Test, y_Pred))\n",
    "print('Mean Squared Error:', metrics.mean_squared_error(y_Test, y_Pred))\n",
    "print('Root Mean Squared Error:', np.sqrt(metrics.mean_squared_error(y_Test, y_Pred)))"
   ]
  },
  {
   "cell_type": "code",
   "execution_count": 45,
   "metadata": {},
   "outputs": [
    {
     "data": {
      "text/plain": [
       "Text(0, 0.5, 'active_case_%')"
      ]
     },
     "execution_count": 45,
     "metadata": {},
     "output_type": "execute_result"
    },
    {
     "data": {
      "image/png": "[encoded data removed]",
      "text/plain": [
       "<Figure size 432x288 with 1 Axes>"
      ]
     },
     "metadata": {
      "needs_background": "light"
     },
     "output_type": "display_data"
    }
   ],
   "source": [
    "# Akan sulit diplot karena data train terdiri dari banyak dimensi. Saya belum tahu caranya.\n",
    "# Namun di sini saya coba tampilkan data asli recovered_% dengan hasil regresi yaitu active_case_% beserta plot regresinya\n",
    "plt.scatter(X_Test['recovered_%'], y_Test)\n",
    "plt.plot(X_Test['recovered_%'], y_Pred, c='r')\n",
    "plt.xlabel('recovered_%')\n",
    "plt.ylabel('active_case_%')\n"
   ]
  },
  {
   "cell_type": "markdown",
   "metadata": {},
   "source": [
    "## 4.3. Model Clustering untuk memprediksi nomor cluster berdasarkan data 'active_case_%', 'deaths_%', dan 'recovered_%'"
   ]
  },
  {
   "cell_type": "code",
   "execution_count": 46,
   "metadata": {},
   "outputs": [
    {
     "data": {
      "text/plain": [
       "KMeans(n_clusters=5, random_state=0)"
      ]
     },
     "execution_count": 46,
     "metadata": {},
     "output_type": "execute_result"
    }
   ],
   "source": [
    "# kita gunakan batasan 5 cluster\n",
    "\n",
    "from sklearn.cluster import KMeans\n",
    "kmeans=KMeans(n_clusters=5,init = \"k-means++\", max_iter = 300, n_init = 10, random_state = 0)\n",
    "kmeans.fit(df_last[['active_case_%','deaths_%','recovered_%']])"
   ]
  },
  {
   "cell_type": "code",
   "execution_count": 47,
   "metadata": {},
   "outputs": [
    {
     "data": {
      "text/plain": [
       "array([[35.30222595,  2.27816793, 62.41960612],\n",
       "       [ 5.61868643,  1.88215849, 92.49915509],\n",
       "       [56.82812199,  2.29622568, 40.87565233],\n",
       "       [19.11673023,  2.02601577, 78.857254  ],\n",
       "       [93.59666273,  1.92329552,  4.48004175]])"
      ]
     },
     "execution_count": 47,
     "metadata": {},
     "output_type": "execute_result"
    }
   ],
   "source": [
    "kmeans.cluster_centers_"
   ]
  },
  {
   "cell_type": "markdown",
   "metadata": {},
   "source": [
    "### Misal kita ingin menggunakan model clustering tersebut untuk memprediksi cluster beberapa negara:\n",
    "\n",
    "##### i. Indonesia\n",
    "##### ii. Singapore\n",
    "##### iii. US\n",
    "##### iv. Italy\n",
    "##### v. Iran"
   ]
  },
  {
   "cell_type": "code",
   "execution_count": 48,
   "metadata": {},
   "outputs": [
    {
     "data": {
      "text/html": [
       "<div>\n",
       "<style scoped>\n",
       "    .dataframe tbody tr th:only-of-type {\n",
       "        vertical-align: middle;\n",
       "    }\n",
       "\n",
       "    .dataframe tbody tr th {\n",
       "        vertical-align: top;\n",
       "    }\n",
       "\n",
       "    .dataframe thead th {\n",
       "        text-align: right;\n",
       "    }\n",
       "</style>\n",
       "<table border=\"1\" class=\"dataframe\">\n",
       "  <thead>\n",
       "    <tr style=\"text-align: right;\">\n",
       "      <th></th>\n",
       "      <th>country</th>\n",
       "      <th>confirmed</th>\n",
       "      <th>deaths</th>\n",
       "      <th>recovered</th>\n",
       "      <th>region</th>\n",
       "      <th>climate</th>\n",
       "      <th>active_case</th>\n",
       "      <th>active_case_%</th>\n",
       "      <th>deaths_%</th>\n",
       "      <th>recovered_%</th>\n",
       "      <th>safety</th>\n",
       "    </tr>\n",
       "  </thead>\n",
       "  <tbody>\n",
       "    <tr>\n",
       "      <th>48682</th>\n",
       "      <td>Indonesia</td>\n",
       "      <td>617820.0</td>\n",
       "      <td>18819.0</td>\n",
       "      <td>505836.0</td>\n",
       "      <td>Asia &amp; Pacific</td>\n",
       "      <td>tropic</td>\n",
       "      <td>93165.0</td>\n",
       "      <td>15.079635</td>\n",
       "      <td>3.046033</td>\n",
       "      <td>81.874332</td>\n",
       "      <td>not_safe</td>\n",
       "    </tr>\n",
       "    <tr>\n",
       "      <th>49310</th>\n",
       "      <td>Iran</td>\n",
       "      <td>1108269.0</td>\n",
       "      <td>52196.0</td>\n",
       "      <td>812270.0</td>\n",
       "      <td>Middle east</td>\n",
       "      <td>nontropic</td>\n",
       "      <td>243803.0</td>\n",
       "      <td>21.998540</td>\n",
       "      <td>4.709687</td>\n",
       "      <td>73.291773</td>\n",
       "      <td>not_safe</td>\n",
       "    </tr>\n",
       "    <tr>\n",
       "      <th>51822</th>\n",
       "      <td>Italy</td>\n",
       "      <td>1843712.0</td>\n",
       "      <td>64520.0</td>\n",
       "      <td>1093161.0</td>\n",
       "      <td>Europe</td>\n",
       "      <td>nontropic</td>\n",
       "      <td>686031.0</td>\n",
       "      <td>37.209228</td>\n",
       "      <td>3.499462</td>\n",
       "      <td>59.291310</td>\n",
       "      <td>not_safe</td>\n",
       "    </tr>\n",
       "    <tr>\n",
       "      <th>97666</th>\n",
       "      <td>Singapore</td>\n",
       "      <td>58320.0</td>\n",
       "      <td>29.0</td>\n",
       "      <td>58208.0</td>\n",
       "      <td>Asia &amp; Pacific</td>\n",
       "      <td>tropic</td>\n",
       "      <td>83.0</td>\n",
       "      <td>0.142318</td>\n",
       "      <td>0.049726</td>\n",
       "      <td>99.807956</td>\n",
       "      <td>safe</td>\n",
       "    </tr>\n",
       "    <tr>\n",
       "      <th>112738</th>\n",
       "      <td>US</td>\n",
       "      <td>16463227.0</td>\n",
       "      <td>303463.0</td>\n",
       "      <td>6298082.0</td>\n",
       "      <td>North America</td>\n",
       "      <td>nontropic</td>\n",
       "      <td>9861682.0</td>\n",
       "      <td>59.901270</td>\n",
       "      <td>1.843278</td>\n",
       "      <td>38.255453</td>\n",
       "      <td>not_safe</td>\n",
       "    </tr>\n",
       "  </tbody>\n",
       "</table>\n",
       "</div>"
      ],
      "text/plain": [
       "          country   confirmed    deaths  recovered          region    climate  \\\n",
       "48682   Indonesia    617820.0   18819.0   505836.0  Asia & Pacific     tropic   \n",
       "49310        Iran   1108269.0   52196.0   812270.0     Middle east  nontropic   \n",
       "51822       Italy   1843712.0   64520.0  1093161.0          Europe  nontropic   \n",
       "97666   Singapore     58320.0      29.0    58208.0  Asia & Pacific     tropic   \n",
       "112738         US  16463227.0  303463.0  6298082.0   North America  nontropic   \n",
       "\n",
       "        active_case  active_case_%  deaths_%  recovered_%    safety  \n",
       "48682       93165.0      15.079635  3.046033    81.874332  not_safe  \n",
       "49310      243803.0      21.998540  4.709687    73.291773  not_safe  \n",
       "51822      686031.0      37.209228  3.499462    59.291310  not_safe  \n",
       "97666          83.0       0.142318  0.049726    99.807956      safe  \n",
       "112738    9861682.0      59.901270  1.843278    38.255453  not_safe  "
      ]
     },
     "execution_count": 48,
     "metadata": {},
     "output_type": "execute_result"
    }
   ],
   "source": [
    "df_cluster = df_last[(df_last['country']=='Indonesia')| (df_last['country']=='Singapore')|(df_last['country']=='US')|(df_last['country']=='Italy')|(df_last['country']=='Iran')]\n",
    "df_cluster"
   ]
  },
  {
   "cell_type": "code",
   "execution_count": 49,
   "metadata": {},
   "outputs": [
    {
     "ename": "AttributeError",
     "evalue": "'NoneType' object has no attribute 'split'",
     "output_type": "error",
     "traceback": [
      "\u001b[0;31m---------------------------------------------------------------------------\u001b[0m",
      "\u001b[0;31mAttributeError\u001b[0m                            Traceback (most recent call last)",
      "\u001b[0;32m/var/folders/52/_h12ds1j0_5c854m0gwwj0y80000gn/T/ipykernel_9081/4048227739.py\u001b[0m in \u001b[0;36m<module>\u001b[0;34m\u001b[0m\n\u001b[0;32m----> 1\u001b[0;31m \u001b[0my_kmeans\u001b[0m \u001b[0;34m=\u001b[0m \u001b[0mkmeans\u001b[0m\u001b[0;34m.\u001b[0m\u001b[0mpredict\u001b[0m\u001b[0;34m(\u001b[0m\u001b[0mdf_cluster\u001b[0m\u001b[0;34m[\u001b[0m\u001b[0;34m[\u001b[0m\u001b[0;34m'active_case_%'\u001b[0m\u001b[0;34m,\u001b[0m\u001b[0;34m'deaths_%'\u001b[0m\u001b[0;34m,\u001b[0m\u001b[0;34m'recovered_%'\u001b[0m\u001b[0;34m]\u001b[0m\u001b[0;34m]\u001b[0m\u001b[0;34m)\u001b[0m\u001b[0;34m\u001b[0m\u001b[0;34m\u001b[0m\u001b[0m\n\u001b[0m\u001b[1;32m      2\u001b[0m \u001b[0my_kmeans\u001b[0m\u001b[0;34m\u001b[0m\u001b[0;34m\u001b[0m\u001b[0m\n",
      "\u001b[0;32m~/opt/anaconda3/envs/tensor/lib/python3.9/site-packages/sklearn/cluster/_kmeans.py\u001b[0m in \u001b[0;36mpredict\u001b[0;34m(self, X, sample_weight)\u001b[0m\n\u001b[1;32m   1335\u001b[0m         \u001b[0msample_weight\u001b[0m \u001b[0;34m=\u001b[0m \u001b[0m_check_sample_weight\u001b[0m\u001b[0;34m(\u001b[0m\u001b[0msample_weight\u001b[0m\u001b[0;34m,\u001b[0m \u001b[0mX\u001b[0m\u001b[0;34m,\u001b[0m \u001b[0mdtype\u001b[0m\u001b[0;34m=\u001b[0m\u001b[0mX\u001b[0m\u001b[0;34m.\u001b[0m\u001b[0mdtype\u001b[0m\u001b[0;34m)\u001b[0m\u001b[0;34m\u001b[0m\u001b[0;34m\u001b[0m\u001b[0m\n\u001b[1;32m   1336\u001b[0m \u001b[0;34m\u001b[0m\u001b[0m\n\u001b[0;32m-> 1337\u001b[0;31m         return _labels_inertia_threadpool_limit(\n\u001b[0m\u001b[1;32m   1338\u001b[0m             \u001b[0mX\u001b[0m\u001b[0;34m,\u001b[0m \u001b[0msample_weight\u001b[0m\u001b[0;34m,\u001b[0m \u001b[0mx_squared_norms\u001b[0m\u001b[0;34m,\u001b[0m \u001b[0mself\u001b[0m\u001b[0;34m.\u001b[0m\u001b[0mcluster_centers_\u001b[0m\u001b[0;34m,\u001b[0m \u001b[0mself\u001b[0m\u001b[0;34m.\u001b[0m\u001b[0m_n_threads\u001b[0m\u001b[0;34m\u001b[0m\u001b[0;34m\u001b[0m\u001b[0m\n\u001b[1;32m   1339\u001b[0m         )[0]\n",
      "\u001b[0;32m~/opt/anaconda3/envs/tensor/lib/python3.9/site-packages/sklearn/cluster/_kmeans.py\u001b[0m in \u001b[0;36m_labels_inertia_threadpool_limit\u001b[0;34m(X, sample_weight, x_squared_norms, centers, n_threads)\u001b[0m\n\u001b[1;32m    756\u001b[0m ):\n\u001b[1;32m    757\u001b[0m     \u001b[0;34m\"\"\"Same as _labels_inertia but in a threadpool_limits context.\"\"\"\u001b[0m\u001b[0;34m\u001b[0m\u001b[0;34m\u001b[0m\u001b[0m\n\u001b[0;32m--> 758\u001b[0;31m     \u001b[0;32mwith\u001b[0m \u001b[0mthreadpool_limits\u001b[0m\u001b[0;34m(\u001b[0m\u001b[0mlimits\u001b[0m\u001b[0;34m=\u001b[0m\u001b[0;36m1\u001b[0m\u001b[0;34m,\u001b[0m \u001b[0muser_api\u001b[0m\u001b[0;34m=\u001b[0m\u001b[0;34m\"blas\"\u001b[0m\u001b[0;34m)\u001b[0m\u001b[0;34m:\u001b[0m\u001b[0;34m\u001b[0m\u001b[0;34m\u001b[0m\u001b[0m\n\u001b[0m\u001b[1;32m    759\u001b[0m         labels, inertia = _labels_inertia(\n\u001b[1;32m    760\u001b[0m             \u001b[0mX\u001b[0m\u001b[0;34m,\u001b[0m \u001b[0msample_weight\u001b[0m\u001b[0;34m,\u001b[0m \u001b[0mx_squared_norms\u001b[0m\u001b[0;34m,\u001b[0m \u001b[0mcenters\u001b[0m\u001b[0;34m,\u001b[0m \u001b[0mn_threads\u001b[0m\u001b[0;34m\u001b[0m\u001b[0;34m\u001b[0m\u001b[0m\n",
      "\u001b[0;32m~/opt/anaconda3/envs/tensor/lib/python3.9/site-packages/sklearn/utils/fixes.py\u001b[0m in \u001b[0;36mthreadpool_limits\u001b[0;34m(limits, user_api)\u001b[0m\n\u001b[1;32m    295\u001b[0m         \u001b[0;32mreturn\u001b[0m \u001b[0mcontroller\u001b[0m\u001b[0;34m.\u001b[0m\u001b[0mlimit\u001b[0m\u001b[0;34m(\u001b[0m\u001b[0mlimits\u001b[0m\u001b[0;34m=\u001b[0m\u001b[0mlimits\u001b[0m\u001b[0;34m,\u001b[0m \u001b[0muser_api\u001b[0m\u001b[0;34m=\u001b[0m\u001b[0muser_api\u001b[0m\u001b[0;34m)\u001b[0m\u001b[0;34m\u001b[0m\u001b[0;34m\u001b[0m\u001b[0m\n\u001b[1;32m    296\u001b[0m     \u001b[0;32melse\u001b[0m\u001b[0;34m:\u001b[0m\u001b[0;34m\u001b[0m\u001b[0;34m\u001b[0m\u001b[0m\n\u001b[0;32m--> 297\u001b[0;31m         \u001b[0;32mreturn\u001b[0m \u001b[0mthreadpoolctl\u001b[0m\u001b[0;34m.\u001b[0m\u001b[0mthreadpool_limits\u001b[0m\u001b[0;34m(\u001b[0m\u001b[0mlimits\u001b[0m\u001b[0;34m=\u001b[0m\u001b[0mlimits\u001b[0m\u001b[0;34m,\u001b[0m \u001b[0muser_api\u001b[0m\u001b[0;34m=\u001b[0m\u001b[0muser_api\u001b[0m\u001b[0;34m)\u001b[0m\u001b[0;34m\u001b[0m\u001b[0;34m\u001b[0m\u001b[0m\n\u001b[0m\u001b[1;32m    298\u001b[0m \u001b[0;34m\u001b[0m\u001b[0m\n\u001b[1;32m    299\u001b[0m \u001b[0;34m\u001b[0m\u001b[0m\n",
      "\u001b[0;32m~/opt/anaconda3/envs/tensor/lib/python3.9/site-packages/threadpoolctl.py\u001b[0m in \u001b[0;36m__init__\u001b[0;34m(self, limits, user_api)\u001b[0m\n\u001b[1;32m    169\u001b[0m             \u001b[0mself\u001b[0m\u001b[0;34m.\u001b[0m\u001b[0m_check_params\u001b[0m\u001b[0;34m(\u001b[0m\u001b[0mlimits\u001b[0m\u001b[0;34m,\u001b[0m \u001b[0muser_api\u001b[0m\u001b[0;34m)\u001b[0m\u001b[0;34m\u001b[0m\u001b[0;34m\u001b[0m\u001b[0m\n\u001b[1;32m    170\u001b[0m \u001b[0;34m\u001b[0m\u001b[0m\n\u001b[0;32m--> 171\u001b[0;31m         \u001b[0mself\u001b[0m\u001b[0;34m.\u001b[0m\u001b[0m_original_info\u001b[0m \u001b[0;34m=\u001b[0m \u001b[0mself\u001b[0m\u001b[0;34m.\u001b[0m\u001b[0m_set_threadpool_limits\u001b[0m\u001b[0;34m(\u001b[0m\u001b[0;34m)\u001b[0m\u001b[0;34m\u001b[0m\u001b[0;34m\u001b[0m\u001b[0m\n\u001b[0m\u001b[1;32m    172\u001b[0m \u001b[0;34m\u001b[0m\u001b[0m\n\u001b[1;32m    173\u001b[0m     \u001b[0;32mdef\u001b[0m \u001b[0m__enter__\u001b[0m\u001b[0;34m(\u001b[0m\u001b[0mself\u001b[0m\u001b[0;34m)\u001b[0m\u001b[0;34m:\u001b[0m\u001b[0;34m\u001b[0m\u001b[0;34m\u001b[0m\u001b[0m\n",
      "\u001b[0;32m~/opt/anaconda3/envs/tensor/lib/python3.9/site-packages/threadpoolctl.py\u001b[0m in \u001b[0;36m_set_threadpool_limits\u001b[0;34m(self)\u001b[0m\n\u001b[1;32m    266\u001b[0m             \u001b[0;32mreturn\u001b[0m \u001b[0;32mNone\u001b[0m\u001b[0;34m\u001b[0m\u001b[0;34m\u001b[0m\u001b[0m\n\u001b[1;32m    267\u001b[0m \u001b[0;34m\u001b[0m\u001b[0m\n\u001b[0;32m--> 268\u001b[0;31m         modules = _ThreadpoolInfo(prefixes=self._prefixes,\n\u001b[0m\u001b[1;32m    269\u001b[0m                                   user_api=self._user_api)\n\u001b[1;32m    270\u001b[0m         \u001b[0;32mfor\u001b[0m \u001b[0mmodule\u001b[0m \u001b[0;32min\u001b[0m \u001b[0mmodules\u001b[0m\u001b[0;34m:\u001b[0m\u001b[0;34m\u001b[0m\u001b[0;34m\u001b[0m\u001b[0m\n",
      "\u001b[0;32m~/opt/anaconda3/envs/tensor/lib/python3.9/site-packages/threadpoolctl.py\u001b[0m in \u001b[0;36m__init__\u001b[0;34m(self, user_api, prefixes, modules)\u001b[0m\n\u001b[1;32m    338\u001b[0m \u001b[0;34m\u001b[0m\u001b[0m\n\u001b[1;32m    339\u001b[0m             \u001b[0mself\u001b[0m\u001b[0;34m.\u001b[0m\u001b[0mmodules\u001b[0m \u001b[0;34m=\u001b[0m \u001b[0;34m[\u001b[0m\u001b[0;34m]\u001b[0m\u001b[0;34m\u001b[0m\u001b[0;34m\u001b[0m\u001b[0m\n\u001b[0;32m--> 340\u001b[0;31m             \u001b[0mself\u001b[0m\u001b[0;34m.\u001b[0m\u001b[0m_load_modules\u001b[0m\u001b[0;34m(\u001b[0m\u001b[0;34m)\u001b[0m\u001b[0;34m\u001b[0m\u001b[0;34m\u001b[0m\u001b[0m\n\u001b[0m\u001b[1;32m    341\u001b[0m             \u001b[0mself\u001b[0m\u001b[0;34m.\u001b[0m\u001b[0m_warn_if_incompatible_openmp\u001b[0m\u001b[0;34m(\u001b[0m\u001b[0;34m)\u001b[0m\u001b[0;34m\u001b[0m\u001b[0;34m\u001b[0m\u001b[0m\n\u001b[1;32m    342\u001b[0m         \u001b[0;32melse\u001b[0m\u001b[0;34m:\u001b[0m\u001b[0;34m\u001b[0m\u001b[0;34m\u001b[0m\u001b[0m\n",
      "\u001b[0;32m~/opt/anaconda3/envs/tensor/lib/python3.9/site-packages/threadpoolctl.py\u001b[0m in \u001b[0;36m_load_modules\u001b[0;34m(self)\u001b[0m\n\u001b[1;32m    369\u001b[0m         \u001b[0;34m\"\"\"Loop through loaded libraries and store supported ones\"\"\"\u001b[0m\u001b[0;34m\u001b[0m\u001b[0;34m\u001b[0m\u001b[0m\n\u001b[1;32m    370\u001b[0m         \u001b[0;32mif\u001b[0m \u001b[0msys\u001b[0m\u001b[0;34m.\u001b[0m\u001b[0mplatform\u001b[0m \u001b[0;34m==\u001b[0m \u001b[0;34m\"darwin\"\u001b[0m\u001b[0;34m:\u001b[0m\u001b[0;34m\u001b[0m\u001b[0;34m\u001b[0m\u001b[0m\n\u001b[0;32m--> 371\u001b[0;31m             \u001b[0mself\u001b[0m\u001b[0;34m.\u001b[0m\u001b[0m_find_modules_with_dyld\u001b[0m\u001b[0;34m(\u001b[0m\u001b[0;34m)\u001b[0m\u001b[0;34m\u001b[0m\u001b[0;34m\u001b[0m\u001b[0m\n\u001b[0m\u001b[1;32m    372\u001b[0m         \u001b[0;32melif\u001b[0m \u001b[0msys\u001b[0m\u001b[0;34m.\u001b[0m\u001b[0mplatform\u001b[0m \u001b[0;34m==\u001b[0m \u001b[0;34m\"win32\"\u001b[0m\u001b[0;34m:\u001b[0m\u001b[0;34m\u001b[0m\u001b[0;34m\u001b[0m\u001b[0m\n\u001b[1;32m    373\u001b[0m             \u001b[0mself\u001b[0m\u001b[0;34m.\u001b[0m\u001b[0m_find_modules_with_enum_process_module_ex\u001b[0m\u001b[0;34m(\u001b[0m\u001b[0;34m)\u001b[0m\u001b[0;34m\u001b[0m\u001b[0;34m\u001b[0m\u001b[0m\n",
      "\u001b[0;32m~/opt/anaconda3/envs/tensor/lib/python3.9/site-packages/threadpoolctl.py\u001b[0m in \u001b[0;36m_find_modules_with_dyld\u001b[0;34m(self)\u001b[0m\n\u001b[1;32m    426\u001b[0m \u001b[0;34m\u001b[0m\u001b[0m\n\u001b[1;32m    427\u001b[0m             \u001b[0;31m# Store the module if it is supported and selected\u001b[0m\u001b[0;34m\u001b[0m\u001b[0;34m\u001b[0m\u001b[0m\n\u001b[0;32m--> 428\u001b[0;31m             \u001b[0mself\u001b[0m\u001b[0;34m.\u001b[0m\u001b[0m_make_module_from_path\u001b[0m\u001b[0;34m(\u001b[0m\u001b[0mfilepath\u001b[0m\u001b[0;34m)\u001b[0m\u001b[0;34m\u001b[0m\u001b[0;34m\u001b[0m\u001b[0m\n\u001b[0m\u001b[1;32m    429\u001b[0m \u001b[0;34m\u001b[0m\u001b[0m\n\u001b[1;32m    430\u001b[0m     \u001b[0;32mdef\u001b[0m \u001b[0m_find_modules_with_enum_process_module_ex\u001b[0m\u001b[0;34m(\u001b[0m\u001b[0mself\u001b[0m\u001b[0;34m)\u001b[0m\u001b[0;34m:\u001b[0m\u001b[0;34m\u001b[0m\u001b[0;34m\u001b[0m\u001b[0m\n",
      "\u001b[0;32m~/opt/anaconda3/envs/tensor/lib/python3.9/site-packages/threadpoolctl.py\u001b[0m in \u001b[0;36m_make_module_from_path\u001b[0;34m(self, filepath)\u001b[0m\n\u001b[1;32m    513\u001b[0m             \u001b[0;32mif\u001b[0m \u001b[0mprefix\u001b[0m \u001b[0;32min\u001b[0m \u001b[0mself\u001b[0m\u001b[0;34m.\u001b[0m\u001b[0mprefixes\u001b[0m \u001b[0;32mor\u001b[0m \u001b[0muser_api\u001b[0m \u001b[0;32min\u001b[0m \u001b[0mself\u001b[0m\u001b[0;34m.\u001b[0m\u001b[0muser_api\u001b[0m\u001b[0;34m:\u001b[0m\u001b[0;34m\u001b[0m\u001b[0;34m\u001b[0m\u001b[0m\n\u001b[1;32m    514\u001b[0m                 \u001b[0mmodule_class\u001b[0m \u001b[0;34m=\u001b[0m \u001b[0mglobals\u001b[0m\u001b[0;34m(\u001b[0m\u001b[0;34m)\u001b[0m\u001b[0;34m[\u001b[0m\u001b[0mmodule_class\u001b[0m\u001b[0;34m]\u001b[0m\u001b[0;34m\u001b[0m\u001b[0;34m\u001b[0m\u001b[0m\n\u001b[0;32m--> 515\u001b[0;31m                 \u001b[0mmodule\u001b[0m \u001b[0;34m=\u001b[0m \u001b[0mmodule_class\u001b[0m\u001b[0;34m(\u001b[0m\u001b[0mfilepath\u001b[0m\u001b[0;34m,\u001b[0m \u001b[0mprefix\u001b[0m\u001b[0;34m,\u001b[0m \u001b[0muser_api\u001b[0m\u001b[0;34m,\u001b[0m \u001b[0minternal_api\u001b[0m\u001b[0;34m)\u001b[0m\u001b[0;34m\u001b[0m\u001b[0;34m\u001b[0m\u001b[0m\n\u001b[0m\u001b[1;32m    516\u001b[0m                 \u001b[0mself\u001b[0m\u001b[0;34m.\u001b[0m\u001b[0mmodules\u001b[0m\u001b[0;34m.\u001b[0m\u001b[0mappend\u001b[0m\u001b[0;34m(\u001b[0m\u001b[0mmodule\u001b[0m\u001b[0;34m)\u001b[0m\u001b[0;34m\u001b[0m\u001b[0;34m\u001b[0m\u001b[0m\n\u001b[1;32m    517\u001b[0m \u001b[0;34m\u001b[0m\u001b[0m\n",
      "\u001b[0;32m~/opt/anaconda3/envs/tensor/lib/python3.9/site-packages/threadpoolctl.py\u001b[0m in \u001b[0;36m__init__\u001b[0;34m(self, filepath, prefix, user_api, internal_api)\u001b[0m\n\u001b[1;32m    604\u001b[0m         \u001b[0mself\u001b[0m\u001b[0;34m.\u001b[0m\u001b[0minternal_api\u001b[0m \u001b[0;34m=\u001b[0m \u001b[0minternal_api\u001b[0m\u001b[0;34m\u001b[0m\u001b[0;34m\u001b[0m\u001b[0m\n\u001b[1;32m    605\u001b[0m         \u001b[0mself\u001b[0m\u001b[0;34m.\u001b[0m\u001b[0m_dynlib\u001b[0m \u001b[0;34m=\u001b[0m \u001b[0mctypes\u001b[0m\u001b[0;34m.\u001b[0m\u001b[0mCDLL\u001b[0m\u001b[0;34m(\u001b[0m\u001b[0mfilepath\u001b[0m\u001b[0;34m,\u001b[0m \u001b[0mmode\u001b[0m\u001b[0;34m=\u001b[0m\u001b[0m_RTLD_NOLOAD\u001b[0m\u001b[0;34m)\u001b[0m\u001b[0;34m\u001b[0m\u001b[0;34m\u001b[0m\u001b[0m\n\u001b[0;32m--> 606\u001b[0;31m         \u001b[0mself\u001b[0m\u001b[0;34m.\u001b[0m\u001b[0mversion\u001b[0m \u001b[0;34m=\u001b[0m \u001b[0mself\u001b[0m\u001b[0;34m.\u001b[0m\u001b[0mget_version\u001b[0m\u001b[0;34m(\u001b[0m\u001b[0;34m)\u001b[0m\u001b[0;34m\u001b[0m\u001b[0;34m\u001b[0m\u001b[0m\n\u001b[0m\u001b[1;32m    607\u001b[0m         \u001b[0mself\u001b[0m\u001b[0;34m.\u001b[0m\u001b[0mnum_threads\u001b[0m \u001b[0;34m=\u001b[0m \u001b[0mself\u001b[0m\u001b[0;34m.\u001b[0m\u001b[0mget_num_threads\u001b[0m\u001b[0;34m(\u001b[0m\u001b[0;34m)\u001b[0m\u001b[0;34m\u001b[0m\u001b[0;34m\u001b[0m\u001b[0m\n\u001b[1;32m    608\u001b[0m         \u001b[0mself\u001b[0m\u001b[0;34m.\u001b[0m\u001b[0m_get_extra_info\u001b[0m\u001b[0;34m(\u001b[0m\u001b[0;34m)\u001b[0m\u001b[0;34m\u001b[0m\u001b[0;34m\u001b[0m\u001b[0m\n",
      "\u001b[0;32m~/opt/anaconda3/envs/tensor/lib/python3.9/site-packages/threadpoolctl.py\u001b[0m in \u001b[0;36mget_version\u001b[0;34m(self)\u001b[0m\n\u001b[1;32m    644\u001b[0m                              lambda: None)\n\u001b[1;32m    645\u001b[0m         \u001b[0mget_config\u001b[0m\u001b[0;34m.\u001b[0m\u001b[0mrestype\u001b[0m \u001b[0;34m=\u001b[0m \u001b[0mctypes\u001b[0m\u001b[0;34m.\u001b[0m\u001b[0mc_char_p\u001b[0m\u001b[0;34m\u001b[0m\u001b[0;34m\u001b[0m\u001b[0m\n\u001b[0;32m--> 646\u001b[0;31m         \u001b[0mconfig\u001b[0m \u001b[0;34m=\u001b[0m \u001b[0mget_config\u001b[0m\u001b[0;34m(\u001b[0m\u001b[0;34m)\u001b[0m\u001b[0;34m.\u001b[0m\u001b[0msplit\u001b[0m\u001b[0;34m(\u001b[0m\u001b[0;34m)\u001b[0m\u001b[0;34m\u001b[0m\u001b[0;34m\u001b[0m\u001b[0m\n\u001b[0m\u001b[1;32m    647\u001b[0m         \u001b[0;32mif\u001b[0m \u001b[0mconfig\u001b[0m\u001b[0;34m[\u001b[0m\u001b[0;36m0\u001b[0m\u001b[0;34m]\u001b[0m \u001b[0;34m==\u001b[0m \u001b[0;34mb\"OpenBLAS\"\u001b[0m\u001b[0;34m:\u001b[0m\u001b[0;34m\u001b[0m\u001b[0;34m\u001b[0m\u001b[0m\n\u001b[1;32m    648\u001b[0m             \u001b[0;32mreturn\u001b[0m \u001b[0mconfig\u001b[0m\u001b[0;34m[\u001b[0m\u001b[0;36m1\u001b[0m\u001b[0;34m]\u001b[0m\u001b[0;34m.\u001b[0m\u001b[0mdecode\u001b[0m\u001b[0;34m(\u001b[0m\u001b[0;34m\"utf-8\"\u001b[0m\u001b[0;34m)\u001b[0m\u001b[0;34m\u001b[0m\u001b[0;34m\u001b[0m\u001b[0m\n",
      "\u001b[0;31mAttributeError\u001b[0m: 'NoneType' object has no attribute 'split'"
     ]
    }
   ],
   "source": [
    "y_kmeans = kmeans.predict(df_cluster[['active_case_%','deaths_%','recovered_%']])\n",
    "y_kmeans"
   ]
  },
  {
   "cell_type": "markdown",
   "metadata": {},
   "source": [
    "### Kesimpulan:\n",
    "1. Indonesia : Cluster 3\n",
    "2. Iran     : Cluster 3\n",
    "3. Italy    : Cluster 0\n",
    "4. Singapore : Cluster 1\n",
    "5. US        : Cluster 2"
   ]
  },
  {
   "cell_type": "markdown",
   "metadata": {},
   "source": [
    " "
   ]
  },
  {
   "cell_type": "markdown",
   "metadata": {},
   "source": [
    "### Misal kita buat plot 3d dari model clustering yang telah dibuat"
   ]
  },
  {
   "cell_type": "code",
   "execution_count": null,
   "metadata": {},
   "outputs": [],
   "source": [
    "z = df_last[['active_case_%', 'deaths_%', 'recovered_%']].values"
   ]
  },
  {
   "cell_type": "code",
   "execution_count": null,
   "metadata": {},
   "outputs": [],
   "source": [
    "y_clusters = kmeans.fit_predict(z)"
   ]
  },
  {
   "cell_type": "code",
   "execution_count": null,
   "metadata": {},
   "outputs": [],
   "source": [
    "fig = plt.figure(figsize = (15,15))\n",
    "ax = fig.add_subplot(111, projection='3d')\n",
    "ax.scatter(z[y_clusters == 0,0],z[y_clusters == 0,1],z[y_clusters == 0,2], s = 40 , color = 'blue', label = \"cluster 0\")\n",
    "ax.scatter(z[y_clusters == 1,0],z[y_clusters == 1,1],z[y_clusters == 1,2], s = 40 , color = 'orange', label = \"cluster 1\")\n",
    "ax.scatter(z[y_clusters == 2,0],z[y_clusters == 2,1],z[y_clusters == 2,2], s = 40 , color = 'green', label = \"cluster 2\")\n",
    "ax.scatter(z[y_clusters == 3,0],z[y_clusters == 3,1],z[y_clusters == 3,2], s = 40 , color = 'red', label = \"cluster 3\")\n",
    "ax.scatter(z[y_clusters == 4,0],z[y_clusters == 4,1],z[y_clusters == 4,2], s = 40 , color = 'purple', label = \"cluster 4\")\n",
    "ax.set_xlabel('Active case %')\n",
    "ax.set_ylabel('Deaths %')\n",
    "ax.set_zlabel('Recovered %')\n",
    "ax.legend()\n",
    "plt.show()"
   ]
  }
 ],
 "metadata": {
  "kernelspec": {
   "display_name": "Python 3 (ipykernel)",
   "language": "python",
   "name": "python3"
  },
  "language_info": {
   "codemirror_mode": {
    "name": "ipython",
    "version": 3
   },
   "file_extension": ".py",
   "mimetype": "text/x-python",
   "name": "python",
   "nbconvert_exporter": "python",
   "pygments_lexer": "ipython3",
   "version": "3.9.7"
  }
 },
 "nbformat": 4,
 "nbformat_minor": 4
}
