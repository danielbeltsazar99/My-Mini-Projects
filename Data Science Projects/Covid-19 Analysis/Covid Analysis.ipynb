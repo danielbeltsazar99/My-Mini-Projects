{
 "cells": [
  {
   "cell_type": "markdown",
   "metadata": {},
   "source": [
    "# 1. Import library dan dataset"
   ]
  },
  {
   "cell_type": "code",
   "execution_count": 1,
   "metadata": {},
   "outputs": [],
   "source": [
    "#Importing required modules\n",
    "import pandas as pd\n",
    "import numpy as np\n",
    "import matplotlib.pyplot as plt\n",
    "\n",
    "#Reading datasets\n",
    "#main dataset\n",
    "df = pd.read_csv('covid.csv')\n",
    "#region and climate dataset\n",
    "df_cat = pd.read_csv('covid_cat.csv')"
   ]
  },
  {
   "cell_type": "code",
   "execution_count": 2,
   "metadata": {},
   "outputs": [
    {
     "data": {
      "text/html": [
       "<div>\n",
       "<style scoped>\n",
       "    .dataframe tbody tr th:only-of-type {\n",
       "        vertical-align: middle;\n",
       "    }\n",
       "\n",
       "    .dataframe tbody tr th {\n",
       "        vertical-align: top;\n",
       "    }\n",
       "\n",
       "    .dataframe thead th {\n",
       "        text-align: right;\n",
       "    }\n",
       "</style>\n",
       "<table border=\"1\" class=\"dataframe\">\n",
       "  <thead>\n",
       "    <tr style=\"text-align: right;\">\n",
       "      <th></th>\n",
       "      <th>Unnamed: 0</th>\n",
       "      <th>country</th>\n",
       "      <th>province</th>\n",
       "      <th>date</th>\n",
       "      <th>confirmed</th>\n",
       "      <th>recovered</th>\n",
       "      <th>deaths</th>\n",
       "    </tr>\n",
       "  </thead>\n",
       "  <tbody>\n",
       "    <tr>\n",
       "      <th>0</th>\n",
       "      <td>0</td>\n",
       "      <td>Afghanistan</td>\n",
       "      <td>0</td>\n",
       "      <td>2020-01-22</td>\n",
       "      <td>0.0</td>\n",
       "      <td>0.0</td>\n",
       "      <td>0.0</td>\n",
       "    </tr>\n",
       "    <tr>\n",
       "      <th>1</th>\n",
       "      <td>1</td>\n",
       "      <td>Albania</td>\n",
       "      <td>0</td>\n",
       "      <td>2020-01-22</td>\n",
       "      <td>0.0</td>\n",
       "      <td>0.0</td>\n",
       "      <td>0.0</td>\n",
       "    </tr>\n",
       "    <tr>\n",
       "      <th>2</th>\n",
       "      <td>2</td>\n",
       "      <td>Algeria</td>\n",
       "      <td>0</td>\n",
       "      <td>2020-01-22</td>\n",
       "      <td>0.0</td>\n",
       "      <td>0.0</td>\n",
       "      <td>0.0</td>\n",
       "    </tr>\n",
       "    <tr>\n",
       "      <th>3</th>\n",
       "      <td>3</td>\n",
       "      <td>Andorra</td>\n",
       "      <td>0</td>\n",
       "      <td>2020-01-22</td>\n",
       "      <td>0.0</td>\n",
       "      <td>0.0</td>\n",
       "      <td>0.0</td>\n",
       "    </tr>\n",
       "    <tr>\n",
       "      <th>4</th>\n",
       "      <td>4</td>\n",
       "      <td>Angola</td>\n",
       "      <td>0</td>\n",
       "      <td>2020-01-22</td>\n",
       "      <td>0.0</td>\n",
       "      <td>0.0</td>\n",
       "      <td>0.0</td>\n",
       "    </tr>\n",
       "  </tbody>\n",
       "</table>\n",
       "</div>"
      ],
      "text/plain": [
       "   Unnamed: 0      country province        date  confirmed  recovered  deaths\n",
       "0           0  Afghanistan        0  2020-01-22        0.0        0.0     0.0\n",
       "1           1      Albania        0  2020-01-22        0.0        0.0     0.0\n",
       "2           2      Algeria        0  2020-01-22        0.0        0.0     0.0\n",
       "3           3      Andorra        0  2020-01-22        0.0        0.0     0.0\n",
       "4           4       Angola        0  2020-01-22        0.0        0.0     0.0"
      ]
     },
     "execution_count": 2,
     "metadata": {},
     "output_type": "execute_result"
    }
   ],
   "source": [
    "df.head()"
   ]
  },
  {
   "cell_type": "code",
   "execution_count": 3,
   "metadata": {},
   "outputs": [
    {
     "data": {
      "text/html": [
       "<div>\n",
       "<style scoped>\n",
       "    .dataframe tbody tr th:only-of-type {\n",
       "        vertical-align: middle;\n",
       "    }\n",
       "\n",
       "    .dataframe tbody tr th {\n",
       "        vertical-align: top;\n",
       "    }\n",
       "\n",
       "    .dataframe thead th {\n",
       "        text-align: right;\n",
       "    }\n",
       "</style>\n",
       "<table border=\"1\" class=\"dataframe\">\n",
       "  <thead>\n",
       "    <tr style=\"text-align: right;\">\n",
       "      <th></th>\n",
       "      <th>country</th>\n",
       "      <th>region</th>\n",
       "      <th>climate</th>\n",
       "    </tr>\n",
       "  </thead>\n",
       "  <tbody>\n",
       "    <tr>\n",
       "      <th>0</th>\n",
       "      <td>Afghanistan</td>\n",
       "      <td>Asia &amp; Pacific</td>\n",
       "      <td>nontropic</td>\n",
       "    </tr>\n",
       "    <tr>\n",
       "      <th>1</th>\n",
       "      <td>Albania</td>\n",
       "      <td>Europe</td>\n",
       "      <td>nontropic</td>\n",
       "    </tr>\n",
       "    <tr>\n",
       "      <th>2</th>\n",
       "      <td>Algeria</td>\n",
       "      <td>Arab States</td>\n",
       "      <td>nontropic</td>\n",
       "    </tr>\n",
       "    <tr>\n",
       "      <th>3</th>\n",
       "      <td>Andorra</td>\n",
       "      <td>Europe</td>\n",
       "      <td>nontropic</td>\n",
       "    </tr>\n",
       "    <tr>\n",
       "      <th>4</th>\n",
       "      <td>Angola</td>\n",
       "      <td>Africa</td>\n",
       "      <td>tropic</td>\n",
       "    </tr>\n",
       "  </tbody>\n",
       "</table>\n",
       "</div>"
      ],
      "text/plain": [
       "       country          region    climate\n",
       "0  Afghanistan  Asia & Pacific  nontropic\n",
       "1      Albania          Europe  nontropic\n",
       "2      Algeria     Arab States  nontropic\n",
       "3      Andorra          Europe  nontropic\n",
       "4       Angola          Africa     tropic"
      ]
     },
     "execution_count": 3,
     "metadata": {},
     "output_type": "execute_result"
    }
   ],
   "source": [
    "df_cat.head()"
   ]
  },
  {
   "cell_type": "code",
   "execution_count": 4,
   "metadata": {},
   "outputs": [
    {
     "data": {
      "text/plain": [
       "(175840, 7)"
      ]
     },
     "execution_count": 4,
     "metadata": {},
     "output_type": "execute_result"
    }
   ],
   "source": [
    "df.shape"
   ]
  },
  {
   "cell_type": "code",
   "execution_count": 5,
   "metadata": {},
   "outputs": [
    {
     "data": {
      "text/plain": [
       "195"
      ]
     },
     "execution_count": 5,
     "metadata": {},
     "output_type": "execute_result"
    }
   ],
   "source": [
    "df['country'].nunique()"
   ]
  },
  {
   "cell_type": "code",
   "execution_count": 6,
   "metadata": {},
   "outputs": [
    {
     "name": "stdout",
     "output_type": "stream",
     "text": [
      "Jumlah hari observasi : 628\n",
      "Tanggal pertama observasi : 2020-01-22 00:00:00\n",
      "Tanggal terakhir observasi : 2021-10-10 00:00:00\n"
     ]
    }
   ],
   "source": [
    "df['date']=pd.to_datetime(df['date'])\n",
    "print('Jumlah hari observasi :', df['date'].nunique())\n",
    "print('Tanggal pertama observasi :', df['date'].min())\n",
    "print('Tanggal terakhir observasi :', df['date'].max())"
   ]
  },
  {
   "cell_type": "markdown",
   "metadata": {},
   "source": [
    "### Data covid yang kita miliki terdiri dari 7 kolom fitur dan 175840 baris data. Data kita mengandung data dari 195 negara yang berbeda dari hasil observasi selama 628 hari terhitung sejak tanggal 22 Januari 2020 sampai tanggal 10 Oktober 2021"
   ]
  },
  {
   "cell_type": "markdown",
   "metadata": {},
   "source": [
    "# 2. Data Cleansing"
   ]
  },
  {
   "cell_type": "markdown",
   "metadata": {},
   "source": [
    "## Kita ubah beberapa data pada kolom 'country' agar tidak ada nama berbeda untuk negara yang sama."
   ]
  },
  {
   "cell_type": "code",
   "execution_count": 7,
   "metadata": {},
   "outputs": [],
   "source": [
    "df = df.replace({'country':{\"('St. Martin',)\":'St. Martin',\n",
    "' Azerbaijan':'Azerbaijan',\n",
    "'Cabo Verde':'Cape Verde',\n",
    "'Congo (Brazzaville)':'Congo',\n",
    "'Congo (Kinshasa)':'Congo',\n",
    "'North Ireland':'Ireland',\n",
    "'North Macedonia':'Macedonia',\n",
    "'occupied Palestinian territory':'Palestine',\n",
    "'Holy See':'Vatican',\n",
    "'Republic of Ireland':'Ireland',\n",
    "'The Bahamas':'Bahamas',\n",
    "'The Gambia':'Gambia',\n",
    "'Bahamas, The':'Bahamas',\n",
    "'Gambia, The':'Gambia',\n",
    "'Vatican City':'Vatican',\n",
    "'East Timor':'Timor-Leste',\n",
    "'West Bank and Gaza':'Palestine',\n",
    "'MS Zaandam':'Others',\n",
    "'Diamond Princess':'Others'}})"
   ]
  },
  {
   "cell_type": "markdown",
   "metadata": {},
   "source": [
    "## Beberapa 'country' pada dataframe 'df' data hariannya dibagi menjadi beberapa 'province'. Kita akumulasikan data 'confirmed','deaths', dan 'recovered' provinsi-provinsi ini sehingga data harian tiap negara hanya diwakili oleh 1 row dengan membuat dataframe baru 'df_new'"
   ]
  },
  {
   "cell_type": "code",
   "execution_count": 8,
   "metadata": {},
   "outputs": [
    {
     "data": {
      "text/html": [
       "<div>\n",
       "<style scoped>\n",
       "    .dataframe tbody tr th:only-of-type {\n",
       "        vertical-align: middle;\n",
       "    }\n",
       "\n",
       "    .dataframe tbody tr th {\n",
       "        vertical-align: top;\n",
       "    }\n",
       "\n",
       "    .dataframe thead th {\n",
       "        text-align: right;\n",
       "    }\n",
       "</style>\n",
       "<table border=\"1\" class=\"dataframe\">\n",
       "  <thead>\n",
       "    <tr style=\"text-align: right;\">\n",
       "      <th></th>\n",
       "      <th>country</th>\n",
       "      <th>date</th>\n",
       "      <th>confirmed</th>\n",
       "      <th>deaths</th>\n",
       "      <th>recovered</th>\n",
       "    </tr>\n",
       "  </thead>\n",
       "  <tbody>\n",
       "    <tr>\n",
       "      <th>121184</th>\n",
       "      <td>Zimbabwe</td>\n",
       "      <td>2021-09-21</td>\n",
       "      <td>128186.0</td>\n",
       "      <td>4569.0</td>\n",
       "      <td>0.0</td>\n",
       "    </tr>\n",
       "    <tr>\n",
       "      <th>121185</th>\n",
       "      <td>Zimbabwe</td>\n",
       "      <td>2021-09-22</td>\n",
       "      <td>128804.0</td>\n",
       "      <td>4592.0</td>\n",
       "      <td>0.0</td>\n",
       "    </tr>\n",
       "    <tr>\n",
       "      <th>121186</th>\n",
       "      <td>Zimbabwe</td>\n",
       "      <td>2021-09-23</td>\n",
       "      <td>129134.0</td>\n",
       "      <td>4600.0</td>\n",
       "      <td>0.0</td>\n",
       "    </tr>\n",
       "    <tr>\n",
       "      <th>121187</th>\n",
       "      <td>Zimbabwe</td>\n",
       "      <td>2021-09-24</td>\n",
       "      <td>129134.0</td>\n",
       "      <td>4600.0</td>\n",
       "      <td>0.0</td>\n",
       "    </tr>\n",
       "    <tr>\n",
       "      <th>121188</th>\n",
       "      <td>Zimbabwe</td>\n",
       "      <td>2021-09-25</td>\n",
       "      <td>129505.0</td>\n",
       "      <td>4603.0</td>\n",
       "      <td>0.0</td>\n",
       "    </tr>\n",
       "    <tr>\n",
       "      <th>121189</th>\n",
       "      <td>Zimbabwe</td>\n",
       "      <td>2021-09-26</td>\n",
       "      <td>129625.0</td>\n",
       "      <td>4604.0</td>\n",
       "      <td>0.0</td>\n",
       "    </tr>\n",
       "    <tr>\n",
       "      <th>121190</th>\n",
       "      <td>Zimbabwe</td>\n",
       "      <td>2021-09-27</td>\n",
       "      <td>129919.0</td>\n",
       "      <td>4607.0</td>\n",
       "      <td>0.0</td>\n",
       "    </tr>\n",
       "    <tr>\n",
       "      <th>121191</th>\n",
       "      <td>Zimbabwe</td>\n",
       "      <td>2021-09-28</td>\n",
       "      <td>130272.0</td>\n",
       "      <td>4615.0</td>\n",
       "      <td>0.0</td>\n",
       "    </tr>\n",
       "    <tr>\n",
       "      <th>121192</th>\n",
       "      <td>Zimbabwe</td>\n",
       "      <td>2021-09-29</td>\n",
       "      <td>130485.0</td>\n",
       "      <td>4616.0</td>\n",
       "      <td>0.0</td>\n",
       "    </tr>\n",
       "    <tr>\n",
       "      <th>121193</th>\n",
       "      <td>Zimbabwe</td>\n",
       "      <td>2021-09-30</td>\n",
       "      <td>130820.0</td>\n",
       "      <td>4623.0</td>\n",
       "      <td>0.0</td>\n",
       "    </tr>\n",
       "    <tr>\n",
       "      <th>121194</th>\n",
       "      <td>Zimbabwe</td>\n",
       "      <td>2021-10-01</td>\n",
       "      <td>131028.0</td>\n",
       "      <td>4624.0</td>\n",
       "      <td>0.0</td>\n",
       "    </tr>\n",
       "    <tr>\n",
       "      <th>121195</th>\n",
       "      <td>Zimbabwe</td>\n",
       "      <td>2021-10-02</td>\n",
       "      <td>131094.0</td>\n",
       "      <td>4625.0</td>\n",
       "      <td>0.0</td>\n",
       "    </tr>\n",
       "    <tr>\n",
       "      <th>121196</th>\n",
       "      <td>Zimbabwe</td>\n",
       "      <td>2021-10-03</td>\n",
       "      <td>131129.0</td>\n",
       "      <td>4627.0</td>\n",
       "      <td>0.0</td>\n",
       "    </tr>\n",
       "    <tr>\n",
       "      <th>121197</th>\n",
       "      <td>Zimbabwe</td>\n",
       "      <td>2021-10-04</td>\n",
       "      <td>131129.0</td>\n",
       "      <td>4627.0</td>\n",
       "      <td>0.0</td>\n",
       "    </tr>\n",
       "    <tr>\n",
       "      <th>121198</th>\n",
       "      <td>Zimbabwe</td>\n",
       "      <td>2021-10-05</td>\n",
       "      <td>131205.0</td>\n",
       "      <td>4627.0</td>\n",
       "      <td>0.0</td>\n",
       "    </tr>\n",
       "    <tr>\n",
       "      <th>121199</th>\n",
       "      <td>Zimbabwe</td>\n",
       "      <td>2021-10-06</td>\n",
       "      <td>131434.0</td>\n",
       "      <td>4630.0</td>\n",
       "      <td>0.0</td>\n",
       "    </tr>\n",
       "    <tr>\n",
       "      <th>121200</th>\n",
       "      <td>Zimbabwe</td>\n",
       "      <td>2021-10-07</td>\n",
       "      <td>131523.0</td>\n",
       "      <td>4631.0</td>\n",
       "      <td>0.0</td>\n",
       "    </tr>\n",
       "    <tr>\n",
       "      <th>121201</th>\n",
       "      <td>Zimbabwe</td>\n",
       "      <td>2021-10-08</td>\n",
       "      <td>131705.0</td>\n",
       "      <td>4634.0</td>\n",
       "      <td>0.0</td>\n",
       "    </tr>\n",
       "    <tr>\n",
       "      <th>121202</th>\n",
       "      <td>Zimbabwe</td>\n",
       "      <td>2021-10-09</td>\n",
       "      <td>131762.0</td>\n",
       "      <td>4636.0</td>\n",
       "      <td>0.0</td>\n",
       "    </tr>\n",
       "    <tr>\n",
       "      <th>121203</th>\n",
       "      <td>Zimbabwe</td>\n",
       "      <td>2021-10-10</td>\n",
       "      <td>131796.0</td>\n",
       "      <td>4637.0</td>\n",
       "      <td>0.0</td>\n",
       "    </tr>\n",
       "  </tbody>\n",
       "</table>\n",
       "</div>"
      ],
      "text/plain": [
       "         country       date  confirmed  deaths  recovered\n",
       "121184  Zimbabwe 2021-09-21   128186.0  4569.0        0.0\n",
       "121185  Zimbabwe 2021-09-22   128804.0  4592.0        0.0\n",
       "121186  Zimbabwe 2021-09-23   129134.0  4600.0        0.0\n",
       "121187  Zimbabwe 2021-09-24   129134.0  4600.0        0.0\n",
       "121188  Zimbabwe 2021-09-25   129505.0  4603.0        0.0\n",
       "121189  Zimbabwe 2021-09-26   129625.0  4604.0        0.0\n",
       "121190  Zimbabwe 2021-09-27   129919.0  4607.0        0.0\n",
       "121191  Zimbabwe 2021-09-28   130272.0  4615.0        0.0\n",
       "121192  Zimbabwe 2021-09-29   130485.0  4616.0        0.0\n",
       "121193  Zimbabwe 2021-09-30   130820.0  4623.0        0.0\n",
       "121194  Zimbabwe 2021-10-01   131028.0  4624.0        0.0\n",
       "121195  Zimbabwe 2021-10-02   131094.0  4625.0        0.0\n",
       "121196  Zimbabwe 2021-10-03   131129.0  4627.0        0.0\n",
       "121197  Zimbabwe 2021-10-04   131129.0  4627.0        0.0\n",
       "121198  Zimbabwe 2021-10-05   131205.0  4627.0        0.0\n",
       "121199  Zimbabwe 2021-10-06   131434.0  4630.0        0.0\n",
       "121200  Zimbabwe 2021-10-07   131523.0  4631.0        0.0\n",
       "121201  Zimbabwe 2021-10-08   131705.0  4634.0        0.0\n",
       "121202  Zimbabwe 2021-10-09   131762.0  4636.0        0.0\n",
       "121203  Zimbabwe 2021-10-10   131796.0  4637.0        0.0"
      ]
     },
     "execution_count": 8,
     "metadata": {},
     "output_type": "execute_result"
    }
   ],
   "source": [
    "df_new = df.groupby(['country','date'])[['confirmed','deaths','recovered']].sum()\n",
    "df_new=df_new.reset_index()\n",
    "df_new.tail(20)"
   ]
  },
  {
   "cell_type": "markdown",
   "metadata": {},
   "source": [
    "## Kita tambahkan kolom 'region' dan 'climate' pada 'df_new' dan isi dengan region dan climate untuk tiap negara dengan mengacu pada 'df_cat'\n"
   ]
  },
  {
   "cell_type": "code",
   "execution_count": 9,
   "metadata": {
    "scrolled": true
   },
   "outputs": [
    {
     "data": {
      "text/html": [
       "<div>\n",
       "<style scoped>\n",
       "    .dataframe tbody tr th:only-of-type {\n",
       "        vertical-align: middle;\n",
       "    }\n",
       "\n",
       "    .dataframe tbody tr th {\n",
       "        vertical-align: top;\n",
       "    }\n",
       "\n",
       "    .dataframe thead th {\n",
       "        text-align: right;\n",
       "    }\n",
       "</style>\n",
       "<table border=\"1\" class=\"dataframe\">\n",
       "  <thead>\n",
       "    <tr style=\"text-align: right;\">\n",
       "      <th></th>\n",
       "      <th>country</th>\n",
       "      <th>date</th>\n",
       "      <th>confirmed</th>\n",
       "      <th>deaths</th>\n",
       "      <th>recovered</th>\n",
       "      <th>region</th>\n",
       "      <th>climate</th>\n",
       "    </tr>\n",
       "  </thead>\n",
       "  <tbody>\n",
       "    <tr>\n",
       "      <th>0</th>\n",
       "      <td>Afghanistan</td>\n",
       "      <td>2020-01-22</td>\n",
       "      <td>0.0</td>\n",
       "      <td>0.0</td>\n",
       "      <td>0.0</td>\n",
       "      <td>Asia &amp; Pacific</td>\n",
       "      <td>nontropic</td>\n",
       "    </tr>\n",
       "    <tr>\n",
       "      <th>1</th>\n",
       "      <td>Afghanistan</td>\n",
       "      <td>2020-01-23</td>\n",
       "      <td>0.0</td>\n",
       "      <td>0.0</td>\n",
       "      <td>0.0</td>\n",
       "      <td>Asia &amp; Pacific</td>\n",
       "      <td>nontropic</td>\n",
       "    </tr>\n",
       "    <tr>\n",
       "      <th>2</th>\n",
       "      <td>Afghanistan</td>\n",
       "      <td>2020-01-24</td>\n",
       "      <td>0.0</td>\n",
       "      <td>0.0</td>\n",
       "      <td>0.0</td>\n",
       "      <td>Asia &amp; Pacific</td>\n",
       "      <td>nontropic</td>\n",
       "    </tr>\n",
       "    <tr>\n",
       "      <th>3</th>\n",
       "      <td>Afghanistan</td>\n",
       "      <td>2020-01-25</td>\n",
       "      <td>0.0</td>\n",
       "      <td>0.0</td>\n",
       "      <td>0.0</td>\n",
       "      <td>Asia &amp; Pacific</td>\n",
       "      <td>nontropic</td>\n",
       "    </tr>\n",
       "    <tr>\n",
       "      <th>4</th>\n",
       "      <td>Afghanistan</td>\n",
       "      <td>2020-01-26</td>\n",
       "      <td>0.0</td>\n",
       "      <td>0.0</td>\n",
       "      <td>0.0</td>\n",
       "      <td>Asia &amp; Pacific</td>\n",
       "      <td>nontropic</td>\n",
       "    </tr>\n",
       "  </tbody>\n",
       "</table>\n",
       "</div>"
      ],
      "text/plain": [
       "       country       date  confirmed  deaths  recovered          region  \\\n",
       "0  Afghanistan 2020-01-22        0.0     0.0        0.0  Asia & Pacific   \n",
       "1  Afghanistan 2020-01-23        0.0     0.0        0.0  Asia & Pacific   \n",
       "2  Afghanistan 2020-01-24        0.0     0.0        0.0  Asia & Pacific   \n",
       "3  Afghanistan 2020-01-25        0.0     0.0        0.0  Asia & Pacific   \n",
       "4  Afghanistan 2020-01-26        0.0     0.0        0.0  Asia & Pacific   \n",
       "\n",
       "     climate  \n",
       "0  nontropic  \n",
       "1  nontropic  \n",
       "2  nontropic  \n",
       "3  nontropic  \n",
       "4  nontropic  "
      ]
     },
     "execution_count": 9,
     "metadata": {},
     "output_type": "execute_result"
    }
   ],
   "source": [
    "df_new = pd.merge(df_new,df_cat,on='country',how='left')\n",
    "df_new.head()"
   ]
  },
  {
   "cell_type": "markdown",
   "metadata": {},
   "source": [
    "## Di sini kita akan menghemat proses dan mencoba melakukan filtering data berdasarkan waktu observasinya\n",
    "\n",
    "## Kita filter 'df_new' sehingga hanya di include data tanggal 1 Maret 2020 - 13 Desember 2020. Kita drop semua row pada 'df_new' yang data 'confirmed'-nya di bawah 100. Drop semua row yang data 'region' atau 'climate'-nya NaN pada 'df_new'\n"
   ]
  },
  {
   "cell_type": "code",
   "execution_count": 10,
   "metadata": {},
   "outputs": [
    {
     "data": {
      "text/html": [
       "<div>\n",
       "<style scoped>\n",
       "    .dataframe tbody tr th:only-of-type {\n",
       "        vertical-align: middle;\n",
       "    }\n",
       "\n",
       "    .dataframe tbody tr th {\n",
       "        vertical-align: top;\n",
       "    }\n",
       "\n",
       "    .dataframe thead th {\n",
       "        text-align: right;\n",
       "    }\n",
       "</style>\n",
       "<table border=\"1\" class=\"dataframe\">\n",
       "  <thead>\n",
       "    <tr style=\"text-align: right;\">\n",
       "      <th></th>\n",
       "      <th>country</th>\n",
       "      <th>date</th>\n",
       "      <th>confirmed</th>\n",
       "      <th>deaths</th>\n",
       "      <th>recovered</th>\n",
       "      <th>region</th>\n",
       "      <th>climate</th>\n",
       "    </tr>\n",
       "  </thead>\n",
       "  <tbody>\n",
       "    <tr>\n",
       "      <th>66</th>\n",
       "      <td>Afghanistan</td>\n",
       "      <td>2020-03-28</td>\n",
       "      <td>106.0</td>\n",
       "      <td>2.0</td>\n",
       "      <td>2.0</td>\n",
       "      <td>Asia &amp; Pacific</td>\n",
       "      <td>nontropic</td>\n",
       "    </tr>\n",
       "    <tr>\n",
       "      <th>67</th>\n",
       "      <td>Afghanistan</td>\n",
       "      <td>2020-03-29</td>\n",
       "      <td>114.0</td>\n",
       "      <td>4.0</td>\n",
       "      <td>2.0</td>\n",
       "      <td>Asia &amp; Pacific</td>\n",
       "      <td>nontropic</td>\n",
       "    </tr>\n",
       "    <tr>\n",
       "      <th>68</th>\n",
       "      <td>Afghanistan</td>\n",
       "      <td>2020-03-30</td>\n",
       "      <td>114.0</td>\n",
       "      <td>4.0</td>\n",
       "      <td>2.0</td>\n",
       "      <td>Asia &amp; Pacific</td>\n",
       "      <td>nontropic</td>\n",
       "    </tr>\n",
       "    <tr>\n",
       "      <th>69</th>\n",
       "      <td>Afghanistan</td>\n",
       "      <td>2020-03-31</td>\n",
       "      <td>166.0</td>\n",
       "      <td>4.0</td>\n",
       "      <td>5.0</td>\n",
       "      <td>Asia &amp; Pacific</td>\n",
       "      <td>nontropic</td>\n",
       "    </tr>\n",
       "    <tr>\n",
       "      <th>70</th>\n",
       "      <td>Afghanistan</td>\n",
       "      <td>2020-04-01</td>\n",
       "      <td>192.0</td>\n",
       "      <td>4.0</td>\n",
       "      <td>5.0</td>\n",
       "      <td>Asia &amp; Pacific</td>\n",
       "      <td>nontropic</td>\n",
       "    </tr>\n",
       "  </tbody>\n",
       "</table>\n",
       "</div>"
      ],
      "text/plain": [
       "        country       date  confirmed  deaths  recovered          region  \\\n",
       "66  Afghanistan 2020-03-28      106.0     2.0        2.0  Asia & Pacific   \n",
       "67  Afghanistan 2020-03-29      114.0     4.0        2.0  Asia & Pacific   \n",
       "68  Afghanistan 2020-03-30      114.0     4.0        2.0  Asia & Pacific   \n",
       "69  Afghanistan 2020-03-31      166.0     4.0        5.0  Asia & Pacific   \n",
       "70  Afghanistan 2020-04-01      192.0     4.0        5.0  Asia & Pacific   \n",
       "\n",
       "      climate  \n",
       "66  nontropic  \n",
       "67  nontropic  \n",
       "68  nontropic  \n",
       "69  nontropic  \n",
       "70  nontropic  "
      ]
     },
     "execution_count": 10,
     "metadata": {},
     "output_type": "execute_result"
    }
   ],
   "source": [
    "start_date = \"2020-3-1\"\n",
    "end_date = \"2020-12-13\"\n",
    "after_start_date = df_new[\"date\"] >= start_date\n",
    "before_end_date = df_new[\"date\"] <= end_date\n",
    "confirmed_more = df_new['confirmed']>=100\n",
    "filtered_data = after_start_date & before_end_date & confirmed_more\n",
    "df_new = df_new.loc[filtered_data]\n",
    "df_new = df_new.dropna(subset = ['region', 'climate'])\n",
    "df_new.head()"
   ]
  },
  {
   "cell_type": "markdown",
   "metadata": {},
   "source": [
    "#### 4.a. Buat dataframe 'df_last' yang hanya mengandung data tanggal terakhir dari 'df_new', di mana tiap row menunjukkan data 'confirmed', 'deaths', 'recovered', 'region', dan 'climate' untuk 1 negara.\n",
    "#### b. Berdasarkan df_last, identifikasi 10 negara dengan data 'deaths' tertinggi. Buat barplotnya.\n",
    "#### c. Buat beberapa kolom baru pada 'df_last': \n",
    "##### Kolom 'active_case' yang merupakan hasil perhitungan 'confirmed' dikurangi 'recovered' dan 'deaths'. \n",
    "##### Kolom 'active_case_%' yang merupakan hasil perhitungan 'active_case' dibagi 'confirmed' dikali 100. \n",
    "##### Kolom 'deaths_%' yang merupakan hasil perhitungan 'deaths' dibagi 'confirmed' dikali 100. \n",
    "##### Kolom 'recovered_%' yang merupakan hasil perhitungan 'recovered' dibagi 'confirmed' dikali 100.\n",
    "#### d. Buat scatter matrix berdassarkan 'df_last' untuk kolom 'active_case_%', 'deaths_%', dan 'recovered_%'  (bedakan warna scatter plot berdasarkan region).\n",
    "#### e. Lakukan hal yang sama dengan membedakan warna scatter plot berdasarkan iklim."
   ]
  },
  {
   "cell_type": "markdown",
   "metadata": {},
   "source": [
    "# 3. Exploratory Data Analysis (EDA) dan Visualisasi"
   ]
  },
  {
   "cell_type": "markdown",
   "metadata": {},
   "source": [
    "## 3.1. Plot data orang terkonfirmasi Covid tiap region"
   ]
  },
  {
   "cell_type": "code",
   "execution_count": 13,
   "metadata": {},
   "outputs": [
    {
     "data": {
      "text/plain": [
       "Text(0, 0.5, 'Confirmed')"
      ]
     },
     "execution_count": 13,
     "metadata": {},
     "output_type": "execute_result"
    },
    {
     "data": {
      "image/png": "[encoded data removed]",
      "text/plain": [
       "<Figure size 1080x504 with 1 Axes>"
      ]
     },
     "metadata": {
      "needs_background": "light"
     },
     "output_type": "display_data"
    }
   ],
   "source": [
    "fig, ax = plt.subplots(figsize=(15,7))\n",
    "# use unstack()\n",
    "df_new.groupby(['date','region'])[['confirmed']].sum().unstack().plot(ax=ax)\n",
    "ax.set_xlabel('Date')\n",
    "ax.set_ylabel('Confirmed')\n",
    "\n",
    "# hasil plot pada sumbu y dikali 1e7 atau 10^7"
   ]
  },
  {
   "cell_type": "markdown",
   "metadata": {},
   "source": [
    "## 3.2. Plot orang terkonfirmasi Covid-19 tiap kelompok iklim"
   ]
  },
  {
   "cell_type": "code",
   "execution_count": 14,
   "metadata": {},
   "outputs": [
    {
     "data": {
      "text/plain": [
       "Text(0, 0.5, 'Confirmed')"
      ]
     },
     "execution_count": 14,
     "metadata": {},
     "output_type": "execute_result"
    },
    {
     "data": {
      "image/png": "[encoded data removed]",
      "text/plain": [
       "<Figure size 1080x504 with 1 Axes>"
      ]
     },
     "metadata": {
      "needs_background": "light"
     },
     "output_type": "display_data"
    }
   ],
   "source": [
    "fig, ax = plt.subplots(figsize=(15,7))\n",
    "# use unstack()\n",
    "df_new.groupby(['date','climate'])[['confirmed']].sum().unstack().plot(ax=ax)\n",
    "ax.set_xlabel('Date')\n",
    "ax.set_ylabel('Confirmed')\n",
    "\n",
    "# hasil plot pada sumbu y dikali 1e7 atau 10^7"
   ]
  },
  {
   "cell_type": "markdown",
   "metadata": {},
   "source": [
    "## 3.3 Daftar 10 negara dengan kasus kematian tertinggi dari kasus-kasus pada tanggal terakhir di data hasil filter sebelumnya"
   ]
  },
  {
   "cell_type": "code",
   "execution_count": 15,
   "metadata": {},
   "outputs": [
    {
     "data": {
      "text/html": [
       "<div>\n",
       "<style scoped>\n",
       "    .dataframe tbody tr th:only-of-type {\n",
       "        vertical-align: middle;\n",
       "    }\n",
       "\n",
       "    .dataframe tbody tr th {\n",
       "        vertical-align: top;\n",
       "    }\n",
       "\n",
       "    .dataframe thead th {\n",
       "        text-align: right;\n",
       "    }\n",
       "</style>\n",
       "<table border=\"1\" class=\"dataframe\">\n",
       "  <thead>\n",
       "    <tr style=\"text-align: right;\">\n",
       "      <th></th>\n",
       "      <th>country</th>\n",
       "      <th>confirmed</th>\n",
       "      <th>deaths</th>\n",
       "      <th>recovered</th>\n",
       "      <th>region</th>\n",
       "      <th>climate</th>\n",
       "    </tr>\n",
       "  </thead>\n",
       "  <tbody>\n",
       "    <tr>\n",
       "      <th>326</th>\n",
       "      <td>Afghanistan</td>\n",
       "      <td>48952.0</td>\n",
       "      <td>1960.0</td>\n",
       "      <td>38250.0</td>\n",
       "      <td>Asia &amp; Pacific</td>\n",
       "      <td>nontropic</td>\n",
       "    </tr>\n",
       "    <tr>\n",
       "      <th>954</th>\n",
       "      <td>Albania</td>\n",
       "      <td>48530.0</td>\n",
       "      <td>1003.0</td>\n",
       "      <td>24820.0</td>\n",
       "      <td>Europe</td>\n",
       "      <td>nontropic</td>\n",
       "    </tr>\n",
       "    <tr>\n",
       "      <th>1582</th>\n",
       "      <td>Algeria</td>\n",
       "      <td>92102.0</td>\n",
       "      <td>2596.0</td>\n",
       "      <td>60457.0</td>\n",
       "      <td>Arab States</td>\n",
       "      <td>nontropic</td>\n",
       "    </tr>\n",
       "    <tr>\n",
       "      <th>2210</th>\n",
       "      <td>Andorra</td>\n",
       "      <td>7338.0</td>\n",
       "      <td>79.0</td>\n",
       "      <td>6629.0</td>\n",
       "      <td>Europe</td>\n",
       "      <td>nontropic</td>\n",
       "    </tr>\n",
       "    <tr>\n",
       "      <th>2838</th>\n",
       "      <td>Angola</td>\n",
       "      <td>16188.0</td>\n",
       "      <td>371.0</td>\n",
       "      <td>8898.0</td>\n",
       "      <td>Africa</td>\n",
       "      <td>tropic</td>\n",
       "    </tr>\n",
       "  </tbody>\n",
       "</table>\n",
       "</div>"
      ],
      "text/plain": [
       "          country  confirmed  deaths  recovered          region    climate\n",
       "326   Afghanistan    48952.0  1960.0    38250.0  Asia & Pacific  nontropic\n",
       "954       Albania    48530.0  1003.0    24820.0          Europe  nontropic\n",
       "1582      Algeria    92102.0  2596.0    60457.0     Arab States  nontropic\n",
       "2210      Andorra     7338.0    79.0     6629.0          Europe  nontropic\n",
       "2838       Angola    16188.0   371.0     8898.0          Africa     tropic"
      ]
     },
     "execution_count": 15,
     "metadata": {},
     "output_type": "execute_result"
    }
   ],
   "source": [
    "# Kita buat dataframe 'df_last' yang hanya mengandung data tanggal terakhir dari 'df_new', \n",
    "# di mana tiap row menunjukkan data 'confirmed', 'deaths', 'recovered', 'region', dan 'climate' untuk 1 negara.\n",
    "df_last = df_new[df_new['date']==\"2020-12-13\"]\n",
    "df_last = df_last.drop(['date'],axis=1)\n",
    "df_last.head()"
   ]
  },
  {
   "cell_type": "code",
   "execution_count": 16,
   "metadata": {},
   "outputs": [
    {
     "data": {
      "text/plain": [
       "Text(0, 0.5, 'Deaths')"
      ]
     },
     "execution_count": 16,
     "metadata": {},
     "output_type": "execute_result"
    },
    {
     "data": {
      "image/png": "[encoded data removed]",
      "text/plain": [
       "<Figure size 1008x576 with 1 Axes>"
      ]
     },
     "metadata": {
      "needs_background": "light"
     },
     "output_type": "display_data"
    }
   ],
   "source": [
    "# Berdasarkan df_last, kita identifikasi 10 negara dengan data 'deaths' tertinggi. Buat barplotnya.\n",
    "\n",
    "df_last_top10 = df_last.sort_values(by=['deaths'], ascending=False).head(10)\n",
    "\n",
    "fig,ax = plt.subplots(figsize=(14,8))\n",
    "plt.bar(df_last_top10['country'],df_last_top10['deaths'])\n",
    "ax.set_xlabel('Country')\n",
    "ax.set_ylabel('Deaths')"
   ]
  },
  {
   "cell_type": "markdown",
   "metadata": {},
   "source": [
    "## 3.4 Penambahan kolom baru pada data sebelumnya dengan berisi beberapa perhitungan:\n",
    "\n",
    "### 1. Kolom 'active_case' yang merupakan hasil perhitungan 'confirmed' dikurangi 'recovered' dan 'deaths'.\n",
    "### 2. Kolom 'active_case_%' yang merupakan hasil perhitungan 'active_case' dibagi 'confirmed' dikali 100.\n",
    "### 3. Kolom 'deaths_%' yang merupakan hasil perhitungan 'deaths' dibagi 'confirmed' dikali 100.\n",
    "### 4. Kolom 'recovered_%' yang merupakan hasil perhitungan 'recovered' dibagi 'confirmed' dikali 100."
   ]
  },
  {
   "cell_type": "code",
   "execution_count": 17,
   "metadata": {},
   "outputs": [
    {
     "data": {
      "text/html": [
       "<div>\n",
       "<style scoped>\n",
       "    .dataframe tbody tr th:only-of-type {\n",
       "        vertical-align: middle;\n",
       "    }\n",
       "\n",
       "    .dataframe tbody tr th {\n",
       "        vertical-align: top;\n",
       "    }\n",
       "\n",
       "    .dataframe thead th {\n",
       "        text-align: right;\n",
       "    }\n",
       "</style>\n",
       "<table border=\"1\" class=\"dataframe\">\n",
       "  <thead>\n",
       "    <tr style=\"text-align: right;\">\n",
       "      <th></th>\n",
       "      <th>country</th>\n",
       "      <th>confirmed</th>\n",
       "      <th>deaths</th>\n",
       "      <th>recovered</th>\n",
       "      <th>region</th>\n",
       "      <th>climate</th>\n",
       "      <th>active_case</th>\n",
       "      <th>active_case_%</th>\n",
       "      <th>deaths_%</th>\n",
       "      <th>recovered_%</th>\n",
       "    </tr>\n",
       "  </thead>\n",
       "  <tbody>\n",
       "    <tr>\n",
       "      <th>326</th>\n",
       "      <td>Afghanistan</td>\n",
       "      <td>48952.0</td>\n",
       "      <td>1960.0</td>\n",
       "      <td>38250.0</td>\n",
       "      <td>Asia &amp; Pacific</td>\n",
       "      <td>nontropic</td>\n",
       "      <td>8742.0</td>\n",
       "      <td>17.858310</td>\n",
       "      <td>4.003922</td>\n",
       "      <td>78.137768</td>\n",
       "    </tr>\n",
       "    <tr>\n",
       "      <th>954</th>\n",
       "      <td>Albania</td>\n",
       "      <td>48530.0</td>\n",
       "      <td>1003.0</td>\n",
       "      <td>24820.0</td>\n",
       "      <td>Europe</td>\n",
       "      <td>nontropic</td>\n",
       "      <td>22707.0</td>\n",
       "      <td>46.789615</td>\n",
       "      <td>2.066763</td>\n",
       "      <td>51.143623</td>\n",
       "    </tr>\n",
       "    <tr>\n",
       "      <th>1582</th>\n",
       "      <td>Algeria</td>\n",
       "      <td>92102.0</td>\n",
       "      <td>2596.0</td>\n",
       "      <td>60457.0</td>\n",
       "      <td>Arab States</td>\n",
       "      <td>nontropic</td>\n",
       "      <td>29049.0</td>\n",
       "      <td>31.540032</td>\n",
       "      <td>2.818614</td>\n",
       "      <td>65.641354</td>\n",
       "    </tr>\n",
       "    <tr>\n",
       "      <th>2210</th>\n",
       "      <td>Andorra</td>\n",
       "      <td>7338.0</td>\n",
       "      <td>79.0</td>\n",
       "      <td>6629.0</td>\n",
       "      <td>Europe</td>\n",
       "      <td>nontropic</td>\n",
       "      <td>630.0</td>\n",
       "      <td>8.585446</td>\n",
       "      <td>1.076588</td>\n",
       "      <td>90.337967</td>\n",
       "    </tr>\n",
       "    <tr>\n",
       "      <th>2838</th>\n",
       "      <td>Angola</td>\n",
       "      <td>16188.0</td>\n",
       "      <td>371.0</td>\n",
       "      <td>8898.0</td>\n",
       "      <td>Africa</td>\n",
       "      <td>tropic</td>\n",
       "      <td>6919.0</td>\n",
       "      <td>42.741537</td>\n",
       "      <td>2.291821</td>\n",
       "      <td>54.966642</td>\n",
       "    </tr>\n",
       "  </tbody>\n",
       "</table>\n",
       "</div>"
      ],
      "text/plain": [
       "          country  confirmed  deaths  recovered          region    climate  \\\n",
       "326   Afghanistan    48952.0  1960.0    38250.0  Asia & Pacific  nontropic   \n",
       "954       Albania    48530.0  1003.0    24820.0          Europe  nontropic   \n",
       "1582      Algeria    92102.0  2596.0    60457.0     Arab States  nontropic   \n",
       "2210      Andorra     7338.0    79.0     6629.0          Europe  nontropic   \n",
       "2838       Angola    16188.0   371.0     8898.0          Africa     tropic   \n",
       "\n",
       "      active_case  active_case_%  deaths_%  recovered_%  \n",
       "326        8742.0      17.858310  4.003922    78.137768  \n",
       "954       22707.0      46.789615  2.066763    51.143623  \n",
       "1582      29049.0      31.540032  2.818614    65.641354  \n",
       "2210        630.0       8.585446  1.076588    90.337967  \n",
       "2838       6919.0      42.741537  2.291821    54.966642  "
      ]
     },
     "execution_count": 17,
     "metadata": {},
     "output_type": "execute_result"
    }
   ],
   "source": [
    "df_last['active_case']=df_last['confirmed']-(df_last['recovered']+df_last['deaths'])\n",
    "df_last['active_case_%']=(df_last['active_case']/df_last['confirmed'])*100\n",
    "df_last['deaths_%']=(df_last['deaths']/df_last['confirmed'])*100\n",
    "df_last['recovered_%']=(df_last['recovered']/df_last['confirmed'])*100\n",
    "df_last.head()"
   ]
  },
  {
   "cell_type": "markdown",
   "metadata": {},
   "source": [
    "## 3.5. "
   ]
  },
  {
   "cell_type": "code",
   "execution_count": null,
   "metadata": {
    "scrolled": false
   },
   "outputs": [],
   "source": [
    "# 4.d Kita buat scatter matrix berdassarkan 'df_last' untuk \n",
    "# kolom 'active_case_%', 'deaths_%', dan 'recovered_%' (bedakan warna scatter plot berdasarkan region)\n",
    "\n",
    "from pandas.plotting import scatter_matrix\n",
    "\n",
    "colors_region = {'Europe':'red','Africa':'green','South/Latin America':'blue','Asia & Pacific':'yellow','Middle east':'orange', 'Arab States':'purple', 'North America':'brown'}\n",
    "\n",
    "pd.plotting.scatter_matrix(df_last[['active_case_%','deaths_%','recovered_%']], alpha = 0.5, figsize = (15, 8), diagonal = 'hist', marker='o', c=df_last['region'].map(colors_region))\n"
   ]
  },
  {
   "cell_type": "code",
   "execution_count": null,
   "metadata": {},
   "outputs": [],
   "source": [
    "# 4.e Kita lakukan hal yang sama dengan membedakan warna scatter plot berdasarkan iklim.\n",
    "\n",
    "colors_climate = {'nontropic':'red','tropic':'green'}\n",
    "\n",
    "pd.plotting.scatter_matrix(df_last[['active_case_%','deaths_%','recovered_%']], alpha = 0.5, figsize = (15, 8), diagonal = 'hist', marker='o', c=df_last['climate'].map(colors_climate))\n"
   ]
  },
  {
   "cell_type": "markdown",
   "metadata": {},
   "source": [
    "#### 5. a.  Dengan asumsi syarat melakukan tes Pearson terpenuhi, lakukan tes Pearson untuk menguji adanya hubungan linear antara data 'active_case_%', 'deaths_%', dan 'recovered_%'. Buatlah heatmapnya.\n",
    "#### b. Carilah p-value dari koefisiensi korelasi yang telah didapatkan. Tuliskan kesimpulannya."
   ]
  },
  {
   "cell_type": "code",
   "execution_count": null,
   "metadata": {},
   "outputs": [],
   "source": [
    "# 5.a\n",
    "print (df_last[['active_case_%','deaths_%','recovered_%']].corr())\n",
    "# untuk membuat heatmap saya memakai seaborn\n",
    "import seaborn as sns\n",
    "sns.heatmap(df_last[['active_case_%','deaths_%','recovered_%']].corr(), annot=True);"
   ]
  },
  {
   "cell_type": "markdown",
   "metadata": {},
   "source": [
    "##### Kesimpulan no 5.a : Data active_case_% sangat berkorelasi negatif dengan data recovered_%. Hal ini terlihat dari nilai korelasi mereka dihasilkan nilai -0.997. Kita tahu bahwa nilai koefisien korelasi pearson berada di antara nilai -1<p<1 , di mana nilai 0 menandakan tidak ada korelasi sama sekali dan nilai 1 atau -1 menandakan total korelasi positif atau negatif. Untuk data deaths_% memiliki korelasi yang sama antara hubungan data deaths_% dengan active_case_%  atau dengan recovered_% yaitu senilai 0.03. Ini menandakan adanya korelasi namun tidak terlalu tinggi."
   ]
  },
  {
   "cell_type": "code",
   "execution_count": null,
   "metadata": {},
   "outputs": [],
   "source": [
    "# 5.b\n",
    "from scipy import stats\n",
    "pearson_coef1, p_value1 = stats.pearsonr(df_last['active_case_%'], df_last['deaths_%'])\n",
    "pearson_coef2, p_value2 = stats.pearsonr(df_last['active_case_%'], df_last['recovered_%'])\n",
    "pearson_coef3, p_value3 = stats.pearsonr(df_last['deaths_%'], df_last['recovered_%'])\n",
    "print(\"Korelasi Pearson antara active_case_% dan deaths_%\", pearson_coef1, \" dengan P-value =\", p_value1)  \n",
    "print(\"Korelasi Pearson antara active_case_% dan recovered_%\", pearson_coef2, \" dengan P-value =\", p_value2)\n",
    "print(\"Korelasi Pearson antara deaths_% dan recovered_%\", pearson_coef3, \" dengan P-value =\", p_value3)"
   ]
  },
  {
   "cell_type": "markdown",
   "metadata": {},
   "source": [
    "##### Kesimpulan 5.b :\n",
    "\n",
    "1. P-Value dari korelasi antara active_case_% dan deaths_% adalah 0.66371. Karena P-Value > 0.1 , maka tidak ada bukti bahwa korelasi mereka signifikan.\n",
    "\n",
    "2. P-Value dari korelasi antara active_case_% dan recovered_% adalah 1.0113427233958369e-190. Karena P-Value < 0.001, maka bisa dikatakan terdapat bukti kuat bahwa korelasi mereka signifikan.\n",
    "\n",
    "1. P-Value dari korelasi antara deaths_% dan recovered_% adalah 0.191916. Karena P-Value > 0.1 , maka tidak ada bukti (bukti lemah) bahwa korelasi mereka signifikan.\n"
   ]
  },
  {
   "cell_type": "markdown",
   "metadata": {},
   "source": [
    "#### 6. Dengan asumsi syarat melakukan tes ANOVA terpenuhi, lakukan ANOVA untuk menguji adanya hubungan antara region dan data 'active_case_%', 'deaths_%', dan 'recovered_%' (3 TES ANOVA YANG BERBEDA) pada 'df_last'. Tuliskan kesimpulan dari hasil tesnya."
   ]
  },
  {
   "cell_type": "code",
   "execution_count": null,
   "metadata": {},
   "outputs": [],
   "source": [
    "# 6\n",
    "# region-active_case_%\n",
    "\n",
    "from scipy.stats import f_oneway\n",
    "CategoryGroupLists1=df_last.groupby('region')['active_case_%'].apply(list)\n",
    "AnovaResults1 = f_oneway(*CategoryGroupLists1)\n",
    "print('P-Value for Anova is: ', AnovaResults1[1])"
   ]
  },
  {
   "cell_type": "code",
   "execution_count": null,
   "metadata": {},
   "outputs": [],
   "source": [
    "# 6\n",
    "# region-deaths_%\n",
    "\n",
    "from scipy.stats import f_oneway\n",
    "CategoryGroupLists2=df_last.groupby('region')['deaths_%'].apply(list)\n",
    "AnovaResults2 = f_oneway(*CategoryGroupLists2)\n",
    "print('P-Value for Anova is: ', AnovaResults2[1])"
   ]
  },
  {
   "cell_type": "code",
   "execution_count": null,
   "metadata": {},
   "outputs": [],
   "source": [
    "# 6\n",
    "# region-recovered_%\n",
    "\n",
    "from scipy.stats import f_oneway\n",
    "CategoryGroupLists3=df_last.groupby('region')['recovered_%'].apply(list)\n",
    "AnovaResults3 = f_oneway(*CategoryGroupLists3)\n",
    "print('P-Value for Anova is: ', AnovaResults3[1])"
   ]
  },
  {
   "cell_type": "markdown",
   "metadata": {},
   "source": [
    "##### Kesimpulan No 6 : hubungan korelasi antara region dengan active_case, deaths,recovered cukup kuat dikarenakan nilai p-value yang semuanya hampir mendekati 0"
   ]
  },
  {
   "cell_type": "markdown",
   "metadata": {},
   "source": [
    "#### 7. Dengan asumsi syarat melakukan independent t-test terpenuhi, lakukan independent t-test untuk menguji adanya hubungan antara kelompok iklim dan data 'active_case_%', 'deaths_%', dan 'recovered_%' (3 INDEPENDENT T-TEST YANG BERBEDA) pada 'df_last'. Tuliskan kesimpulan dari hasil tesnya."
   ]
  },
  {
   "cell_type": "code",
   "execution_count": null,
   "metadata": {},
   "outputs": [],
   "source": [
    "# 7 \n",
    "\n",
    "from scipy.stats import ttest_ind\n",
    "test1 = df_last[df_last['climate']=='nontropic']\n",
    "test2 = df_last[df_last['climate']=='tropic']\n",
    "\n",
    "ttest_ind(test1['active_case_%'], test2['active_case_%'])"
   ]
  },
  {
   "cell_type": "code",
   "execution_count": null,
   "metadata": {},
   "outputs": [],
   "source": [
    "# 7 \n",
    "\n",
    "from scipy.stats import ttest_ind\n",
    "test1 = df_last[df_last['climate']=='nontropic']\n",
    "test2 = df_last[df_last['climate']=='tropic']\n",
    "\n",
    "ttest_ind(test1['deaths_%'], test2['deaths_%'])"
   ]
  },
  {
   "cell_type": "code",
   "execution_count": null,
   "metadata": {},
   "outputs": [],
   "source": [
    "# 7 \n",
    "\n",
    "from scipy.stats import ttest_ind\n",
    "test1 = df_last[df_last['climate']=='nontropic']\n",
    "test2 = df_last[df_last['climate']=='tropic']\n",
    "\n",
    "ttest_ind(test1['recovered_%'], test2['recovered_%'])"
   ]
  },
  {
   "cell_type": "markdown",
   "metadata": {},
   "source": [
    "##### Kesimpulan no 7 : P-Value masing-masing fitur jauh di bawah level signifikansi 0.05 sehingga rata-rata statistik kelompok iklim tropis dan nontropis saling berbeda secara statistik"
   ]
  },
  {
   "cell_type": "markdown",
   "metadata": {},
   "source": [
    "#### 8. Buat kolom 'safety' pada 'df_last'. Apabila data suatu negara memenuhi 'active_case_%' < 10, 'deaths_%' < 5, 'recovered_%' > 85 labeli negara ini dengan 'safe' pada kolom 'safety'. Apabila tidak memenuhi kriteria, labeli dengan 'not_safe'. Berapa negara yang masuk kategori 'safe'? Berapa negara yang masuk kategori 'not_safe'?"
   ]
  },
  {
   "cell_type": "code",
   "execution_count": null,
   "metadata": {},
   "outputs": [],
   "source": [
    "# 8\n",
    "\n",
    "def conditions(s):\n",
    "    if (s['active_case_%'] < 10) & (s['deaths_%'] < 5) & (s['recovered_%'] > 85):\n",
    "        return 'safe'\n",
    "    else:\n",
    "        return 'not_safe'"
   ]
  },
  {
   "cell_type": "code",
   "execution_count": null,
   "metadata": {},
   "outputs": [],
   "source": [
    "# 8\n",
    "\n",
    "df_last['safety']=df_last.apply(conditions,axis=1)\n",
    "df_last.head()"
   ]
  },
  {
   "cell_type": "markdown",
   "metadata": {},
   "source": [
    "#### 9. a. Buat DataFrame baru dengan yang mengeksklusi data Indonesia, US, Brazil, New Zealand, Singapore dari 'df_last'. Buatlah classifier model untuk memprediksi kategori 'safety' pada DataFrame yang baru dibuat. Tampilkan nilai performance dari model yang Anda buat.\n",
    "\n",
    "#### b. Gunakan model classifier yang Anda buat untuk melabeli kategory 'safety' pada data Indonesia, US, Brazil, New Zealand, Singapore dari 'df_last'. Apa label 'safety' yang diprediksi oleh model Anda untuk masing-masing negara tersebut? Apakah hasil prediksi model Anda sesuai dengan kriteria safety pada nomor 8? Apabila tidak, faktor apa yang mempengaruhinya?"
   ]
  },
  {
   "cell_type": "code",
   "execution_count": null,
   "metadata": {},
   "outputs": [],
   "source": [
    "# 9.a\n",
    "\n",
    "new_df = df_last[(df_last['country']=='Indonesia')| (df_last['country']=='US')|(df_last['country']=='Brazil')|(df_last['country']=='New Zealand')|(df_last['country']=='Singapore')]\n",
    "new_df"
   ]
  },
  {
   "cell_type": "code",
   "execution_count": null,
   "metadata": {
    "scrolled": true
   },
   "outputs": [],
   "source": [
    "# 9.a\n",
    "\n",
    "# Karena target kita adalah safety maka kolom region dan country sebenarnya tidak terlalu relevan karena safety dipengaruhi nilai\n",
    "# -nilai angka atau indeks kasus covid.\n",
    "\n",
    "from sklearn.preprocessing import StandardScaler\n",
    "from sklearn import preprocessing\n",
    "le = preprocessing.LabelEncoder()\n",
    "\n",
    "data_fitur = df_last.drop(['country','region', 'safety', 'climate'],axis=1)\n",
    "\n",
    "# scaling\n",
    "stdscalar = StandardScaler()\n",
    "data_scale = stdscalar.fit_transform(data_fitur)\n",
    "fitur_scale = pd.DataFrame(data_scale,columns=data_fitur.columns)\n",
    "fitur_scale.head()\n"
   ]
  },
  {
   "cell_type": "code",
   "execution_count": null,
   "metadata": {},
   "outputs": [],
   "source": [
    "# 9.a\n",
    "\n",
    "# label encoding label target (safety)\n",
    "\n",
    "target_encoded= df_last[['safety']].copy()\n",
    "for col in target_encoded.select_dtypes(include='O').columns:\n",
    "    target_encoded [col]=le.fit_transform(target_encoded[col])\n",
    "    \n",
    "target_encoded.head()"
   ]
  },
  {
   "cell_type": "code",
   "execution_count": null,
   "metadata": {},
   "outputs": [],
   "source": [
    "# 9.a\n",
    "\n",
    "X=fitur_scale\n",
    "y=target_encoded\n",
    "\n",
    "from sklearn.neighbors import KNeighborsClassifier\n",
    "from sklearn.model_selection import train_test_split\n",
    "\n",
    "X_train, X_test, y_train, y_test = train_test_split(X, y, test_size=0.2, random_state=21)"
   ]
  },
  {
   "cell_type": "code",
   "execution_count": null,
   "metadata": {},
   "outputs": [],
   "source": [
    "# 9.a\n",
    "\n",
    "# pembuatan model KNN\n",
    "model_knn = KNeighborsClassifier(n_neighbors=15,weights='distance',leaf_size=34)\n",
    "model_knn.fit(X_train,y_train)"
   ]
  },
  {
   "cell_type": "code",
   "execution_count": null,
   "metadata": {},
   "outputs": [],
   "source": [
    "# 9.a\n",
    "\n",
    "#akurasi model\n",
    "from sklearn.metrics import accuracy_score, classification_report, precision_score, recall_score \n",
    "from sklearn.metrics import confusion_matrix, precision_recall_curve, roc_curve, auc, log_loss\n",
    "y_pred = model_knn.predict(X_test)\n",
    "print('Akurasi model pada data test:',accuracy_score(y_test,y_pred))"
   ]
  },
  {
   "cell_type": "markdown",
   "metadata": {},
   "source": [
    "###### Didapat akurasi model K-Nearest Neighbor (KNN) pada data sebesar 96.9% (kemungkinan besar masih overfitting)"
   ]
  },
  {
   "cell_type": "code",
   "execution_count": null,
   "metadata": {},
   "outputs": [],
   "source": [
    "# 9.b\n",
    "df_newpred = new_df.drop(['country','region', 'safety','climate'],axis=1)\n",
    "\n",
    "safety_pred = model_knn.predict(df_newpred)\n",
    "safety_pred"
   ]
  },
  {
   "cell_type": "code",
   "execution_count": null,
   "metadata": {},
   "outputs": [],
   "source": [
    "# 9.b\n",
    "    \n",
    "new_df['safety_prediksi_']='not_safe'\n",
    "new_df.head()"
   ]
  },
  {
   "cell_type": "markdown",
   "metadata": {},
   "source": [
    "#### 10. Buatlah model regresi untuk data 'active_case_%' di US pada 'df_last'. Plot model regresi ini bersama data aslinya dalam satu graph. Hitung nilai performance dari model regresi yang Anda buat."
   ]
  },
  {
   "cell_type": "code",
   "execution_count": null,
   "metadata": {},
   "outputs": [],
   "source": [
    "# 10\n",
    "\n",
    "from sklearn.linear_model import LinearRegression\n",
    "lr = LinearRegression()\n",
    "X_new = df_last.drop(['country','region', 'safety','climate','active_case_%'],axis=1)\n",
    "y_new = df_last['active_case_%']\n",
    "X_Train, X_Test, y_Train, y_Test = train_test_split(X_new, y_new, test_size=0.2, random_state=21)"
   ]
  },
  {
   "cell_type": "code",
   "execution_count": null,
   "metadata": {},
   "outputs": [],
   "source": [
    "# 10\n",
    "\n",
    "lr.fit(X_Train,y_Train)"
   ]
  },
  {
   "cell_type": "code",
   "execution_count": null,
   "metadata": {},
   "outputs": [],
   "source": [
    "# 10\n",
    "\n",
    "print('intercept : ',lr.intercept_)\n",
    "print('slope :',lr.coef_)"
   ]
  },
  {
   "cell_type": "code",
   "execution_count": null,
   "metadata": {},
   "outputs": [],
   "source": [
    "# 10\n",
    "\n",
    "y_Pred = lr.predict(X_Test)\n",
    "\n",
    "from sklearn import metrics\n",
    "print('Mean Absolute Error:', metrics.mean_absolute_error(y_Test, y_Pred))\n",
    "print('Mean Squared Error:', metrics.mean_squared_error(y_Test, y_Pred))\n",
    "print('Root Mean Squared Error:', np.sqrt(metrics.mean_squared_error(y_Test, y_Pred)))"
   ]
  },
  {
   "cell_type": "code",
   "execution_count": null,
   "metadata": {},
   "outputs": [],
   "source": [
    "# 10\n",
    "\n",
    "# Akan sulit diplot karena data train terdiri dari banyak dimensi. Saya belum tahu caranya.\n",
    "# Namun di sini saya coba tampilkan data asli recovered_% dengan hasil regresi yaitu active_case_% beserta plot regresinya\n",
    "plt.scatter(X_Test['recovered_%'], y_Test)\n",
    "plt.plot(X_Test['recovered_%'], y_Pred, c='r')\n",
    "plt.xlabel('recovered_%')\n",
    "plt.ylabel('active_case_%')\n"
   ]
  },
  {
   "cell_type": "markdown",
   "metadata": {},
   "source": [
    "#### 11. a. Buatlah clustering model dengan jumlah cluster sebanyak 5 (cluster 0-4) untuk array 'Z'. Sebutkan prediksi nomor cluster berdasarkan data 'active_case_%', 'deaths_%', dan 'recovered_%' pada 'df_last' untuk negara:\n",
    "##### i. Indonesia\n",
    "##### ii. Singapore\n",
    "##### iii. US\n",
    "##### iv. Italy\n",
    "##### v. Iran\n",
    "#### b. Buat plot 3D dari clustering model yang Anda buat."
   ]
  },
  {
   "cell_type": "code",
   "execution_count": null,
   "metadata": {},
   "outputs": [],
   "source": [
    "# 11.a\n",
    "\n",
    "from sklearn.cluster import KMeans\n",
    "kmeans=KMeans(n_clusters=5,init = \"k-means++\", max_iter = 300, n_init = 10, random_state = 0)\n",
    "kmeans.fit(df_last[['active_case_%','deaths_%','recovered_%']])"
   ]
  },
  {
   "cell_type": "code",
   "execution_count": null,
   "metadata": {},
   "outputs": [],
   "source": [
    "kmeans.cluster_centers_"
   ]
  },
  {
   "cell_type": "code",
   "execution_count": null,
   "metadata": {},
   "outputs": [],
   "source": [
    "# 11.a\n",
    "\n",
    "df_cluster = df_last[(df_last['country']=='Indonesia')| (df_last['country']=='Singapore')|(df_last['country']=='US')|(df_last['country']=='Italy')|(df_last['country']=='Iran')]\n",
    "df_cluster"
   ]
  },
  {
   "cell_type": "code",
   "execution_count": null,
   "metadata": {},
   "outputs": [],
   "source": [
    "# 11.a\n",
    "y_kmeans = kmeans.predict(df_cluster[['active_case_%','deaths_%','recovered_%']])\n",
    "y_kmeans"
   ]
  },
  {
   "cell_type": "markdown",
   "metadata": {},
   "source": [
    "##### Kesimpulan 11.a :\n",
    "1. Indonesia : Cluster 2\n",
    "2. Iran     : Cluster 2\n",
    "3. Italy    : Cluster 4\n",
    "4. Singapore : Cluster 1\n",
    "5. US        : Cluster 0"
   ]
  },
  {
   "cell_type": "code",
   "execution_count": null,
   "metadata": {},
   "outputs": [],
   "source": [
    "# 11.b\n",
    "\n",
    "z = df_last[['active_case_%', 'deaths_%', 'recovered_%']].values"
   ]
  },
  {
   "cell_type": "code",
   "execution_count": null,
   "metadata": {},
   "outputs": [],
   "source": [
    "# 11.b\n",
    "\n",
    "y_clusters = kmeans.fit_predict(z)"
   ]
  },
  {
   "cell_type": "code",
   "execution_count": null,
   "metadata": {},
   "outputs": [],
   "source": [
    "# 11.b\n",
    "\n",
    "fig = plt.figure(figsize = (15,15))\n",
    "ax = fig.add_subplot(111, projection='3d')\n",
    "ax.scatter(z[y_clusters == 0,0],z[y_clusters == 0,1],z[y_clusters == 0,2], s = 40 , color = 'blue', label = \"cluster 0\")\n",
    "ax.scatter(z[y_clusters == 1,0],z[y_clusters == 1,1],z[y_clusters == 1,2], s = 40 , color = 'orange', label = \"cluster 1\")\n",
    "ax.scatter(z[y_clusters == 2,0],z[y_clusters == 2,1],z[y_clusters == 2,2], s = 40 , color = 'green', label = \"cluster 2\")\n",
    "ax.scatter(z[y_clusters == 3,0],z[y_clusters == 3,1],z[y_clusters == 3,2], s = 40 , color = 'red', label = \"cluster 3\")\n",
    "ax.scatter(z[y_clusters == 4,0],z[y_clusters == 4,1],z[y_clusters == 4,2], s = 40 , color = 'purple', label = \"cluster 4\")\n",
    "ax.set_xlabel('Active case %')\n",
    "ax.set_ylabel('Deaths %')\n",
    "ax.set_zlabel('Recovered %')\n",
    "ax.legend()\n",
    "plt.show()"
   ]
  },
  {
   "cell_type": "markdown",
   "metadata": {},
   "source": [
    "#### 12. (Optional) Tampilkan grafik-grafik yang Anda buat dalam bentuk dashboard menggunakan Dash by Plotly. "
   ]
  },
  {
   "cell_type": "code",
   "execution_count": null,
   "metadata": {},
   "outputs": [],
   "source": []
  }
 ],
 "metadata": {
  "kernelspec": {
   "display_name": "Python 3 (ipykernel)",
   "language": "python",
   "name": "python3"
  },
  "language_info": {
   "codemirror_mode": {
    "name": "ipython",
    "version": 3
   },
   "file_extension": ".py",
   "mimetype": "text/x-python",
   "name": "python",
   "nbconvert_exporter": "python",
   "pygments_lexer": "ipython3",
   "version": "3.9.7"
  }
 },
 "nbformat": 4,
 "nbformat_minor": 4
}
