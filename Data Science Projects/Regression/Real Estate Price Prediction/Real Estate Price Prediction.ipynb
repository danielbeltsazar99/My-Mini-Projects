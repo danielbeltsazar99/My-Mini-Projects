{
 "cells": [
  {
   "cell_type": "markdown",
   "id": "4ce92e62",
   "metadata": {},
   "source": [
    "### **The Russian real estate market has a relatively short history. In the Soviet era, all properties were state-owned; people only had the right to use them with apartments allocated based on one's place of work. As a result, options for moving were fairly limited. However, after the fall of the Soviet Union, the Russian real estate market emerged and Muscovites could privatize and subsequently sell and buy properties for the first time. Today, Russian real estate is booming. It offers many exciting opportunities and high returns for lifestyle and investment.**\n",
    "\n",
    "### **The real estate market has been in a growth phase for several years, which means that you can still find properties at very attractive prices, but with good chances of increasing their value in the future.**"
   ]
  },
  {
   "cell_type": "markdown",
   "id": "e52bdd25",
   "metadata": {},
   "source": [
    "### **The scope and the objective of this problem is to analyze our data and make a model based on its features to predict the price of the Russian real estate. I hope by doing so, the model can be used to make price prediction automatically based on the apartments Russian people sell on the market and their specific features.**"
   ]
  },
  {
   "cell_type": "markdown",
   "id": "1d3ade34",
   "metadata": {},
   "source": [
    "#### Data source : https://www.kaggle.com/mrdaniilak/russia-real-estate-20182021 "
   ]
  },
  {
   "cell_type": "markdown",
   "id": "dbe40357",
   "metadata": {},
   "source": [
    "# 1. Importing Library and Dataset"
   ]
  },
  {
   "cell_type": "code",
   "execution_count": 67,
   "id": "a9d44b5d",
   "metadata": {},
   "outputs": [],
   "source": [
    "from xgboost import XGBRegressor\n",
    "import pandas as pd\n",
    "import numpy as np\n",
    "import matplotlib.pyplot as plt\n",
    "import seaborn as sns\n",
    "from sklearn.model_selection import train_test_split\n",
    "from sklearn.linear_model import LinearRegression,LogisticRegression, Ridge\n",
    "from sklearn.metrics import r2_score, mean_squared_error,mean_absolute_error\n",
    "from sklearn.ensemble import RandomForestClassifier, GradientBoostingClassifier,RandomForestRegressor\n",
    "#from sklearn.pipeline import make_pipeline\n",
    "#from pandas_profiling import ProfileReport\n",
    "from sklearn.model_selection import KFold,ShuffleSplit,GridSearchCV"
   ]
  },
  {
   "cell_type": "code",
   "execution_count": 2,
   "id": "9890f9a1",
   "metadata": {},
   "outputs": [
    {
     "data": {
      "text/html": [
       "<div>\n",
       "<style scoped>\n",
       "    .dataframe tbody tr th:only-of-type {\n",
       "        vertical-align: middle;\n",
       "    }\n",
       "\n",
       "    .dataframe tbody tr th {\n",
       "        vertical-align: top;\n",
       "    }\n",
       "\n",
       "    .dataframe thead th {\n",
       "        text-align: right;\n",
       "    }\n",
       "</style>\n",
       "<table border=\"1\" class=\"dataframe\">\n",
       "  <thead>\n",
       "    <tr style=\"text-align: right;\">\n",
       "      <th></th>\n",
       "      <th>price</th>\n",
       "      <th>date</th>\n",
       "      <th>time</th>\n",
       "      <th>geo_lat</th>\n",
       "      <th>geo_lon</th>\n",
       "      <th>region</th>\n",
       "      <th>building_type</th>\n",
       "      <th>level</th>\n",
       "      <th>levels</th>\n",
       "      <th>rooms</th>\n",
       "      <th>area</th>\n",
       "      <th>kitchen_area</th>\n",
       "      <th>object_type</th>\n",
       "    </tr>\n",
       "  </thead>\n",
       "  <tbody>\n",
       "    <tr>\n",
       "      <th>0</th>\n",
       "      <td>6050000</td>\n",
       "      <td>2018-02-19</td>\n",
       "      <td>20:00:21</td>\n",
       "      <td>59.805808</td>\n",
       "      <td>30.376141</td>\n",
       "      <td>2661</td>\n",
       "      <td>1</td>\n",
       "      <td>8</td>\n",
       "      <td>10</td>\n",
       "      <td>3</td>\n",
       "      <td>82.6</td>\n",
       "      <td>10.8</td>\n",
       "      <td>1</td>\n",
       "    </tr>\n",
       "    <tr>\n",
       "      <th>1</th>\n",
       "      <td>8650000</td>\n",
       "      <td>2018-02-27</td>\n",
       "      <td>12:04:54</td>\n",
       "      <td>55.683807</td>\n",
       "      <td>37.297405</td>\n",
       "      <td>81</td>\n",
       "      <td>3</td>\n",
       "      <td>5</td>\n",
       "      <td>24</td>\n",
       "      <td>2</td>\n",
       "      <td>69.1</td>\n",
       "      <td>12.0</td>\n",
       "      <td>1</td>\n",
       "    </tr>\n",
       "    <tr>\n",
       "      <th>2</th>\n",
       "      <td>4000000</td>\n",
       "      <td>2018-02-28</td>\n",
       "      <td>15:44:00</td>\n",
       "      <td>56.295250</td>\n",
       "      <td>44.061637</td>\n",
       "      <td>2871</td>\n",
       "      <td>1</td>\n",
       "      <td>5</td>\n",
       "      <td>9</td>\n",
       "      <td>3</td>\n",
       "      <td>66.0</td>\n",
       "      <td>10.0</td>\n",
       "      <td>1</td>\n",
       "    </tr>\n",
       "    <tr>\n",
       "      <th>3</th>\n",
       "      <td>1850000</td>\n",
       "      <td>2018-03-01</td>\n",
       "      <td>11:24:52</td>\n",
       "      <td>44.996132</td>\n",
       "      <td>39.074783</td>\n",
       "      <td>2843</td>\n",
       "      <td>4</td>\n",
       "      <td>12</td>\n",
       "      <td>16</td>\n",
       "      <td>2</td>\n",
       "      <td>38.0</td>\n",
       "      <td>5.0</td>\n",
       "      <td>11</td>\n",
       "    </tr>\n",
       "    <tr>\n",
       "      <th>4</th>\n",
       "      <td>5450000</td>\n",
       "      <td>2018-03-01</td>\n",
       "      <td>17:42:43</td>\n",
       "      <td>55.918767</td>\n",
       "      <td>37.984642</td>\n",
       "      <td>81</td>\n",
       "      <td>3</td>\n",
       "      <td>13</td>\n",
       "      <td>14</td>\n",
       "      <td>2</td>\n",
       "      <td>60.0</td>\n",
       "      <td>10.0</td>\n",
       "      <td>1</td>\n",
       "    </tr>\n",
       "  </tbody>\n",
       "</table>\n",
       "</div>"
      ],
      "text/plain": [
       "     price        date      time    geo_lat    geo_lon  region  building_type  \\\n",
       "0  6050000  2018-02-19  20:00:21  59.805808  30.376141    2661              1   \n",
       "1  8650000  2018-02-27  12:04:54  55.683807  37.297405      81              3   \n",
       "2  4000000  2018-02-28  15:44:00  56.295250  44.061637    2871              1   \n",
       "3  1850000  2018-03-01  11:24:52  44.996132  39.074783    2843              4   \n",
       "4  5450000  2018-03-01  17:42:43  55.918767  37.984642      81              3   \n",
       "\n",
       "   level  levels  rooms  area  kitchen_area  object_type  \n",
       "0      8      10      3  82.6          10.8            1  \n",
       "1      5      24      2  69.1          12.0            1  \n",
       "2      5       9      3  66.0          10.0            1  \n",
       "3     12      16      2  38.0           5.0           11  \n",
       "4     13      14      2  60.0          10.0            1  "
      ]
     },
     "execution_count": 2,
     "metadata": {},
     "output_type": "execute_result"
    }
   ],
   "source": [
    "df = pd.read_csv('/Users/danielbeltsazar/DS-ML-DL Mini Projects/Real Estate Price/all_v2.csv')\n",
    "df.head()"
   ]
  },
  {
   "cell_type": "markdown",
   "id": "3fbb8406",
   "metadata": {},
   "source": [
    "### The dataset has 13 fields:\n",
    "\n",
    "+ date - date of publication of the announcement;\n",
    "+ time - the time when the ad was published;\n",
    "+ geo_lat - Latitude\n",
    "+ geo_lon - Longitude\n",
    "+ region - Region of Russia. There are 85 subjects in the country in total.\n",
    "+ building_type - Facade type. 0 - Other. 1 - Panel. 2 - Monolithic. 3 - Brick. 4 - Blocky. 5 - Wooden\n",
    "+ object_type - Apartment type. 1 - Secondary real estate market; 2 - New building;\n",
    "+ level - Apartment floor\n",
    "+ levels - Number of storeys\n",
    "+ rooms - the number of living rooms. If the value is \"-1\", then it means \"studio apartment\"\n",
    "+ area - the total area of the apartment\n",
    "+ kitchen_area - Kitchen area\n",
    "+ price - Price. in rubles"
   ]
  },
  {
   "cell_type": "code",
   "execution_count": 3,
   "id": "70ce61c6",
   "metadata": {},
   "outputs": [
    {
     "name": "stdout",
     "output_type": "stream",
     "text": [
      "<class 'pandas.core.frame.DataFrame'>\n",
      "RangeIndex: 5477006 entries, 0 to 5477005\n",
      "Data columns (total 13 columns):\n",
      " #   Column         Dtype  \n",
      "---  ------         -----  \n",
      " 0   price          int64  \n",
      " 1   date           object \n",
      " 2   time           object \n",
      " 3   geo_lat        float64\n",
      " 4   geo_lon        float64\n",
      " 5   region         int64  \n",
      " 6   building_type  int64  \n",
      " 7   level          int64  \n",
      " 8   levels         int64  \n",
      " 9   rooms          int64  \n",
      " 10  area           float64\n",
      " 11  kitchen_area   float64\n",
      " 12  object_type    int64  \n",
      "dtypes: float64(4), int64(7), object(2)\n",
      "memory usage: 543.2+ MB\n"
     ]
    }
   ],
   "source": [
    "df.info()"
   ]
  },
  {
   "cell_type": "code",
   "execution_count": 4,
   "id": "d112df1e",
   "metadata": {},
   "outputs": [
    {
     "data": {
      "text/html": [
       "<div>\n",
       "<style scoped>\n",
       "    .dataframe tbody tr th:only-of-type {\n",
       "        vertical-align: middle;\n",
       "    }\n",
       "\n",
       "    .dataframe tbody tr th {\n",
       "        vertical-align: top;\n",
       "    }\n",
       "\n",
       "    .dataframe thead th {\n",
       "        text-align: right;\n",
       "    }\n",
       "</style>\n",
       "<table border=\"1\" class=\"dataframe\">\n",
       "  <thead>\n",
       "    <tr style=\"text-align: right;\">\n",
       "      <th></th>\n",
       "      <th>price</th>\n",
       "      <th>geo_lat</th>\n",
       "      <th>geo_lon</th>\n",
       "      <th>region</th>\n",
       "      <th>building_type</th>\n",
       "      <th>level</th>\n",
       "      <th>levels</th>\n",
       "      <th>rooms</th>\n",
       "      <th>area</th>\n",
       "      <th>kitchen_area</th>\n",
       "      <th>object_type</th>\n",
       "    </tr>\n",
       "  </thead>\n",
       "  <tbody>\n",
       "    <tr>\n",
       "      <th>count</th>\n",
       "      <td>5.477006e+06</td>\n",
       "      <td>5.477006e+06</td>\n",
       "      <td>5.477006e+06</td>\n",
       "      <td>5.477006e+06</td>\n",
       "      <td>5.477006e+06</td>\n",
       "      <td>5.477006e+06</td>\n",
       "      <td>5.477006e+06</td>\n",
       "      <td>5.477006e+06</td>\n",
       "      <td>5.477006e+06</td>\n",
       "      <td>5.477006e+06</td>\n",
       "      <td>5.477006e+06</td>\n",
       "    </tr>\n",
       "    <tr>\n",
       "      <th>mean</th>\n",
       "      <td>4.422029e+06</td>\n",
       "      <td>5.403826e+01</td>\n",
       "      <td>5.324433e+01</td>\n",
       "      <td>4.307141e+03</td>\n",
       "      <td>1.948966e+00</td>\n",
       "      <td>6.214530e+00</td>\n",
       "      <td>1.139892e+01</td>\n",
       "      <td>1.726173e+00</td>\n",
       "      <td>5.391825e+01</td>\n",
       "      <td>1.062840e+01</td>\n",
       "      <td>3.945399e+00</td>\n",
       "    </tr>\n",
       "    <tr>\n",
       "      <th>std</th>\n",
       "      <td>2.150752e+07</td>\n",
       "      <td>4.622758e+00</td>\n",
       "      <td>2.074763e+01</td>\n",
       "      <td>3.308050e+03</td>\n",
       "      <td>1.038537e+00</td>\n",
       "      <td>4.957419e+00</td>\n",
       "      <td>6.535734e+00</td>\n",
       "      <td>1.082133e+00</td>\n",
       "      <td>3.335293e+01</td>\n",
       "      <td>9.792380e+00</td>\n",
       "      <td>4.558357e+00</td>\n",
       "    </tr>\n",
       "    <tr>\n",
       "      <th>min</th>\n",
       "      <td>-2.144967e+09</td>\n",
       "      <td>4.145906e+01</td>\n",
       "      <td>1.989020e+01</td>\n",
       "      <td>3.000000e+00</td>\n",
       "      <td>0.000000e+00</td>\n",
       "      <td>1.000000e+00</td>\n",
       "      <td>1.000000e+00</td>\n",
       "      <td>-2.000000e+00</td>\n",
       "      <td>7.000000e-02</td>\n",
       "      <td>1.000000e-02</td>\n",
       "      <td>1.000000e+00</td>\n",
       "    </tr>\n",
       "    <tr>\n",
       "      <th>25%</th>\n",
       "      <td>1.950000e+06</td>\n",
       "      <td>5.337768e+01</td>\n",
       "      <td>3.777790e+01</td>\n",
       "      <td>2.661000e+03</td>\n",
       "      <td>1.000000e+00</td>\n",
       "      <td>2.000000e+00</td>\n",
       "      <td>5.000000e+00</td>\n",
       "      <td>1.000000e+00</td>\n",
       "      <td>3.800000e+01</td>\n",
       "      <td>7.000000e+00</td>\n",
       "      <td>1.000000e+00</td>\n",
       "    </tr>\n",
       "    <tr>\n",
       "      <th>50%</th>\n",
       "      <td>2.990000e+06</td>\n",
       "      <td>5.517139e+01</td>\n",
       "      <td>4.306774e+01</td>\n",
       "      <td>2.922000e+03</td>\n",
       "      <td>2.000000e+00</td>\n",
       "      <td>5.000000e+00</td>\n",
       "      <td>1.000000e+01</td>\n",
       "      <td>2.000000e+00</td>\n",
       "      <td>4.802000e+01</td>\n",
       "      <td>9.700000e+00</td>\n",
       "      <td>1.000000e+00</td>\n",
       "    </tr>\n",
       "    <tr>\n",
       "      <th>75%</th>\n",
       "      <td>4.802000e+06</td>\n",
       "      <td>5.622613e+01</td>\n",
       "      <td>6.564895e+01</td>\n",
       "      <td>6.171000e+03</td>\n",
       "      <td>3.000000e+00</td>\n",
       "      <td>9.000000e+00</td>\n",
       "      <td>1.600000e+01</td>\n",
       "      <td>2.000000e+00</td>\n",
       "      <td>6.313000e+01</td>\n",
       "      <td>1.270000e+01</td>\n",
       "      <td>1.100000e+01</td>\n",
       "    </tr>\n",
       "    <tr>\n",
       "      <th>max</th>\n",
       "      <td>2.147484e+09</td>\n",
       "      <td>7.198040e+01</td>\n",
       "      <td>1.625361e+02</td>\n",
       "      <td>6.188800e+04</td>\n",
       "      <td>5.000000e+00</td>\n",
       "      <td>3.900000e+01</td>\n",
       "      <td>3.900000e+01</td>\n",
       "      <td>1.000000e+01</td>\n",
       "      <td>7.856000e+03</td>\n",
       "      <td>9.999000e+03</td>\n",
       "      <td>1.100000e+01</td>\n",
       "    </tr>\n",
       "  </tbody>\n",
       "</table>\n",
       "</div>"
      ],
      "text/plain": [
       "              price       geo_lat       geo_lon        region  building_type  \\\n",
       "count  5.477006e+06  5.477006e+06  5.477006e+06  5.477006e+06   5.477006e+06   \n",
       "mean   4.422029e+06  5.403826e+01  5.324433e+01  4.307141e+03   1.948966e+00   \n",
       "std    2.150752e+07  4.622758e+00  2.074763e+01  3.308050e+03   1.038537e+00   \n",
       "min   -2.144967e+09  4.145906e+01  1.989020e+01  3.000000e+00   0.000000e+00   \n",
       "25%    1.950000e+06  5.337768e+01  3.777790e+01  2.661000e+03   1.000000e+00   \n",
       "50%    2.990000e+06  5.517139e+01  4.306774e+01  2.922000e+03   2.000000e+00   \n",
       "75%    4.802000e+06  5.622613e+01  6.564895e+01  6.171000e+03   3.000000e+00   \n",
       "max    2.147484e+09  7.198040e+01  1.625361e+02  6.188800e+04   5.000000e+00   \n",
       "\n",
       "              level        levels         rooms          area  kitchen_area  \\\n",
       "count  5.477006e+06  5.477006e+06  5.477006e+06  5.477006e+06  5.477006e+06   \n",
       "mean   6.214530e+00  1.139892e+01  1.726173e+00  5.391825e+01  1.062840e+01   \n",
       "std    4.957419e+00  6.535734e+00  1.082133e+00  3.335293e+01  9.792380e+00   \n",
       "min    1.000000e+00  1.000000e+00 -2.000000e+00  7.000000e-02  1.000000e-02   \n",
       "25%    2.000000e+00  5.000000e+00  1.000000e+00  3.800000e+01  7.000000e+00   \n",
       "50%    5.000000e+00  1.000000e+01  2.000000e+00  4.802000e+01  9.700000e+00   \n",
       "75%    9.000000e+00  1.600000e+01  2.000000e+00  6.313000e+01  1.270000e+01   \n",
       "max    3.900000e+01  3.900000e+01  1.000000e+01  7.856000e+03  9.999000e+03   \n",
       "\n",
       "        object_type  \n",
       "count  5.477006e+06  \n",
       "mean   3.945399e+00  \n",
       "std    4.558357e+00  \n",
       "min    1.000000e+00  \n",
       "25%    1.000000e+00  \n",
       "50%    1.000000e+00  \n",
       "75%    1.100000e+01  \n",
       "max    1.100000e+01  "
      ]
     },
     "execution_count": 4,
     "metadata": {},
     "output_type": "execute_result"
    }
   ],
   "source": [
    "df.describe()"
   ]
  },
  {
   "cell_type": "code",
   "execution_count": null,
   "id": "ffb33566",
   "metadata": {},
   "outputs": [],
   "source": []
  },
  {
   "cell_type": "markdown",
   "id": "2fa6ca91",
   "metadata": {},
   "source": [
    "# 2. Data Cleaning"
   ]
  },
  {
   "cell_type": "markdown",
   "id": "3ecc7585",
   "metadata": {},
   "source": [
    "## 2.1 Missing Value"
   ]
  },
  {
   "cell_type": "code",
   "execution_count": 5,
   "id": "f4898932",
   "metadata": {},
   "outputs": [
    {
     "data": {
      "text/plain": [
       "price            0\n",
       "date             0\n",
       "time             0\n",
       "geo_lat          0\n",
       "geo_lon          0\n",
       "region           0\n",
       "building_type    0\n",
       "level            0\n",
       "levels           0\n",
       "rooms            0\n",
       "area             0\n",
       "kitchen_area     0\n",
       "object_type      0\n",
       "dtype: int64"
      ]
     },
     "execution_count": 5,
     "metadata": {},
     "output_type": "execute_result"
    }
   ],
   "source": [
    "df.isnull().sum()"
   ]
  },
  {
   "cell_type": "code",
   "execution_count": null,
   "id": "ae9dea25",
   "metadata": {},
   "outputs": [],
   "source": []
  },
  {
   "cell_type": "markdown",
   "id": "001b55d6",
   "metadata": {},
   "source": [
    "## 2.2. Price Values Checking"
   ]
  },
  {
   "cell_type": "code",
   "execution_count": 6,
   "id": "2f30b934",
   "metadata": {},
   "outputs": [
    {
     "data": {
      "text/html": [
       "<div>\n",
       "<style scoped>\n",
       "    .dataframe tbody tr th:only-of-type {\n",
       "        vertical-align: middle;\n",
       "    }\n",
       "\n",
       "    .dataframe tbody tr th {\n",
       "        vertical-align: top;\n",
       "    }\n",
       "\n",
       "    .dataframe thead th {\n",
       "        text-align: right;\n",
       "    }\n",
       "</style>\n",
       "<table border=\"1\" class=\"dataframe\">\n",
       "  <thead>\n",
       "    <tr style=\"text-align: right;\">\n",
       "      <th></th>\n",
       "      <th>price</th>\n",
       "      <th>date</th>\n",
       "      <th>time</th>\n",
       "      <th>geo_lat</th>\n",
       "      <th>geo_lon</th>\n",
       "      <th>region</th>\n",
       "      <th>building_type</th>\n",
       "      <th>level</th>\n",
       "      <th>levels</th>\n",
       "      <th>rooms</th>\n",
       "      <th>area</th>\n",
       "      <th>kitchen_area</th>\n",
       "      <th>object_type</th>\n",
       "    </tr>\n",
       "  </thead>\n",
       "  <tbody>\n",
       "    <tr>\n",
       "      <th>43821</th>\n",
       "      <td>-1633967296</td>\n",
       "      <td>2018-09-14</td>\n",
       "      <td>10:48:27</td>\n",
       "      <td>57.983337</td>\n",
       "      <td>56.216044</td>\n",
       "      <td>5520</td>\n",
       "      <td>1</td>\n",
       "      <td>13</td>\n",
       "      <td>22</td>\n",
       "      <td>1</td>\n",
       "      <td>38.92</td>\n",
       "      <td>17.26</td>\n",
       "      <td>11</td>\n",
       "    </tr>\n",
       "    <tr>\n",
       "      <th>43822</th>\n",
       "      <td>-1633967296</td>\n",
       "      <td>2018-09-14</td>\n",
       "      <td>10:48:27</td>\n",
       "      <td>57.983337</td>\n",
       "      <td>56.216044</td>\n",
       "      <td>5520</td>\n",
       "      <td>1</td>\n",
       "      <td>14</td>\n",
       "      <td>22</td>\n",
       "      <td>1</td>\n",
       "      <td>38.92</td>\n",
       "      <td>17.26</td>\n",
       "      <td>11</td>\n",
       "    </tr>\n",
       "    <tr>\n",
       "      <th>179212</th>\n",
       "      <td>0</td>\n",
       "      <td>2018-10-01</td>\n",
       "      <td>08:59:36</td>\n",
       "      <td>53.327778</td>\n",
       "      <td>83.668570</td>\n",
       "      <td>6817</td>\n",
       "      <td>3</td>\n",
       "      <td>5</td>\n",
       "      <td>10</td>\n",
       "      <td>3</td>\n",
       "      <td>104.00</td>\n",
       "      <td>15.00</td>\n",
       "      <td>1</td>\n",
       "    </tr>\n",
       "    <tr>\n",
       "      <th>199895</th>\n",
       "      <td>-429242296</td>\n",
       "      <td>2018-10-04</td>\n",
       "      <td>09:21:35</td>\n",
       "      <td>55.038734</td>\n",
       "      <td>82.985600</td>\n",
       "      <td>9654</td>\n",
       "      <td>2</td>\n",
       "      <td>5</td>\n",
       "      <td>25</td>\n",
       "      <td>2</td>\n",
       "      <td>57.27</td>\n",
       "      <td>9.31</td>\n",
       "      <td>11</td>\n",
       "    </tr>\n",
       "    <tr>\n",
       "      <th>208483</th>\n",
       "      <td>-1744967296</td>\n",
       "      <td>2018-10-06</td>\n",
       "      <td>05:06:46</td>\n",
       "      <td>54.991330</td>\n",
       "      <td>82.882575</td>\n",
       "      <td>9654</td>\n",
       "      <td>3</td>\n",
       "      <td>4</td>\n",
       "      <td>5</td>\n",
       "      <td>2</td>\n",
       "      <td>45.00</td>\n",
       "      <td>6.00</td>\n",
       "      <td>1</td>\n",
       "    </tr>\n",
       "    <tr>\n",
       "      <th>...</th>\n",
       "      <td>...</td>\n",
       "      <td>...</td>\n",
       "      <td>...</td>\n",
       "      <td>...</td>\n",
       "      <td>...</td>\n",
       "      <td>...</td>\n",
       "      <td>...</td>\n",
       "      <td>...</td>\n",
       "      <td>...</td>\n",
       "      <td>...</td>\n",
       "      <td>...</td>\n",
       "      <td>...</td>\n",
       "      <td>...</td>\n",
       "    </tr>\n",
       "    <tr>\n",
       "      <th>5382188</th>\n",
       "      <td>-2041757296</td>\n",
       "      <td>2021-04-23</td>\n",
       "      <td>07:00:09</td>\n",
       "      <td>57.636265</td>\n",
       "      <td>39.973962</td>\n",
       "      <td>2604</td>\n",
       "      <td>3</td>\n",
       "      <td>2</td>\n",
       "      <td>4</td>\n",
       "      <td>1</td>\n",
       "      <td>41.08</td>\n",
       "      <td>9.31</td>\n",
       "      <td>11</td>\n",
       "    </tr>\n",
       "    <tr>\n",
       "      <th>5382595</th>\n",
       "      <td>-1794967296</td>\n",
       "      <td>2021-04-23</td>\n",
       "      <td>07:37:00</td>\n",
       "      <td>56.115619</td>\n",
       "      <td>38.416266</td>\n",
       "      <td>81</td>\n",
       "      <td>1</td>\n",
       "      <td>4</td>\n",
       "      <td>5</td>\n",
       "      <td>2</td>\n",
       "      <td>56.00</td>\n",
       "      <td>9.00</td>\n",
       "      <td>1</td>\n",
       "    </tr>\n",
       "    <tr>\n",
       "      <th>5398253</th>\n",
       "      <td>-1494967296</td>\n",
       "      <td>2021-04-26</td>\n",
       "      <td>05:04:58</td>\n",
       "      <td>45.111303</td>\n",
       "      <td>36.881901</td>\n",
       "      <td>2843</td>\n",
       "      <td>3</td>\n",
       "      <td>3</td>\n",
       "      <td>3</td>\n",
       "      <td>1</td>\n",
       "      <td>45.00</td>\n",
       "      <td>17.00</td>\n",
       "      <td>11</td>\n",
       "    </tr>\n",
       "    <tr>\n",
       "      <th>5419426</th>\n",
       "      <td>-2094967296</td>\n",
       "      <td>2021-04-27</td>\n",
       "      <td>09:05:31</td>\n",
       "      <td>58.223183</td>\n",
       "      <td>68.305352</td>\n",
       "      <td>3991</td>\n",
       "      <td>3</td>\n",
       "      <td>14</td>\n",
       "      <td>19</td>\n",
       "      <td>1</td>\n",
       "      <td>30.00</td>\n",
       "      <td>8.00</td>\n",
       "      <td>1</td>\n",
       "    </tr>\n",
       "    <tr>\n",
       "      <th>5447885</th>\n",
       "      <td>-344967296</td>\n",
       "      <td>2021-04-30</td>\n",
       "      <td>05:42:35</td>\n",
       "      <td>53.746017</td>\n",
       "      <td>91.427071</td>\n",
       "      <td>2359</td>\n",
       "      <td>1</td>\n",
       "      <td>7</td>\n",
       "      <td>9</td>\n",
       "      <td>4</td>\n",
       "      <td>67.20</td>\n",
       "      <td>9.20</td>\n",
       "      <td>1</td>\n",
       "    </tr>\n",
       "  </tbody>\n",
       "</table>\n",
       "<p>388 rows × 13 columns</p>\n",
       "</div>"
      ],
      "text/plain": [
       "              price        date      time    geo_lat    geo_lon  region  \\\n",
       "43821   -1633967296  2018-09-14  10:48:27  57.983337  56.216044    5520   \n",
       "43822   -1633967296  2018-09-14  10:48:27  57.983337  56.216044    5520   \n",
       "179212            0  2018-10-01  08:59:36  53.327778  83.668570    6817   \n",
       "199895   -429242296  2018-10-04  09:21:35  55.038734  82.985600    9654   \n",
       "208483  -1744967296  2018-10-06  05:06:46  54.991330  82.882575    9654   \n",
       "...             ...         ...       ...        ...        ...     ...   \n",
       "5382188 -2041757296  2021-04-23  07:00:09  57.636265  39.973962    2604   \n",
       "5382595 -1794967296  2021-04-23  07:37:00  56.115619  38.416266      81   \n",
       "5398253 -1494967296  2021-04-26  05:04:58  45.111303  36.881901    2843   \n",
       "5419426 -2094967296  2021-04-27  09:05:31  58.223183  68.305352    3991   \n",
       "5447885  -344967296  2021-04-30  05:42:35  53.746017  91.427071    2359   \n",
       "\n",
       "         building_type  level  levels  rooms    area  kitchen_area  \\\n",
       "43821                1     13      22      1   38.92         17.26   \n",
       "43822                1     14      22      1   38.92         17.26   \n",
       "179212               3      5      10      3  104.00         15.00   \n",
       "199895               2      5      25      2   57.27          9.31   \n",
       "208483               3      4       5      2   45.00          6.00   \n",
       "...                ...    ...     ...    ...     ...           ...   \n",
       "5382188              3      2       4      1   41.08          9.31   \n",
       "5382595              1      4       5      2   56.00          9.00   \n",
       "5398253              3      3       3      1   45.00         17.00   \n",
       "5419426              3     14      19      1   30.00          8.00   \n",
       "5447885              1      7       9      4   67.20          9.20   \n",
       "\n",
       "         object_type  \n",
       "43821             11  \n",
       "43822             11  \n",
       "179212             1  \n",
       "199895            11  \n",
       "208483             1  \n",
       "...              ...  \n",
       "5382188           11  \n",
       "5382595            1  \n",
       "5398253           11  \n",
       "5419426            1  \n",
       "5447885            1  \n",
       "\n",
       "[388 rows x 13 columns]"
      ]
     },
     "execution_count": 6,
     "metadata": {},
     "output_type": "execute_result"
    }
   ],
   "source": [
    "df[df['price']<=0]"
   ]
  },
  {
   "cell_type": "markdown",
   "id": "3930d4b7",
   "metadata": {},
   "source": [
    "### Apparently we have 388 rows data where our price values are non-positive. It doesn't make sense. So i will drop it anyway."
   ]
  },
  {
   "cell_type": "code",
   "execution_count": 7,
   "id": "2e6f7170",
   "metadata": {},
   "outputs": [
    {
     "data": {
      "text/plain": [
       "(5476618, 13)"
      ]
     },
     "execution_count": 7,
     "metadata": {},
     "output_type": "execute_result"
    }
   ],
   "source": [
    "df = df[df['price']>0]\n",
    "df.shape"
   ]
  },
  {
   "cell_type": "markdown",
   "id": "ae7554af",
   "metadata": {},
   "source": [
    "## 2.3 Re-encoding our dataset"
   ]
  },
  {
   "cell_type": "markdown",
   "id": "6a2493aa",
   "metadata": {},
   "source": [
    "### Our dataset consists categorical values that have been encoded. I want to make some analysis and to do so i need to re-encode or invers encode our dataset so we can easily make further analysis and visualization."
   ]
  },
  {
   "cell_type": "code",
   "execution_count": 8,
   "id": "2b8e5f8d",
   "metadata": {},
   "outputs": [],
   "source": [
    "df_real = df.copy()"
   ]
  },
  {
   "cell_type": "code",
   "execution_count": 9,
   "id": "b0af7652",
   "metadata": {},
   "outputs": [],
   "source": [
    "df_real['building_type']= df_real['building_type'].replace([0,1,2,3,4,5],['Other','Panel','Monolithic','Brick','Blocky','Wooden'])\n",
    "df_real['object_type']= df_real['object_type'].replace([1,11],['Secondary Real Estate','New Building'])\n"
   ]
  },
  {
   "cell_type": "code",
   "execution_count": 10,
   "id": "e4dfd2c7",
   "metadata": {},
   "outputs": [
    {
     "data": {
      "text/html": [
       "<div>\n",
       "<style scoped>\n",
       "    .dataframe tbody tr th:only-of-type {\n",
       "        vertical-align: middle;\n",
       "    }\n",
       "\n",
       "    .dataframe tbody tr th {\n",
       "        vertical-align: top;\n",
       "    }\n",
       "\n",
       "    .dataframe thead th {\n",
       "        text-align: right;\n",
       "    }\n",
       "</style>\n",
       "<table border=\"1\" class=\"dataframe\">\n",
       "  <thead>\n",
       "    <tr style=\"text-align: right;\">\n",
       "      <th></th>\n",
       "      <th>price</th>\n",
       "      <th>date</th>\n",
       "      <th>time</th>\n",
       "      <th>geo_lat</th>\n",
       "      <th>geo_lon</th>\n",
       "      <th>region</th>\n",
       "      <th>building_type</th>\n",
       "      <th>level</th>\n",
       "      <th>levels</th>\n",
       "      <th>rooms</th>\n",
       "      <th>area</th>\n",
       "      <th>kitchen_area</th>\n",
       "      <th>object_type</th>\n",
       "    </tr>\n",
       "  </thead>\n",
       "  <tbody>\n",
       "    <tr>\n",
       "      <th>0</th>\n",
       "      <td>6050000</td>\n",
       "      <td>2018-02-19</td>\n",
       "      <td>20:00:21</td>\n",
       "      <td>59.805808</td>\n",
       "      <td>30.376141</td>\n",
       "      <td>2661</td>\n",
       "      <td>Panel</td>\n",
       "      <td>8</td>\n",
       "      <td>10</td>\n",
       "      <td>3</td>\n",
       "      <td>82.6</td>\n",
       "      <td>10.8</td>\n",
       "      <td>Secondary Real Estate</td>\n",
       "    </tr>\n",
       "    <tr>\n",
       "      <th>1</th>\n",
       "      <td>8650000</td>\n",
       "      <td>2018-02-27</td>\n",
       "      <td>12:04:54</td>\n",
       "      <td>55.683807</td>\n",
       "      <td>37.297405</td>\n",
       "      <td>81</td>\n",
       "      <td>Brick</td>\n",
       "      <td>5</td>\n",
       "      <td>24</td>\n",
       "      <td>2</td>\n",
       "      <td>69.1</td>\n",
       "      <td>12.0</td>\n",
       "      <td>Secondary Real Estate</td>\n",
       "    </tr>\n",
       "    <tr>\n",
       "      <th>2</th>\n",
       "      <td>4000000</td>\n",
       "      <td>2018-02-28</td>\n",
       "      <td>15:44:00</td>\n",
       "      <td>56.295250</td>\n",
       "      <td>44.061637</td>\n",
       "      <td>2871</td>\n",
       "      <td>Panel</td>\n",
       "      <td>5</td>\n",
       "      <td>9</td>\n",
       "      <td>3</td>\n",
       "      <td>66.0</td>\n",
       "      <td>10.0</td>\n",
       "      <td>Secondary Real Estate</td>\n",
       "    </tr>\n",
       "    <tr>\n",
       "      <th>3</th>\n",
       "      <td>1850000</td>\n",
       "      <td>2018-03-01</td>\n",
       "      <td>11:24:52</td>\n",
       "      <td>44.996132</td>\n",
       "      <td>39.074783</td>\n",
       "      <td>2843</td>\n",
       "      <td>Blocky</td>\n",
       "      <td>12</td>\n",
       "      <td>16</td>\n",
       "      <td>2</td>\n",
       "      <td>38.0</td>\n",
       "      <td>5.0</td>\n",
       "      <td>New Building</td>\n",
       "    </tr>\n",
       "    <tr>\n",
       "      <th>4</th>\n",
       "      <td>5450000</td>\n",
       "      <td>2018-03-01</td>\n",
       "      <td>17:42:43</td>\n",
       "      <td>55.918767</td>\n",
       "      <td>37.984642</td>\n",
       "      <td>81</td>\n",
       "      <td>Brick</td>\n",
       "      <td>13</td>\n",
       "      <td>14</td>\n",
       "      <td>2</td>\n",
       "      <td>60.0</td>\n",
       "      <td>10.0</td>\n",
       "      <td>Secondary Real Estate</td>\n",
       "    </tr>\n",
       "  </tbody>\n",
       "</table>\n",
       "</div>"
      ],
      "text/plain": [
       "     price        date      time    geo_lat    geo_lon  region building_type  \\\n",
       "0  6050000  2018-02-19  20:00:21  59.805808  30.376141    2661         Panel   \n",
       "1  8650000  2018-02-27  12:04:54  55.683807  37.297405      81         Brick   \n",
       "2  4000000  2018-02-28  15:44:00  56.295250  44.061637    2871         Panel   \n",
       "3  1850000  2018-03-01  11:24:52  44.996132  39.074783    2843        Blocky   \n",
       "4  5450000  2018-03-01  17:42:43  55.918767  37.984642      81         Brick   \n",
       "\n",
       "   level  levels  rooms  area  kitchen_area            object_type  \n",
       "0      8      10      3  82.6          10.8  Secondary Real Estate  \n",
       "1      5      24      2  69.1          12.0  Secondary Real Estate  \n",
       "2      5       9      3  66.0          10.0  Secondary Real Estate  \n",
       "3     12      16      2  38.0           5.0           New Building  \n",
       "4     13      14      2  60.0          10.0  Secondary Real Estate  "
      ]
     },
     "execution_count": 10,
     "metadata": {},
     "output_type": "execute_result"
    }
   ],
   "source": [
    "df_real.head()"
   ]
  },
  {
   "cell_type": "code",
   "execution_count": null,
   "id": "532d2673",
   "metadata": {},
   "outputs": [],
   "source": []
  },
  {
   "cell_type": "markdown",
   "id": "39ec5db0",
   "metadata": {},
   "source": [
    "## 2.4. Converting time and date to datetime data type"
   ]
  },
  {
   "cell_type": "code",
   "execution_count": 11,
   "id": "f418651c",
   "metadata": {},
   "outputs": [],
   "source": [
    "df_real['date']=pd.to_datetime(df_real['date'])\n",
    "df_real['time']=pd.to_datetime(df_real['time'])"
   ]
  },
  {
   "cell_type": "code",
   "execution_count": 12,
   "id": "6804da35",
   "metadata": {},
   "outputs": [
    {
     "name": "stdout",
     "output_type": "stream",
     "text": [
      "<class 'pandas.core.frame.DataFrame'>\n",
      "Int64Index: 5476618 entries, 0 to 5477005\n",
      "Data columns (total 13 columns):\n",
      " #   Column         Dtype         \n",
      "---  ------         -----         \n",
      " 0   price          int64         \n",
      " 1   date           datetime64[ns]\n",
      " 2   time           datetime64[ns]\n",
      " 3   geo_lat        float64       \n",
      " 4   geo_lon        float64       \n",
      " 5   region         int64         \n",
      " 6   building_type  object        \n",
      " 7   level          int64         \n",
      " 8   levels         int64         \n",
      " 9   rooms          int64         \n",
      " 10  area           float64       \n",
      " 11  kitchen_area   float64       \n",
      " 12  object_type    object        \n",
      "dtypes: datetime64[ns](2), float64(4), int64(5), object(2)\n",
      "memory usage: 585.0+ MB\n"
     ]
    }
   ],
   "source": [
    "df_real.info()"
   ]
  },
  {
   "cell_type": "markdown",
   "id": "7c043c9b",
   "metadata": {},
   "source": [
    "### I will divide our price value by 1 million so we can visualize it easier. It is not necessary. I do it because it will help me to visualize the price when i do some explorations."
   ]
  },
  {
   "cell_type": "code",
   "execution_count": 13,
   "id": "8ab0febe",
   "metadata": {},
   "outputs": [],
   "source": [
    "df_real['price']=df_real['price']/1000000\n",
    "df_real = df_real.rename(columns={'price':'price (Million)'})\n"
   ]
  },
  {
   "cell_type": "code",
   "execution_count": 14,
   "id": "52576d57",
   "metadata": {},
   "outputs": [
    {
     "data": {
      "text/html": [
       "<div>\n",
       "<style scoped>\n",
       "    .dataframe tbody tr th:only-of-type {\n",
       "        vertical-align: middle;\n",
       "    }\n",
       "\n",
       "    .dataframe tbody tr th {\n",
       "        vertical-align: top;\n",
       "    }\n",
       "\n",
       "    .dataframe thead th {\n",
       "        text-align: right;\n",
       "    }\n",
       "</style>\n",
       "<table border=\"1\" class=\"dataframe\">\n",
       "  <thead>\n",
       "    <tr style=\"text-align: right;\">\n",
       "      <th></th>\n",
       "      <th>price (Million)</th>\n",
       "      <th>date</th>\n",
       "      <th>time</th>\n",
       "      <th>geo_lat</th>\n",
       "      <th>geo_lon</th>\n",
       "      <th>region</th>\n",
       "      <th>building_type</th>\n",
       "      <th>level</th>\n",
       "      <th>levels</th>\n",
       "      <th>rooms</th>\n",
       "      <th>area</th>\n",
       "      <th>kitchen_area</th>\n",
       "      <th>object_type</th>\n",
       "    </tr>\n",
       "  </thead>\n",
       "  <tbody>\n",
       "    <tr>\n",
       "      <th>0</th>\n",
       "      <td>6.05</td>\n",
       "      <td>2018-02-19</td>\n",
       "      <td>2022-03-21 20:00:21</td>\n",
       "      <td>59.805808</td>\n",
       "      <td>30.376141</td>\n",
       "      <td>2661</td>\n",
       "      <td>Panel</td>\n",
       "      <td>8</td>\n",
       "      <td>10</td>\n",
       "      <td>3</td>\n",
       "      <td>82.6</td>\n",
       "      <td>10.8</td>\n",
       "      <td>Secondary Real Estate</td>\n",
       "    </tr>\n",
       "    <tr>\n",
       "      <th>1</th>\n",
       "      <td>8.65</td>\n",
       "      <td>2018-02-27</td>\n",
       "      <td>2022-03-21 12:04:54</td>\n",
       "      <td>55.683807</td>\n",
       "      <td>37.297405</td>\n",
       "      <td>81</td>\n",
       "      <td>Brick</td>\n",
       "      <td>5</td>\n",
       "      <td>24</td>\n",
       "      <td>2</td>\n",
       "      <td>69.1</td>\n",
       "      <td>12.0</td>\n",
       "      <td>Secondary Real Estate</td>\n",
       "    </tr>\n",
       "    <tr>\n",
       "      <th>2</th>\n",
       "      <td>4.00</td>\n",
       "      <td>2018-02-28</td>\n",
       "      <td>2022-03-21 15:44:00</td>\n",
       "      <td>56.295250</td>\n",
       "      <td>44.061637</td>\n",
       "      <td>2871</td>\n",
       "      <td>Panel</td>\n",
       "      <td>5</td>\n",
       "      <td>9</td>\n",
       "      <td>3</td>\n",
       "      <td>66.0</td>\n",
       "      <td>10.0</td>\n",
       "      <td>Secondary Real Estate</td>\n",
       "    </tr>\n",
       "    <tr>\n",
       "      <th>3</th>\n",
       "      <td>1.85</td>\n",
       "      <td>2018-03-01</td>\n",
       "      <td>2022-03-21 11:24:52</td>\n",
       "      <td>44.996132</td>\n",
       "      <td>39.074783</td>\n",
       "      <td>2843</td>\n",
       "      <td>Blocky</td>\n",
       "      <td>12</td>\n",
       "      <td>16</td>\n",
       "      <td>2</td>\n",
       "      <td>38.0</td>\n",
       "      <td>5.0</td>\n",
       "      <td>New Building</td>\n",
       "    </tr>\n",
       "    <tr>\n",
       "      <th>4</th>\n",
       "      <td>5.45</td>\n",
       "      <td>2018-03-01</td>\n",
       "      <td>2022-03-21 17:42:43</td>\n",
       "      <td>55.918767</td>\n",
       "      <td>37.984642</td>\n",
       "      <td>81</td>\n",
       "      <td>Brick</td>\n",
       "      <td>13</td>\n",
       "      <td>14</td>\n",
       "      <td>2</td>\n",
       "      <td>60.0</td>\n",
       "      <td>10.0</td>\n",
       "      <td>Secondary Real Estate</td>\n",
       "    </tr>\n",
       "  </tbody>\n",
       "</table>\n",
       "</div>"
      ],
      "text/plain": [
       "   price (Million)       date                time    geo_lat    geo_lon  \\\n",
       "0             6.05 2018-02-19 2022-03-21 20:00:21  59.805808  30.376141   \n",
       "1             8.65 2018-02-27 2022-03-21 12:04:54  55.683807  37.297405   \n",
       "2             4.00 2018-02-28 2022-03-21 15:44:00  56.295250  44.061637   \n",
       "3             1.85 2018-03-01 2022-03-21 11:24:52  44.996132  39.074783   \n",
       "4             5.45 2018-03-01 2022-03-21 17:42:43  55.918767  37.984642   \n",
       "\n",
       "   region building_type  level  levels  rooms  area  kitchen_area  \\\n",
       "0    2661         Panel      8      10      3  82.6          10.8   \n",
       "1      81         Brick      5      24      2  69.1          12.0   \n",
       "2    2871         Panel      5       9      3  66.0          10.0   \n",
       "3    2843        Blocky     12      16      2  38.0           5.0   \n",
       "4      81         Brick     13      14      2  60.0          10.0   \n",
       "\n",
       "             object_type  \n",
       "0  Secondary Real Estate  \n",
       "1  Secondary Real Estate  \n",
       "2  Secondary Real Estate  \n",
       "3           New Building  \n",
       "4  Secondary Real Estate  "
      ]
     },
     "execution_count": 14,
     "metadata": {},
     "output_type": "execute_result"
    }
   ],
   "source": [
    "df_real.head()"
   ]
  },
  {
   "cell_type": "code",
   "execution_count": null,
   "id": "e5db0545",
   "metadata": {},
   "outputs": [],
   "source": []
  },
  {
   "cell_type": "markdown",
   "id": "e7a178a6",
   "metadata": {},
   "source": [
    "## 2.5. Outlier Removing"
   ]
  },
  {
   "cell_type": "markdown",
   "id": "9040946c",
   "metadata": {},
   "source": [
    "### I usually put outlier removing process in feature preprocessing section before modelling. But this time i will do this process before we continue exploring our data. We have large dataset, it should be our concern before we do exploration and modelling."
   ]
  },
  {
   "cell_type": "markdown",
   "id": "9eb1d29d",
   "metadata": {},
   "source": [
    "### We will check our price data"
   ]
  },
  {
   "cell_type": "code",
   "execution_count": 15,
   "id": "2cd8170c",
   "metadata": {
    "scrolled": true
   },
   "outputs": [
    {
     "data": {
      "text/html": [
       "<div>\n",
       "<style scoped>\n",
       "    .dataframe tbody tr th:only-of-type {\n",
       "        vertical-align: middle;\n",
       "    }\n",
       "\n",
       "    .dataframe tbody tr th {\n",
       "        vertical-align: top;\n",
       "    }\n",
       "\n",
       "    .dataframe thead th {\n",
       "        text-align: right;\n",
       "    }\n",
       "</style>\n",
       "<table border=\"1\" class=\"dataframe\">\n",
       "  <thead>\n",
       "    <tr style=\"text-align: right;\">\n",
       "      <th></th>\n",
       "      <th>price (Million)</th>\n",
       "      <th>date</th>\n",
       "      <th>time</th>\n",
       "      <th>geo_lat</th>\n",
       "      <th>geo_lon</th>\n",
       "      <th>region</th>\n",
       "      <th>building_type</th>\n",
       "      <th>level</th>\n",
       "      <th>levels</th>\n",
       "      <th>rooms</th>\n",
       "      <th>area</th>\n",
       "      <th>kitchen_area</th>\n",
       "      <th>object_type</th>\n",
       "    </tr>\n",
       "  </thead>\n",
       "  <tbody>\n",
       "    <tr>\n",
       "      <th>900</th>\n",
       "      <td>1451.892000</td>\n",
       "      <td>2018-09-08</td>\n",
       "      <td>2022-03-21 01:54:34</td>\n",
       "      <td>55.013994</td>\n",
       "      <td>83.003319</td>\n",
       "      <td>9654</td>\n",
       "      <td>Panel</td>\n",
       "      <td>9</td>\n",
       "      <td>10</td>\n",
       "      <td>3</td>\n",
       "      <td>59.02</td>\n",
       "      <td>45.50</td>\n",
       "      <td>New Building</td>\n",
       "    </tr>\n",
       "    <tr>\n",
       "      <th>908</th>\n",
       "      <td>1003.425000</td>\n",
       "      <td>2018-09-08</td>\n",
       "      <td>2022-03-21 01:54:43</td>\n",
       "      <td>55.013994</td>\n",
       "      <td>83.003319</td>\n",
       "      <td>9654</td>\n",
       "      <td>Panel</td>\n",
       "      <td>9</td>\n",
       "      <td>10</td>\n",
       "      <td>1</td>\n",
       "      <td>39.35</td>\n",
       "      <td>4.39</td>\n",
       "      <td>New Building</td>\n",
       "    </tr>\n",
       "    <tr>\n",
       "      <th>5215</th>\n",
       "      <td>1003.425000</td>\n",
       "      <td>2018-09-09</td>\n",
       "      <td>2022-03-21 04:00:07</td>\n",
       "      <td>55.013994</td>\n",
       "      <td>83.003319</td>\n",
       "      <td>9654</td>\n",
       "      <td>Panel</td>\n",
       "      <td>9</td>\n",
       "      <td>10</td>\n",
       "      <td>1</td>\n",
       "      <td>39.35</td>\n",
       "      <td>4.39</td>\n",
       "      <td>New Building</td>\n",
       "    </tr>\n",
       "    <tr>\n",
       "      <th>5224</th>\n",
       "      <td>1451.892000</td>\n",
       "      <td>2018-09-09</td>\n",
       "      <td>2022-03-21 04:00:16</td>\n",
       "      <td>55.013994</td>\n",
       "      <td>83.003319</td>\n",
       "      <td>9654</td>\n",
       "      <td>Panel</td>\n",
       "      <td>9</td>\n",
       "      <td>10</td>\n",
       "      <td>3</td>\n",
       "      <td>59.02</td>\n",
       "      <td>45.50</td>\n",
       "      <td>New Building</td>\n",
       "    </tr>\n",
       "    <tr>\n",
       "      <th>9890</th>\n",
       "      <td>1451.892000</td>\n",
       "      <td>2018-09-10</td>\n",
       "      <td>2022-03-21 04:35:26</td>\n",
       "      <td>55.013994</td>\n",
       "      <td>83.003319</td>\n",
       "      <td>9654</td>\n",
       "      <td>Panel</td>\n",
       "      <td>9</td>\n",
       "      <td>10</td>\n",
       "      <td>3</td>\n",
       "      <td>59.02</td>\n",
       "      <td>45.50</td>\n",
       "      <td>New Building</td>\n",
       "    </tr>\n",
       "    <tr>\n",
       "      <th>...</th>\n",
       "      <td>...</td>\n",
       "      <td>...</td>\n",
       "      <td>...</td>\n",
       "      <td>...</td>\n",
       "      <td>...</td>\n",
       "      <td>...</td>\n",
       "      <td>...</td>\n",
       "      <td>...</td>\n",
       "      <td>...</td>\n",
       "      <td>...</td>\n",
       "      <td>...</td>\n",
       "      <td>...</td>\n",
       "      <td>...</td>\n",
       "    </tr>\n",
       "    <tr>\n",
       "      <th>5131302</th>\n",
       "      <td>1500.000000</td>\n",
       "      <td>2021-03-11</td>\n",
       "      <td>2022-03-21 09:49:14</td>\n",
       "      <td>56.121198</td>\n",
       "      <td>47.180265</td>\n",
       "      <td>3019</td>\n",
       "      <td>Brick</td>\n",
       "      <td>8</td>\n",
       "      <td>9</td>\n",
       "      <td>1</td>\n",
       "      <td>31.00</td>\n",
       "      <td>5.60</td>\n",
       "      <td>Secondary Real Estate</td>\n",
       "    </tr>\n",
       "    <tr>\n",
       "      <th>5217895</th>\n",
       "      <td>1096.745000</td>\n",
       "      <td>2021-03-25</td>\n",
       "      <td>2022-03-21 14:25:21</td>\n",
       "      <td>55.758177</td>\n",
       "      <td>37.592653</td>\n",
       "      <td>3</td>\n",
       "      <td>Brick</td>\n",
       "      <td>2</td>\n",
       "      <td>7</td>\n",
       "      <td>5</td>\n",
       "      <td>420.00</td>\n",
       "      <td>52.00</td>\n",
       "      <td>Secondary Real Estate</td>\n",
       "    </tr>\n",
       "    <tr>\n",
       "      <th>5232384</th>\n",
       "      <td>1555.032704</td>\n",
       "      <td>2021-03-29</td>\n",
       "      <td>2022-03-21 12:22:05</td>\n",
       "      <td>56.319472</td>\n",
       "      <td>44.054239</td>\n",
       "      <td>2871</td>\n",
       "      <td>Brick</td>\n",
       "      <td>2</td>\n",
       "      <td>9</td>\n",
       "      <td>3</td>\n",
       "      <td>61.50</td>\n",
       "      <td>7.30</td>\n",
       "      <td>Secondary Real Estate</td>\n",
       "    </tr>\n",
       "    <tr>\n",
       "      <th>5389809</th>\n",
       "      <td>1600.000000</td>\n",
       "      <td>2021-04-24</td>\n",
       "      <td>2022-03-21 09:29:19</td>\n",
       "      <td>44.839809</td>\n",
       "      <td>38.494939</td>\n",
       "      <td>2843</td>\n",
       "      <td>Brick</td>\n",
       "      <td>3</td>\n",
       "      <td>3</td>\n",
       "      <td>2</td>\n",
       "      <td>53.00</td>\n",
       "      <td>13.00</td>\n",
       "      <td>Secondary Real Estate</td>\n",
       "    </tr>\n",
       "    <tr>\n",
       "      <th>5436072</th>\n",
       "      <td>1880.032704</td>\n",
       "      <td>2021-04-29</td>\n",
       "      <td>2022-03-21 08:35:59</td>\n",
       "      <td>43.913418</td>\n",
       "      <td>39.320944</td>\n",
       "      <td>2843</td>\n",
       "      <td>Monolithic</td>\n",
       "      <td>2</td>\n",
       "      <td>16</td>\n",
       "      <td>2</td>\n",
       "      <td>48.00</td>\n",
       "      <td>10.00</td>\n",
       "      <td>Secondary Real Estate</td>\n",
       "    </tr>\n",
       "  </tbody>\n",
       "</table>\n",
       "<p>493 rows × 13 columns</p>\n",
       "</div>"
      ],
      "text/plain": [
       "         price (Million)       date                time    geo_lat    geo_lon  \\\n",
       "900          1451.892000 2018-09-08 2022-03-21 01:54:34  55.013994  83.003319   \n",
       "908          1003.425000 2018-09-08 2022-03-21 01:54:43  55.013994  83.003319   \n",
       "5215         1003.425000 2018-09-09 2022-03-21 04:00:07  55.013994  83.003319   \n",
       "5224         1451.892000 2018-09-09 2022-03-21 04:00:16  55.013994  83.003319   \n",
       "9890         1451.892000 2018-09-10 2022-03-21 04:35:26  55.013994  83.003319   \n",
       "...                  ...        ...                 ...        ...        ...   \n",
       "5131302      1500.000000 2021-03-11 2022-03-21 09:49:14  56.121198  47.180265   \n",
       "5217895      1096.745000 2021-03-25 2022-03-21 14:25:21  55.758177  37.592653   \n",
       "5232384      1555.032704 2021-03-29 2022-03-21 12:22:05  56.319472  44.054239   \n",
       "5389809      1600.000000 2021-04-24 2022-03-21 09:29:19  44.839809  38.494939   \n",
       "5436072      1880.032704 2021-04-29 2022-03-21 08:35:59  43.913418  39.320944   \n",
       "\n",
       "         region building_type  level  levels  rooms    area  kitchen_area  \\\n",
       "900        9654         Panel      9      10      3   59.02         45.50   \n",
       "908        9654         Panel      9      10      1   39.35          4.39   \n",
       "5215       9654         Panel      9      10      1   39.35          4.39   \n",
       "5224       9654         Panel      9      10      3   59.02         45.50   \n",
       "9890       9654         Panel      9      10      3   59.02         45.50   \n",
       "...         ...           ...    ...     ...    ...     ...           ...   \n",
       "5131302    3019         Brick      8       9      1   31.00          5.60   \n",
       "5217895       3         Brick      2       7      5  420.00         52.00   \n",
       "5232384    2871         Brick      2       9      3   61.50          7.30   \n",
       "5389809    2843         Brick      3       3      2   53.00         13.00   \n",
       "5436072    2843    Monolithic      2      16      2   48.00         10.00   \n",
       "\n",
       "                   object_type  \n",
       "900               New Building  \n",
       "908               New Building  \n",
       "5215              New Building  \n",
       "5224              New Building  \n",
       "9890              New Building  \n",
       "...                        ...  \n",
       "5131302  Secondary Real Estate  \n",
       "5217895  Secondary Real Estate  \n",
       "5232384  Secondary Real Estate  \n",
       "5389809  Secondary Real Estate  \n",
       "5436072  Secondary Real Estate  \n",
       "\n",
       "[493 rows x 13 columns]"
      ]
     },
     "execution_count": 15,
     "metadata": {},
     "output_type": "execute_result"
    }
   ],
   "source": [
    "df_real[df_real['price (Million)']>1000]"
   ]
  },
  {
   "cell_type": "markdown",
   "id": "e9894b76",
   "metadata": {},
   "source": [
    "### Those are are really expensive apartments. They cost more than 1 billion rubels. If we look at the area or rooms or the building type of the apartments in the dataframe above, we will see that they are not so different with other apartements which have lower prices. I will check if they are outliers."
   ]
  },
  {
   "cell_type": "markdown",
   "id": "b1112287",
   "metadata": {},
   "source": [
    "### I will use IQR method."
   ]
  },
  {
   "cell_type": "code",
   "execution_count": 16,
   "id": "9ddebaac",
   "metadata": {},
   "outputs": [],
   "source": [
    "Qp11 = df_real['price (Million)'].quantile(0.25)\n",
    "Qp31 = df_real['price (Million)'].quantile(0.75)\n",
    "IQR1 = Qp31-Qp11"
   ]
  },
  {
   "cell_type": "code",
   "execution_count": 17,
   "id": "d1ad89c4",
   "metadata": {},
   "outputs": [
    {
     "data": {
      "text/html": [
       "<div>\n",
       "<style scoped>\n",
       "    .dataframe tbody tr th:only-of-type {\n",
       "        vertical-align: middle;\n",
       "    }\n",
       "\n",
       "    .dataframe tbody tr th {\n",
       "        vertical-align: top;\n",
       "    }\n",
       "\n",
       "    .dataframe thead th {\n",
       "        text-align: right;\n",
       "    }\n",
       "</style>\n",
       "<table border=\"1\" class=\"dataframe\">\n",
       "  <thead>\n",
       "    <tr style=\"text-align: right;\">\n",
       "      <th></th>\n",
       "      <th>price (Million)</th>\n",
       "      <th>date</th>\n",
       "      <th>time</th>\n",
       "      <th>geo_lat</th>\n",
       "      <th>geo_lon</th>\n",
       "      <th>region</th>\n",
       "      <th>building_type</th>\n",
       "      <th>level</th>\n",
       "      <th>levels</th>\n",
       "      <th>rooms</th>\n",
       "      <th>area</th>\n",
       "      <th>kitchen_area</th>\n",
       "      <th>object_type</th>\n",
       "    </tr>\n",
       "  </thead>\n",
       "  <tbody>\n",
       "    <tr>\n",
       "      <th>29</th>\n",
       "      <td>11.50000</td>\n",
       "      <td>2018-04-03</td>\n",
       "      <td>2022-03-21 17:40:53</td>\n",
       "      <td>55.798921</td>\n",
       "      <td>37.738090</td>\n",
       "      <td>3</td>\n",
       "      <td>Panel</td>\n",
       "      <td>14</td>\n",
       "      <td>16</td>\n",
       "      <td>3</td>\n",
       "      <td>64.9</td>\n",
       "      <td>8.0</td>\n",
       "      <td>Secondary Real Estate</td>\n",
       "    </tr>\n",
       "    <tr>\n",
       "      <th>34</th>\n",
       "      <td>10.20000</td>\n",
       "      <td>2018-04-07</td>\n",
       "      <td>2022-03-21 15:23:20</td>\n",
       "      <td>55.655307</td>\n",
       "      <td>37.614605</td>\n",
       "      <td>3</td>\n",
       "      <td>Monolithic</td>\n",
       "      <td>7</td>\n",
       "      <td>14</td>\n",
       "      <td>2</td>\n",
       "      <td>52.8</td>\n",
       "      <td>10.0</td>\n",
       "      <td>Secondary Real Estate</td>\n",
       "    </tr>\n",
       "    <tr>\n",
       "      <th>44</th>\n",
       "      <td>11.50000</td>\n",
       "      <td>2018-04-18</td>\n",
       "      <td>2022-03-21 21:52:41</td>\n",
       "      <td>55.701330</td>\n",
       "      <td>37.507412</td>\n",
       "      <td>3</td>\n",
       "      <td>Panel</td>\n",
       "      <td>14</td>\n",
       "      <td>17</td>\n",
       "      <td>1</td>\n",
       "      <td>42.0</td>\n",
       "      <td>12.0</td>\n",
       "      <td>Secondary Real Estate</td>\n",
       "    </tr>\n",
       "    <tr>\n",
       "      <th>56</th>\n",
       "      <td>20.90000</td>\n",
       "      <td>2018-05-01</td>\n",
       "      <td>2022-03-21 13:33:09</td>\n",
       "      <td>55.730785</td>\n",
       "      <td>37.631424</td>\n",
       "      <td>3</td>\n",
       "      <td>Brick</td>\n",
       "      <td>6</td>\n",
       "      <td>10</td>\n",
       "      <td>3</td>\n",
       "      <td>80.0</td>\n",
       "      <td>8.2</td>\n",
       "      <td>Secondary Real Estate</td>\n",
       "    </tr>\n",
       "    <tr>\n",
       "      <th>59</th>\n",
       "      <td>12.00000</td>\n",
       "      <td>2018-05-12</td>\n",
       "      <td>2022-03-21 21:08:19</td>\n",
       "      <td>55.627136</td>\n",
       "      <td>37.591736</td>\n",
       "      <td>3</td>\n",
       "      <td>Panel</td>\n",
       "      <td>4</td>\n",
       "      <td>9</td>\n",
       "      <td>3</td>\n",
       "      <td>64.9</td>\n",
       "      <td>7.0</td>\n",
       "      <td>Secondary Real Estate</td>\n",
       "    </tr>\n",
       "    <tr>\n",
       "      <th>...</th>\n",
       "      <td>...</td>\n",
       "      <td>...</td>\n",
       "      <td>...</td>\n",
       "      <td>...</td>\n",
       "      <td>...</td>\n",
       "      <td>...</td>\n",
       "      <td>...</td>\n",
       "      <td>...</td>\n",
       "      <td>...</td>\n",
       "      <td>...</td>\n",
       "      <td>...</td>\n",
       "      <td>...</td>\n",
       "      <td>...</td>\n",
       "    </tr>\n",
       "    <tr>\n",
       "      <th>5476999</th>\n",
       "      <td>12.85000</td>\n",
       "      <td>2021-05-01</td>\n",
       "      <td>2022-03-21 20:13:47</td>\n",
       "      <td>55.701280</td>\n",
       "      <td>37.642654</td>\n",
       "      <td>3</td>\n",
       "      <td>Monolithic</td>\n",
       "      <td>12</td>\n",
       "      <td>24</td>\n",
       "      <td>1</td>\n",
       "      <td>41.0</td>\n",
       "      <td>9.0</td>\n",
       "      <td>Secondary Real Estate</td>\n",
       "    </tr>\n",
       "    <tr>\n",
       "      <th>5477001</th>\n",
       "      <td>19.73976</td>\n",
       "      <td>2021-05-01</td>\n",
       "      <td>2022-03-21 20:13:58</td>\n",
       "      <td>55.804736</td>\n",
       "      <td>37.750898</td>\n",
       "      <td>3</td>\n",
       "      <td>Panel</td>\n",
       "      <td>8</td>\n",
       "      <td>17</td>\n",
       "      <td>4</td>\n",
       "      <td>93.2</td>\n",
       "      <td>13.8</td>\n",
       "      <td>New Building</td>\n",
       "    </tr>\n",
       "    <tr>\n",
       "      <th>5477002</th>\n",
       "      <td>12.50316</td>\n",
       "      <td>2021-05-01</td>\n",
       "      <td>2022-03-21 20:14:01</td>\n",
       "      <td>55.841415</td>\n",
       "      <td>37.489624</td>\n",
       "      <td>3</td>\n",
       "      <td>Monolithic</td>\n",
       "      <td>17</td>\n",
       "      <td>32</td>\n",
       "      <td>2</td>\n",
       "      <td>45.9</td>\n",
       "      <td>6.6</td>\n",
       "      <td>New Building</td>\n",
       "    </tr>\n",
       "    <tr>\n",
       "      <th>5477004</th>\n",
       "      <td>11.83191</td>\n",
       "      <td>2021-05-01</td>\n",
       "      <td>2022-03-21 20:14:12</td>\n",
       "      <td>55.804736</td>\n",
       "      <td>37.750898</td>\n",
       "      <td>3</td>\n",
       "      <td>Panel</td>\n",
       "      <td>8</td>\n",
       "      <td>33</td>\n",
       "      <td>2</td>\n",
       "      <td>52.1</td>\n",
       "      <td>18.9</td>\n",
       "      <td>New Building</td>\n",
       "    </tr>\n",
       "    <tr>\n",
       "      <th>5477005</th>\n",
       "      <td>13.31620</td>\n",
       "      <td>2021-05-01</td>\n",
       "      <td>2022-03-21 20:14:15</td>\n",
       "      <td>55.860240</td>\n",
       "      <td>37.540356</td>\n",
       "      <td>3</td>\n",
       "      <td>Monolithic</td>\n",
       "      <td>10</td>\n",
       "      <td>23</td>\n",
       "      <td>2</td>\n",
       "      <td>55.6</td>\n",
       "      <td>20.8</td>\n",
       "      <td>New Building</td>\n",
       "    </tr>\n",
       "  </tbody>\n",
       "</table>\n",
       "<p>432451 rows × 13 columns</p>\n",
       "</div>"
      ],
      "text/plain": [
       "         price (Million)       date                time    geo_lat    geo_lon  \\\n",
       "29              11.50000 2018-04-03 2022-03-21 17:40:53  55.798921  37.738090   \n",
       "34              10.20000 2018-04-07 2022-03-21 15:23:20  55.655307  37.614605   \n",
       "44              11.50000 2018-04-18 2022-03-21 21:52:41  55.701330  37.507412   \n",
       "56              20.90000 2018-05-01 2022-03-21 13:33:09  55.730785  37.631424   \n",
       "59              12.00000 2018-05-12 2022-03-21 21:08:19  55.627136  37.591736   \n",
       "...                  ...        ...                 ...        ...        ...   \n",
       "5476999         12.85000 2021-05-01 2022-03-21 20:13:47  55.701280  37.642654   \n",
       "5477001         19.73976 2021-05-01 2022-03-21 20:13:58  55.804736  37.750898   \n",
       "5477002         12.50316 2021-05-01 2022-03-21 20:14:01  55.841415  37.489624   \n",
       "5477004         11.83191 2021-05-01 2022-03-21 20:14:12  55.804736  37.750898   \n",
       "5477005         13.31620 2021-05-01 2022-03-21 20:14:15  55.860240  37.540356   \n",
       "\n",
       "         region building_type  level  levels  rooms  area  kitchen_area  \\\n",
       "29            3         Panel     14      16      3  64.9           8.0   \n",
       "34            3    Monolithic      7      14      2  52.8          10.0   \n",
       "44            3         Panel     14      17      1  42.0          12.0   \n",
       "56            3         Brick      6      10      3  80.0           8.2   \n",
       "59            3         Panel      4       9      3  64.9           7.0   \n",
       "...         ...           ...    ...     ...    ...   ...           ...   \n",
       "5476999       3    Monolithic     12      24      1  41.0           9.0   \n",
       "5477001       3         Panel      8      17      4  93.2          13.8   \n",
       "5477002       3    Monolithic     17      32      2  45.9           6.6   \n",
       "5477004       3         Panel      8      33      2  52.1          18.9   \n",
       "5477005       3    Monolithic     10      23      2  55.6          20.8   \n",
       "\n",
       "                   object_type  \n",
       "29       Secondary Real Estate  \n",
       "34       Secondary Real Estate  \n",
       "44       Secondary Real Estate  \n",
       "56       Secondary Real Estate  \n",
       "59       Secondary Real Estate  \n",
       "...                        ...  \n",
       "5476999  Secondary Real Estate  \n",
       "5477001           New Building  \n",
       "5477002           New Building  \n",
       "5477004           New Building  \n",
       "5477005           New Building  \n",
       "\n",
       "[432451 rows x 13 columns]"
      ]
     },
     "execution_count": 17,
     "metadata": {},
     "output_type": "execute_result"
    }
   ],
   "source": [
    "df_real[df_real['price (Million)']>(Qp31+(1.5*IQR1))]"
   ]
  },
  {
   "cell_type": "code",
   "execution_count": 18,
   "id": "e0103c38",
   "metadata": {},
   "outputs": [
    {
     "data": {
      "text/html": [
       "<div>\n",
       "<style scoped>\n",
       "    .dataframe tbody tr th:only-of-type {\n",
       "        vertical-align: middle;\n",
       "    }\n",
       "\n",
       "    .dataframe tbody tr th {\n",
       "        vertical-align: top;\n",
       "    }\n",
       "\n",
       "    .dataframe thead th {\n",
       "        text-align: right;\n",
       "    }\n",
       "</style>\n",
       "<table border=\"1\" class=\"dataframe\">\n",
       "  <thead>\n",
       "    <tr style=\"text-align: right;\">\n",
       "      <th></th>\n",
       "      <th>price (Million)</th>\n",
       "      <th>date</th>\n",
       "      <th>time</th>\n",
       "      <th>geo_lat</th>\n",
       "      <th>geo_lon</th>\n",
       "      <th>region</th>\n",
       "      <th>building_type</th>\n",
       "      <th>level</th>\n",
       "      <th>levels</th>\n",
       "      <th>rooms</th>\n",
       "      <th>area</th>\n",
       "      <th>kitchen_area</th>\n",
       "      <th>object_type</th>\n",
       "    </tr>\n",
       "  </thead>\n",
       "  <tbody>\n",
       "  </tbody>\n",
       "</table>\n",
       "</div>"
      ],
      "text/plain": [
       "Empty DataFrame\n",
       "Columns: [price (Million), date, time, geo_lat, geo_lon, region, building_type, level, levels, rooms, area, kitchen_area, object_type]\n",
       "Index: []"
      ]
     },
     "execution_count": 18,
     "metadata": {},
     "output_type": "execute_result"
    }
   ],
   "source": [
    "df_real[df_real['price (Million)']<(Qp11-(1.5*IQR1))]"
   ]
  },
  {
   "cell_type": "markdown",
   "id": "2d52f6cc",
   "metadata": {},
   "source": [
    "### According to IQR Method, there are more than 400 thousand outliers data. "
   ]
  },
  {
   "cell_type": "markdown",
   "id": "6659869f",
   "metadata": {},
   "source": [
    "### Because we have many outliers data, i think it will be good if i drop only the outliers which have price values more than their average. I will see what is their price average and i will drop the data which have price values more than that average."
   ]
  },
  {
   "cell_type": "code",
   "execution_count": 19,
   "id": "96fbe272",
   "metadata": {},
   "outputs": [
    {
     "data": {
      "text/plain": [
       "19.274886410994544"
      ]
     },
     "execution_count": 19,
     "metadata": {},
     "output_type": "execute_result"
    }
   ],
   "source": [
    "df_outlier = df_real[df_real['price (Million)']>(Qp31+(1.5*IQR1))]\n",
    "df_outlier['price (Million)'].mean()"
   ]
  },
  {
   "cell_type": "code",
   "execution_count": 20,
   "id": "08b88253",
   "metadata": {},
   "outputs": [
    {
     "data": {
      "text/plain": [
       "building_type\n",
       "Blocky          6777\n",
       "Brick         114653\n",
       "Monolithic    211144\n",
       "Other          26738\n",
       "Panel          72759\n",
       "Wooden           380\n",
       "Name: building_type, dtype: int64"
      ]
     },
     "execution_count": 20,
     "metadata": {},
     "output_type": "execute_result"
    }
   ],
   "source": [
    "df_outlier.groupby(['building_type'])['building_type'].agg('count')"
   ]
  },
  {
   "cell_type": "markdown",
   "id": "ac0e5fa6",
   "metadata": {},
   "source": [
    "### The average price value of our outliers is 19.27 million rubels. From our outliers. monolithic building type dominates the outliers. I will drop the data which have price values more than around 19 million rubels."
   ]
  },
  {
   "cell_type": "code",
   "execution_count": 21,
   "id": "28de3bd2",
   "metadata": {},
   "outputs": [
    {
     "data": {
      "text/plain": [
       "(5388250, 13)"
      ]
     },
     "execution_count": 21,
     "metadata": {},
     "output_type": "execute_result"
    }
   ],
   "source": [
    "df_real = df_real[df_real['price (Million)']<19]\n",
    "df_real.shape"
   ]
  },
  {
   "cell_type": "markdown",
   "id": "98f9ad43",
   "metadata": {},
   "source": [
    "### But after checking in the internet, the average cost of apartment of real estate in Russia is about 5000-100000 Poundsterling or more than 500 thousand rubels."
   ]
  },
  {
   "cell_type": "code",
   "execution_count": 22,
   "id": "f9443893",
   "metadata": {},
   "outputs": [
    {
     "data": {
      "text/html": [
       "<div>\n",
       "<style scoped>\n",
       "    .dataframe tbody tr th:only-of-type {\n",
       "        vertical-align: middle;\n",
       "    }\n",
       "\n",
       "    .dataframe tbody tr th {\n",
       "        vertical-align: top;\n",
       "    }\n",
       "\n",
       "    .dataframe thead th {\n",
       "        text-align: right;\n",
       "    }\n",
       "</style>\n",
       "<table border=\"1\" class=\"dataframe\">\n",
       "  <thead>\n",
       "    <tr style=\"text-align: right;\">\n",
       "      <th></th>\n",
       "      <th>price (Million)</th>\n",
       "      <th>date</th>\n",
       "      <th>time</th>\n",
       "      <th>geo_lat</th>\n",
       "      <th>geo_lon</th>\n",
       "      <th>region</th>\n",
       "      <th>building_type</th>\n",
       "      <th>level</th>\n",
       "      <th>levels</th>\n",
       "      <th>rooms</th>\n",
       "      <th>area</th>\n",
       "      <th>kitchen_area</th>\n",
       "      <th>object_type</th>\n",
       "    </tr>\n",
       "  </thead>\n",
       "  <tbody>\n",
       "    <tr>\n",
       "      <th>1514</th>\n",
       "      <td>0.3000</td>\n",
       "      <td>2018-09-08</td>\n",
       "      <td>2022-03-21 04:59:20</td>\n",
       "      <td>52.561070</td>\n",
       "      <td>85.234409</td>\n",
       "      <td>6817</td>\n",
       "      <td>Wooden</td>\n",
       "      <td>1</td>\n",
       "      <td>1</td>\n",
       "      <td>1</td>\n",
       "      <td>26.0</td>\n",
       "      <td>7.0</td>\n",
       "      <td>Secondary Real Estate</td>\n",
       "    </tr>\n",
       "    <tr>\n",
       "      <th>1596</th>\n",
       "      <td>0.4800</td>\n",
       "      <td>2018-09-08</td>\n",
       "      <td>2022-03-21 06:43:33</td>\n",
       "      <td>51.523402</td>\n",
       "      <td>81.224751</td>\n",
       "      <td>6817</td>\n",
       "      <td>Panel</td>\n",
       "      <td>1</td>\n",
       "      <td>5</td>\n",
       "      <td>1</td>\n",
       "      <td>31.0</td>\n",
       "      <td>6.0</td>\n",
       "      <td>Secondary Real Estate</td>\n",
       "    </tr>\n",
       "    <tr>\n",
       "      <th>1916</th>\n",
       "      <td>0.2500</td>\n",
       "      <td>2018-09-08</td>\n",
       "      <td>2022-03-21 09:08:31</td>\n",
       "      <td>48.046666</td>\n",
       "      <td>40.125644</td>\n",
       "      <td>3230</td>\n",
       "      <td>Panel</td>\n",
       "      <td>1</td>\n",
       "      <td>5</td>\n",
       "      <td>1</td>\n",
       "      <td>21.0</td>\n",
       "      <td>6.0</td>\n",
       "      <td>Secondary Real Estate</td>\n",
       "    </tr>\n",
       "    <tr>\n",
       "      <th>2234</th>\n",
       "      <td>0.4550</td>\n",
       "      <td>2018-09-08</td>\n",
       "      <td>2022-03-21 10:21:48</td>\n",
       "      <td>58.270120</td>\n",
       "      <td>59.706687</td>\n",
       "      <td>6171</td>\n",
       "      <td>Brick</td>\n",
       "      <td>1</td>\n",
       "      <td>2</td>\n",
       "      <td>2</td>\n",
       "      <td>49.9</td>\n",
       "      <td>3.0</td>\n",
       "      <td>Secondary Real Estate</td>\n",
       "    </tr>\n",
       "    <tr>\n",
       "      <th>2241</th>\n",
       "      <td>0.4500</td>\n",
       "      <td>2018-09-08</td>\n",
       "      <td>2022-03-21 10:23:33</td>\n",
       "      <td>45.508422</td>\n",
       "      <td>38.083928</td>\n",
       "      <td>2843</td>\n",
       "      <td>Panel</td>\n",
       "      <td>2</td>\n",
       "      <td>2</td>\n",
       "      <td>1</td>\n",
       "      <td>45.0</td>\n",
       "      <td>12.0</td>\n",
       "      <td>Secondary Real Estate</td>\n",
       "    </tr>\n",
       "    <tr>\n",
       "      <th>...</th>\n",
       "      <td>...</td>\n",
       "      <td>...</td>\n",
       "      <td>...</td>\n",
       "      <td>...</td>\n",
       "      <td>...</td>\n",
       "      <td>...</td>\n",
       "      <td>...</td>\n",
       "      <td>...</td>\n",
       "      <td>...</td>\n",
       "      <td>...</td>\n",
       "      <td>...</td>\n",
       "      <td>...</td>\n",
       "      <td>...</td>\n",
       "    </tr>\n",
       "    <tr>\n",
       "      <th>5474635</th>\n",
       "      <td>0.3200</td>\n",
       "      <td>2021-05-01</td>\n",
       "      <td>2022-03-21 16:18:49</td>\n",
       "      <td>55.784830</td>\n",
       "      <td>42.628058</td>\n",
       "      <td>2871</td>\n",
       "      <td>Brick</td>\n",
       "      <td>2</td>\n",
       "      <td>2</td>\n",
       "      <td>2</td>\n",
       "      <td>45.0</td>\n",
       "      <td>6.0</td>\n",
       "      <td>Secondary Real Estate</td>\n",
       "    </tr>\n",
       "    <tr>\n",
       "      <th>5476102</th>\n",
       "      <td>0.0063</td>\n",
       "      <td>2021-05-01</td>\n",
       "      <td>2022-03-21 18:35:48</td>\n",
       "      <td>55.926270</td>\n",
       "      <td>37.723278</td>\n",
       "      <td>81</td>\n",
       "      <td>Monolithic</td>\n",
       "      <td>15</td>\n",
       "      <td>17</td>\n",
       "      <td>1</td>\n",
       "      <td>33.0</td>\n",
       "      <td>9.4</td>\n",
       "      <td>Secondary Real Estate</td>\n",
       "    </tr>\n",
       "    <tr>\n",
       "      <th>5476156</th>\n",
       "      <td>0.0110</td>\n",
       "      <td>2021-05-01</td>\n",
       "      <td>2022-03-21 18:42:38</td>\n",
       "      <td>48.747428</td>\n",
       "      <td>44.509038</td>\n",
       "      <td>4695</td>\n",
       "      <td>Monolithic</td>\n",
       "      <td>18</td>\n",
       "      <td>18</td>\n",
       "      <td>1</td>\n",
       "      <td>38.0</td>\n",
       "      <td>11.0</td>\n",
       "      <td>Secondary Real Estate</td>\n",
       "    </tr>\n",
       "    <tr>\n",
       "      <th>5476168</th>\n",
       "      <td>0.3500</td>\n",
       "      <td>2021-05-01</td>\n",
       "      <td>2022-03-21 18:44:43</td>\n",
       "      <td>63.845328</td>\n",
       "      <td>57.299018</td>\n",
       "      <td>4417</td>\n",
       "      <td>Panel</td>\n",
       "      <td>2</td>\n",
       "      <td>5</td>\n",
       "      <td>3</td>\n",
       "      <td>59.0</td>\n",
       "      <td>6.0</td>\n",
       "      <td>Secondary Real Estate</td>\n",
       "    </tr>\n",
       "    <tr>\n",
       "      <th>5476573</th>\n",
       "      <td>0.4500</td>\n",
       "      <td>2021-05-01</td>\n",
       "      <td>2022-03-21 19:13:43</td>\n",
       "      <td>43.391005</td>\n",
       "      <td>42.920278</td>\n",
       "      <td>9648</td>\n",
       "      <td>Brick</td>\n",
       "      <td>1</td>\n",
       "      <td>5</td>\n",
       "      <td>2</td>\n",
       "      <td>35.0</td>\n",
       "      <td>10.0</td>\n",
       "      <td>Secondary Real Estate</td>\n",
       "    </tr>\n",
       "  </tbody>\n",
       "</table>\n",
       "<p>17595 rows × 13 columns</p>\n",
       "</div>"
      ],
      "text/plain": [
       "         price (Million)       date                time    geo_lat    geo_lon  \\\n",
       "1514              0.3000 2018-09-08 2022-03-21 04:59:20  52.561070  85.234409   \n",
       "1596              0.4800 2018-09-08 2022-03-21 06:43:33  51.523402  81.224751   \n",
       "1916              0.2500 2018-09-08 2022-03-21 09:08:31  48.046666  40.125644   \n",
       "2234              0.4550 2018-09-08 2022-03-21 10:21:48  58.270120  59.706687   \n",
       "2241              0.4500 2018-09-08 2022-03-21 10:23:33  45.508422  38.083928   \n",
       "...                  ...        ...                 ...        ...        ...   \n",
       "5474635           0.3200 2021-05-01 2022-03-21 16:18:49  55.784830  42.628058   \n",
       "5476102           0.0063 2021-05-01 2022-03-21 18:35:48  55.926270  37.723278   \n",
       "5476156           0.0110 2021-05-01 2022-03-21 18:42:38  48.747428  44.509038   \n",
       "5476168           0.3500 2021-05-01 2022-03-21 18:44:43  63.845328  57.299018   \n",
       "5476573           0.4500 2021-05-01 2022-03-21 19:13:43  43.391005  42.920278   \n",
       "\n",
       "         region building_type  level  levels  rooms  area  kitchen_area  \\\n",
       "1514       6817        Wooden      1       1      1  26.0           7.0   \n",
       "1596       6817         Panel      1       5      1  31.0           6.0   \n",
       "1916       3230         Panel      1       5      1  21.0           6.0   \n",
       "2234       6171         Brick      1       2      2  49.9           3.0   \n",
       "2241       2843         Panel      2       2      1  45.0          12.0   \n",
       "...         ...           ...    ...     ...    ...   ...           ...   \n",
       "5474635    2871         Brick      2       2      2  45.0           6.0   \n",
       "5476102      81    Monolithic     15      17      1  33.0           9.4   \n",
       "5476156    4695    Monolithic     18      18      1  38.0          11.0   \n",
       "5476168    4417         Panel      2       5      3  59.0           6.0   \n",
       "5476573    9648         Brick      1       5      2  35.0          10.0   \n",
       "\n",
       "                   object_type  \n",
       "1514     Secondary Real Estate  \n",
       "1596     Secondary Real Estate  \n",
       "1916     Secondary Real Estate  \n",
       "2234     Secondary Real Estate  \n",
       "2241     Secondary Real Estate  \n",
       "...                        ...  \n",
       "5474635  Secondary Real Estate  \n",
       "5476102  Secondary Real Estate  \n",
       "5476156  Secondary Real Estate  \n",
       "5476168  Secondary Real Estate  \n",
       "5476573  Secondary Real Estate  \n",
       "\n",
       "[17595 rows x 13 columns]"
      ]
     },
     "execution_count": 22,
     "metadata": {},
     "output_type": "execute_result"
    }
   ],
   "source": [
    "df_real[df_real['price (Million)']<0.5]"
   ]
  },
  {
   "cell_type": "markdown",
   "id": "56863fb2",
   "metadata": {},
   "source": [
    "### There are more than 17 thousand data which have price values less than 500 K rubels. They even have prices around 10 rubels, which don't make sense. I will drop them. "
   ]
  },
  {
   "cell_type": "code",
   "execution_count": 23,
   "id": "87379e9e",
   "metadata": {},
   "outputs": [],
   "source": [
    "df_real = df_real[df_real['price (Million)']>=0.5]"
   ]
  },
  {
   "cell_type": "code",
   "execution_count": 24,
   "id": "54ab067e",
   "metadata": {},
   "outputs": [
    {
     "data": {
      "text/plain": [
       "(5370655, 13)"
      ]
     },
     "execution_count": 24,
     "metadata": {},
     "output_type": "execute_result"
    }
   ],
   "source": [
    "df_real.shape"
   ]
  },
  {
   "cell_type": "code",
   "execution_count": null,
   "id": "9f3b8cec",
   "metadata": {},
   "outputs": [],
   "source": []
  },
  {
   "cell_type": "markdown",
   "id": "b7023960",
   "metadata": {},
   "source": [
    "## 2.6. Additional Features"
   ]
  },
  {
   "cell_type": "markdown",
   "id": "ef3cde0d",
   "metadata": {},
   "source": [
    "### I will add binning price feature with price condition as stated in the function below."
   ]
  },
  {
   "cell_type": "code",
   "execution_count": 25,
   "id": "63e35601",
   "metadata": {},
   "outputs": [],
   "source": [
    "def binning_price(x):\n",
    "    if x>0 and x<=5:\n",
    "        p='Low'\n",
    "    elif x>5 and x<10:\n",
    "        p='Medium'\n",
    "    else:\n",
    "        p='High'\n",
    "    return p"
   ]
  },
  {
   "cell_type": "code",
   "execution_count": 26,
   "id": "cc856013",
   "metadata": {},
   "outputs": [],
   "source": [
    "df_real['Price Binning']=df_real['price (Million)'].apply(binning_price)"
   ]
  },
  {
   "cell_type": "code",
   "execution_count": 27,
   "id": "59cdbc31",
   "metadata": {},
   "outputs": [
    {
     "data": {
      "text/html": [
       "<div>\n",
       "<style scoped>\n",
       "    .dataframe tbody tr th:only-of-type {\n",
       "        vertical-align: middle;\n",
       "    }\n",
       "\n",
       "    .dataframe tbody tr th {\n",
       "        vertical-align: top;\n",
       "    }\n",
       "\n",
       "    .dataframe thead th {\n",
       "        text-align: right;\n",
       "    }\n",
       "</style>\n",
       "<table border=\"1\" class=\"dataframe\">\n",
       "  <thead>\n",
       "    <tr style=\"text-align: right;\">\n",
       "      <th></th>\n",
       "      <th>price (Million)</th>\n",
       "      <th>date</th>\n",
       "      <th>time</th>\n",
       "      <th>geo_lat</th>\n",
       "      <th>geo_lon</th>\n",
       "      <th>region</th>\n",
       "      <th>building_type</th>\n",
       "      <th>level</th>\n",
       "      <th>levels</th>\n",
       "      <th>rooms</th>\n",
       "      <th>area</th>\n",
       "      <th>kitchen_area</th>\n",
       "      <th>object_type</th>\n",
       "      <th>Price Binning</th>\n",
       "    </tr>\n",
       "  </thead>\n",
       "  <tbody>\n",
       "    <tr>\n",
       "      <th>0</th>\n",
       "      <td>6.05</td>\n",
       "      <td>2018-02-19</td>\n",
       "      <td>2022-03-21 20:00:21</td>\n",
       "      <td>59.805808</td>\n",
       "      <td>30.376141</td>\n",
       "      <td>2661</td>\n",
       "      <td>Panel</td>\n",
       "      <td>8</td>\n",
       "      <td>10</td>\n",
       "      <td>3</td>\n",
       "      <td>82.6</td>\n",
       "      <td>10.8</td>\n",
       "      <td>Secondary Real Estate</td>\n",
       "      <td>Medium</td>\n",
       "    </tr>\n",
       "    <tr>\n",
       "      <th>1</th>\n",
       "      <td>8.65</td>\n",
       "      <td>2018-02-27</td>\n",
       "      <td>2022-03-21 12:04:54</td>\n",
       "      <td>55.683807</td>\n",
       "      <td>37.297405</td>\n",
       "      <td>81</td>\n",
       "      <td>Brick</td>\n",
       "      <td>5</td>\n",
       "      <td>24</td>\n",
       "      <td>2</td>\n",
       "      <td>69.1</td>\n",
       "      <td>12.0</td>\n",
       "      <td>Secondary Real Estate</td>\n",
       "      <td>Medium</td>\n",
       "    </tr>\n",
       "    <tr>\n",
       "      <th>2</th>\n",
       "      <td>4.00</td>\n",
       "      <td>2018-02-28</td>\n",
       "      <td>2022-03-21 15:44:00</td>\n",
       "      <td>56.295250</td>\n",
       "      <td>44.061637</td>\n",
       "      <td>2871</td>\n",
       "      <td>Panel</td>\n",
       "      <td>5</td>\n",
       "      <td>9</td>\n",
       "      <td>3</td>\n",
       "      <td>66.0</td>\n",
       "      <td>10.0</td>\n",
       "      <td>Secondary Real Estate</td>\n",
       "      <td>Low</td>\n",
       "    </tr>\n",
       "    <tr>\n",
       "      <th>3</th>\n",
       "      <td>1.85</td>\n",
       "      <td>2018-03-01</td>\n",
       "      <td>2022-03-21 11:24:52</td>\n",
       "      <td>44.996132</td>\n",
       "      <td>39.074783</td>\n",
       "      <td>2843</td>\n",
       "      <td>Blocky</td>\n",
       "      <td>12</td>\n",
       "      <td>16</td>\n",
       "      <td>2</td>\n",
       "      <td>38.0</td>\n",
       "      <td>5.0</td>\n",
       "      <td>New Building</td>\n",
       "      <td>Low</td>\n",
       "    </tr>\n",
       "    <tr>\n",
       "      <th>4</th>\n",
       "      <td>5.45</td>\n",
       "      <td>2018-03-01</td>\n",
       "      <td>2022-03-21 17:42:43</td>\n",
       "      <td>55.918767</td>\n",
       "      <td>37.984642</td>\n",
       "      <td>81</td>\n",
       "      <td>Brick</td>\n",
       "      <td>13</td>\n",
       "      <td>14</td>\n",
       "      <td>2</td>\n",
       "      <td>60.0</td>\n",
       "      <td>10.0</td>\n",
       "      <td>Secondary Real Estate</td>\n",
       "      <td>Medium</td>\n",
       "    </tr>\n",
       "  </tbody>\n",
       "</table>\n",
       "</div>"
      ],
      "text/plain": [
       "   price (Million)       date                time    geo_lat    geo_lon  \\\n",
       "0             6.05 2018-02-19 2022-03-21 20:00:21  59.805808  30.376141   \n",
       "1             8.65 2018-02-27 2022-03-21 12:04:54  55.683807  37.297405   \n",
       "2             4.00 2018-02-28 2022-03-21 15:44:00  56.295250  44.061637   \n",
       "3             1.85 2018-03-01 2022-03-21 11:24:52  44.996132  39.074783   \n",
       "4             5.45 2018-03-01 2022-03-21 17:42:43  55.918767  37.984642   \n",
       "\n",
       "   region building_type  level  levels  rooms  area  kitchen_area  \\\n",
       "0    2661         Panel      8      10      3  82.6          10.8   \n",
       "1      81         Brick      5      24      2  69.1          12.0   \n",
       "2    2871         Panel      5       9      3  66.0          10.0   \n",
       "3    2843        Blocky     12      16      2  38.0           5.0   \n",
       "4      81         Brick     13      14      2  60.0          10.0   \n",
       "\n",
       "             object_type Price Binning  \n",
       "0  Secondary Real Estate        Medium  \n",
       "1  Secondary Real Estate        Medium  \n",
       "2  Secondary Real Estate           Low  \n",
       "3           New Building           Low  \n",
       "4  Secondary Real Estate        Medium  "
      ]
     },
     "execution_count": 27,
     "metadata": {},
     "output_type": "execute_result"
    }
   ],
   "source": [
    "df_real.head()"
   ]
  },
  {
   "cell_type": "markdown",
   "id": "9f827ab8",
   "metadata": {},
   "source": [
    "# 3. Exploratory Data Analysis"
   ]
  },
  {
   "cell_type": "markdown",
   "id": "d320cabb",
   "metadata": {},
   "source": [
    "## 3.1 Basic Exploration"
   ]
  },
  {
   "cell_type": "markdown",
   "id": "b629066e",
   "metadata": {},
   "source": [
    "### Here we see average, maximum, and minimum prices of our data in each building type and object type"
   ]
  },
  {
   "cell_type": "code",
   "execution_count": 28,
   "id": "fda8abd5",
   "metadata": {},
   "outputs": [
    {
     "data": {
      "text/html": [
       "<div>\n",
       "<style scoped>\n",
       "    .dataframe tbody tr th:only-of-type {\n",
       "        vertical-align: middle;\n",
       "    }\n",
       "\n",
       "    .dataframe tbody tr th {\n",
       "        vertical-align: top;\n",
       "    }\n",
       "\n",
       "    .dataframe thead th {\n",
       "        text-align: right;\n",
       "    }\n",
       "</style>\n",
       "<table border=\"1\" class=\"dataframe\">\n",
       "  <thead>\n",
       "    <tr style=\"text-align: right;\">\n",
       "      <th></th>\n",
       "      <th>mean</th>\n",
       "      <th>max</th>\n",
       "      <th>min</th>\n",
       "    </tr>\n",
       "    <tr>\n",
       "      <th>building_type</th>\n",
       "      <th></th>\n",
       "      <th></th>\n",
       "      <th></th>\n",
       "    </tr>\n",
       "  </thead>\n",
       "  <tbody>\n",
       "    <tr>\n",
       "      <th>Blocky</th>\n",
       "      <td>3.388761</td>\n",
       "      <td>18.999000</td>\n",
       "      <td>0.5</td>\n",
       "    </tr>\n",
       "    <tr>\n",
       "      <th>Brick</th>\n",
       "      <td>3.585744</td>\n",
       "      <td>18.999999</td>\n",
       "      <td>0.5</td>\n",
       "    </tr>\n",
       "    <tr>\n",
       "      <th>Monolithic</th>\n",
       "      <td>5.545933</td>\n",
       "      <td>18.999999</td>\n",
       "      <td>0.5</td>\n",
       "    </tr>\n",
       "    <tr>\n",
       "      <th>Other</th>\n",
       "      <td>4.439412</td>\n",
       "      <td>18.999000</td>\n",
       "      <td>0.5</td>\n",
       "    </tr>\n",
       "    <tr>\n",
       "      <th>Panel</th>\n",
       "      <td>3.159024</td>\n",
       "      <td>18.999999</td>\n",
       "      <td>0.5</td>\n",
       "    </tr>\n",
       "    <tr>\n",
       "      <th>Wooden</th>\n",
       "      <td>1.948708</td>\n",
       "      <td>18.999000</td>\n",
       "      <td>0.5</td>\n",
       "    </tr>\n",
       "  </tbody>\n",
       "</table>\n",
       "</div>"
      ],
      "text/plain": [
       "                   mean        max  min\n",
       "building_type                          \n",
       "Blocky         3.388761  18.999000  0.5\n",
       "Brick          3.585744  18.999999  0.5\n",
       "Monolithic     5.545933  18.999999  0.5\n",
       "Other          4.439412  18.999000  0.5\n",
       "Panel          3.159024  18.999999  0.5\n",
       "Wooden         1.948708  18.999000  0.5"
      ]
     },
     "execution_count": 28,
     "metadata": {},
     "output_type": "execute_result"
    }
   ],
   "source": [
    "df_real.groupby(['building_type'])['price (Million)'].agg(['mean','max','min'])"
   ]
  },
  {
   "cell_type": "code",
   "execution_count": 29,
   "id": "f6ef07c7",
   "metadata": {},
   "outputs": [
    {
     "data": {
      "text/html": [
       "<div>\n",
       "<style scoped>\n",
       "    .dataframe tbody tr th:only-of-type {\n",
       "        vertical-align: middle;\n",
       "    }\n",
       "\n",
       "    .dataframe tbody tr th {\n",
       "        vertical-align: top;\n",
       "    }\n",
       "\n",
       "    .dataframe thead th {\n",
       "        text-align: right;\n",
       "    }\n",
       "</style>\n",
       "<table border=\"1\" class=\"dataframe\">\n",
       "  <thead>\n",
       "    <tr style=\"text-align: right;\">\n",
       "      <th></th>\n",
       "      <th>mean</th>\n",
       "      <th>max</th>\n",
       "      <th>min</th>\n",
       "    </tr>\n",
       "    <tr>\n",
       "      <th>object_type</th>\n",
       "      <th></th>\n",
       "      <th></th>\n",
       "      <th></th>\n",
       "    </tr>\n",
       "  </thead>\n",
       "  <tbody>\n",
       "    <tr>\n",
       "      <th>New Building</th>\n",
       "      <td>4.098699</td>\n",
       "      <td>18.999999</td>\n",
       "      <td>0.5</td>\n",
       "    </tr>\n",
       "    <tr>\n",
       "      <th>Secondary Real Estate</th>\n",
       "      <td>3.762812</td>\n",
       "      <td>18.999999</td>\n",
       "      <td>0.5</td>\n",
       "    </tr>\n",
       "  </tbody>\n",
       "</table>\n",
       "</div>"
      ],
      "text/plain": [
       "                           mean        max  min\n",
       "object_type                                    \n",
       "New Building           4.098699  18.999999  0.5\n",
       "Secondary Real Estate  3.762812  18.999999  0.5"
      ]
     },
     "execution_count": 29,
     "metadata": {},
     "output_type": "execute_result"
    }
   ],
   "source": [
    "df_real.groupby(['object_type'])['price (Million)'].agg(['mean','max','min'])"
   ]
  },
  {
   "cell_type": "markdown",
   "id": "78e6f6b7",
   "metadata": {},
   "source": [
    "### And we can see the distribution of our price category for each building type and object type"
   ]
  },
  {
   "cell_type": "code",
   "execution_count": 30,
   "id": "ffe4255c",
   "metadata": {},
   "outputs": [
    {
     "data": {
      "text/plain": [
       "building_type  Price Binning\n",
       "Blocky         High                4586\n",
       "               Low               145867\n",
       "               Medium             22174\n",
       "Brick          High               69582\n",
       "               Low              1519117\n",
       "               Medium            268816\n",
       "Monolithic     High              128047\n",
       "               Low               617694\n",
       "               Medium            332500\n",
       "Other          High               15677\n",
       "               Low               214092\n",
       "               Medium             71264\n",
       "Panel          High               50895\n",
       "               Low              1668817\n",
       "               Medium            227030\n",
       "Wooden         High                 223\n",
       "               Low                13656\n",
       "               Medium               618\n",
       "Name: Price Binning, dtype: int64"
      ]
     },
     "execution_count": 30,
     "metadata": {},
     "output_type": "execute_result"
    }
   ],
   "source": [
    "df_real.groupby(['building_type','Price Binning'])['Price Binning'].agg('count')"
   ]
  },
  {
   "cell_type": "code",
   "execution_count": 31,
   "id": "d70ec8ce",
   "metadata": {},
   "outputs": [
    {
     "data": {
      "text/plain": [
       "object_type            Price Binning\n",
       "New Building           High              101761\n",
       "                       Low              1163259\n",
       "                       Medium            316221\n",
       "Secondary Real Estate  High              167249\n",
       "                       Low              3015984\n",
       "                       Medium            606181\n",
       "Name: Price Binning, dtype: int64"
      ]
     },
     "execution_count": 31,
     "metadata": {},
     "output_type": "execute_result"
    }
   ],
   "source": [
    "df_real.groupby(['object_type','Price Binning'])['Price Binning'].agg('count')"
   ]
  },
  {
   "cell_type": "code",
   "execution_count": null,
   "id": "3e0cbbf8",
   "metadata": {},
   "outputs": [],
   "source": []
  },
  {
   "cell_type": "markdown",
   "id": "5cada768",
   "metadata": {},
   "source": [
    "## 3.2. Basic Visualization"
   ]
  },
  {
   "cell_type": "markdown",
   "id": "e7b50b92",
   "metadata": {},
   "source": [
    "## 3.2.1. Building Type"
   ]
  },
  {
   "cell_type": "code",
   "execution_count": 32,
   "id": "1a71fb43",
   "metadata": {},
   "outputs": [
    {
     "data": {
      "image/png": "[encoded data removed]",
      "text/plain": [
       "<Figure size 432x288 with 1 Axes>"
      ]
     },
     "metadata": {},
     "output_type": "display_data"
    }
   ],
   "source": [
    "sns.set_theme(style='whitegrid')\n",
    "df_real['building_type'].value_counts().plot(kind=\"pie\", autopct=\"%.2f\")\n",
    "plt.show()"
   ]
  },
  {
   "cell_type": "markdown",
   "id": "f3a19780",
   "metadata": {},
   "source": [
    "### Here we know that our data is dominated by Panel and Brick building type data. On the other side, the wooden building type is the least. I assume that people nowadays do not like wooden style home. They prefer modern style home."
   ]
  },
  {
   "cell_type": "code",
   "execution_count": 33,
   "id": "29adea65",
   "metadata": {},
   "outputs": [
    {
     "data": {
      "text/plain": [
       "<seaborn.axisgrid.FacetGrid at 0x7feec8f545e0>"
      ]
     },
     "execution_count": 33,
     "metadata": {},
     "output_type": "execute_result"
    },
    {
     "data": {
      "text/plain": [
       "<Figure size 1080x576 with 0 Axes>"
      ]
     },
     "metadata": {},
     "output_type": "display_data"
    },
    {
     "data": {
      "image/png": "[encoded data removed]",
      "text/plain": [
       "<Figure size 943.175x576 with 1 Axes>"
      ]
     },
     "metadata": {},
     "output_type": "display_data"
    }
   ],
   "source": [
    "sns.set_theme(style='whitegrid')\n",
    "plt.figure(figsize=(15,8))\n",
    "sns.catplot(x='building_type',hue='Price Binning',data=df_real,kind=\"count\",height=8, aspect=1.5)"
   ]
  },
  {
   "cell_type": "code",
   "execution_count": null,
   "id": "0b8b09b1",
   "metadata": {},
   "outputs": [],
   "source": []
  },
  {
   "cell_type": "code",
   "execution_count": 34,
   "id": "d360f0a9",
   "metadata": {},
   "outputs": [
    {
     "data": {
      "text/plain": [
       "<seaborn.axisgrid.FacetGrid at 0x7feea6b4fd90>"
      ]
     },
     "execution_count": 34,
     "metadata": {},
     "output_type": "execute_result"
    },
    {
     "data": {
      "text/plain": [
       "<Figure size 1080x576 with 0 Axes>"
      ]
     },
     "metadata": {},
     "output_type": "display_data"
    },
    {
     "data": {
      "image/png": "[encoded data removed]",
      "text/plain": [
       "<Figure size 913.475x576 with 1 Axes>"
      ]
     },
     "metadata": {},
     "output_type": "display_data"
    }
   ],
   "source": [
    "sns.set_theme(style='whitegrid')\n",
    "plt.figure(figsize=(15,8))\n",
    "sns.catplot(x='building_type',hue='rooms',data=df_real,kind=\"count\",height=8, aspect=1.5)"
   ]
  },
  {
   "cell_type": "markdown",
   "id": "b33acbcb",
   "metadata": {},
   "source": [
    "## 3.2.2. Object Type"
   ]
  },
  {
   "cell_type": "code",
   "execution_count": 35,
   "id": "a7307aa6",
   "metadata": {},
   "outputs": [
    {
     "data": {
      "image/png": "[encoded data removed]",
      "text/plain": [
       "<Figure size 432x288 with 1 Axes>"
      ]
     },
     "metadata": {},
     "output_type": "display_data"
    }
   ],
   "source": [
    "sns.set_theme(style='whitegrid')\n",
    "df_real['object_type'].value_counts().plot(kind=\"pie\", autopct=\"%.2f\")\n",
    "plt.show()"
   ]
  },
  {
   "cell_type": "code",
   "execution_count": null,
   "id": "16b44000",
   "metadata": {},
   "outputs": [],
   "source": []
  },
  {
   "cell_type": "code",
   "execution_count": 36,
   "id": "8be92334",
   "metadata": {},
   "outputs": [
    {
     "data": {
      "text/plain": [
       "<seaborn.axisgrid.FacetGrid at 0x7fed88533760>"
      ]
     },
     "execution_count": 36,
     "metadata": {},
     "output_type": "execute_result"
    },
    {
     "data": {
      "text/plain": [
       "<Figure size 1080x576 with 0 Axes>"
      ]
     },
     "metadata": {},
     "output_type": "display_data"
    },
    {
     "data": {
      "image/png": "[encoded data removed]",
      "text/plain": [
       "<Figure size 943.175x576 with 1 Axes>"
      ]
     },
     "metadata": {},
     "output_type": "display_data"
    }
   ],
   "source": [
    "sns.set_theme(style='whitegrid')\n",
    "plt.figure(figsize=(15,8))\n",
    "sns.catplot(x='object_type',hue='Price Binning',data=df_real,kind=\"count\",height=8, aspect=1.5)"
   ]
  },
  {
   "cell_type": "code",
   "execution_count": null,
   "id": "18446d03",
   "metadata": {},
   "outputs": [],
   "source": []
  },
  {
   "cell_type": "code",
   "execution_count": 37,
   "id": "5a2191f2",
   "metadata": {},
   "outputs": [
    {
     "data": {
      "text/plain": [
       "<seaborn.axisgrid.FacetGrid at 0x7fed885338e0>"
      ]
     },
     "execution_count": 37,
     "metadata": {},
     "output_type": "execute_result"
    },
    {
     "data": {
      "text/plain": [
       "<Figure size 1080x576 with 0 Axes>"
      ]
     },
     "metadata": {},
     "output_type": "display_data"
    },
    {
     "data": {
      "image/png": "[encoded data removed]",
      "text/plain": [
       "<Figure size 913.475x576 with 1 Axes>"
      ]
     },
     "metadata": {},
     "output_type": "display_data"
    }
   ],
   "source": [
    "sns.set_theme(style='whitegrid')\n",
    "plt.figure(figsize=(15,8))\n",
    "sns.catplot(x='object_type',hue='rooms',data=df_real,kind=\"count\",height=8, aspect=1.5)"
   ]
  },
  {
   "cell_type": "code",
   "execution_count": null,
   "id": "1c0a7fe6",
   "metadata": {},
   "outputs": [],
   "source": []
  },
  {
   "cell_type": "code",
   "execution_count": 38,
   "id": "032895a8",
   "metadata": {},
   "outputs": [
    {
     "data": {
      "text/plain": [
       "<seaborn.axisgrid.FacetGrid at 0x7fed0106d940>"
      ]
     },
     "execution_count": 38,
     "metadata": {},
     "output_type": "execute_result"
    },
    {
     "data": {
      "text/plain": [
       "<Figure size 1080x576 with 0 Axes>"
      ]
     },
     "metadata": {},
     "output_type": "display_data"
    },
    {
     "data": {
      "image/png": "[encoded data removed]",
      "text/plain": [
       "<Figure size 953.475x576 with 1 Axes>"
      ]
     },
     "metadata": {},
     "output_type": "display_data"
    }
   ],
   "source": [
    "sns.set_theme(style='whitegrid')\n",
    "plt.figure(figsize=(15,8))\n",
    "sns.catplot(x='object_type',hue='building_type',data=df_real,kind=\"count\",height=8, aspect=1.5)"
   ]
  },
  {
   "cell_type": "code",
   "execution_count": null,
   "id": "a77f6349",
   "metadata": {},
   "outputs": [],
   "source": []
  },
  {
   "cell_type": "markdown",
   "id": "726b678e",
   "metadata": {},
   "source": [
    "## 3.2.3. Level, Levels, Rooms"
   ]
  },
  {
   "cell_type": "code",
   "execution_count": 39,
   "id": "e1280360",
   "metadata": {},
   "outputs": [
    {
     "data": {
      "text/plain": [
       "<AxesSubplot:xlabel='level', ylabel='Count'>"
      ]
     },
     "execution_count": 39,
     "metadata": {},
     "output_type": "execute_result"
    },
    {
     "data": {
      "image/png": "[encoded data removed]",
      "text/plain": [
       "<Figure size 432x288 with 1 Axes>"
      ]
     },
     "metadata": {},
     "output_type": "display_data"
    }
   ],
   "source": [
    "sns.histplot(data=df_real, x=\"level\",binwidth=3)"
   ]
  },
  {
   "cell_type": "code",
   "execution_count": 40,
   "id": "be342da7",
   "metadata": {},
   "outputs": [
    {
     "data": {
      "text/plain": [
       "<AxesSubplot:xlabel='level', ylabel='Count'>"
      ]
     },
     "execution_count": 40,
     "metadata": {},
     "output_type": "execute_result"
    },
    {
     "data": {
      "image/png": "[encoded data removed]",
      "text/plain": [
       "<Figure size 432x288 with 1 Axes>"
      ]
     },
     "metadata": {},
     "output_type": "display_data"
    }
   ],
   "source": [
    "sns.histplot(data=df_real, x=\"level\",binwidth=3,hue='object_type')"
   ]
  },
  {
   "cell_type": "code",
   "execution_count": 41,
   "id": "a1129d94",
   "metadata": {},
   "outputs": [
    {
     "data": {
      "text/plain": [
       "<AxesSubplot:xlabel='levels', ylabel='Count'>"
      ]
     },
     "execution_count": 41,
     "metadata": {},
     "output_type": "execute_result"
    },
    {
     "data": {
      "image/png": "[encoded data removed]",
      "text/plain": [
       "<Figure size 432x288 with 1 Axes>"
      ]
     },
     "metadata": {},
     "output_type": "display_data"
    }
   ],
   "source": [
    "sns.histplot(data=df_real, x=\"levels\",binwidth=3)"
   ]
  },
  {
   "cell_type": "code",
   "execution_count": 42,
   "id": "14de4d6d",
   "metadata": {},
   "outputs": [
    {
     "data": {
      "text/plain": [
       "<AxesSubplot:xlabel='levels', ylabel='Count'>"
      ]
     },
     "execution_count": 42,
     "metadata": {},
     "output_type": "execute_result"
    },
    {
     "data": {
      "image/png": "[encoded data removed]",
      "text/plain": [
       "<Figure size 432x288 with 1 Axes>"
      ]
     },
     "metadata": {},
     "output_type": "display_data"
    }
   ],
   "source": [
    "sns.histplot(data=df_real, x=\"levels\",binwidth=3,hue='object_type')"
   ]
  },
  {
   "cell_type": "code",
   "execution_count": 43,
   "id": "a47285cb",
   "metadata": {},
   "outputs": [
    {
     "data": {
      "text/plain": [
       "<AxesSubplot:xlabel='rooms', ylabel='Count'>"
      ]
     },
     "execution_count": 43,
     "metadata": {},
     "output_type": "execute_result"
    },
    {
     "data": {
      "image/png": "[encoded data removed]",
      "text/plain": [
       "<Figure size 432x288 with 1 Axes>"
      ]
     },
     "metadata": {},
     "output_type": "display_data"
    }
   ],
   "source": [
    "sns.histplot(data=df_real, x=\"rooms\",binwidth=3)"
   ]
  },
  {
   "cell_type": "code",
   "execution_count": 44,
   "id": "dc0353e8",
   "metadata": {},
   "outputs": [
    {
     "data": {
      "text/plain": [
       "<AxesSubplot:xlabel='rooms', ylabel='Count'>"
      ]
     },
     "execution_count": 44,
     "metadata": {},
     "output_type": "execute_result"
    },
    {
     "data": {
      "image/png": "[encoded data removed]",
      "text/plain": [
       "<Figure size 432x288 with 1 Axes>"
      ]
     },
     "metadata": {},
     "output_type": "display_data"
    }
   ],
   "source": [
    "sns.histplot(data=df_real, x=\"rooms\",binwidth=3,hue='object_type')"
   ]
  },
  {
   "cell_type": "code",
   "execution_count": null,
   "id": "524ad931",
   "metadata": {},
   "outputs": [],
   "source": []
  },
  {
   "cell_type": "code",
   "execution_count": null,
   "id": "3360fcc4",
   "metadata": {},
   "outputs": [],
   "source": []
  },
  {
   "cell_type": "markdown",
   "id": "08329934",
   "metadata": {},
   "source": [
    "# 4. Feature Preprocessing"
   ]
  },
  {
   "cell_type": "markdown",
   "id": "453ce6a7",
   "metadata": {},
   "source": [
    "## 4.1. Label Encoding"
   ]
  },
  {
   "cell_type": "code",
   "execution_count": 45,
   "id": "7dcb7214",
   "metadata": {},
   "outputs": [],
   "source": [
    "from sklearn import preprocessing\n",
    "le = preprocessing.LabelEncoder()\n",
    "\n",
    "df_encode= df_real.copy()\n",
    "for col in df_encode.select_dtypes(include='O').columns:\n",
    "    df_encode[col]=le.fit_transform(df_encode[col])"
   ]
  },
  {
   "cell_type": "code",
   "execution_count": 46,
   "id": "2a5b7642",
   "metadata": {},
   "outputs": [
    {
     "data": {
      "text/html": [
       "<div>\n",
       "<style scoped>\n",
       "    .dataframe tbody tr th:only-of-type {\n",
       "        vertical-align: middle;\n",
       "    }\n",
       "\n",
       "    .dataframe tbody tr th {\n",
       "        vertical-align: top;\n",
       "    }\n",
       "\n",
       "    .dataframe thead th {\n",
       "        text-align: right;\n",
       "    }\n",
       "</style>\n",
       "<table border=\"1\" class=\"dataframe\">\n",
       "  <thead>\n",
       "    <tr style=\"text-align: right;\">\n",
       "      <th></th>\n",
       "      <th>price (Million)</th>\n",
       "      <th>date</th>\n",
       "      <th>time</th>\n",
       "      <th>geo_lat</th>\n",
       "      <th>geo_lon</th>\n",
       "      <th>region</th>\n",
       "      <th>building_type</th>\n",
       "      <th>level</th>\n",
       "      <th>levels</th>\n",
       "      <th>rooms</th>\n",
       "      <th>area</th>\n",
       "      <th>kitchen_area</th>\n",
       "      <th>object_type</th>\n",
       "      <th>Price Binning</th>\n",
       "    </tr>\n",
       "  </thead>\n",
       "  <tbody>\n",
       "    <tr>\n",
       "      <th>0</th>\n",
       "      <td>6.05</td>\n",
       "      <td>2018-02-19</td>\n",
       "      <td>2022-03-21 20:00:21</td>\n",
       "      <td>59.805808</td>\n",
       "      <td>30.376141</td>\n",
       "      <td>2661</td>\n",
       "      <td>4</td>\n",
       "      <td>8</td>\n",
       "      <td>10</td>\n",
       "      <td>3</td>\n",
       "      <td>82.6</td>\n",
       "      <td>10.8</td>\n",
       "      <td>1</td>\n",
       "      <td>2</td>\n",
       "    </tr>\n",
       "    <tr>\n",
       "      <th>1</th>\n",
       "      <td>8.65</td>\n",
       "      <td>2018-02-27</td>\n",
       "      <td>2022-03-21 12:04:54</td>\n",
       "      <td>55.683807</td>\n",
       "      <td>37.297405</td>\n",
       "      <td>81</td>\n",
       "      <td>1</td>\n",
       "      <td>5</td>\n",
       "      <td>24</td>\n",
       "      <td>2</td>\n",
       "      <td>69.1</td>\n",
       "      <td>12.0</td>\n",
       "      <td>1</td>\n",
       "      <td>2</td>\n",
       "    </tr>\n",
       "    <tr>\n",
       "      <th>2</th>\n",
       "      <td>4.00</td>\n",
       "      <td>2018-02-28</td>\n",
       "      <td>2022-03-21 15:44:00</td>\n",
       "      <td>56.295250</td>\n",
       "      <td>44.061637</td>\n",
       "      <td>2871</td>\n",
       "      <td>4</td>\n",
       "      <td>5</td>\n",
       "      <td>9</td>\n",
       "      <td>3</td>\n",
       "      <td>66.0</td>\n",
       "      <td>10.0</td>\n",
       "      <td>1</td>\n",
       "      <td>1</td>\n",
       "    </tr>\n",
       "    <tr>\n",
       "      <th>3</th>\n",
       "      <td>1.85</td>\n",
       "      <td>2018-03-01</td>\n",
       "      <td>2022-03-21 11:24:52</td>\n",
       "      <td>44.996132</td>\n",
       "      <td>39.074783</td>\n",
       "      <td>2843</td>\n",
       "      <td>0</td>\n",
       "      <td>12</td>\n",
       "      <td>16</td>\n",
       "      <td>2</td>\n",
       "      <td>38.0</td>\n",
       "      <td>5.0</td>\n",
       "      <td>0</td>\n",
       "      <td>1</td>\n",
       "    </tr>\n",
       "    <tr>\n",
       "      <th>4</th>\n",
       "      <td>5.45</td>\n",
       "      <td>2018-03-01</td>\n",
       "      <td>2022-03-21 17:42:43</td>\n",
       "      <td>55.918767</td>\n",
       "      <td>37.984642</td>\n",
       "      <td>81</td>\n",
       "      <td>1</td>\n",
       "      <td>13</td>\n",
       "      <td>14</td>\n",
       "      <td>2</td>\n",
       "      <td>60.0</td>\n",
       "      <td>10.0</td>\n",
       "      <td>1</td>\n",
       "      <td>2</td>\n",
       "    </tr>\n",
       "  </tbody>\n",
       "</table>\n",
       "</div>"
      ],
      "text/plain": [
       "   price (Million)       date                time    geo_lat    geo_lon  \\\n",
       "0             6.05 2018-02-19 2022-03-21 20:00:21  59.805808  30.376141   \n",
       "1             8.65 2018-02-27 2022-03-21 12:04:54  55.683807  37.297405   \n",
       "2             4.00 2018-02-28 2022-03-21 15:44:00  56.295250  44.061637   \n",
       "3             1.85 2018-03-01 2022-03-21 11:24:52  44.996132  39.074783   \n",
       "4             5.45 2018-03-01 2022-03-21 17:42:43  55.918767  37.984642   \n",
       "\n",
       "   region  building_type  level  levels  rooms  area  kitchen_area  \\\n",
       "0    2661              4      8      10      3  82.6          10.8   \n",
       "1      81              1      5      24      2  69.1          12.0   \n",
       "2    2871              4      5       9      3  66.0          10.0   \n",
       "3    2843              0     12      16      2  38.0           5.0   \n",
       "4      81              1     13      14      2  60.0          10.0   \n",
       "\n",
       "   object_type  Price Binning  \n",
       "0            1              2  \n",
       "1            1              2  \n",
       "2            1              1  \n",
       "3            0              1  \n",
       "4            1              2  "
      ]
     },
     "execution_count": 46,
     "metadata": {},
     "output_type": "execute_result"
    }
   ],
   "source": [
    "df_encode.head()"
   ]
  },
  {
   "cell_type": "markdown",
   "id": "7db847e0",
   "metadata": {},
   "source": [
    "## 4.2. Removing Unnecessary Features"
   ]
  },
  {
   "cell_type": "code",
   "execution_count": 47,
   "id": "31ec27fe",
   "metadata": {},
   "outputs": [
    {
     "data": {
      "text/html": [
       "<div>\n",
       "<style scoped>\n",
       "    .dataframe tbody tr th:only-of-type {\n",
       "        vertical-align: middle;\n",
       "    }\n",
       "\n",
       "    .dataframe tbody tr th {\n",
       "        vertical-align: top;\n",
       "    }\n",
       "\n",
       "    .dataframe thead th {\n",
       "        text-align: right;\n",
       "    }\n",
       "</style>\n",
       "<table border=\"1\" class=\"dataframe\">\n",
       "  <thead>\n",
       "    <tr style=\"text-align: right;\">\n",
       "      <th></th>\n",
       "      <th>price (Million)</th>\n",
       "      <th>date</th>\n",
       "      <th>time</th>\n",
       "      <th>geo_lat</th>\n",
       "      <th>geo_lon</th>\n",
       "      <th>region</th>\n",
       "      <th>building_type</th>\n",
       "      <th>level</th>\n",
       "      <th>levels</th>\n",
       "      <th>rooms</th>\n",
       "      <th>area</th>\n",
       "      <th>kitchen_area</th>\n",
       "      <th>object_type</th>\n",
       "      <th>Price Binning</th>\n",
       "    </tr>\n",
       "  </thead>\n",
       "  <tbody>\n",
       "    <tr>\n",
       "      <th>0</th>\n",
       "      <td>6.05</td>\n",
       "      <td>2018-02-19</td>\n",
       "      <td>2022-03-21 20:00:21</td>\n",
       "      <td>59.805808</td>\n",
       "      <td>30.376141</td>\n",
       "      <td>2661</td>\n",
       "      <td>4</td>\n",
       "      <td>8</td>\n",
       "      <td>10</td>\n",
       "      <td>3</td>\n",
       "      <td>82.6</td>\n",
       "      <td>10.8</td>\n",
       "      <td>1</td>\n",
       "      <td>2</td>\n",
       "    </tr>\n",
       "    <tr>\n",
       "      <th>1</th>\n",
       "      <td>8.65</td>\n",
       "      <td>2018-02-27</td>\n",
       "      <td>2022-03-21 12:04:54</td>\n",
       "      <td>55.683807</td>\n",
       "      <td>37.297405</td>\n",
       "      <td>81</td>\n",
       "      <td>1</td>\n",
       "      <td>5</td>\n",
       "      <td>24</td>\n",
       "      <td>2</td>\n",
       "      <td>69.1</td>\n",
       "      <td>12.0</td>\n",
       "      <td>1</td>\n",
       "      <td>2</td>\n",
       "    </tr>\n",
       "    <tr>\n",
       "      <th>2</th>\n",
       "      <td>4.00</td>\n",
       "      <td>2018-02-28</td>\n",
       "      <td>2022-03-21 15:44:00</td>\n",
       "      <td>56.295250</td>\n",
       "      <td>44.061637</td>\n",
       "      <td>2871</td>\n",
       "      <td>4</td>\n",
       "      <td>5</td>\n",
       "      <td>9</td>\n",
       "      <td>3</td>\n",
       "      <td>66.0</td>\n",
       "      <td>10.0</td>\n",
       "      <td>1</td>\n",
       "      <td>1</td>\n",
       "    </tr>\n",
       "    <tr>\n",
       "      <th>3</th>\n",
       "      <td>1.85</td>\n",
       "      <td>2018-03-01</td>\n",
       "      <td>2022-03-21 11:24:52</td>\n",
       "      <td>44.996132</td>\n",
       "      <td>39.074783</td>\n",
       "      <td>2843</td>\n",
       "      <td>0</td>\n",
       "      <td>12</td>\n",
       "      <td>16</td>\n",
       "      <td>2</td>\n",
       "      <td>38.0</td>\n",
       "      <td>5.0</td>\n",
       "      <td>0</td>\n",
       "      <td>1</td>\n",
       "    </tr>\n",
       "    <tr>\n",
       "      <th>4</th>\n",
       "      <td>5.45</td>\n",
       "      <td>2018-03-01</td>\n",
       "      <td>2022-03-21 17:42:43</td>\n",
       "      <td>55.918767</td>\n",
       "      <td>37.984642</td>\n",
       "      <td>81</td>\n",
       "      <td>1</td>\n",
       "      <td>13</td>\n",
       "      <td>14</td>\n",
       "      <td>2</td>\n",
       "      <td>60.0</td>\n",
       "      <td>10.0</td>\n",
       "      <td>1</td>\n",
       "      <td>2</td>\n",
       "    </tr>\n",
       "  </tbody>\n",
       "</table>\n",
       "</div>"
      ],
      "text/plain": [
       "   price (Million)       date                time    geo_lat    geo_lon  \\\n",
       "0             6.05 2018-02-19 2022-03-21 20:00:21  59.805808  30.376141   \n",
       "1             8.65 2018-02-27 2022-03-21 12:04:54  55.683807  37.297405   \n",
       "2             4.00 2018-02-28 2022-03-21 15:44:00  56.295250  44.061637   \n",
       "3             1.85 2018-03-01 2022-03-21 11:24:52  44.996132  39.074783   \n",
       "4             5.45 2018-03-01 2022-03-21 17:42:43  55.918767  37.984642   \n",
       "\n",
       "   region  building_type  level  levels  rooms  area  kitchen_area  \\\n",
       "0    2661              4      8      10      3  82.6          10.8   \n",
       "1      81              1      5      24      2  69.1          12.0   \n",
       "2    2871              4      5       9      3  66.0          10.0   \n",
       "3    2843              0     12      16      2  38.0           5.0   \n",
       "4      81              1     13      14      2  60.0          10.0   \n",
       "\n",
       "   object_type  Price Binning  \n",
       "0            1              2  \n",
       "1            1              2  \n",
       "2            1              1  \n",
       "3            0              1  \n",
       "4            1              2  "
      ]
     },
     "execution_count": 47,
     "metadata": {},
     "output_type": "execute_result"
    }
   ],
   "source": [
    "df_encode.head()"
   ]
  },
  {
   "cell_type": "markdown",
   "id": "a9b19ce7",
   "metadata": {},
   "source": [
    "### First i want to drop date, time, geo_lat, geo_lon features because we won't need them for now"
   ]
  },
  {
   "cell_type": "code",
   "execution_count": 48,
   "id": "7cc76d86",
   "metadata": {},
   "outputs": [
    {
     "data": {
      "text/html": [
       "<div>\n",
       "<style scoped>\n",
       "    .dataframe tbody tr th:only-of-type {\n",
       "        vertical-align: middle;\n",
       "    }\n",
       "\n",
       "    .dataframe tbody tr th {\n",
       "        vertical-align: top;\n",
       "    }\n",
       "\n",
       "    .dataframe thead th {\n",
       "        text-align: right;\n",
       "    }\n",
       "</style>\n",
       "<table border=\"1\" class=\"dataframe\">\n",
       "  <thead>\n",
       "    <tr style=\"text-align: right;\">\n",
       "      <th></th>\n",
       "      <th>price (Million)</th>\n",
       "      <th>region</th>\n",
       "      <th>building_type</th>\n",
       "      <th>level</th>\n",
       "      <th>levels</th>\n",
       "      <th>rooms</th>\n",
       "      <th>area</th>\n",
       "      <th>kitchen_area</th>\n",
       "      <th>object_type</th>\n",
       "      <th>Price Binning</th>\n",
       "    </tr>\n",
       "  </thead>\n",
       "  <tbody>\n",
       "    <tr>\n",
       "      <th>0</th>\n",
       "      <td>6.05</td>\n",
       "      <td>2661</td>\n",
       "      <td>4</td>\n",
       "      <td>8</td>\n",
       "      <td>10</td>\n",
       "      <td>3</td>\n",
       "      <td>82.6</td>\n",
       "      <td>10.8</td>\n",
       "      <td>1</td>\n",
       "      <td>2</td>\n",
       "    </tr>\n",
       "    <tr>\n",
       "      <th>1</th>\n",
       "      <td>8.65</td>\n",
       "      <td>81</td>\n",
       "      <td>1</td>\n",
       "      <td>5</td>\n",
       "      <td>24</td>\n",
       "      <td>2</td>\n",
       "      <td>69.1</td>\n",
       "      <td>12.0</td>\n",
       "      <td>1</td>\n",
       "      <td>2</td>\n",
       "    </tr>\n",
       "    <tr>\n",
       "      <th>2</th>\n",
       "      <td>4.00</td>\n",
       "      <td>2871</td>\n",
       "      <td>4</td>\n",
       "      <td>5</td>\n",
       "      <td>9</td>\n",
       "      <td>3</td>\n",
       "      <td>66.0</td>\n",
       "      <td>10.0</td>\n",
       "      <td>1</td>\n",
       "      <td>1</td>\n",
       "    </tr>\n",
       "    <tr>\n",
       "      <th>3</th>\n",
       "      <td>1.85</td>\n",
       "      <td>2843</td>\n",
       "      <td>0</td>\n",
       "      <td>12</td>\n",
       "      <td>16</td>\n",
       "      <td>2</td>\n",
       "      <td>38.0</td>\n",
       "      <td>5.0</td>\n",
       "      <td>0</td>\n",
       "      <td>1</td>\n",
       "    </tr>\n",
       "    <tr>\n",
       "      <th>4</th>\n",
       "      <td>5.45</td>\n",
       "      <td>81</td>\n",
       "      <td>1</td>\n",
       "      <td>13</td>\n",
       "      <td>14</td>\n",
       "      <td>2</td>\n",
       "      <td>60.0</td>\n",
       "      <td>10.0</td>\n",
       "      <td>1</td>\n",
       "      <td>2</td>\n",
       "    </tr>\n",
       "  </tbody>\n",
       "</table>\n",
       "</div>"
      ],
      "text/plain": [
       "   price (Million)  region  building_type  level  levels  rooms  area  \\\n",
       "0             6.05    2661              4      8      10      3  82.6   \n",
       "1             8.65      81              1      5      24      2  69.1   \n",
       "2             4.00    2871              4      5       9      3  66.0   \n",
       "3             1.85    2843              0     12      16      2  38.0   \n",
       "4             5.45      81              1     13      14      2  60.0   \n",
       "\n",
       "   kitchen_area  object_type  Price Binning  \n",
       "0          10.8            1              2  \n",
       "1          12.0            1              2  \n",
       "2          10.0            1              1  \n",
       "3           5.0            0              1  \n",
       "4          10.0            1              2  "
      ]
     },
     "execution_count": 48,
     "metadata": {},
     "output_type": "execute_result"
    }
   ],
   "source": [
    "df_encode = df_encode.drop(['date','time','geo_lat','geo_lon'],axis=1)\n",
    "df_encode.head()"
   ]
  },
  {
   "cell_type": "markdown",
   "id": "478464ec",
   "metadata": {},
   "source": [
    "### Then i want to see the correlation between our features."
   ]
  },
  {
   "cell_type": "code",
   "execution_count": 49,
   "id": "b9f87356",
   "metadata": {},
   "outputs": [
    {
     "data": {
      "text/plain": [
       "<AxesSubplot:>"
      ]
     },
     "execution_count": 49,
     "metadata": {},
     "output_type": "execute_result"
    },
    {
     "data": {
      "image/png": "[encoded data removed]",
      "text/plain": [
       "<Figure size 1080x576 with 2 Axes>"
      ]
     },
     "metadata": {},
     "output_type": "display_data"
    }
   ],
   "source": [
    "plt.figure(figsize=(15,8))\n",
    "sns.heatmap(df_encode.corr(),annot=True)"
   ]
  },
  {
   "cell_type": "markdown",
   "id": "c48df022",
   "metadata": {},
   "source": [
    "### Apparently building type and object type of the apartments have a very weak correlation to our target value (price). I will drop or remove them."
   ]
  },
  {
   "cell_type": "code",
   "execution_count": 50,
   "id": "5e66bd31",
   "metadata": {},
   "outputs": [
    {
     "data": {
      "text/html": [
       "<div>\n",
       "<style scoped>\n",
       "    .dataframe tbody tr th:only-of-type {\n",
       "        vertical-align: middle;\n",
       "    }\n",
       "\n",
       "    .dataframe tbody tr th {\n",
       "        vertical-align: top;\n",
       "    }\n",
       "\n",
       "    .dataframe thead th {\n",
       "        text-align: right;\n",
       "    }\n",
       "</style>\n",
       "<table border=\"1\" class=\"dataframe\">\n",
       "  <thead>\n",
       "    <tr style=\"text-align: right;\">\n",
       "      <th></th>\n",
       "      <th>price (Million)</th>\n",
       "      <th>region</th>\n",
       "      <th>level</th>\n",
       "      <th>levels</th>\n",
       "      <th>rooms</th>\n",
       "      <th>area</th>\n",
       "      <th>kitchen_area</th>\n",
       "      <th>Price Binning</th>\n",
       "    </tr>\n",
       "  </thead>\n",
       "  <tbody>\n",
       "    <tr>\n",
       "      <th>0</th>\n",
       "      <td>6.05</td>\n",
       "      <td>2661</td>\n",
       "      <td>8</td>\n",
       "      <td>10</td>\n",
       "      <td>3</td>\n",
       "      <td>82.6</td>\n",
       "      <td>10.8</td>\n",
       "      <td>2</td>\n",
       "    </tr>\n",
       "    <tr>\n",
       "      <th>1</th>\n",
       "      <td>8.65</td>\n",
       "      <td>81</td>\n",
       "      <td>5</td>\n",
       "      <td>24</td>\n",
       "      <td>2</td>\n",
       "      <td>69.1</td>\n",
       "      <td>12.0</td>\n",
       "      <td>2</td>\n",
       "    </tr>\n",
       "    <tr>\n",
       "      <th>2</th>\n",
       "      <td>4.00</td>\n",
       "      <td>2871</td>\n",
       "      <td>5</td>\n",
       "      <td>9</td>\n",
       "      <td>3</td>\n",
       "      <td>66.0</td>\n",
       "      <td>10.0</td>\n",
       "      <td>1</td>\n",
       "    </tr>\n",
       "    <tr>\n",
       "      <th>3</th>\n",
       "      <td>1.85</td>\n",
       "      <td>2843</td>\n",
       "      <td>12</td>\n",
       "      <td>16</td>\n",
       "      <td>2</td>\n",
       "      <td>38.0</td>\n",
       "      <td>5.0</td>\n",
       "      <td>1</td>\n",
       "    </tr>\n",
       "    <tr>\n",
       "      <th>4</th>\n",
       "      <td>5.45</td>\n",
       "      <td>81</td>\n",
       "      <td>13</td>\n",
       "      <td>14</td>\n",
       "      <td>2</td>\n",
       "      <td>60.0</td>\n",
       "      <td>10.0</td>\n",
       "      <td>2</td>\n",
       "    </tr>\n",
       "  </tbody>\n",
       "</table>\n",
       "</div>"
      ],
      "text/plain": [
       "   price (Million)  region  level  levels  rooms  area  kitchen_area  \\\n",
       "0             6.05    2661      8      10      3  82.6          10.8   \n",
       "1             8.65      81      5      24      2  69.1          12.0   \n",
       "2             4.00    2871      5       9      3  66.0          10.0   \n",
       "3             1.85    2843     12      16      2  38.0           5.0   \n",
       "4             5.45      81     13      14      2  60.0          10.0   \n",
       "\n",
       "   Price Binning  \n",
       "0              2  \n",
       "1              2  \n",
       "2              1  \n",
       "3              1  \n",
       "4              2  "
      ]
     },
     "execution_count": 50,
     "metadata": {},
     "output_type": "execute_result"
    }
   ],
   "source": [
    "df_encode = df_encode.drop(['building_type','object_type'],axis=1)\n",
    "df_encode.head()"
   ]
  },
  {
   "cell_type": "code",
   "execution_count": null,
   "id": "fb4a6153",
   "metadata": {},
   "outputs": [],
   "source": []
  },
  {
   "cell_type": "markdown",
   "id": "801a1479",
   "metadata": {},
   "source": [
    "# 5. Regression Model"
   ]
  },
  {
   "cell_type": "markdown",
   "id": "2bb6f980",
   "metadata": {},
   "source": [
    "## 5.1. Basic Models (Linear Regression, Ridge Regression, Random Forest Regressor, and Extreme Gradient Boosting Regression (XGBoost))"
   ]
  },
  {
   "cell_type": "code",
   "execution_count": 51,
   "id": "76e318fb",
   "metadata": {},
   "outputs": [],
   "source": [
    "X = df_encode.drop(['price (Million)','Price Binning'],axis=1).values\n",
    "y = df_encode['price (Million)'].values\n",
    "\n",
    "X_train, X_test, y_train, y_test = train_test_split(X, y, test_size=0.3, random_state=0)\n"
   ]
  },
  {
   "cell_type": "code",
   "execution_count": 52,
   "id": "38d76d19",
   "metadata": {},
   "outputs": [
    {
     "data": {
      "text/plain": [
       "LinearRegression()"
      ]
     },
     "execution_count": 52,
     "metadata": {},
     "output_type": "execute_result"
    }
   ],
   "source": [
    "# Linear regression\n",
    "\n",
    "reg = LinearRegression()\n",
    "reg.fit(X_train,y_train)"
   ]
  },
  {
   "cell_type": "code",
   "execution_count": 53,
   "id": "933f82e8",
   "metadata": {},
   "outputs": [
    {
     "data": {
      "text/plain": [
       "Ridge()"
      ]
     },
     "execution_count": 53,
     "metadata": {},
     "output_type": "execute_result"
    }
   ],
   "source": [
    "# Ridge regression\n",
    "\n",
    "ridge = Ridge()\n",
    "ridge.fit(X_train, y_train)"
   ]
  },
  {
   "cell_type": "code",
   "execution_count": 54,
   "id": "df3210b1",
   "metadata": {},
   "outputs": [
    {
     "data": {
      "text/plain": [
       "RandomForestRegressor(max_depth=35, max_features=5, max_leaf_nodes=150,\n",
       "                      max_samples=0.9, min_samples_leaf=125, n_estimators=125,\n",
       "                      n_jobs=-1, random_state=42)"
      ]
     },
     "execution_count": 54,
     "metadata": {},
     "output_type": "execute_result"
    }
   ],
   "source": [
    "# Random Forest Regression\n",
    "\n",
    "rf = RandomForestRegressor(random_state=42, n_jobs=-1, n_estimators=125, min_samples_leaf=125, max_samples=0.9, max_leaf_nodes=150, max_features=5, max_depth=35)\n",
    "rf.fit(X_train, y_train)\n"
   ]
  },
  {
   "cell_type": "code",
   "execution_count": 55,
   "id": "6c51fec1",
   "metadata": {},
   "outputs": [
    {
     "data": {
      "text/plain": [
       "XGBRegressor(base_score=0.5, booster='gbtree', colsample_bylevel=1,\n",
       "             colsample_bynode=1, colsample_bytree=1, enable_categorical=False,\n",
       "             gamma=0, gpu_id=-1, importance_type=None,\n",
       "             interaction_constraints='', learning_rate=0.300000012,\n",
       "             max_delta_step=0, max_depth=6, min_child_weight=1, missing=nan,\n",
       "             monotone_constraints='()', n_estimators=100, n_jobs=-1,\n",
       "             num_parallel_tree=1, predictor='auto', random_state=42,\n",
       "             reg_alpha=0, reg_lambda=1, scale_pos_weight=1, subsample=1,\n",
       "             tree_method='exact', validate_parameters=1, verbosity=None)"
      ]
     },
     "execution_count": 55,
     "metadata": {},
     "output_type": "execute_result"
    }
   ],
   "source": [
    "# XGB \n",
    "\n",
    "xgb = XGBRegressor(random_state=42, n_jobs=-1)\n",
    "xgb.fit(X_train, y_train)"
   ]
  },
  {
   "cell_type": "code",
   "execution_count": 56,
   "id": "7d65cc66",
   "metadata": {},
   "outputs": [
    {
     "name": "stdout",
     "output_type": "stream",
     "text": [
      "Training MAE 1.5720550176633654\n",
      "Validation MAE 1.5728589580746253\n",
      "Validation R^2 0.38506737021676485\n",
      "\n",
      "Training MAE 1.5720549971670423\n",
      "Validation MAE 1.5728589373253636\n",
      "Validation R^2 0.3850673701737378\n",
      "\n",
      "Training MAE 0.921268131165873\n",
      "Validation MAE 0.9207976545941385\n",
      "Validation R^2 0.7648514958795883\n",
      "\n",
      "Training MAE 0.8120713896700072\n",
      "Validation MAE 0.8137367951384396\n",
      "Validation R^2 0.8054078495297043\n",
      "\n"
     ]
    }
   ],
   "source": [
    "def check_metrics(model):\n",
    "  print('Training MAE', mean_absolute_error(y_train, model.predict(X_train)))\n",
    "  print('Validation MAE', mean_absolute_error(y_test, model.predict(X_test)))\n",
    "  print('Validation R^2', model.score(X_test, y_test))\n",
    "  print()\n",
    "\n",
    "\n",
    "models = [reg, ridge, rf,xgb]\n",
    "\n",
    "for m in models:\n",
    "  check_metrics(m)"
   ]
  },
  {
   "cell_type": "markdown",
   "id": "51199c44",
   "metadata": {},
   "source": [
    "### From our basic models, we got the best R Squared score from XGBoost Regressor with R Squared of 0.805 and Validation Mean Absolute Error (MAE) of 0.813. These results are not quite satisfying. I will try using K-Fold to our models."
   ]
  },
  {
   "cell_type": "markdown",
   "id": "8eea17a5",
   "metadata": {},
   "source": [
    "## 5.2. Models with GridSearchCV and Cross Validation"
   ]
  },
  {
   "cell_type": "code",
   "execution_count": 69,
   "id": "64871f53",
   "metadata": {},
   "outputs": [
    {
     "data": {
      "text/html": [
       "<div>\n",
       "<style scoped>\n",
       "    .dataframe tbody tr th:only-of-type {\n",
       "        vertical-align: middle;\n",
       "    }\n",
       "\n",
       "    .dataframe tbody tr th {\n",
       "        vertical-align: top;\n",
       "    }\n",
       "\n",
       "    .dataframe thead th {\n",
       "        text-align: right;\n",
       "    }\n",
       "</style>\n",
       "<table border=\"1\" class=\"dataframe\">\n",
       "  <thead>\n",
       "    <tr style=\"text-align: right;\">\n",
       "      <th></th>\n",
       "      <th>model</th>\n",
       "      <th>best_score</th>\n",
       "      <th>best_params</th>\n",
       "    </tr>\n",
       "  </thead>\n",
       "  <tbody>\n",
       "    <tr>\n",
       "      <th>0</th>\n",
       "      <td>linear_regression</td>\n",
       "      <td>0.382311</td>\n",
       "      <td>{'normalize': True}</td>\n",
       "    </tr>\n",
       "    <tr>\n",
       "      <th>1</th>\n",
       "      <td>lasso</td>\n",
       "      <td>0.339031</td>\n",
       "      <td>{'alpha': 1, 'selection': 'random'}</td>\n",
       "    </tr>\n",
       "    <tr>\n",
       "      <th>2</th>\n",
       "      <td>decision_tree</td>\n",
       "      <td>0.784120</td>\n",
       "      <td>{'criterion': 'mse', 'splitter': 'best'}</td>\n",
       "    </tr>\n",
       "  </tbody>\n",
       "</table>\n",
       "</div>"
      ],
      "text/plain": [
       "               model  best_score                               best_params\n",
       "0  linear_regression    0.382311                       {'normalize': True}\n",
       "1              lasso    0.339031       {'alpha': 1, 'selection': 'random'}\n",
       "2      decision_tree    0.784120  {'criterion': 'mse', 'splitter': 'best'}"
      ]
     },
     "execution_count": 69,
     "metadata": {},
     "output_type": "execute_result"
    }
   ],
   "source": [
    "from sklearn.linear_model import Lasso\n",
    "from sklearn.tree import DecisionTreeRegressor\n",
    "\n",
    "def find_best_model_using_gridsearchcv(X,y):\n",
    "    algos = {\n",
    "        'linear_regression' : {\n",
    "            'model': LinearRegression(),\n",
    "            'params': {\n",
    "                'normalize': [True, False]\n",
    "            }\n",
    "        },\n",
    "        'lasso': {\n",
    "            'model': Lasso(),\n",
    "            'params': {\n",
    "                'alpha': [1,2],\n",
    "                'selection': ['random', 'cyclic']\n",
    "            }\n",
    "        },\n",
    "        'decision_tree': {\n",
    "            'model': DecisionTreeRegressor(),\n",
    "            'params': {\n",
    "                'criterion' : ['mse','friedman_mse'],\n",
    "                'splitter': ['best','random']\n",
    "            }\n",
    "        }\n",
    "    }\n",
    "    scores = []\n",
    "    cv = ShuffleSplit(n_splits=5, test_size=0.2, random_state=0)\n",
    "    for algo_name, config in algos.items():\n",
    "        gs =  GridSearchCV(config['model'], config['params'], cv=cv, return_train_score=False)\n",
    "        gs.fit(X,y)\n",
    "        scores.append({\n",
    "            'model': algo_name,\n",
    "            'best_score': gs.best_score_,\n",
    "            'best_params': gs.best_params_\n",
    "        })\n",
    "\n",
    "    return pd.DataFrame(scores,columns=['model','best_score','best_params'])\n",
    "\n",
    "import warnings\n",
    "warnings.filterwarnings('ignore')\n",
    "find_best_model_using_gridsearchcv(X,y)"
   ]
  },
  {
   "cell_type": "code",
   "execution_count": null,
   "id": "da83f3b6",
   "metadata": {},
   "outputs": [],
   "source": []
  },
  {
   "cell_type": "code",
   "execution_count": null,
   "id": "56b2477b",
   "metadata": {},
   "outputs": [],
   "source": []
  },
  {
   "cell_type": "code",
   "execution_count": null,
   "id": "c649364f",
   "metadata": {},
   "outputs": [],
   "source": []
  },
  {
   "cell_type": "code",
   "execution_count": null,
   "id": "a0589a8b",
   "metadata": {},
   "outputs": [],
   "source": []
  },
  {
   "cell_type": "code",
   "execution_count": null,
   "id": "03a13ab2",
   "metadata": {},
   "outputs": [],
   "source": []
  },
  {
   "cell_type": "code",
   "execution_count": null,
   "id": "433375a5",
   "metadata": {},
   "outputs": [],
   "source": []
  },
  {
   "cell_type": "code",
   "execution_count": null,
   "id": "2d7a31e6",
   "metadata": {},
   "outputs": [],
   "source": []
  },
  {
   "cell_type": "code",
   "execution_count": null,
   "id": "10c15cf2",
   "metadata": {},
   "outputs": [],
   "source": []
  }
 ],
 "metadata": {
  "kernelspec": {
   "display_name": "Python 3 (ipykernel)",
   "language": "python",
   "name": "python3"
  },
  "language_info": {
   "codemirror_mode": {
    "name": "ipython",
    "version": 3
   },
   "file_extension": ".py",
   "mimetype": "text/x-python",
   "name": "python",
   "nbconvert_exporter": "python",
   "pygments_lexer": "ipython3",
   "version": "3.9.7"
  }
 },
 "nbformat": 4,
 "nbformat_minor": 5
}
