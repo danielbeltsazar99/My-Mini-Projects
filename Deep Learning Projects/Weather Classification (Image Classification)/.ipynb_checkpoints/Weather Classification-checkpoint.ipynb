{
 "cells": [
  {
   "cell_type": "code",
   "execution_count": 1,
   "id": "aecddb25",
   "metadata": {},
   "outputs": [],
   "source": [
    "import numpy as np\n",
    "import pandas as pd\n",
    "import re\n",
    "import torch\n",
    "import torchvision\n",
    "import torch.nn as nn\n",
    "from glob import glob\n",
    "from PIL import Image\n",
    "from torchvision import transforms\n",
    "from torch.utils.data import Dataset, DataLoader\n",
    "from sklearn.model_selection import train_test_split\n",
    "import matplotlib.pyplot as plt\n",
    "import plotly.express as px\n",
    "import time\n",
    "import seaborn as sns"
   ]
  },
  {
   "cell_type": "code",
   "execution_count": 2,
   "id": "b21620c4",
   "metadata": {},
   "outputs": [
    {
     "data": {
      "text/plain": [
       "Renderers configuration\n",
       "-----------------------\n",
       "    Default renderer: 'plotly_mimetype+notebook'\n",
       "    Available renderers:\n",
       "        ['plotly_mimetype', 'jupyterlab', 'nteract', 'vscode',\n",
       "         'notebook', 'notebook_connected', 'kaggle', 'azure', 'colab',\n",
       "         'cocalc', 'databricks', 'json', 'png', 'jpeg', 'jpg', 'svg',\n",
       "         'pdf', 'browser', 'firefox', 'chrome', 'chromium', 'iframe',\n",
       "         'iframe_connected', 'sphinx_gallery', 'sphinx_gallery_png']"
      ]
     },
     "execution_count": 2,
     "metadata": {},
     "output_type": "execute_result"
    }
   ],
   "source": [
    "import plotly.io as pio\n",
    "\n",
    "pio.renderers\n"
   ]
  },
  {
   "cell_type": "code",
   "execution_count": 3,
   "id": "18e45e16",
   "metadata": {},
   "outputs": [],
   "source": [
    "device = 'cuda' if torch.cuda.is_available() else 'cpu'"
   ]
  },
  {
   "cell_type": "code",
   "execution_count": 4,
   "id": "7672faa9",
   "metadata": {},
   "outputs": [],
   "source": [
    "file_paths = glob(\"/Users/danielbeltsazar/DS-ML-DL Mini Projects/Weather Classification/Multi-class Weather Dataset/*/*\")"
   ]
  },
  {
   "cell_type": "code",
   "execution_count": 5,
   "id": "45b4a27b",
   "metadata": {},
   "outputs": [],
   "source": [
    "labels = list()\n",
    "for path in file_paths:\n",
    "    file_name = path[path.rfind(\"/\")+1:]\n",
    "    labels.append(file_name[:re.search(r\"\\d\", file_name).start()])"
   ]
  },
  {
   "cell_type": "code",
   "execution_count": 6,
   "id": "984af559",
   "metadata": {},
   "outputs": [],
   "source": [
    "df = pd.DataFrame({'path': file_paths, 'class': labels})"
   ]
  },
  {
   "cell_type": "code",
   "execution_count": 7,
   "id": "2ef5ff65",
   "metadata": {},
   "outputs": [
    {
     "data": {
      "text/html": [
       "<div>\n",
       "<style scoped>\n",
       "    .dataframe tbody tr th:only-of-type {\n",
       "        vertical-align: middle;\n",
       "    }\n",
       "\n",
       "    .dataframe tbody tr th {\n",
       "        vertical-align: top;\n",
       "    }\n",
       "\n",
       "    .dataframe thead th {\n",
       "        text-align: right;\n",
       "    }\n",
       "</style>\n",
       "<table border=\"1\" class=\"dataframe\">\n",
       "  <thead>\n",
       "    <tr style=\"text-align: right;\">\n",
       "      <th></th>\n",
       "      <th>path</th>\n",
       "      <th>class</th>\n",
       "    </tr>\n",
       "  </thead>\n",
       "  <tbody>\n",
       "    <tr>\n",
       "      <th>0</th>\n",
       "      <td>/Users/danielbeltsazar/DS-ML-DL Mini Projects/...</td>\n",
       "      <td>cloudy</td>\n",
       "    </tr>\n",
       "    <tr>\n",
       "      <th>1</th>\n",
       "      <td>/Users/danielbeltsazar/DS-ML-DL Mini Projects/...</td>\n",
       "      <td>cloudy</td>\n",
       "    </tr>\n",
       "    <tr>\n",
       "      <th>2</th>\n",
       "      <td>/Users/danielbeltsazar/DS-ML-DL Mini Projects/...</td>\n",
       "      <td>cloudy</td>\n",
       "    </tr>\n",
       "    <tr>\n",
       "      <th>3</th>\n",
       "      <td>/Users/danielbeltsazar/DS-ML-DL Mini Projects/...</td>\n",
       "      <td>cloudy</td>\n",
       "    </tr>\n",
       "    <tr>\n",
       "      <th>4</th>\n",
       "      <td>/Users/danielbeltsazar/DS-ML-DL Mini Projects/...</td>\n",
       "      <td>cloudy</td>\n",
       "    </tr>\n",
       "  </tbody>\n",
       "</table>\n",
       "</div>"
      ],
      "text/plain": [
       "                                                path   class\n",
       "0  /Users/danielbeltsazar/DS-ML-DL Mini Projects/...  cloudy\n",
       "1  /Users/danielbeltsazar/DS-ML-DL Mini Projects/...  cloudy\n",
       "2  /Users/danielbeltsazar/DS-ML-DL Mini Projects/...  cloudy\n",
       "3  /Users/danielbeltsazar/DS-ML-DL Mini Projects/...  cloudy\n",
       "4  /Users/danielbeltsazar/DS-ML-DL Mini Projects/...  cloudy"
      ]
     },
     "execution_count": 7,
     "metadata": {},
     "output_type": "execute_result"
    }
   ],
   "source": [
    "df.head()"
   ]
  },
  {
   "cell_type": "code",
   "execution_count": 8,
   "id": "59bcefb1",
   "metadata": {},
   "outputs": [],
   "source": [
    "def label_column(df):\n",
    "    classes = list(df['class'].unique())\n",
    "    class_to_num = dict(zip(classes, range(len(classes))))\n",
    "    df['label'] = df['class'].apply(lambda x: class_to_num[x])"
   ]
  },
  {
   "cell_type": "code",
   "execution_count": 9,
   "id": "91cf1357",
   "metadata": {},
   "outputs": [],
   "source": [
    "label_column(df)"
   ]
  },
  {
   "cell_type": "code",
   "execution_count": 10,
   "id": "be92629f",
   "metadata": {},
   "outputs": [
    {
     "data": {
      "text/html": [
       "<div>\n",
       "<style scoped>\n",
       "    .dataframe tbody tr th:only-of-type {\n",
       "        vertical-align: middle;\n",
       "    }\n",
       "\n",
       "    .dataframe tbody tr th {\n",
       "        vertical-align: top;\n",
       "    }\n",
       "\n",
       "    .dataframe thead th {\n",
       "        text-align: right;\n",
       "    }\n",
       "</style>\n",
       "<table border=\"1\" class=\"dataframe\">\n",
       "  <thead>\n",
       "    <tr style=\"text-align: right;\">\n",
       "      <th></th>\n",
       "      <th>path</th>\n",
       "      <th>class</th>\n",
       "      <th>label</th>\n",
       "    </tr>\n",
       "  </thead>\n",
       "  <tbody>\n",
       "    <tr>\n",
       "      <th>0</th>\n",
       "      <td>/Users/danielbeltsazar/DS-ML-DL Mini Projects/...</td>\n",
       "      <td>cloudy</td>\n",
       "      <td>0</td>\n",
       "    </tr>\n",
       "    <tr>\n",
       "      <th>1</th>\n",
       "      <td>/Users/danielbeltsazar/DS-ML-DL Mini Projects/...</td>\n",
       "      <td>cloudy</td>\n",
       "      <td>0</td>\n",
       "    </tr>\n",
       "    <tr>\n",
       "      <th>2</th>\n",
       "      <td>/Users/danielbeltsazar/DS-ML-DL Mini Projects/...</td>\n",
       "      <td>cloudy</td>\n",
       "      <td>0</td>\n",
       "    </tr>\n",
       "    <tr>\n",
       "      <th>3</th>\n",
       "      <td>/Users/danielbeltsazar/DS-ML-DL Mini Projects/...</td>\n",
       "      <td>cloudy</td>\n",
       "      <td>0</td>\n",
       "    </tr>\n",
       "    <tr>\n",
       "      <th>4</th>\n",
       "      <td>/Users/danielbeltsazar/DS-ML-DL Mini Projects/...</td>\n",
       "      <td>cloudy</td>\n",
       "      <td>0</td>\n",
       "    </tr>\n",
       "  </tbody>\n",
       "</table>\n",
       "</div>"
      ],
      "text/plain": [
       "                                                path   class  label\n",
       "0  /Users/danielbeltsazar/DS-ML-DL Mini Projects/...  cloudy      0\n",
       "1  /Users/danielbeltsazar/DS-ML-DL Mini Projects/...  cloudy      0\n",
       "2  /Users/danielbeltsazar/DS-ML-DL Mini Projects/...  cloudy      0\n",
       "3  /Users/danielbeltsazar/DS-ML-DL Mini Projects/...  cloudy      0\n",
       "4  /Users/danielbeltsazar/DS-ML-DL Mini Projects/...  cloudy      0"
      ]
     },
     "execution_count": 10,
     "metadata": {},
     "output_type": "execute_result"
    }
   ],
   "source": [
    "df.head()"
   ]
  },
  {
   "cell_type": "code",
   "execution_count": 11,
   "id": "f29f829f",
   "metadata": {},
   "outputs": [
    {
     "data": {
      "text/html": [
       "<div>\n",
       "<style scoped>\n",
       "    .dataframe tbody tr th:only-of-type {\n",
       "        vertical-align: middle;\n",
       "    }\n",
       "\n",
       "    .dataframe tbody tr th {\n",
       "        vertical-align: top;\n",
       "    }\n",
       "\n",
       "    .dataframe thead th {\n",
       "        text-align: right;\n",
       "    }\n",
       "</style>\n",
       "<table border=\"1\" class=\"dataframe\">\n",
       "  <thead>\n",
       "    <tr style=\"text-align: right;\">\n",
       "      <th></th>\n",
       "      <th>Class</th>\n",
       "      <th>Count</th>\n",
       "    </tr>\n",
       "  </thead>\n",
       "  <tbody>\n",
       "    <tr>\n",
       "      <th>0</th>\n",
       "      <td>cloudy</td>\n",
       "      <td>300</td>\n",
       "    </tr>\n",
       "    <tr>\n",
       "      <th>1</th>\n",
       "      <td>rain</td>\n",
       "      <td>215</td>\n",
       "    </tr>\n",
       "    <tr>\n",
       "      <th>2</th>\n",
       "      <td>shine</td>\n",
       "      <td>253</td>\n",
       "    </tr>\n",
       "    <tr>\n",
       "      <th>3</th>\n",
       "      <td>sunrise</td>\n",
       "      <td>357</td>\n",
       "    </tr>\n",
       "  </tbody>\n",
       "</table>\n",
       "</div>"
      ],
      "text/plain": [
       "     Class  Count\n",
       "0   cloudy    300\n",
       "1     rain    215\n",
       "2    shine    253\n",
       "3  sunrise    357"
      ]
     },
     "execution_count": 11,
     "metadata": {},
     "output_type": "execute_result"
    }
   ],
   "source": [
    "df_new = df.groupby(['class'])[['label']].count()\n",
    "df_new = df_new.reset_index()\n",
    "df_new = df_new.rename(columns={'label':'Count','class':'Class'})\n",
    "df_new.head()"
   ]
  },
  {
   "cell_type": "code",
   "execution_count": 12,
   "id": "34f4d280",
   "metadata": {},
   "outputs": [
    {
     "data": {
      "image/svg+xml": [
       "<svg class=\"main-svg\" xmlns=\"http://www.w3.org/2000/svg\" xmlns:xlink=\"http://www.w3.org/1999/xlink\" width=\"600\" height=\"600\" style=\"\" viewBox=\"0 0 600 600\"><rect x=\"0\" y=\"0\" width=\"600\" height=\"600\" style=\"fill: rgb(255, 255, 255); fill-opacity: 1;\"/><defs id=\"defs-9c25b7\"><g class=\"clips\"/><g class=\"gradients\"/><g class=\"patterns\"/></defs><g class=\"bglayer\"/><g class=\"layer-below\"><g class=\"imagelayer\"/><g class=\"shapelayer\"/></g><g class=\"cartesianlayer\"/><g class=\"polarlayer\"/><g class=\"smithlayer\"/><g class=\"ternarylayer\"/><g class=\"geolayer\"/><g class=\"funnelarealayer\"/><g class=\"pielayer\"><g class=\"trace\" stroke-linejoin=\"round\" style=\"opacity: 0.8;\"><g class=\"slice\"><path class=\"surface\" d=\"M341.7145484466813,315.3110063596002a61.65,61.65 0 0 0 -56.2145484466813,-86.96100635960018l0,-143.85a205.5,205.5 0 0 1 187.38182815560432,289.87002119866725Z\" style=\"pointer-events: all; stroke-width: 2; fill: rgb(144, 238, 144); fill-opacity: 1; stroke: rgb(0, 0, 0); stroke-opacity: 1;\"/><g class=\"slicetext\"><text data-notex=\"1\" class=\"slicetext\" transform=\"translate(397.6775428796865,225.4846257785557)\" text-anchor=\"middle\" x=\"0\" y=\"0\" style=\"font-family: 'Open Sans', verdana, arial, sans-serif; font-size: 20px; fill: rgb(68, 68, 68); fill-opacity: 1; white-space: pre;\">31.7%</text></g></g><g class=\"slice\"><path class=\"surface\" d=\"M285.5,228.35a61.65,61.65 0 0 0 -61.31227484945405,68.09417976045083l-143.0619746487261,15.03641944105193a205.5,205.5 0 0 1 204.37424949818018,-226.98059920150277Z\" style=\"pointer-events: all; stroke-width: 2; fill: rgb(255, 215, 0); fill-opacity: 1; stroke: rgb(0, 0, 0); stroke-opacity: 1;\"/><g class=\"slicetext\"><text data-notex=\"1\" class=\"slicetext\" transform=\"translate(186.23442993685705,208.6208792556155)\" text-anchor=\"middle\" x=\"0\" y=\"0\" style=\"font-family: 'Open Sans', verdana, arial, sans-serif; font-size: 20px; fill: rgb(68, 68, 68); fill-opacity: 1; white-space: pre;\">26.7%</text></g></g><g class=\"slice\"><path class=\"surface\" d=\"M224.18772515054596,296.4441797604508a61.65,61.65 0 0 0 58.04278310207165,55.119063524108164l-7.628814077225606,143.647567663971a205.5,205.5 0 0 1 -193.47594367357217,-183.73021174702723Z\" style=\"pointer-events: all; stroke-width: 2; fill: rgb(255, 140, 0); fill-opacity: 1; stroke: rgb(0, 0, 0); stroke-opacity: 1;\"/><g class=\"slicetext\"><text data-notex=\"1\" class=\"slicetext\" transform=\"translate(193.51922150707261,394.8597801609885)\" text-anchor=\"middle\" x=\"0\" y=\"0\" style=\"font-family: 'Open Sans', verdana, arial, sans-serif; font-size: 20px; fill: rgb(68, 68, 68); fill-opacity: 1; white-space: pre;\">22.5%</text></g></g><g class=\"slice\"><path class=\"surface\" d=\"M282.2305082526176,351.563243284559a61.65,61.65 0 0 0 59.48404019406369,-36.25223692495878l131.167279708923,59.059014839067174a205.5,205.5 0 0 1 -198.2801339802123,120.8407897498626Z\" style=\"pointer-events: all; stroke-width: 2; fill: rgb(72, 209, 204); fill-opacity: 1; stroke: rgb(0, 0, 0); stroke-opacity: 1;\"/><g class=\"slicetext\"><text data-notex=\"1\" class=\"slicetext\" transform=\"translate(355.0142484970332,412.0616056387631)\" text-anchor=\"middle\" x=\"0\" y=\"0\" style=\"font-family: 'Open Sans', verdana, arial, sans-serif; font-size: 20px; fill: rgb(68, 68, 68); fill-opacity: 1; white-space: pre;\">19.1%</text></g></g></g></g><g class=\"iciclelayer\"/><g class=\"treemaplayer\"/><g class=\"sunburstlayer\"/><g class=\"glimages\"/><defs id=\"topdefs-9c25b7\"><g class=\"clips\"/><clipPath id=\"legend9c25b7\"><rect width=\"89\" height=\"86\" x=\"0\" y=\"0\"/></clipPath></defs><g class=\"layer-above\"><g class=\"imagelayer\"/><g class=\"shapelayer\"/></g><g class=\"infolayer\"><g class=\"legend\" pointer-events=\"all\" transform=\"translate(499.22,60)\"><rect class=\"bg\" shape-rendering=\"crispEdges\" style=\"stroke: rgb(68, 68, 68); stroke-opacity: 1; fill: rgb(255, 255, 255); fill-opacity: 1; stroke-width: 0px;\" width=\"89\" height=\"86\" x=\"0\" y=\"0\"/><g class=\"scrollbox\" transform=\"\" clip-path=\"url(#legend9c25b7)\"><g class=\"groups\"><g class=\"traces\" transform=\"translate(0,14.5)\" style=\"opacity: 1;\"><text class=\"legendtext\" text-anchor=\"start\" x=\"40\" y=\"4.680000000000001\" style=\"font-family: 'Open Sans', verdana, arial, sans-serif; font-size: 12px; fill: rgb(42, 63, 95); fill-opacity: 1; white-space: pre;\">sunrise</text><g class=\"layers\" style=\"opacity: 0.8;\"><g class=\"legendfill\"/><g class=\"legendlines\"/><g class=\"legendsymbols\"><g class=\"legendpoints\"><path class=\"legendpie\" d=\"M6,6H-6V-6H6Z\" transform=\"translate(20,0)\" style=\"stroke-width: 2; fill: rgb(144, 238, 144); fill-opacity: 1; stroke: rgb(0, 0, 0); stroke-opacity: 1;\"/></g></g></g><rect class=\"legendtoggle\" x=\"0\" y=\"-9.5\" width=\"83.265625\" height=\"19\" style=\"fill: rgb(0, 0, 0); fill-opacity: 0;\"/></g><g class=\"traces\" transform=\"translate(0,33.5)\" style=\"opacity: 1;\"><text class=\"legendtext\" text-anchor=\"start\" x=\"40\" y=\"4.680000000000001\" style=\"font-family: 'Open Sans', verdana, arial, sans-serif; font-size: 12px; fill: rgb(42, 63, 95); fill-opacity: 1; white-space: pre;\">cloudy</text><g class=\"layers\" style=\"opacity: 0.8;\"><g class=\"legendfill\"/><g class=\"legendlines\"/><g class=\"legendsymbols\"><g class=\"legendpoints\"><path class=\"legendpie\" d=\"M6,6H-6V-6H6Z\" transform=\"translate(20,0)\" style=\"stroke-width: 2; fill: rgb(255, 215, 0); fill-opacity: 1; stroke: rgb(0, 0, 0); stroke-opacity: 1;\"/></g></g></g><rect class=\"legendtoggle\" x=\"0\" y=\"-9.5\" width=\"83.265625\" height=\"19\" style=\"fill: rgb(0, 0, 0); fill-opacity: 0;\"/></g><g class=\"traces\" transform=\"translate(0,52.5)\" style=\"opacity: 1;\"><text class=\"legendtext\" text-anchor=\"start\" x=\"40\" y=\"4.680000000000001\" style=\"font-family: 'Open Sans', verdana, arial, sans-serif; font-size: 12px; fill: rgb(42, 63, 95); fill-opacity: 1; white-space: pre;\">shine</text><g class=\"layers\" style=\"opacity: 0.8;\"><g class=\"legendfill\"/><g class=\"legendlines\"/><g class=\"legendsymbols\"><g class=\"legendpoints\"><path class=\"legendpie\" d=\"M6,6H-6V-6H6Z\" transform=\"translate(20,0)\" style=\"stroke-width: 2; fill: rgb(255, 140, 0); fill-opacity: 1; stroke: rgb(0, 0, 0); stroke-opacity: 1;\"/></g></g></g><rect class=\"legendtoggle\" x=\"0\" y=\"-9.5\" width=\"83.265625\" height=\"19\" style=\"fill: rgb(0, 0, 0); fill-opacity: 0;\"/></g><g class=\"traces\" transform=\"translate(0,71.5)\" style=\"opacity: 1;\"><text class=\"legendtext\" text-anchor=\"start\" x=\"40\" y=\"4.680000000000001\" style=\"font-family: 'Open Sans', verdana, arial, sans-serif; font-size: 12px; fill: rgb(42, 63, 95); fill-opacity: 1; white-space: pre;\">rain</text><g class=\"layers\" style=\"opacity: 0.8;\"><g class=\"legendfill\"/><g class=\"legendlines\"/><g class=\"legendsymbols\"><g class=\"legendpoints\"><path class=\"legendpie\" d=\"M6,6H-6V-6H6Z\" transform=\"translate(20,0)\" style=\"stroke-width: 2; fill: rgb(72, 209, 204); fill-opacity: 1; stroke: rgb(0, 0, 0); stroke-opacity: 1;\"/></g></g></g><rect class=\"legendtoggle\" x=\"0\" y=\"-9.5\" width=\"83.265625\" height=\"19\" style=\"fill: rgb(0, 0, 0); fill-opacity: 0;\"/></g></g></g><rect class=\"scrollbar\" rx=\"20\" ry=\"3\" width=\"0\" height=\"0\" style=\"fill: rgb(128, 139, 164); fill-opacity: 1;\" x=\"0\" y=\"0\"/></g><g class=\"g-gtitle\"><text class=\"gtitle\" x=\"300\" y=\"60\" text-anchor=\"middle\" dy=\"0.7em\" style=\"font-family: 'Open Sans', verdana, arial, sans-serif; font-size: 17px; fill: rgb(42, 63, 95); opacity: 1; font-weight: normal; white-space: pre;\">Population of Various Classes</text></g></g></svg>"
      ]
     },
     "metadata": {},
     "output_type": "display_data"
    }
   ],
   "source": [
    "colors = ['gold', 'mediumturquoise', 'darkorange', 'lightgreen']\n",
    "fig = px.pie(df_new,values='Count',names='Class', hole=.3, width=600, height=600,opacity=.80)\n",
    "fig.update_traces(hoverinfo='label+percent',textfont_size=20, marker=dict(colors=colors, line=dict(color='#000000', width=2)))\n",
    "fig.update_layout(uniformtext_minsize=12, uniformtext_mode='hide', title={'text': 'Population of Various Classes','y':0.9,'x':0.5,'xanchor': 'center','yanchor': 'top'})\n",
    "fig.show(renderer='svg')"
   ]
  },
  {
   "cell_type": "code",
   "execution_count": 13,
   "id": "f3ec2253",
   "metadata": {},
   "outputs": [],
   "source": [
    "# In github the plot can't be seen, so i will put it here\n"
   ]
  },
  {
   "cell_type": "code",
   "execution_count": 14,
   "id": "b2e158e9",
   "metadata": {},
   "outputs": [],
   "source": [
    "train, test = train_test_split(df, test_size=0.2, shuffle=True, random_state=42)\n",
    "test, val = train_test_split(test, test_size=0.5, shuffle=True, random_state=42)"
   ]
  },
  {
   "cell_type": "code",
   "execution_count": null,
   "id": "a6fd801c",
   "metadata": {},
   "outputs": [],
   "source": []
  },
  {
   "cell_type": "code",
   "execution_count": null,
   "id": "b1945503",
   "metadata": {},
   "outputs": [],
   "source": []
  },
  {
   "cell_type": "code",
   "execution_count": null,
   "id": "2dd96da8",
   "metadata": {},
   "outputs": [],
   "source": []
  },
  {
   "cell_type": "code",
   "execution_count": null,
   "id": "04bbd2da",
   "metadata": {},
   "outputs": [],
   "source": []
  },
  {
   "cell_type": "code",
   "execution_count": null,
   "id": "20afa111",
   "metadata": {},
   "outputs": [],
   "source": []
  },
  {
   "cell_type": "code",
   "execution_count": null,
   "id": "0c677134",
   "metadata": {},
   "outputs": [],
   "source": []
  }
 ],
 "metadata": {
  "kernelspec": {
   "display_name": "Python 3 (ipykernel)",
   "language": "python",
   "name": "python3"
  },
  "language_info": {
   "codemirror_mode": {
    "name": "ipython",
    "version": 3
   },
   "file_extension": ".py",
   "mimetype": "text/x-python",
   "name": "python",
   "nbconvert_exporter": "python",
   "pygments_lexer": "ipython3",
   "version": "3.9.7"
  }
 },
 "nbformat": 4,
 "nbformat_minor": 5
}
